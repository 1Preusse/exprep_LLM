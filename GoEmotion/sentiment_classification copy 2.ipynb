{
 "cells": [
  {
   "cell_type": "code",
   "execution_count": 1,
   "metadata": {},
   "outputs": [],
   "source": [
    "# File: colab_goemotions_finetune.py\n",
    "\n",
    "\n",
    "import kagglehub\n",
    "import os\n",
    "import json\n",
    "import torch\n",
    "from datasets import load_dataset, Dataset, DatasetDict\n",
    "from transformers import (AutoModelForCausalLM, AutoTokenizer, AutoModelForSequenceClassification, \n",
    "                          Trainer, TrainingArguments)\n",
    "from peft import get_peft_config, LoraConfig, PeftModel\n",
    "import evaluate\n",
    "import numpy as np\n",
    "import matplotlib.pyplot as plt\n",
    "import seaborn as sns\n",
    "from sklearn.metrics import classification_report, confusion_matrix\n"
   ]
  },
  {
   "cell_type": "code",
   "execution_count": 2,
   "metadata": {},
   "outputs": [],
   "source": [
    "from datasets import load_dataset\n",
    "\n",
    "ds = load_dataset(\"google-research-datasets/go_emotions\", \"simplified\")"
   ]
  },
  {
   "cell_type": "code",
   "execution_count": 3,
   "metadata": {},
   "outputs": [
    {
     "data": {
      "text/plain": [
       "'# Assuming you have already loaded the DatasetDict as `dataset`\\ndataset = DatasetDict({\\n    \"train\": dataset[\"test\"],         # Swap test with train\\n    \"validation\": dataset[\"validation\"],  # Keep validation as is\\n    \"test\": dataset[\"train\"]          # Swap train with test\\n})'"
      ]
     },
     "execution_count": 3,
     "metadata": {},
     "output_type": "execute_result"
    }
   ],
   "source": [
    "# Function to convert numeric labels to text\n",
    "def convert_labels_to_one_int(example):\n",
    "    #text_labels = [label_mapping[label] for label in example[\"labels\"]]\n",
    "    example[\"labels\"] = example[\"labels\"][0]\n",
    "    return example\n",
    "\n",
    "# Assuming `dataset` is your DatasetDict\n",
    "dataset = DatasetDict({\n",
    "    \"train\": ds[\"train\"].map(convert_labels_to_one_int),\n",
    "    \"validation\": ds[\"validation\"].map(convert_labels_to_one_int),\n",
    "    \"test\": ds[\"test\"].map(convert_labels_to_one_int),\n",
    "})\n",
    "\n",
    "\n",
    "\n",
    "\"\"\"# Assuming you have already loaded the DatasetDict as `dataset`\n",
    "dataset = DatasetDict({\n",
    "    \"train\": dataset[\"test\"],         # Swap test with train\n",
    "    \"validation\": dataset[\"validation\"],  # Keep validation as is\n",
    "    \"test\": dataset[\"train\"]          # Swap train with test\n",
    "})\"\"\""
   ]
  },
  {
   "cell_type": "code",
   "execution_count": 4,
   "metadata": {},
   "outputs": [
    {
     "data": {
      "text/plain": [
       "DatasetDict({\n",
       "    train: Dataset({\n",
       "        features: ['text', 'labels', 'id'],\n",
       "        num_rows: 43410\n",
       "    })\n",
       "    validation: Dataset({\n",
       "        features: ['text', 'labels', 'id'],\n",
       "        num_rows: 5426\n",
       "    })\n",
       "    test: Dataset({\n",
       "        features: ['text', 'labels', 'id'],\n",
       "        num_rows: 5427\n",
       "    })\n",
       "})"
      ]
     },
     "execution_count": 4,
     "metadata": {},
     "output_type": "execute_result"
    }
   ],
   "source": [
    "dataset"
   ]
  },
  {
   "cell_type": "code",
   "execution_count": 5,
   "metadata": {},
   "outputs": [],
   "source": [
    "def preprocess_labels(example):\n",
    "    example['labels'] = max(0, min(example['labels'], 27))  # Ensure labels are within range\n",
    "    return example\n",
    "\n",
    "dataset = dataset.map(preprocess_labels)"
   ]
  },
  {
   "cell_type": "code",
   "execution_count": 6,
   "metadata": {},
   "outputs": [
    {
     "name": "stderr",
     "output_type": "stream",
     "text": [
      "Some weights of DistilBertForSequenceClassification were not initialized from the model checkpoint at distilbert-base-uncased and are newly initialized: ['classifier.bias', 'classifier.weight', 'pre_classifier.bias', 'pre_classifier.weight']\n",
      "You should probably TRAIN this model on a down-stream task to be able to use it for predictions and inference.\n"
     ]
    }
   ],
   "source": [
    "from sklearn.metrics import precision_recall_fscore_support, accuracy_score\n",
    "\n",
    "# Prepare the dataset for training\n",
    "\"\"\"def preprocess_function(example, tokenizer, max_length=128):\n",
    "    return tokenizer(example['text'], truncation=True, padding='max_length', max_length=max_length)\"\"\"\n",
    "def preprocess_function(example, tokenizer, max_length=128):\n",
    "    inputs = tokenizer(example['text'], truncation=True, padding='max_length', max_length=max_length)\n",
    "    inputs['labels'] = torch.tensor(example['labels']).long()  # Convert to tensor\n",
    "    return inputs\n",
    "\n",
    "\n",
    "tokenizers = {\n",
    "    \"gpt2\": AutoTokenizer.from_pretrained(\"gpt2\"),\n",
    "    \"distilbert\": AutoTokenizer.from_pretrained(\"distilbert-base-uncased\"),\n",
    "    \"roberta\": AutoTokenizer.from_pretrained(\"roberta-base\"),\n",
    "}\n",
    "\n",
    "# Update model configuration for multi-label\n",
    "from transformers import AutoConfig\n",
    "# Models for fine-tuning\n",
    "models = {\n",
    "    \"distilbert\": {\n",
    "        \"path\": \"distilbert-base-uncased\",\n",
    "        \"model\": AutoModelForSequenceClassification.from_pretrained(\"distilbert-base-uncased\", num_labels=28, cache_dir=\"./models\"),\n",
    "        \"size\": \"750MB\"\n",
    "    }\n",
    "}\n",
    "\n",
    "\n"
   ]
  },
  {
   "cell_type": "code",
   "execution_count": 7,
   "metadata": {},
   "outputs": [
    {
     "data": {
      "text/plain": [
       "'\\n# Prepare the dataset for training\\ndef preprocess_function(example, tokenizer, max_length=128):\\n    return tokenizer(example[\\'text\\'], truncation=True, padding=\\'max_length\\', max_length=max_length)\\n\\n# Prepare the tokenizers with padding token\\ntokenizers = {\\n    \"gpt2\": AutoTokenizer.from_pretrained(\"gpt2\"),\\n    \"distilbert\": AutoTokenizer.from_pretrained(\"distilbert-base-uncased\"),\\n    \"roberta\": AutoTokenizer.from_pretrained(\"roberta-base\"),\\n}\\n\\n# Ensure each tokenizer has a padding token\\nfor model_name, tokenizer in tokenizers.items():\\n    if tokenizer.pad_token is None:\\n        if tokenizer.eos_token:\\n            tokenizer.pad_token = tokenizer.eos_token\\n        else:\\n            tokenizer.add_special_tokens({\\'pad_token\\': \\'[PAD]\\'})\\n\\n\\n# Models for fine-tuning\\nmodels = {\\n    \"gpt2\": {\\n        \"path\": \"gpt2\",\\n        \"model\": AutoModelForCausalLM.from_pretrained(\"gpt2\", cache_dir=\"./models\"),\\n        \"size\": \"500MB\"\\n    },\\n    \"distilbert\": {\\n        \"path\": \"distilbert-base-uncased\",\\n        \"model\": AutoModelForSequenceClassification.from_pretrained(\"distilbert-base-uncased\", num_labels=27, cache_dir=\"./models\"),\\n        \"size\": \"750MB\"\\n    },\\n    \"roberta\": {\\n        \"path\": \"roberta-base\",\\n        \"model\": AutoModelForSequenceClassification.from_pretrained(\"roberta-base\", num_labels=27, cache_dir=\"./models\"),\\n        \"size\": \"1GB\"\\n    }\\n}\\n'"
      ]
     },
     "execution_count": 7,
     "metadata": {},
     "output_type": "execute_result"
    }
   ],
   "source": [
    "\"\"\"\n",
    "# Prepare the dataset for training\n",
    "def preprocess_function(example, tokenizer, max_length=128):\n",
    "    return tokenizer(example['text'], truncation=True, padding='max_length', max_length=max_length)\n",
    "\n",
    "# Prepare the tokenizers with padding token\n",
    "tokenizers = {\n",
    "    \"gpt2\": AutoTokenizer.from_pretrained(\"gpt2\"),\n",
    "    \"distilbert\": AutoTokenizer.from_pretrained(\"distilbert-base-uncased\"),\n",
    "    \"roberta\": AutoTokenizer.from_pretrained(\"roberta-base\"),\n",
    "}\n",
    "\n",
    "# Ensure each tokenizer has a padding token\n",
    "for model_name, tokenizer in tokenizers.items():\n",
    "    if tokenizer.pad_token is None:\n",
    "        if tokenizer.eos_token:\n",
    "            tokenizer.pad_token = tokenizer.eos_token\n",
    "        else:\n",
    "            tokenizer.add_special_tokens({'pad_token': '[PAD]'})\n",
    "\n",
    "\n",
    "# Models for fine-tuning\n",
    "models = {\n",
    "    \"gpt2\": {\n",
    "        \"path\": \"gpt2\",\n",
    "        \"model\": AutoModelForCausalLM.from_pretrained(\"gpt2\", cache_dir=\"./models\"),\n",
    "        \"size\": \"500MB\"\n",
    "    },\n",
    "    \"distilbert\": {\n",
    "        \"path\": \"distilbert-base-uncased\",\n",
    "        \"model\": AutoModelForSequenceClassification.from_pretrained(\"distilbert-base-uncased\", num_labels=27, cache_dir=\"./models\"),\n",
    "        \"size\": \"750MB\"\n",
    "    },\n",
    "    \"roberta\": {\n",
    "        \"path\": \"roberta-base\",\n",
    "        \"model\": AutoModelForSequenceClassification.from_pretrained(\"roberta-base\", num_labels=27, cache_dir=\"./models\"),\n",
    "        \"size\": \"1GB\"\n",
    "    }\n",
    "}\n",
    "\"\"\""
   ]
  },
  {
   "cell_type": "code",
   "execution_count": 8,
   "metadata": {},
   "outputs": [
    {
     "data": {
      "text/plain": [
       "'def compute_metrics(pred):\\n    logits, labels = pred\\n    predictions = np.argmax(logits, axis=-1)\\n    acc = accuracy_metric.compute(predictions=predictions, references=labels)\\n    return {\"accuracy\": acc}'"
      ]
     },
     "execution_count": 8,
     "metadata": {},
     "output_type": "execute_result"
    }
   ],
   "source": [
    "def train_model(model_name, model, tokenizer, dataset, training_args, lora=False):\n",
    "    if lora:\n",
    "        print(f\"Applying QLoRA to {model_name}...\")\n",
    "        # Dynamically set target modules based on the model type\n",
    "        if model_name == \"distilbert\":\n",
    "            target_modules = [\"ffn.lin1\", \"ffn.lin2\"]\n",
    "        elif model_name == \"roberta\":\n",
    "            target_modules = [\"intermediate.dense\", \"output.dense\"]\n",
    "        elif model_name == \"gpt2\":\n",
    "            target_modules = [\"c_fc\", \"c_proj\"]\n",
    "        else:\n",
    "            raise ValueError(f\"LoRA target modules not defined for {model_name}\")\n",
    "\n",
    "        config = LoraConfig(\n",
    "            r=16, lora_alpha=32, lora_dropout=0.1, target_modules=target_modules\n",
    "        )\n",
    "        model = PeftModel(model, config)\n",
    "\n",
    "        # Freeze base model parameters\n",
    "        for param in model.base_model.parameters():\n",
    "            param.requires_grad = False\n",
    "        print(\"Base model parameters frozen.\")\n",
    "\n",
    "        # Ensure LoRA parameters are trainable\n",
    "        for name, param in model.named_parameters():\n",
    "            if 'lora' in name:  # LoRA layers will have 'lora' in their names\n",
    "                param.requires_grad = True\n",
    "        print(\"LoRA parameters are trainable.\")\n",
    "\n",
    "    dataset = dataset.map(lambda x: preprocess_function(x, tokenizer), batched=True)\n",
    "    dataset = dataset.remove_columns(['id'])  # Adjust as per GoEmotions structure\n",
    "    from transformers import TrainerCallback\n",
    "    import json\n",
    "    from sklearn.metrics import accuracy_score\n",
    "    import numpy as np\n",
    "\n",
    "    # Define the compute_metrics function\n",
    "    def compute_metrics(pred):\n",
    "        logits, labels = pred\n",
    "        predictions = np.argmax(logits, axis=-1)\n",
    "\n",
    "        # Calculate accuracy\n",
    "        accuracy = accuracy_score(labels, predictions)\n",
    "\n",
    "        # Calculate the loss (use the loss function used during training)\n",
    "        # Here we're using CrossEntropyLoss as an example\n",
    "        loss_fn = torch.nn.CrossEntropyLoss()\n",
    "        loss = loss_fn(torch.tensor(logits), torch.tensor(labels)).item()  # Calculate loss\n",
    "\n",
    "        return {\"accuracy\": accuracy, \"loss\": loss}\n",
    "\n",
    "\n",
    "    class LogMetricsCallback(TrainerCallback):\n",
    "        def __init__(self, log_dir=\"./logs/log_history_real_train_data.json\"):\n",
    "            self.log_dir = log_dir\n",
    "            self.logs = []\n",
    "\n",
    "        def on_log(self, args, state, control, logs=None, **kwargs):\n",
    "            if logs:\n",
    "                log_entry = {\n",
    "                    \"epoch\": logs.get(\"epoch\"),\n",
    "                    \"train_loss\": logs.get(\"loss\"),\n",
    "                    \"learning_rate\": logs.get(\"learning_rate\"),\n",
    "                    \"grad_norm\": logs.get(\"grad_norm\", None),  # Gradient norm (if available)\n",
    "                    \"eval_loss\": logs.get(\"eval_loss\", None),  # Eval loss\n",
    "                    \"eval_accuracy\": logs.get(\"eval_accuracy\", None),  # Eval accuracy\n",
    "                    \"optimizer_state\": logs.get(\"optimizer_state\", None)  # Optimizer state (if available)\n",
    "                }\n",
    "                self.logs.append(log_entry)\n",
    "                \n",
    "                # Save logs to a file after each logging step\n",
    "                with open(self.log_dir, \"w\") as f:\n",
    "                    json.dump(self.logs, f, indent=4)\n",
    "\n",
    "\n",
    "    trainer = Trainer(\n",
    "        model=model,\n",
    "        args=training_args,\n",
    "        train_dataset=dataset['train'],\n",
    "        eval_dataset=dataset['validation'],\n",
    "        tokenizer=tokenizer,\n",
    "        compute_metrics=compute_metrics,\n",
    "        callbacks=[LogMetricsCallback(log_dir=\"./logs/log_history.json\")]  # Custom callback\n",
    "    )\n",
    "    trainer.train()\n",
    "    return trainer\n",
    "\n",
    "\n",
    "# Metrics computation\n",
    "accuracy_metric = evaluate.load(\"accuracy\")\n",
    "\n",
    "\"\"\"def compute_metrics(pred):\n",
    "    logits, labels = pred\n",
    "    predictions = np.argmax(logits, axis=-1)\n",
    "    acc = accuracy_metric.compute(predictions=predictions, references=labels)\n",
    "    return {\"accuracy\": acc}\"\"\"\n",
    "\n"
   ]
  },
  {
   "cell_type": "code",
   "execution_count": null,
   "metadata": {},
   "outputs": [],
   "source": []
  },
  {
   "cell_type": "code",
   "execution_count": 9,
   "metadata": {},
   "outputs": [
    {
     "data": {
      "text/plain": [
       "DatasetDict({\n",
       "    train: Dataset({\n",
       "        features: ['text', 'labels', 'id'],\n",
       "        num_rows: 43410\n",
       "    })\n",
       "    validation: Dataset({\n",
       "        features: ['text', 'labels', 'id'],\n",
       "        num_rows: 5426\n",
       "    })\n",
       "    test: Dataset({\n",
       "        features: ['text', 'labels', 'id'],\n",
       "        num_rows: 5427\n",
       "    })\n",
       "})"
      ]
     },
     "execution_count": 9,
     "metadata": {},
     "output_type": "execute_result"
    }
   ],
   "source": [
    "dataset"
   ]
  },
  {
   "cell_type": "code",
   "execution_count": 10,
   "metadata": {},
   "outputs": [
    {
     "name": "stderr",
     "output_type": "stream",
     "text": [
      "Some weights of DistilBertForSequenceClassification were not initialized from the model checkpoint at distilbert-base-uncased and are newly initialized: ['classifier.bias', 'classifier.weight', 'pre_classifier.bias', 'pre_classifier.weight']\n",
      "You should probably TRAIN this model on a down-stream task to be able to use it for predictions and inference.\n"
     ]
    }
   ],
   "source": [
    "from sklearn.metrics import precision_recall_fscore_support, accuracy_score\n",
    "\n",
    "# Prepare the dataset for training\n",
    "\"\"\"def preprocess_function(example, tokenizer, max_length=128):\n",
    "    return tokenizer(example['text'], truncation=True, padding='max_length', max_length=max_length)\"\"\"\n",
    "def preprocess_function(example, tokenizer, max_length=128):\n",
    "    inputs = tokenizer(example['text'], truncation=True, padding='max_length', max_length=max_length)\n",
    "    inputs['labels'] = torch.tensor(example['labels']).long()  # Convert to tensor\n",
    "    return inputs\n",
    "\n",
    "\n",
    "tokenizers = {\n",
    "    \"gpt2\": AutoTokenizer.from_pretrained(\"gpt2\"),\n",
    "    \"distilbert\": AutoTokenizer.from_pretrained(\"distilbert-base-uncased\"),\n",
    "    \"roberta\": AutoTokenizer.from_pretrained(\"roberta-base\"),\n",
    "}\n",
    "\n",
    "# Update model configuration for multi-label\n",
    "from transformers import AutoConfig\n",
    "# Models for fine-tuning\n",
    "models = {\n",
    "    \"distilbert\": {\n",
    "        \"path\": \"distilbert-base-uncased\",\n",
    "        \"model\": AutoModelForSequenceClassification.from_pretrained(\"distilbert-base-uncased\", num_labels=28, cache_dir=\"./models\"),\n",
    "        \"size\": \"750MB\"\n",
    "    }\n",
    "}\n",
    "\n",
    "\n"
   ]
  },
  {
   "cell_type": "code",
   "execution_count": null,
   "metadata": {},
   "outputs": [],
   "source": []
  },
  {
   "cell_type": "code",
   "execution_count": null,
   "metadata": {},
   "outputs": [],
   "source": []
  },
  {
   "cell_type": "code",
   "execution_count": 11,
   "metadata": {},
   "outputs": [
    {
     "data": {
      "text/plain": [
       "DatasetDict({\n",
       "    train: Dataset({\n",
       "        features: ['text', 'labels', 'id'],\n",
       "        num_rows: 43410\n",
       "    })\n",
       "    validation: Dataset({\n",
       "        features: ['text', 'labels', 'id'],\n",
       "        num_rows: 5426\n",
       "    })\n",
       "    test: Dataset({\n",
       "        features: ['text', 'labels', 'id'],\n",
       "        num_rows: 5427\n",
       "    })\n",
       "})"
      ]
     },
     "execution_count": 11,
     "metadata": {},
     "output_type": "execute_result"
    }
   ],
   "source": [
    "dataset"
   ]
  },
  {
   "cell_type": "code",
   "execution_count": 12,
   "metadata": {},
   "outputs": [
    {
     "name": "stderr",
     "output_type": "stream",
     "text": [
      "c:\\Users\\kpreube\\miniconda3\\envs\\llm\\Lib\\site-packages\\transformers\\training_args.py:1545: FutureWarning: `evaluation_strategy` is deprecated and will be removed in version 4.46 of 🤗 Transformers. Use `eval_strategy` instead\n",
      "  warnings.warn(\n"
     ]
    },
    {
     "name": "stdout",
     "output_type": "stream",
     "text": [
      "Training distilbert (750MB) with standard fine-tuning...\n"
     ]
    },
    {
     "data": {
      "application/vnd.jupyter.widget-view+json": {
       "model_id": "23e8a97e98f94498b9c854b5957521e2",
       "version_major": 2,
       "version_minor": 0
      },
      "text/plain": [
       "  0%|          | 0/27140 [00:00<?, ?it/s]"
      ]
     },
     "metadata": {},
     "output_type": "display_data"
    },
    {
     "name": "stdout",
     "output_type": "stream",
     "text": [
      "{'loss': 2.2985, 'grad_norm': 8.442850112915039, 'learning_rate': 1.9631540162122333e-05, 'epoch': 0.18}\n"
     ]
    },
    {
     "data": {
      "application/vnd.jupyter.widget-view+json": {
       "model_id": "ab083292c38b43cbb833c20d103ca316",
       "version_major": 2,
       "version_minor": 0
      },
      "text/plain": [
       "  0%|          | 0/340 [00:00<?, ?it/s]"
      ]
     },
     "metadata": {},
     "output_type": "display_data"
    },
    {
     "name": "stdout",
     "output_type": "stream",
     "text": [
      "{'eval_loss': 1.8687649965286255, 'eval_accuracy': 0.48157021747143386, 'eval_runtime': 5.5522, 'eval_samples_per_second': 977.263, 'eval_steps_per_second': 61.237, 'epoch': 0.18}\n",
      "{'loss': 1.7215, 'grad_norm': 9.496930122375488, 'learning_rate': 1.926308032424466e-05, 'epoch': 0.37}\n"
     ]
    },
    {
     "data": {
      "application/vnd.jupyter.widget-view+json": {
       "model_id": "af612c07bc9a47f394f09d4e0f347f91",
       "version_major": 2,
       "version_minor": 0
      },
      "text/plain": [
       "  0%|          | 0/340 [00:00<?, ?it/s]"
      ]
     },
     "metadata": {},
     "output_type": "display_data"
    },
    {
     "name": "stdout",
     "output_type": "stream",
     "text": [
      "{'eval_loss': 1.6021133661270142, 'eval_accuracy': 0.5425727976409879, 'eval_runtime': 5.6248, 'eval_samples_per_second': 964.658, 'eval_steps_per_second': 60.447, 'epoch': 0.37}\n",
      "{'loss': 1.6032, 'grad_norm': 7.353003978729248, 'learning_rate': 1.8894620486366988e-05, 'epoch': 0.55}\n"
     ]
    },
    {
     "data": {
      "application/vnd.jupyter.widget-view+json": {
       "model_id": "2274e07594b74658a7d63b69c378a1e0",
       "version_major": 2,
       "version_minor": 0
      },
      "text/plain": [
       "  0%|          | 0/340 [00:00<?, ?it/s]"
      ]
     },
     "metadata": {},
     "output_type": "display_data"
    },
    {
     "name": "stdout",
     "output_type": "stream",
     "text": [
      "{'eval_loss': 1.5013716220855713, 'eval_accuracy': 0.5641356431994102, 'eval_runtime': 5.4988, 'eval_samples_per_second': 986.762, 'eval_steps_per_second': 61.832, 'epoch': 0.55}\n",
      "{'loss': 1.5309, 'grad_norm': 8.886563301086426, 'learning_rate': 1.8526160648489315e-05, 'epoch': 0.74}\n"
     ]
    },
    {
     "data": {
      "application/vnd.jupyter.widget-view+json": {
       "model_id": "220a4cc67599425ab203ea06ef443fda",
       "version_major": 2,
       "version_minor": 0
      },
      "text/plain": [
       "  0%|          | 0/340 [00:00<?, ?it/s]"
      ]
     },
     "metadata": {},
     "output_type": "display_data"
    },
    {
     "name": "stdout",
     "output_type": "stream",
     "text": [
      "{'eval_loss': 1.4551864862442017, 'eval_accuracy': 0.5715075562108367, 'eval_runtime': 5.5063, 'eval_samples_per_second': 985.408, 'eval_steps_per_second': 61.747, 'epoch': 0.74}\n",
      "{'loss': 1.508, 'grad_norm': 7.806018829345703, 'learning_rate': 1.8157700810611646e-05, 'epoch': 0.92}\n"
     ]
    },
    {
     "data": {
      "application/vnd.jupyter.widget-view+json": {
       "model_id": "074a16dac5cd4a37a59f6ee30c855178",
       "version_major": 2,
       "version_minor": 0
      },
      "text/plain": [
       "  0%|          | 0/340 [00:00<?, ?it/s]"
      ]
     },
     "metadata": {},
     "output_type": "display_data"
    },
    {
     "name": "stdout",
     "output_type": "stream",
     "text": [
      "{'eval_loss': 1.4476125240325928, 'eval_accuracy': 0.5669001105786952, 'eval_runtime': 5.797, 'eval_samples_per_second': 935.995, 'eval_steps_per_second': 58.651, 'epoch': 0.92}\n",
      "{'loss': 1.3885, 'grad_norm': 7.4979705810546875, 'learning_rate': 1.7789240972733973e-05, 'epoch': 1.11}\n"
     ]
    },
    {
     "data": {
      "application/vnd.jupyter.widget-view+json": {
       "model_id": "3587c6098b734d8783670daa76f164d8",
       "version_major": 2,
       "version_minor": 0
      },
      "text/plain": [
       "  0%|          | 0/340 [00:00<?, ?it/s]"
      ]
     },
     "metadata": {},
     "output_type": "display_data"
    },
    {
     "name": "stdout",
     "output_type": "stream",
     "text": [
      "{'eval_loss': 1.3986400365829468, 'eval_accuracy': 0.5812753409509768, 'eval_runtime': 5.6383, 'eval_samples_per_second': 962.354, 'eval_steps_per_second': 60.302, 'epoch': 1.11}\n",
      "{'loss': 1.2941, 'grad_norm': 10.954540252685547, 'learning_rate': 1.74207811348563e-05, 'epoch': 1.29}\n"
     ]
    },
    {
     "data": {
      "application/vnd.jupyter.widget-view+json": {
       "model_id": "e968f8b0854347daa364a18b560dc994",
       "version_major": 2,
       "version_minor": 0
      },
      "text/plain": [
       "  0%|          | 0/340 [00:00<?, ?it/s]"
      ]
     },
     "metadata": {},
     "output_type": "display_data"
    },
    {
     "name": "stdout",
     "output_type": "stream",
     "text": [
      "{'eval_loss': 1.417325735092163, 'eval_accuracy': 0.5739034279395503, 'eval_runtime': 8.3107, 'eval_samples_per_second': 652.892, 'eval_steps_per_second': 40.911, 'epoch': 1.29}\n",
      "{'loss': 1.3165, 'grad_norm': 8.720344543457031, 'learning_rate': 1.7052321296978632e-05, 'epoch': 1.47}\n"
     ]
    },
    {
     "data": {
      "application/vnd.jupyter.widget-view+json": {
       "model_id": "40a5fffe31a74043b4a791444a238f3f",
       "version_major": 2,
       "version_minor": 0
      },
      "text/plain": [
       "  0%|          | 0/340 [00:00<?, ?it/s]"
      ]
     },
     "metadata": {},
     "output_type": "display_data"
    },
    {
     "name": "stdout",
     "output_type": "stream",
     "text": [
      "{'eval_loss': 1.3974523544311523, 'eval_accuracy': 0.5823811279026907, 'eval_runtime': 8.2235, 'eval_samples_per_second': 659.815, 'eval_steps_per_second': 41.345, 'epoch': 1.47}\n",
      "{'loss': 1.3025, 'grad_norm': 12.354914665222168, 'learning_rate': 1.668386145910096e-05, 'epoch': 1.66}\n"
     ]
    },
    {
     "data": {
      "application/vnd.jupyter.widget-view+json": {
       "model_id": "aedd095b3fd54c25ac28c089dfe93f07",
       "version_major": 2,
       "version_minor": 0
      },
      "text/plain": [
       "  0%|          | 0/340 [00:00<?, ?it/s]"
      ]
     },
     "metadata": {},
     "output_type": "display_data"
    },
    {
     "name": "stdout",
     "output_type": "stream",
     "text": [
      "{'eval_loss': 1.400770902633667, 'eval_accuracy': 0.573534832288979, 'eval_runtime': 8.2389, 'eval_samples_per_second': 658.585, 'eval_steps_per_second': 41.268, 'epoch': 1.66}\n",
      "{'loss': 1.2586, 'grad_norm': 8.789066314697266, 'learning_rate': 1.6315401621223287e-05, 'epoch': 1.84}\n"
     ]
    },
    {
     "data": {
      "application/vnd.jupyter.widget-view+json": {
       "model_id": "38e5c97f4a594a7d8fe08a218d57621b",
       "version_major": 2,
       "version_minor": 0
      },
      "text/plain": [
       "  0%|          | 0/340 [00:00<?, ?it/s]"
      ]
     },
     "metadata": {},
     "output_type": "display_data"
    },
    {
     "name": "stdout",
     "output_type": "stream",
     "text": [
      "{'eval_loss': 1.38312566280365, 'eval_accuracy': 0.5829340213785478, 'eval_runtime': 8.2071, 'eval_samples_per_second': 661.136, 'eval_steps_per_second': 41.428, 'epoch': 1.84}\n",
      "{'loss': 1.2701, 'grad_norm': 13.429469108581543, 'learning_rate': 1.5946941783345618e-05, 'epoch': 2.03}\n"
     ]
    },
    {
     "data": {
      "application/vnd.jupyter.widget-view+json": {
       "model_id": "e7fe44c2fd7e4698bc11820b1459fefb",
       "version_major": 2,
       "version_minor": 0
      },
      "text/plain": [
       "  0%|          | 0/340 [00:00<?, ?it/s]"
      ]
     },
     "metadata": {},
     "output_type": "display_data"
    },
    {
     "name": "stdout",
     "output_type": "stream",
     "text": [
      "{'eval_loss': 1.3892955780029297, 'eval_accuracy': 0.5829340213785478, 'eval_runtime': 8.2087, 'eval_samples_per_second': 661.007, 'eval_steps_per_second': 41.42, 'epoch': 2.03}\n",
      "{'loss': 1.0867, 'grad_norm': 13.859712600708008, 'learning_rate': 1.5578481945467945e-05, 'epoch': 2.21}\n"
     ]
    },
    {
     "data": {
      "application/vnd.jupyter.widget-view+json": {
       "model_id": "51e9dc2607ce49fd813fd62ddc009d3a",
       "version_major": 2,
       "version_minor": 0
      },
      "text/plain": [
       "  0%|          | 0/340 [00:00<?, ?it/s]"
      ]
     },
     "metadata": {},
     "output_type": "display_data"
    },
    {
     "name": "stdout",
     "output_type": "stream",
     "text": [
      "{'eval_loss': 1.413759469985962, 'eval_accuracy': 0.5868042757095466, 'eval_runtime': 8.1615, 'eval_samples_per_second': 664.828, 'eval_steps_per_second': 41.659, 'epoch': 2.21}\n",
      "{'loss': 1.0737, 'grad_norm': 10.028066635131836, 'learning_rate': 1.5210022107590274e-05, 'epoch': 2.39}\n"
     ]
    },
    {
     "data": {
      "application/vnd.jupyter.widget-view+json": {
       "model_id": "0bf41734c59a403cbe21e708394a4e2b",
       "version_major": 2,
       "version_minor": 0
      },
      "text/plain": [
       "  0%|          | 0/340 [00:00<?, ?it/s]"
      ]
     },
     "metadata": {},
     "output_type": "display_data"
    },
    {
     "name": "stdout",
     "output_type": "stream",
     "text": [
      "{'eval_loss': 1.437225580215454, 'eval_accuracy': 0.5803538518245485, 'eval_runtime': 8.1938, 'eval_samples_per_second': 662.209, 'eval_steps_per_second': 41.495, 'epoch': 2.39}\n",
      "{'loss': 1.1076, 'grad_norm': 13.003308296203613, 'learning_rate': 1.4841562269712602e-05, 'epoch': 2.58}\n"
     ]
    },
    {
     "data": {
      "application/vnd.jupyter.widget-view+json": {
       "model_id": "b5f50d89b4cf4fef97874234d4af85b7",
       "version_major": 2,
       "version_minor": 0
      },
      "text/plain": [
       "  0%|          | 0/340 [00:00<?, ?it/s]"
      ]
     },
     "metadata": {},
     "output_type": "display_data"
    },
    {
     "name": "stdout",
     "output_type": "stream",
     "text": [
      "{'eval_loss': 1.4420669078826904, 'eval_accuracy': 0.570217471433837, 'eval_runtime': 8.1437, 'eval_samples_per_second': 666.28, 'eval_steps_per_second': 41.75, 'epoch': 2.58}\n",
      "{'loss': 1.1003, 'grad_norm': 10.83072566986084, 'learning_rate': 1.4473102431834931e-05, 'epoch': 2.76}\n"
     ]
    },
    {
     "data": {
      "application/vnd.jupyter.widget-view+json": {
       "model_id": "67024af17666405fa57af4501ee0bdfb",
       "version_major": 2,
       "version_minor": 0
      },
      "text/plain": [
       "  0%|          | 0/340 [00:00<?, ?it/s]"
      ]
     },
     "metadata": {},
     "output_type": "display_data"
    },
    {
     "name": "stdout",
     "output_type": "stream",
     "text": [
      "{'eval_loss': 1.4346519708633423, 'eval_accuracy': 0.5720604496866937, 'eval_runtime': 8.1757, 'eval_samples_per_second': 663.677, 'eval_steps_per_second': 41.587, 'epoch': 2.76}\n",
      "{'loss': 1.0508, 'grad_norm': 13.523743629455566, 'learning_rate': 1.410464259395726e-05, 'epoch': 2.95}\n"
     ]
    },
    {
     "data": {
      "application/vnd.jupyter.widget-view+json": {
       "model_id": "4929d6c2817b457286e45461306ee538",
       "version_major": 2,
       "version_minor": 0
      },
      "text/plain": [
       "  0%|          | 0/340 [00:00<?, ?it/s]"
      ]
     },
     "metadata": {},
     "output_type": "display_data"
    },
    {
     "name": "stdout",
     "output_type": "stream",
     "text": [
      "{'eval_loss': 1.4202500581741333, 'eval_accuracy': 0.5810910431256912, 'eval_runtime': 8.1939, 'eval_samples_per_second': 662.198, 'eval_steps_per_second': 41.494, 'epoch': 2.95}\n",
      "{'loss': 0.9395, 'grad_norm': 10.550268173217773, 'learning_rate': 1.3736182756079588e-05, 'epoch': 3.13}\n"
     ]
    },
    {
     "data": {
      "application/vnd.jupyter.widget-view+json": {
       "model_id": "55355c79648d4628945a86be4606c261",
       "version_major": 2,
       "version_minor": 0
      },
      "text/plain": [
       "  0%|          | 0/340 [00:00<?, ?it/s]"
      ]
     },
     "metadata": {},
     "output_type": "display_data"
    },
    {
     "name": "stdout",
     "output_type": "stream",
     "text": [
      "{'eval_loss': 1.468843698501587, 'eval_accuracy': 0.5772207887946922, 'eval_runtime': 8.177, 'eval_samples_per_second': 663.57, 'eval_steps_per_second': 41.58, 'epoch': 3.13}\n",
      "{'loss': 0.8669, 'grad_norm': 12.690872192382812, 'learning_rate': 1.3367722918201917e-05, 'epoch': 3.32}\n"
     ]
    },
    {
     "data": {
      "application/vnd.jupyter.widget-view+json": {
       "model_id": "3c94eee61ab843bcbfb060363c08002e",
       "version_major": 2,
       "version_minor": 0
      },
      "text/plain": [
       "  0%|          | 0/340 [00:00<?, ?it/s]"
      ]
     },
     "metadata": {},
     "output_type": "display_data"
    },
    {
     "name": "stdout",
     "output_type": "stream",
     "text": [
      "{'eval_loss': 1.5059891939163208, 'eval_accuracy': 0.5617397714706966, 'eval_runtime': 8.1622, 'eval_samples_per_second': 664.768, 'eval_steps_per_second': 41.655, 'epoch': 3.32}\n",
      "{'loss': 0.8706, 'grad_norm': 14.737988471984863, 'learning_rate': 1.2999263080324244e-05, 'epoch': 3.5}\n"
     ]
    },
    {
     "data": {
      "application/vnd.jupyter.widget-view+json": {
       "model_id": "b6b575861a2b4fb39b0d0766e10d0ea2",
       "version_major": 2,
       "version_minor": 0
      },
      "text/plain": [
       "  0%|          | 0/340 [00:00<?, ?it/s]"
      ]
     },
     "metadata": {},
     "output_type": "display_data"
    },
    {
     "name": "stdout",
     "output_type": "stream",
     "text": [
      "{'eval_loss': 1.4897124767303467, 'eval_accuracy': 0.5696645779579801, 'eval_runtime': 8.1931, 'eval_samples_per_second': 662.265, 'eval_steps_per_second': 41.498, 'epoch': 3.5}\n",
      "{'loss': 0.882, 'grad_norm': 12.66919994354248, 'learning_rate': 1.2630803242446574e-05, 'epoch': 3.68}\n"
     ]
    },
    {
     "data": {
      "application/vnd.jupyter.widget-view+json": {
       "model_id": "cae490bdb19b402cae3664c5f857d5fa",
       "version_major": 2,
       "version_minor": 0
      },
      "text/plain": [
       "  0%|          | 0/340 [00:00<?, ?it/s]"
      ]
     },
     "metadata": {},
     "output_type": "display_data"
    },
    {
     "name": "stdout",
     "output_type": "stream",
     "text": [
      "{'eval_loss': 1.5010017156600952, 'eval_accuracy': 0.5755621083671213, 'eval_runtime': 8.1749, 'eval_samples_per_second': 663.739, 'eval_steps_per_second': 41.591, 'epoch': 3.68}\n",
      "{'loss': 0.889, 'grad_norm': 20.95216941833496, 'learning_rate': 1.2262343404568904e-05, 'epoch': 3.87}\n"
     ]
    },
    {
     "data": {
      "application/vnd.jupyter.widget-view+json": {
       "model_id": "27643aafebb74841826a8b7e0eaa9965",
       "version_major": 2,
       "version_minor": 0
      },
      "text/plain": [
       "  0%|          | 0/340 [00:00<?, ?it/s]"
      ]
     },
     "metadata": {},
     "output_type": "display_data"
    },
    {
     "name": "stdout",
     "output_type": "stream",
     "text": [
      "{'eval_loss': 1.5280932188034058, 'eval_accuracy': 0.564319941024696, 'eval_runtime': 8.1449, 'eval_samples_per_second': 666.181, 'eval_steps_per_second': 41.744, 'epoch': 3.87}\n",
      "{'loss': 0.811, 'grad_norm': 15.314448356628418, 'learning_rate': 1.1893883566691232e-05, 'epoch': 4.05}\n"
     ]
    },
    {
     "data": {
      "application/vnd.jupyter.widget-view+json": {
       "model_id": "21cf172637cf43bd9fa3e6176d3c9b1f",
       "version_major": 2,
       "version_minor": 0
      },
      "text/plain": [
       "  0%|          | 0/340 [00:00<?, ?it/s]"
      ]
     },
     "metadata": {},
     "output_type": "display_data"
    },
    {
     "name": "stdout",
     "output_type": "stream",
     "text": [
      "{'eval_loss': 1.5768486261367798, 'eval_accuracy': 0.5641356431994102, 'eval_runtime': 8.1609, 'eval_samples_per_second': 664.876, 'eval_steps_per_second': 41.662, 'epoch': 4.05}\n",
      "{'loss': 0.6742, 'grad_norm': 19.20982551574707, 'learning_rate': 1.1525423728813561e-05, 'epoch': 4.24}\n"
     ]
    },
    {
     "data": {
      "application/vnd.jupyter.widget-view+json": {
       "model_id": "8ad80cca19bd4d0ea34e0ea673ef40ed",
       "version_major": 2,
       "version_minor": 0
      },
      "text/plain": [
       "  0%|          | 0/340 [00:00<?, ?it/s]"
      ]
     },
     "metadata": {},
     "output_type": "display_data"
    },
    {
     "name": "stdout",
     "output_type": "stream",
     "text": [
      "{'eval_loss': 1.6231111288070679, 'eval_accuracy': 0.5608182823442683, 'eval_runtime': 8.1941, 'eval_samples_per_second': 662.183, 'eval_steps_per_second': 41.493, 'epoch': 4.24}\n",
      "{'loss': 0.6761, 'grad_norm': 9.535650253295898, 'learning_rate': 1.1156963890935889e-05, 'epoch': 4.42}\n"
     ]
    },
    {
     "data": {
      "application/vnd.jupyter.widget-view+json": {
       "model_id": "bacffcbc1b4b4b85bed603553f22f5f3",
       "version_major": 2,
       "version_minor": 0
      },
      "text/plain": [
       "  0%|          | 0/340 [00:00<?, ?it/s]"
      ]
     },
     "metadata": {},
     "output_type": "display_data"
    },
    {
     "name": "stdout",
     "output_type": "stream",
     "text": [
      "{'eval_loss': 1.6571768522262573, 'eval_accuracy': 0.5538149649834132, 'eval_runtime': 8.1786, 'eval_samples_per_second': 663.436, 'eval_steps_per_second': 41.572, 'epoch': 4.42}\n",
      "{'loss': 0.691, 'grad_norm': 15.71125316619873, 'learning_rate': 1.0788504053058218e-05, 'epoch': 4.61}\n"
     ]
    },
    {
     "data": {
      "application/vnd.jupyter.widget-view+json": {
       "model_id": "2c7cc9f78ace492ca43a5fc8ded4a1f7",
       "version_major": 2,
       "version_minor": 0
      },
      "text/plain": [
       "  0%|          | 0/340 [00:00<?, ?it/s]"
      ]
     },
     "metadata": {},
     "output_type": "display_data"
    },
    {
     "name": "stdout",
     "output_type": "stream",
     "text": [
      "{'eval_loss': 1.6883662939071655, 'eval_accuracy': 0.5469959454478437, 'eval_runtime': 8.2114, 'eval_samples_per_second': 660.789, 'eval_steps_per_second': 41.406, 'epoch': 4.61}\n",
      "{'loss': 0.6918, 'grad_norm': 21.9290771484375, 'learning_rate': 1.0420044215180547e-05, 'epoch': 4.79}\n"
     ]
    },
    {
     "data": {
      "application/vnd.jupyter.widget-view+json": {
       "model_id": "d8fd60dd936c4bbdacef8eca08ce7172",
       "version_major": 2,
       "version_minor": 0
      },
      "text/plain": [
       "  0%|          | 0/340 [00:00<?, ?it/s]"
      ]
     },
     "metadata": {},
     "output_type": "display_data"
    },
    {
     "name": "stdout",
     "output_type": "stream",
     "text": [
      "{'eval_loss': 1.6838455200195312, 'eval_accuracy': 0.5578695171396978, 'eval_runtime': 8.2402, 'eval_samples_per_second': 658.482, 'eval_steps_per_second': 41.261, 'epoch': 4.79}\n",
      "{'loss': 0.6885, 'grad_norm': 18.26828384399414, 'learning_rate': 1.0051584377302874e-05, 'epoch': 4.97}\n"
     ]
    },
    {
     "data": {
      "application/vnd.jupyter.widget-view+json": {
       "model_id": "62346efd744847308d44b004382f5f19",
       "version_major": 2,
       "version_minor": 0
      },
      "text/plain": [
       "  0%|          | 0/340 [00:00<?, ?it/s]"
      ]
     },
     "metadata": {},
     "output_type": "display_data"
    },
    {
     "name": "stdout",
     "output_type": "stream",
     "text": [
      "{'eval_loss': 1.6889889240264893, 'eval_accuracy': 0.5580538149649834, 'eval_runtime': 8.1809, 'eval_samples_per_second': 663.252, 'eval_steps_per_second': 41.56, 'epoch': 4.97}\n",
      "{'loss': 0.5442, 'grad_norm': 8.847016334533691, 'learning_rate': 9.683124539425204e-06, 'epoch': 5.16}\n"
     ]
    },
    {
     "data": {
      "application/vnd.jupyter.widget-view+json": {
       "model_id": "575e5ec44b684cf98975efa9398e0f35",
       "version_major": 2,
       "version_minor": 0
      },
      "text/plain": [
       "  0%|          | 0/340 [00:00<?, ?it/s]"
      ]
     },
     "metadata": {},
     "output_type": "display_data"
    },
    {
     "name": "stdout",
     "output_type": "stream",
     "text": [
      "{'eval_loss': 1.7606754302978516, 'eval_accuracy': 0.5436785845927018, 'eval_runtime': 8.1774, 'eval_samples_per_second': 663.533, 'eval_steps_per_second': 41.578, 'epoch': 5.16}\n",
      "{'loss': 0.5246, 'grad_norm': 15.128473281860352, 'learning_rate': 9.314664701547533e-06, 'epoch': 5.34}\n"
     ]
    },
    {
     "data": {
      "application/vnd.jupyter.widget-view+json": {
       "model_id": "9974ddff0ce6496aa1b3d68e75ba9de9",
       "version_major": 2,
       "version_minor": 0
      },
      "text/plain": [
       "  0%|          | 0/340 [00:00<?, ?it/s]"
      ]
     },
     "metadata": {},
     "output_type": "display_data"
    },
    {
     "name": "stdout",
     "output_type": "stream",
     "text": [
      "{'eval_loss': 1.8032312393188477, 'eval_accuracy': 0.5429413932915591, 'eval_runtime': 8.2095, 'eval_samples_per_second': 660.94, 'eval_steps_per_second': 41.415, 'epoch': 5.34}\n",
      "{'loss': 0.5278, 'grad_norm': 19.401351928710938, 'learning_rate': 8.94620486366986e-06, 'epoch': 5.53}\n"
     ]
    },
    {
     "data": {
      "application/vnd.jupyter.widget-view+json": {
       "model_id": "9aee01c9d1f54c1aa7f3b1717619a028",
       "version_major": 2,
       "version_minor": 0
      },
      "text/plain": [
       "  0%|          | 0/340 [00:00<?, ?it/s]"
      ]
     },
     "metadata": {},
     "output_type": "display_data"
    },
    {
     "name": "stdout",
     "output_type": "stream",
     "text": [
      "{'eval_loss': 1.8355642557144165, 'eval_accuracy': 0.5492075193512717, 'eval_runtime': 8.2094, 'eval_samples_per_second': 660.949, 'eval_steps_per_second': 41.416, 'epoch': 5.53}\n",
      "{'loss': 0.5262, 'grad_norm': 20.14927864074707, 'learning_rate': 8.57774502579219e-06, 'epoch': 5.71}\n"
     ]
    },
    {
     "data": {
      "application/vnd.jupyter.widget-view+json": {
       "model_id": "e16c1ee9db944cddb32e8fffe667cee5",
       "version_major": 2,
       "version_minor": 0
      },
      "text/plain": [
       "  0%|          | 0/340 [00:00<?, ?it/s]"
      ]
     },
     "metadata": {},
     "output_type": "display_data"
    },
    {
     "name": "stdout",
     "output_type": "stream",
     "text": [
      "{'eval_loss': 1.8532239198684692, 'eval_accuracy': 0.5486546258754147, 'eval_runtime': 8.1942, 'eval_samples_per_second': 662.179, 'eval_steps_per_second': 41.493, 'epoch': 5.71}\n",
      "{'loss': 0.5211, 'grad_norm': 21.110206604003906, 'learning_rate': 8.209285187914517e-06, 'epoch': 5.9}\n"
     ]
    },
    {
     "data": {
      "application/vnd.jupyter.widget-view+json": {
       "model_id": "43db6e60772b42229ae5d2f1b402a3f8",
       "version_major": 2,
       "version_minor": 0
      },
      "text/plain": [
       "  0%|          | 0/340 [00:00<?, ?it/s]"
      ]
     },
     "metadata": {},
     "output_type": "display_data"
    },
    {
     "name": "stdout",
     "output_type": "stream",
     "text": [
      "{'eval_loss': 1.8531032800674438, 'eval_accuracy': 0.5497604128271286, 'eval_runtime': 8.2262, 'eval_samples_per_second': 659.596, 'eval_steps_per_second': 41.331, 'epoch': 5.9}\n",
      "{'loss': 0.47, 'grad_norm': 8.549769401550293, 'learning_rate': 7.840825350036846e-06, 'epoch': 6.08}\n"
     ]
    },
    {
     "data": {
      "application/vnd.jupyter.widget-view+json": {
       "model_id": "c2d62d637b674b07a12dceac8d7e1a2b",
       "version_major": 2,
       "version_minor": 0
      },
      "text/plain": [
       "  0%|          | 0/340 [00:00<?, ?it/s]"
      ]
     },
     "metadata": {},
     "output_type": "display_data"
    },
    {
     "name": "stdout",
     "output_type": "stream",
     "text": [
      "{'eval_loss': 1.9090166091918945, 'eval_accuracy': 0.5499447106524143, 'eval_runtime': 8.1764, 'eval_samples_per_second': 663.62, 'eval_steps_per_second': 41.583, 'epoch': 6.08}\n",
      "{'loss': 0.3852, 'grad_norm': 19.753097534179688, 'learning_rate': 7.472365512159175e-06, 'epoch': 6.26}\n"
     ]
    },
    {
     "data": {
      "application/vnd.jupyter.widget-view+json": {
       "model_id": "067947bb64e145efbc45d777466f92d4",
       "version_major": 2,
       "version_minor": 0
      },
      "text/plain": [
       "  0%|          | 0/340 [00:00<?, ?it/s]"
      ]
     },
     "metadata": {},
     "output_type": "display_data"
    },
    {
     "name": "stdout",
     "output_type": "stream",
     "text": [
      "{'eval_loss': 1.9741771221160889, 'eval_accuracy': 0.549023221525986, 'eval_runtime': 8.2075, 'eval_samples_per_second': 661.1, 'eval_steps_per_second': 41.425, 'epoch': 6.26}\n",
      "{'loss': 0.4022, 'grad_norm': 14.705588340759277, 'learning_rate': 7.103905674281504e-06, 'epoch': 6.45}\n"
     ]
    },
    {
     "data": {
      "application/vnd.jupyter.widget-view+json": {
       "model_id": "a402aee1d4e046d483ac55cea5954943",
       "version_major": 2,
       "version_minor": 0
      },
      "text/plain": [
       "  0%|          | 0/340 [00:00<?, ?it/s]"
      ]
     },
     "metadata": {},
     "output_type": "display_data"
    },
    {
     "name": "stdout",
     "output_type": "stream",
     "text": [
      "{'eval_loss': 2.013284683227539, 'eval_accuracy': 0.5416513085145596, 'eval_runtime': 8.2254, 'eval_samples_per_second': 659.666, 'eval_steps_per_second': 41.335, 'epoch': 6.45}\n",
      "{'loss': 0.3912, 'grad_norm': 14.297801971435547, 'learning_rate': 6.735445836403832e-06, 'epoch': 6.63}\n"
     ]
    },
    {
     "data": {
      "application/vnd.jupyter.widget-view+json": {
       "model_id": "d2ef75512c734567ba548b9d5ad8d74f",
       "version_major": 2,
       "version_minor": 0
      },
      "text/plain": [
       "  0%|          | 0/340 [00:00<?, ?it/s]"
      ]
     },
     "metadata": {},
     "output_type": "display_data"
    },
    {
     "name": "stdout",
     "output_type": "stream",
     "text": [
      "{'eval_loss': 2.021228313446045, 'eval_accuracy': 0.5455215628455584, 'eval_runtime': 8.1618, 'eval_samples_per_second': 664.808, 'eval_steps_per_second': 41.658, 'epoch': 6.63}\n",
      "{'loss': 0.4004, 'grad_norm': 16.099102020263672, 'learning_rate': 6.36698599852616e-06, 'epoch': 6.82}\n"
     ]
    },
    {
     "data": {
      "application/vnd.jupyter.widget-view+json": {
       "model_id": "4a462defc3a64810a36edcfa8d25039d",
       "version_major": 2,
       "version_minor": 0
      },
      "text/plain": [
       "  0%|          | 0/340 [00:00<?, ?it/s]"
      ]
     },
     "metadata": {},
     "output_type": "display_data"
    },
    {
     "name": "stdout",
     "output_type": "stream",
     "text": [
      "{'eval_loss': 2.0546786785125732, 'eval_accuracy': 0.5409141172134169, 'eval_runtime': 8.1611, 'eval_samples_per_second': 664.86, 'eval_steps_per_second': 41.661, 'epoch': 6.82}\n",
      "{'loss': 0.4252, 'grad_norm': 24.570035934448242, 'learning_rate': 5.99852616064849e-06, 'epoch': 7.0}\n"
     ]
    },
    {
     "data": {
      "application/vnd.jupyter.widget-view+json": {
       "model_id": "9b355913823c4bf1bfea3b5a41ef6926",
       "version_major": 2,
       "version_minor": 0
      },
      "text/plain": [
       "  0%|          | 0/340 [00:00<?, ?it/s]"
      ]
     },
     "metadata": {},
     "output_type": "display_data"
    },
    {
     "name": "stdout",
     "output_type": "stream",
     "text": [
      "{'eval_loss': 2.0527143478393555, 'eval_accuracy': 0.5453372650202728, 'eval_runtime': 8.2231, 'eval_samples_per_second': 659.845, 'eval_steps_per_second': 41.347, 'epoch': 7.0}\n",
      "{'loss': 0.3173, 'grad_norm': 18.48667335510254, 'learning_rate': 5.630066322770819e-06, 'epoch': 7.18}\n"
     ]
    },
    {
     "data": {
      "application/vnd.jupyter.widget-view+json": {
       "model_id": "22d9298e518445c089984cf59b1926ba",
       "version_major": 2,
       "version_minor": 0
      },
      "text/plain": [
       "  0%|          | 0/340 [00:00<?, ?it/s]"
      ]
     },
     "metadata": {},
     "output_type": "display_data"
    },
    {
     "name": "stdout",
     "output_type": "stream",
     "text": [
      "{'eval_loss': 2.111485719680786, 'eval_accuracy': 0.5401769259122743, 'eval_runtime': 8.1803, 'eval_samples_per_second': 663.301, 'eval_steps_per_second': 41.563, 'epoch': 7.18}\n",
      "{'loss': 0.3188, 'grad_norm': 12.301214218139648, 'learning_rate': 5.261606484893147e-06, 'epoch': 7.37}\n"
     ]
    },
    {
     "data": {
      "application/vnd.jupyter.widget-view+json": {
       "model_id": "72c8e86ab041496386c4c4f38d72480a",
       "version_major": 2,
       "version_minor": 0
      },
      "text/plain": [
       "  0%|          | 0/340 [00:00<?, ?it/s]"
      ]
     },
     "metadata": {},
     "output_type": "display_data"
    },
    {
     "name": "stdout",
     "output_type": "stream",
     "text": [
      "{'eval_loss': 2.131098747253418, 'eval_accuracy': 0.5455215628455584, 'eval_runtime': 8.1463, 'eval_samples_per_second': 666.072, 'eval_steps_per_second': 41.737, 'epoch': 7.37}\n",
      "{'loss': 0.3156, 'grad_norm': 26.333208084106445, 'learning_rate': 4.893146647015476e-06, 'epoch': 7.55}\n"
     ]
    },
    {
     "data": {
      "application/vnd.jupyter.widget-view+json": {
       "model_id": "3143c254d975442ba2631da8cea56cd2",
       "version_major": 2,
       "version_minor": 0
      },
      "text/plain": [
       "  0%|          | 0/340 [00:00<?, ?it/s]"
      ]
     },
     "metadata": {},
     "output_type": "display_data"
    },
    {
     "name": "stdout",
     "output_type": "stream",
     "text": [
      "{'eval_loss': 2.1599488258361816, 'eval_accuracy': 0.5361223737559897, 'eval_runtime': 8.1791, 'eval_samples_per_second': 663.398, 'eval_steps_per_second': 41.569, 'epoch': 7.55}\n",
      "{'loss': 0.3252, 'grad_norm': 13.57181167602539, 'learning_rate': 4.524686809137805e-06, 'epoch': 7.74}\n"
     ]
    },
    {
     "data": {
      "application/vnd.jupyter.widget-view+json": {
       "model_id": "e062587f7a804e209d9f93a9b389aaa3",
       "version_major": 2,
       "version_minor": 0
      },
      "text/plain": [
       "  0%|          | 0/340 [00:00<?, ?it/s]"
      ]
     },
     "metadata": {},
     "output_type": "display_data"
    },
    {
     "name": "stdout",
     "output_type": "stream",
     "text": [
      "{'eval_loss': 2.1951727867126465, 'eval_accuracy': 0.5357537781054184, 'eval_runtime': 8.1, 'eval_samples_per_second': 669.876, 'eval_steps_per_second': 41.975, 'epoch': 7.74}\n",
      "{'loss': 0.3136, 'grad_norm': 15.002897262573242, 'learning_rate': 4.156226971260133e-06, 'epoch': 7.92}\n"
     ]
    },
    {
     "data": {
      "application/vnd.jupyter.widget-view+json": {
       "model_id": "1d086355cee649a9952fd3d72d6eeada",
       "version_major": 2,
       "version_minor": 0
      },
      "text/plain": [
       "  0%|          | 0/340 [00:00<?, ?it/s]"
      ]
     },
     "metadata": {},
     "output_type": "display_data"
    },
    {
     "name": "stdout",
     "output_type": "stream",
     "text": [
      "{'eval_loss': 2.2044460773468018, 'eval_accuracy': 0.5403612237375599, 'eval_runtime': 8.1612, 'eval_samples_per_second': 664.85, 'eval_steps_per_second': 41.66, 'epoch': 7.92}\n",
      "{'loss': 0.2898, 'grad_norm': 13.997879981994629, 'learning_rate': 3.7877671333824617e-06, 'epoch': 8.11}\n"
     ]
    },
    {
     "data": {
      "application/vnd.jupyter.widget-view+json": {
       "model_id": "631d592e5c724ee4a17c8c9d618ab5ae",
       "version_major": 2,
       "version_minor": 0
      },
      "text/plain": [
       "  0%|          | 0/340 [00:00<?, ?it/s]"
      ]
     },
     "metadata": {},
     "output_type": "display_data"
    },
    {
     "name": "stdout",
     "output_type": "stream",
     "text": [
      "{'eval_loss': 2.2415904998779297, 'eval_accuracy': 0.5368595650571323, 'eval_runtime': 8.1612, 'eval_samples_per_second': 664.856, 'eval_steps_per_second': 41.661, 'epoch': 8.11}\n",
      "{'loss': 0.2369, 'grad_norm': 17.925912857055664, 'learning_rate': 3.41930729550479e-06, 'epoch': 8.29}\n"
     ]
    },
    {
     "data": {
      "application/vnd.jupyter.widget-view+json": {
       "model_id": "518fed8496e243b7ac52e2d23b74c796",
       "version_major": 2,
       "version_minor": 0
      },
      "text/plain": [
       "  0%|          | 0/340 [00:00<?, ?it/s]"
      ]
     },
     "metadata": {},
     "output_type": "display_data"
    },
    {
     "name": "stdout",
     "output_type": "stream",
     "text": [
      "{'eval_loss': 2.2773585319519043, 'eval_accuracy': 0.5377810541835606, 'eval_runtime': 8.1762, 'eval_samples_per_second': 663.63, 'eval_steps_per_second': 41.584, 'epoch': 8.29}\n",
      "{'loss': 0.2446, 'grad_norm': 17.715852737426758, 'learning_rate': 3.0508474576271192e-06, 'epoch': 8.47}\n"
     ]
    },
    {
     "data": {
      "application/vnd.jupyter.widget-view+json": {
       "model_id": "21f4dee54091430489a03696ece436ab",
       "version_major": 2,
       "version_minor": 0
      },
      "text/plain": [
       "  0%|          | 0/340 [00:00<?, ?it/s]"
      ]
     },
     "metadata": {},
     "output_type": "display_data"
    },
    {
     "name": "stdout",
     "output_type": "stream",
     "text": [
      "{'eval_loss': 2.304311752319336, 'eval_accuracy': 0.5379653520088463, 'eval_runtime': 8.1783, 'eval_samples_per_second': 663.463, 'eval_steps_per_second': 41.573, 'epoch': 8.47}\n",
      "{'loss': 0.2624, 'grad_norm': 27.54595375061035, 'learning_rate': 2.6823876197494476e-06, 'epoch': 8.66}\n"
     ]
    },
    {
     "data": {
      "application/vnd.jupyter.widget-view+json": {
       "model_id": "944a4f42d4304c97a41c2b542e1da08c",
       "version_major": 2,
       "version_minor": 0
      },
      "text/plain": [
       "  0%|          | 0/340 [00:00<?, ?it/s]"
      ]
     },
     "metadata": {},
     "output_type": "display_data"
    },
    {
     "name": "stdout",
     "output_type": "stream",
     "text": [
      "{'eval_loss': 2.312304973602295, 'eval_accuracy': 0.5418356063398452, 'eval_runtime': 8.1595, 'eval_samples_per_second': 664.991, 'eval_steps_per_second': 41.669, 'epoch': 8.66}\n",
      "{'loss': 0.2599, 'grad_norm': 17.46660804748535, 'learning_rate': 2.3139277818717763e-06, 'epoch': 8.84}\n"
     ]
    },
    {
     "data": {
      "application/vnd.jupyter.widget-view+json": {
       "model_id": "3ac2cfc461f54cbdaa02350cfe4fcb81",
       "version_major": 2,
       "version_minor": 0
      },
      "text/plain": [
       "  0%|          | 0/340 [00:00<?, ?it/s]"
      ]
     },
     "metadata": {},
     "output_type": "display_data"
    },
    {
     "name": "stdout",
     "output_type": "stream",
     "text": [
      "{'eval_loss': 2.3318185806274414, 'eval_accuracy': 0.5381496498341319, 'eval_runtime': 8.1631, 'eval_samples_per_second': 664.695, 'eval_steps_per_second': 41.651, 'epoch': 8.84}\n",
      "{'loss': 0.2479, 'grad_norm': 10.198465347290039, 'learning_rate': 1.9454679439941047e-06, 'epoch': 9.03}\n"
     ]
    },
    {
     "data": {
      "application/vnd.jupyter.widget-view+json": {
       "model_id": "272be3a21f3a4d74a6d6ada54dd37aa3",
       "version_major": 2,
       "version_minor": 0
      },
      "text/plain": [
       "  0%|          | 0/340 [00:00<?, ?it/s]"
      ]
     },
     "metadata": {},
     "output_type": "display_data"
    },
    {
     "name": "stdout",
     "output_type": "stream",
     "text": [
      "{'eval_loss': 2.336245536804199, 'eval_accuracy': 0.5352008846295614, 'eval_runtime': 8.2427, 'eval_samples_per_second': 658.282, 'eval_steps_per_second': 41.249, 'epoch': 9.03}\n",
      "{'loss': 0.2064, 'grad_norm': 7.533511638641357, 'learning_rate': 1.5770081061164336e-06, 'epoch': 9.21}\n"
     ]
    },
    {
     "data": {
      "application/vnd.jupyter.widget-view+json": {
       "model_id": "0d838cd29da84651959f674d9bb47fab",
       "version_major": 2,
       "version_minor": 0
      },
      "text/plain": [
       "  0%|          | 0/340 [00:00<?, ?it/s]"
      ]
     },
     "metadata": {},
     "output_type": "display_data"
    },
    {
     "name": "stdout",
     "output_type": "stream",
     "text": [
      "{'eval_loss': 2.3503453731536865, 'eval_accuracy': 0.5383339476594177, 'eval_runtime': 8.1612, 'eval_samples_per_second': 664.854, 'eval_steps_per_second': 41.661, 'epoch': 9.21}\n",
      "{'loss': 0.2163, 'grad_norm': 9.727627754211426, 'learning_rate': 1.2085482682387622e-06, 'epoch': 9.4}\n"
     ]
    },
    {
     "data": {
      "application/vnd.jupyter.widget-view+json": {
       "model_id": "3c62f48a443f46208403172f18080e08",
       "version_major": 2,
       "version_minor": 0
      },
      "text/plain": [
       "  0%|          | 0/340 [00:00<?, ?it/s]"
      ]
     },
     "metadata": {},
     "output_type": "display_data"
    },
    {
     "name": "stdout",
     "output_type": "stream",
     "text": [
      "{'eval_loss': 2.368198871612549, 'eval_accuracy': 0.5357537781054184, 'eval_runtime': 8.2106, 'eval_samples_per_second': 660.85, 'eval_steps_per_second': 41.41, 'epoch': 9.4}\n",
      "{'loss': 0.2246, 'grad_norm': 29.01853370666504, 'learning_rate': 8.400884303610906e-07, 'epoch': 9.58}\n"
     ]
    },
    {
     "data": {
      "application/vnd.jupyter.widget-view+json": {
       "model_id": "e647f4aeb94346f8b603ec57cc436841",
       "version_major": 2,
       "version_minor": 0
      },
      "text/plain": [
       "  0%|          | 0/340 [00:00<?, ?it/s]"
      ]
     },
     "metadata": {},
     "output_type": "display_data"
    },
    {
     "name": "stdout",
     "output_type": "stream",
     "text": [
      "{'eval_loss': 2.3671951293945312, 'eval_accuracy': 0.5379653520088463, 'eval_runtime': 8.1469, 'eval_samples_per_second': 666.024, 'eval_steps_per_second': 41.734, 'epoch': 9.58}\n",
      "{'loss': 0.2192, 'grad_norm': 35.776485443115234, 'learning_rate': 4.7162859248341935e-07, 'epoch': 9.76}\n"
     ]
    },
    {
     "data": {
      "application/vnd.jupyter.widget-view+json": {
       "model_id": "94f961fac81f4c6d904e8e9c09c5e8b2",
       "version_major": 2,
       "version_minor": 0
      },
      "text/plain": [
       "  0%|          | 0/340 [00:00<?, ?it/s]"
      ]
     },
     "metadata": {},
     "output_type": "display_data"
    },
    {
     "name": "stdout",
     "output_type": "stream",
     "text": [
      "{'eval_loss': 2.369152784347534, 'eval_accuracy': 0.535385182454847, 'eval_runtime': 8.1784, 'eval_samples_per_second': 663.455, 'eval_steps_per_second': 41.573, 'epoch': 9.76}\n",
      "{'loss': 0.2017, 'grad_norm': 10.333885192871094, 'learning_rate': 1.0316875460574797e-07, 'epoch': 9.95}\n"
     ]
    },
    {
     "data": {
      "application/vnd.jupyter.widget-view+json": {
       "model_id": "b84a9d2af9824ccf8800c3320642180c",
       "version_major": 2,
       "version_minor": 0
      },
      "text/plain": [
       "  0%|          | 0/340 [00:00<?, ?it/s]"
      ]
     },
     "metadata": {},
     "output_type": "display_data"
    },
    {
     "name": "stdout",
     "output_type": "stream",
     "text": [
      "{'eval_loss': 2.377173900604248, 'eval_accuracy': 0.535938075930704, 'eval_runtime': 8.1414, 'eval_samples_per_second': 666.468, 'eval_steps_per_second': 41.762, 'epoch': 9.95}\n",
      "{'train_runtime': 2373.2054, 'train_samples_per_second': 182.917, 'train_steps_per_second': 11.436, 'train_loss': 0.7364988314376303, 'epoch': 10.0}\n"
     ]
    },
    {
     "data": {
      "application/vnd.jupyter.widget-view+json": {
       "model_id": "274e72c73f3d46aa860fa47de0611f96",
       "version_major": 2,
       "version_minor": 0
      },
      "text/plain": [
       "  0%|          | 0/340 [00:00<?, ?it/s]"
      ]
     },
     "metadata": {},
     "output_type": "display_data"
    }
   ],
   "source": [
    "import os\n",
    "\n",
    "# Enable CUDA launch blocking for debugging\n",
    "os.environ[\"CUDA_LAUNCH_BLOCKING\"] = \"1\"\n",
    "\n",
    "\n",
    "\n",
    "\n",
    "# Training configurations\n",
    "training_args = TrainingArguments(\n",
    "    output_dir=\"./results_real_data\",\n",
    "    evaluation_strategy=\"steps\",\n",
    "    save_strategy=\"epoch\",\n",
    "    logging_dir=\"./logs\",\n",
    "    learning_rate=2e-5,\n",
    "    per_device_train_batch_size=16,\n",
    "    per_device_eval_batch_size=16,\n",
    "    num_train_epochs=10,\n",
    "    weight_decay=0.01,\n",
    "    push_to_hub=False,\n",
    "    logging_first_step=False,   # Make sure logs are being stored\n",
    ")\n",
    "\n",
    "# Train each model\n",
    "results = {}\n",
    "for model_name, model_info in models.items():\n",
    "    print(f\"Training {model_name} ({model_info['size']}) with standard fine-tuning...\")\n",
    "    results[model_name] = {}\n",
    "    trainer = train_model(model_name, model_info[\"model\"], tokenizers[model_name], dataset, training_args, lora=False)\n",
    "    results[model_name]['standard'] = trainer.evaluate()\n",
    "    \n",
    "    \"\"\"print(f\"Training {model_name} ({model_info['size']}) with QLoRA...\")\n",
    "    trainer = train_model(model_name, model_info[\"model\"], tokenizers[model_name], dataset, training_args, lora=True)\n",
    "    results[model_name]['qlora'] = trainer.evaluate()\"\"\""
   ]
  },
  {
   "cell_type": "code",
   "execution_count": 13,
   "metadata": {},
   "outputs": [
    {
     "data": {
      "text/plain": [
       "<transformers.trainer.Trainer at 0x16e411c3c20>"
      ]
     },
     "execution_count": 13,
     "metadata": {},
     "output_type": "execute_result"
    }
   ],
   "source": [
    "trainer"
   ]
  },
  {
   "cell_type": "code",
   "execution_count": 14,
   "metadata": {},
   "outputs": [
    {
     "data": {
      "text/plain": [
       "{'distilbert': {'standard': {'eval_loss': 2.3779425621032715,\n",
       "   'eval_accuracy': 0.5363066715812753,\n",
       "   'eval_runtime': 8.5313,\n",
       "   'eval_samples_per_second': 636.009,\n",
       "   'eval_steps_per_second': 39.853,\n",
       "   'epoch': 10.0}}}"
      ]
     },
     "execution_count": 14,
     "metadata": {},
     "output_type": "execute_result"
    }
   ],
   "source": [
    "results"
   ]
  },
  {
   "cell_type": "code",
   "execution_count": null,
   "metadata": {},
   "outputs": [],
   "source": []
  },
  {
   "cell_type": "code",
   "execution_count": 15,
   "metadata": {},
   "outputs": [
    {
     "name": "stdout",
     "output_type": "stream",
     "text": [
      "Results for distilbert:\n",
      "  Method: standard\n",
      "    eval_loss: 2.3779425621032715\n",
      "    eval_accuracy: 0.5363066715812753\n",
      "    eval_runtime: 8.5313\n",
      "    eval_samples_per_second: 636.009\n",
      "    eval_steps_per_second: 39.853\n",
      "    epoch: 10.0\n"
     ]
    }
   ],
   "source": [
    "# Print the results directly\n",
    "for model_name, metrics in results.items():\n",
    "    print(f\"Results for {model_name}:\")\n",
    "    for method, evaluation in metrics.items():\n",
    "        print(f\"  Method: {method}\")\n",
    "        for metric, value in evaluation.items():\n",
    "            print(f\"    {metric}: {value}\")\n"
   ]
  },
  {
   "cell_type": "code",
   "execution_count": 16,
   "metadata": {},
   "outputs": [
    {
     "name": "stdout",
     "output_type": "stream",
     "text": [
      "        Model    Method  eval_loss  eval_accuracy  eval_runtime  \\\n",
      "0  distilbert  standard   2.377943       0.536307        8.5313   \n",
      "\n",
      "   eval_samples_per_second  eval_steps_per_second  epoch  \n",
      "0                  636.009                 39.853   10.0  \n"
     ]
    }
   ],
   "source": [
    "import pandas as pd\n",
    "\n",
    "# Prepare data for a DataFrame\n",
    "data = []\n",
    "for model_name, metrics in results.items():\n",
    "    for method, evaluation in metrics.items():\n",
    "        row = {\"Model\": model_name, \"Method\": method}\n",
    "        row.update(evaluation)  # Add metrics to the row\n",
    "        data.append(row)\n",
    "\n",
    "# Convert to DataFrame\n",
    "df = pd.DataFrame(data)\n",
    "\n",
    "# Display the table\n",
    "print(df)\n"
   ]
  },
  {
   "cell_type": "code",
   "execution_count": 17,
   "metadata": {},
   "outputs": [
    {
     "data": {
      "image/png": "[encoded data removed]",
      "text/plain": [
       "<Figure size 1000x1200 with 2 Axes>"
      ]
     },
     "metadata": {},
     "output_type": "display_data"
    }
   ],
   "source": [
    "import json\n",
    "import matplotlib.pyplot as plt\n",
    "\n",
    "# Load logs from the file\n",
    "with open(\"./logs/log_history.json\", \"r\") as f:\n",
    "    logs = json.load(f)\n",
    "\n",
    "# Lists to store metrics\n",
    "epochs = []\n",
    "train_loss = []\n",
    "eval_loss = []\n",
    "train_accuracy = []\n",
    "eval_accuracy = []\n",
    "\n",
    "# Extracting relevant metrics from the logs\n",
    "for log in logs:\n",
    "    epoch = log.get(\"epoch\")\n",
    "    if epoch is not None:\n",
    "        epochs.append(epoch)\n",
    "        \n",
    "        # Check if training loss is available\n",
    "        if log.get(\"train_loss\") is not None:\n",
    "            train_loss.append((epoch, log[\"train_loss\"]))\n",
    "        \n",
    "        # Check if validation loss is available\n",
    "        if log.get(\"eval_loss\") is not None:\n",
    "            eval_loss.append((epoch, log[\"eval_loss\"]))\n",
    "        \n",
    "        # Check if training accuracy is available\n",
    "        if log.get(\"train_accuracy\") is not None:\n",
    "            train_accuracy.append((epoch, log[\"train_accuracy\"]))\n",
    "        \n",
    "        # Check if validation accuracy is available\n",
    "        if log.get(\"eval_accuracy\") is not None:\n",
    "            eval_accuracy.append((epoch, log[\"eval_accuracy\"]))\n",
    "\n",
    "# Sort the lists based on epochs (if they aren't already sorted)\n",
    "train_loss.sort(key=lambda x: x[0])\n",
    "eval_loss.sort(key=lambda x: x[0])\n",
    "train_accuracy.sort(key=lambda x: x[0])\n",
    "eval_accuracy.sort(key=lambda x: x[0])\n",
    "\n",
    "# Unpack the sorted values\n",
    "train_loss_epochs, train_loss_values = zip(*train_loss) if train_loss else ([], [])\n",
    "eval_loss_epochs, eval_loss_values = zip(*eval_loss) if eval_loss else ([], [])\n",
    "train_accuracy_epochs, train_accuracy_values = zip(*train_accuracy) if train_accuracy else ([], [])\n",
    "eval_accuracy_epochs, eval_accuracy_values = zip(*eval_accuracy) if eval_accuracy else ([], [])\n",
    "\n",
    "# Plotting Training and Evaluation Loss and Accuracy\n",
    "fig, axes = plt.subplots(2, 1, figsize=(10, 12))\n",
    "\n",
    "# Training vs Validation Loss\n",
    "axes[0].plot(train_loss_epochs, train_loss_values, label=\"Training Loss\", color=\"blue\", marker=\"o\")\n",
    "axes[0].plot(eval_loss_epochs, eval_loss_values, label=\"Validation Loss\", color=\"red\", marker=\"x\")\n",
    "axes[0].set_title(\"Training and Validation Loss\")\n",
    "axes[0].set_xlabel(\"Epoch\")\n",
    "axes[0].set_ylabel(\"Loss\")\n",
    "axes[0].legend()\n",
    "\n",
    "# Training vs Validation Accuracy\n",
    "axes[1].plot(train_accuracy_epochs, train_accuracy_values, label=\"Training Accuracy\", color=\"green\", marker=\"o\")\n",
    "axes[1].plot(eval_accuracy_epochs, eval_accuracy_values, label=\"Validation Accuracy\", color=\"purple\", marker=\"x\")\n",
    "axes[1].set_title(\"Training and Validation Accuracy\")\n",
    "axes[1].set_xlabel(\"Epoch\")\n",
    "axes[1].set_ylabel(\"Accuracy\")\n",
    "axes[1].legend()\n",
    "\n",
    "# Show the plots\n",
    "plt.tight_layout()\n",
    "plt.show()\n"
   ]
  },
  {
   "cell_type": "code",
   "execution_count": 18,
   "metadata": {},
   "outputs": [
    {
     "data": {
      "image/png": "[encoded data removed]",
      "text/plain": [
       "<Figure size 1000x1000 with 2 Axes>"
      ]
     },
     "metadata": {},
     "output_type": "display_data"
    }
   ],
   "source": [
    "import json\n",
    "import matplotlib.pyplot as plt\n",
    "\n",
    "# Load logs from file\n",
    "logs = []\n",
    "with open(\"./logs/log_history.json\", \"r\") as f:  # Adjust path as needed\n",
    "    logs = json.load(f)\n",
    "\n",
    "# Initialize lists to store data for plotting\n",
    "train_epochs = []\n",
    "train_loss = []\n",
    "eval_epochs = []\n",
    "eval_accuracy = []\n",
    "\n",
    "# Extract data for plotting\n",
    "for log in logs:\n",
    "    # Extract training loss and epochs\n",
    "    if \"loss\" in log:\n",
    "        train_epochs.append(log[\"epoch\"])\n",
    "        train_loss.append(log[\"loss\"])\n",
    "    \n",
    "    # Extract evaluation accuracy and epochs\n",
    "    if \"eval_accuracy\" in log:\n",
    "        eval_epochs.append(log[\"epoch\"])\n",
    "        eval_accuracy.append(log[\"eval_accuracy\"])\n",
    "\n",
    "# Create a figure with two subplots\n",
    "fig, (ax1, ax2) = plt.subplots(2, 1, figsize=(10, 10))\n",
    "\n",
    "# Plot Training Loss over Time\n",
    "ax1.plot(train_epochs, train_loss, label=\"Training Loss\", color='blue', marker='o')\n",
    "ax1.set_xlabel(\"Epoch\")\n",
    "ax1.set_ylabel(\"Loss\")\n",
    "ax1.set_title(\"Training Loss Over Time\")\n",
    "ax1.legend()\n",
    "ax1.grid(True)\n",
    "\n",
    "# Plot Evaluation Accuracy over Time\n",
    "ax2.plot(eval_epochs, eval_accuracy, label=\"Evaluation Accuracy\", color='red', marker='x')\n",
    "ax2.set_xlabel(\"Epoch\")\n",
    "ax2.set_ylabel(\"Accuracy\")\n",
    "ax2.set_title(\"Evaluation Accuracy Over Time\")\n",
    "ax2.legend()\n",
    "ax2.grid(True)\n",
    "\n",
    "# Adjust layout for better spacing\n",
    "plt.tight_layout()\n",
    "\n",
    "# Show the plots\n",
    "plt.show()\n"
   ]
  },
  {
   "cell_type": "code",
   "execution_count": 19,
   "metadata": {},
   "outputs": [
    {
     "data": {
      "image/png": "[encoded data removed]",
      "text/plain": [
       "<Figure size 1000x1500 with 3 Axes>"
      ]
     },
     "metadata": {},
     "output_type": "display_data"
    }
   ],
   "source": [
    "import json\n",
    "import matplotlib.pyplot as plt\n",
    "\n",
    "# Load logs from file\n",
    "logs = []\n",
    "with open(\"./logs/log_history.json\", \"r\") as f:  # Adjust path as needed\n",
    "    logs = json.load(f)\n",
    "\n",
    "# Initialize lists to store data for plotting\n",
    "train_epochs = []\n",
    "train_loss = []\n",
    "train_accuracy = []\n",
    "eval_epochs = []\n",
    "eval_accuracy = []\n",
    "\n",
    "# Extract data for plotting\n",
    "for log in logs:\n",
    "    # Extract training loss, accuracy, and epochs\n",
    "    if \"loss\" in log:\n",
    "        train_epochs.append(log[\"epoch\"])\n",
    "        train_loss.append(log[\"loss\"])\n",
    "    if \"accuracy\" in log:\n",
    "        train_accuracy.append(log[\"accuracy\"])\n",
    "    \n",
    "    # Extract evaluation accuracy and epochs\n",
    "    if \"eval_accuracy\" in log:\n",
    "        eval_epochs.append(log[\"epoch\"])\n",
    "        eval_accuracy.append(log[\"eval_accuracy\"])\n",
    "\n",
    "# Create a figure with multiple subplots\n",
    "fig, axes = plt.subplots(3, 1, figsize=(10, 15))\n",
    "\n",
    "# Plot Training Loss over Time\n",
    "axes[0].plot(train_epochs, train_loss, label=\"Training Loss\", color='blue', marker='o')\n",
    "axes[0].set_xlabel(\"Epoch\")\n",
    "axes[0].set_ylabel(\"Loss\")\n",
    "axes[0].set_title(\"Training Loss Over Time\")\n",
    "axes[0].legend()\n",
    "axes[0].grid(True)\n",
    "\n",
    "# Plot Training Accuracy over Time\n",
    "axes[1].plot(train_epochs, train_accuracy, label=\"Training Accuracy\", color='green', marker='x')\n",
    "axes[1].set_xlabel(\"Epoch\")\n",
    "axes[1].set_ylabel(\"Accuracy\")\n",
    "axes[1].set_title(\"Training Accuracy Over Time\")\n",
    "axes[1].legend()\n",
    "axes[1].grid(True)\n",
    "\n",
    "# Plot Evaluation Accuracy over Time\n",
    "axes[2].plot(eval_epochs, eval_accuracy, label=\"Evaluation Accuracy\", color='red', marker='x')\n",
    "axes[2].set_xlabel(\"Epoch\")\n",
    "axes[2].set_ylabel(\"Accuracy\")\n",
    "axes[2].set_title(\"Evaluation Accuracy Over Time\")\n",
    "axes[2].legend()\n",
    "axes[2].grid(True)\n",
    "\n",
    "# Adjust layout for better spacing\n",
    "plt.tight_layout()\n",
    "\n",
    "# Show the plots\n",
    "plt.show()\n"
   ]
  },
  {
   "cell_type": "code",
   "execution_count": 20,
   "metadata": {},
   "outputs": [
    {
     "name": "stdout",
     "output_type": "stream",
     "text": [
      "Plotting results...\n"
     ]
    },
    {
     "ename": "KeyError",
     "evalue": "'accuracy'",
     "output_type": "error",
     "traceback": [
      "\u001b[1;31m---------------------------------------------------------------------------\u001b[0m",
      "\u001b[1;31mKeyError\u001b[0m                                  Traceback (most recent call last)",
      "Cell \u001b[1;32mIn[20], line 16\u001b[0m\n\u001b[0;32m     13\u001b[0m     plt\u001b[38;5;241m.\u001b[39mgrid()\n\u001b[0;32m     14\u001b[0m     plt\u001b[38;5;241m.\u001b[39mshow()\n\u001b[1;32m---> 16\u001b[0m \u001b[43mplot_results\u001b[49m\u001b[43m(\u001b[49m\u001b[43mresults\u001b[49m\u001b[43m)\u001b[49m\n\u001b[0;32m     18\u001b[0m \u001b[38;5;66;03m# Confusion matrix (example for GPT-2 standard fine-tuning)\u001b[39;00m\n\u001b[0;32m     19\u001b[0m \u001b[38;5;28mprint\u001b[39m(\u001b[38;5;124m\"\u001b[39m\u001b[38;5;124mComputing confusion matrix for GPT-2 (standard fine-tuning)...\u001b[39m\u001b[38;5;124m\"\u001b[39m)\n",
      "Cell \u001b[1;32mIn[20], line 6\u001b[0m, in \u001b[0;36mplot_results\u001b[1;34m(results)\u001b[0m\n\u001b[0;32m      4\u001b[0m plt\u001b[38;5;241m.\u001b[39mfigure(figsize\u001b[38;5;241m=\u001b[39m(\u001b[38;5;241m10\u001b[39m, \u001b[38;5;241m6\u001b[39m))\n\u001b[0;32m      5\u001b[0m \u001b[38;5;28;01mfor\u001b[39;00m model_name, res \u001b[38;5;129;01min\u001b[39;00m results\u001b[38;5;241m.\u001b[39mitems():\n\u001b[1;32m----> 6\u001b[0m     accuracies \u001b[38;5;241m=\u001b[39m [\u001b[43mres\u001b[49m\u001b[43m[\u001b[49m\u001b[38;5;124;43m'\u001b[39;49m\u001b[38;5;124;43mstandard\u001b[39;49m\u001b[38;5;124;43m'\u001b[39;49m\u001b[43m]\u001b[49m\u001b[43m[\u001b[49m\u001b[38;5;124;43m'\u001b[39;49m\u001b[38;5;124;43maccuracy\u001b[39;49m\u001b[38;5;124;43m'\u001b[39;49m\u001b[43m]\u001b[49m, res[\u001b[38;5;124m'\u001b[39m\u001b[38;5;124mqlora\u001b[39m\u001b[38;5;124m'\u001b[39m][\u001b[38;5;124m'\u001b[39m\u001b[38;5;124maccuracy\u001b[39m\u001b[38;5;124m'\u001b[39m]]\n\u001b[0;32m      7\u001b[0m     plt\u001b[38;5;241m.\u001b[39mplot([\u001b[38;5;124m'\u001b[39m\u001b[38;5;124mStandard\u001b[39m\u001b[38;5;124m'\u001b[39m, \u001b[38;5;124m'\u001b[39m\u001b[38;5;124mQLoRA\u001b[39m\u001b[38;5;124m'\u001b[39m], accuracies, label\u001b[38;5;241m=\u001b[39mmodel_name)\n\u001b[0;32m      9\u001b[0m plt\u001b[38;5;241m.\u001b[39mtitle(\u001b[38;5;124m'\u001b[39m\u001b[38;5;124mAccuracy Comparison\u001b[39m\u001b[38;5;124m'\u001b[39m)\n",
      "\u001b[1;31mKeyError\u001b[0m: 'accuracy'"
     ]
    },
    {
     "data": {
      "text/plain": [
       "<Figure size 1000x600 with 0 Axes>"
      ]
     },
     "metadata": {},
     "output_type": "display_data"
    }
   ],
   "source": [
    "\n",
    "\n",
    "\n",
    "\n",
    "# Plot results\n",
    "print(\"Plotting results...\")\n",
    "def plot_results(results):\n",
    "    plt.figure(figsize=(10, 6))\n",
    "    for model_name, res in results.items():\n",
    "        accuracies = [res['standard']['accuracy'], res['qlora']['accuracy']]\n",
    "        plt.plot(['Standard', 'QLoRA'], accuracies, label=model_name)\n",
    "    \n",
    "    plt.title('Accuracy Comparison')\n",
    "    plt.ylabel('Accuracy')\n",
    "    plt.xlabel('Fine-tuning Method')\n",
    "    plt.legend()\n",
    "    plt.grid()\n",
    "    plt.show()\n",
    "\n",
    "plot_results(results)\n",
    "\n",
    "# Confusion matrix (example for GPT-2 standard fine-tuning)\n",
    "print(\"Computing confusion matrix for GPT-2 (standard fine-tuning)...\")\n",
    "y_true = dataset['validation']['labels']\n",
    "y_pred = trainer.predict(dataset['validation']).predictions\n",
    "y_pred = np.argmax(y_pred, axis=-1)\n",
    "\n",
    "cm = confusion_matrix(y_true, y_pred)\n",
    "sns.heatmap(cm, annot=True, fmt=\"d\", cmap=\"Blues\")\n",
    "plt.title(\"Confusion Matrix for GPT-2 Standard Fine-tuning\")\n",
    "plt.ylabel(\"True Labels\")\n",
    "plt.xlabel(\"Predicted Labels\")\n",
    "plt.show()\n"
   ]
  },
  {
   "cell_type": "code",
   "execution_count": null,
   "metadata": {},
   "outputs": [],
   "source": []
  }
 ],
 "metadata": {
  "kernelspec": {
   "display_name": "llm",
   "language": "python",
   "name": "python3"
  },
  "language_info": {
   "codemirror_mode": {
    "name": "ipython",
    "version": 3
   },
   "file_extension": ".py",
   "mimetype": "text/x-python",
   "name": "python",
   "nbconvert_exporter": "python",
   "pygments_lexer": "ipython3",
   "version": "3.12.7"
  }
 },
 "nbformat": 4,
 "nbformat_minor": 2
}
