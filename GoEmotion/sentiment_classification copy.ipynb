{
 "cells": [
  {
   "cell_type": "code",
   "execution_count": 1,
   "metadata": {},
   "outputs": [],
   "source": [
    "# File: colab_goemotions_finetune.py\n",
    "\n",
    "\n",
    "import kagglehub\n",
    "import os\n",
    "import json\n",
    "import torch\n",
    "from datasets import load_dataset, Dataset, DatasetDict\n",
    "from transformers import (AutoModelForCausalLM, AutoTokenizer, AutoModelForSequenceClassification, \n",
    "                          Trainer, TrainingArguments)\n",
    "from peft import get_peft_config, LoraConfig, PeftModel\n",
    "import evaluate\n",
    "import numpy as np\n",
    "import matplotlib.pyplot as plt\n",
    "import seaborn as sns\n",
    "from sklearn.metrics import classification_report, confusion_matrix\n"
   ]
  },
  {
   "cell_type": "code",
   "execution_count": 2,
   "metadata": {},
   "outputs": [],
   "source": [
    "from datasets import load_dataset\n",
    "\n",
    "ds = load_dataset(\"google-research-datasets/go_emotions\", \"simplified\")"
   ]
  },
  {
   "cell_type": "code",
   "execution_count": null,
   "metadata": {},
   "outputs": [],
   "source": [
    "# Function to convert numeric labels to text\n",
    "def convert_labels_to_one_int(example):\n",
    "    #text_labels = [label_mapping[label] for label in example[\"labels\"]]\n",
    "    example[\"labels\"] = example[\"labels\"][0]\n",
    "    return example\n",
    "\n",
    "# Assuming `dataset` is your DatasetDict\n",
    "dataset = DatasetDict({\n",
    "    \"train\": ds[\"train\"].map(convert_labels_to_one_int),\n",
    "    \"validation\": ds[\"validation\"].map(convert_labels_to_one_int),\n",
    "    \"test\": ds[\"test\"].map(convert_labels_to_one_int),\n",
    "})\n",
    "\n",
    "\n",
    "\n",
    "\"\"\"# Assuming you have already loaded the DatasetDict as `dataset`\n",
    "dataset = DatasetDict({\n",
    "    \"train\": dataset[\"test\"],         # Swap test with train\n",
    "    \"validation\": dataset[\"validation\"],  # Keep validation as is\n",
    "    \"test\": dataset[\"train\"]          # Swap train with test\n",
    "})\"\"\""
   ]
  },
  {
   "cell_type": "code",
   "execution_count": 4,
   "metadata": {},
   "outputs": [
    {
     "data": {
      "text/plain": [
       "[25, 0, 13, 15, 27, 15, 15, 15, 24, 25]"
      ]
     },
     "execution_count": 4,
     "metadata": {},
     "output_type": "execute_result"
    }
   ],
   "source": [
    "dataset[\"train\"][\"labels\"][0:10]"
   ]
  },
  {
   "cell_type": "code",
   "execution_count": 5,
   "metadata": {},
   "outputs": [],
   "source": [
    "def preprocess_labels(example):\n",
    "    example['labels'] = max(0, min(example['labels'], 27))  # Ensure labels are within range\n",
    "    return example\n",
    "\n",
    "dataset = dataset.map(preprocess_labels)"
   ]
  },
  {
   "cell_type": "code",
   "execution_count": 6,
   "metadata": {},
   "outputs": [
    {
     "name": "stderr",
     "output_type": "stream",
     "text": [
      "Some weights of DistilBertForSequenceClassification were not initialized from the model checkpoint at distilbert-base-uncased and are newly initialized: ['classifier.bias', 'classifier.weight', 'pre_classifier.bias', 'pre_classifier.weight']\n",
      "You should probably TRAIN this model on a down-stream task to be able to use it for predictions and inference.\n"
     ]
    }
   ],
   "source": [
    "from sklearn.metrics import precision_recall_fscore_support, accuracy_score\n",
    "\n",
    "# Prepare the dataset for training\n",
    "\"\"\"def preprocess_function(example, tokenizer, max_length=128):\n",
    "    return tokenizer(example['text'], truncation=True, padding='max_length', max_length=max_length)\"\"\"\n",
    "def preprocess_function(example, tokenizer, max_length=128):\n",
    "    inputs = tokenizer(example['text'], truncation=True, padding='max_length', max_length=max_length)\n",
    "    inputs['labels'] = torch.tensor(example['labels']).long()  # Convert to tensor\n",
    "    return inputs\n",
    "\n",
    "\n",
    "tokenizers = {\n",
    "    \"gpt2\": AutoTokenizer.from_pretrained(\"gpt2\"),\n",
    "    \"distilbert\": AutoTokenizer.from_pretrained(\"distilbert-base-uncased\"),\n",
    "    \"roberta\": AutoTokenizer.from_pretrained(\"roberta-base\"),\n",
    "}\n",
    "\n",
    "# Update model configuration for multi-label\n",
    "from transformers import AutoConfig\n",
    "# Models for fine-tuning\n",
    "models = {\n",
    "    \"distilbert\": {\n",
    "        \"path\": \"distilbert-base-uncased\",\n",
    "        \"model\": AutoModelForSequenceClassification.from_pretrained(\"distilbert-base-uncased\", num_labels=28, cache_dir=\"./models\"),\n",
    "        \"size\": \"750MB\"\n",
    "    }\n",
    "}\n",
    "\n",
    "\n"
   ]
  },
  {
   "cell_type": "code",
   "execution_count": 7,
   "metadata": {},
   "outputs": [
    {
     "data": {
      "text/plain": [
       "'\\n# Prepare the dataset for training\\ndef preprocess_function(example, tokenizer, max_length=128):\\n    return tokenizer(example[\\'text\\'], truncation=True, padding=\\'max_length\\', max_length=max_length)\\n\\n# Prepare the tokenizers with padding token\\ntokenizers = {\\n    \"gpt2\": AutoTokenizer.from_pretrained(\"gpt2\"),\\n    \"distilbert\": AutoTokenizer.from_pretrained(\"distilbert-base-uncased\"),\\n    \"roberta\": AutoTokenizer.from_pretrained(\"roberta-base\"),\\n}\\n\\n# Ensure each tokenizer has a padding token\\nfor model_name, tokenizer in tokenizers.items():\\n    if tokenizer.pad_token is None:\\n        if tokenizer.eos_token:\\n            tokenizer.pad_token = tokenizer.eos_token\\n        else:\\n            tokenizer.add_special_tokens({\\'pad_token\\': \\'[PAD]\\'})\\n\\n\\n# Models for fine-tuning\\nmodels = {\\n    \"gpt2\": {\\n        \"path\": \"gpt2\",\\n        \"model\": AutoModelForCausalLM.from_pretrained(\"gpt2\", cache_dir=\"./models\"),\\n        \"size\": \"500MB\"\\n    },\\n    \"distilbert\": {\\n        \"path\": \"distilbert-base-uncased\",\\n        \"model\": AutoModelForSequenceClassification.from_pretrained(\"distilbert-base-uncased\", num_labels=27, cache_dir=\"./models\"),\\n        \"size\": \"750MB\"\\n    },\\n    \"roberta\": {\\n        \"path\": \"roberta-base\",\\n        \"model\": AutoModelForSequenceClassification.from_pretrained(\"roberta-base\", num_labels=27, cache_dir=\"./models\"),\\n        \"size\": \"1GB\"\\n    }\\n}\\n'"
      ]
     },
     "execution_count": 7,
     "metadata": {},
     "output_type": "execute_result"
    }
   ],
   "source": [
    "\"\"\"\n",
    "# Prepare the dataset for training\n",
    "def preprocess_function(example, tokenizer, max_length=128):\n",
    "    return tokenizer(example['text'], truncation=True, padding='max_length', max_length=max_length)\n",
    "\n",
    "# Prepare the tokenizers with padding token\n",
    "tokenizers = {\n",
    "    \"gpt2\": AutoTokenizer.from_pretrained(\"gpt2\"),\n",
    "    \"distilbert\": AutoTokenizer.from_pretrained(\"distilbert-base-uncased\"),\n",
    "    \"roberta\": AutoTokenizer.from_pretrained(\"roberta-base\"),\n",
    "}\n",
    "\n",
    "# Ensure each tokenizer has a padding token\n",
    "for model_name, tokenizer in tokenizers.items():\n",
    "    if tokenizer.pad_token is None:\n",
    "        if tokenizer.eos_token:\n",
    "            tokenizer.pad_token = tokenizer.eos_token\n",
    "        else:\n",
    "            tokenizer.add_special_tokens({'pad_token': '[PAD]'})\n",
    "\n",
    "\n",
    "# Models for fine-tuning\n",
    "models = {\n",
    "    \"gpt2\": {\n",
    "        \"path\": \"gpt2\",\n",
    "        \"model\": AutoModelForCausalLM.from_pretrained(\"gpt2\", cache_dir=\"./models\"),\n",
    "        \"size\": \"500MB\"\n",
    "    },\n",
    "    \"distilbert\": {\n",
    "        \"path\": \"distilbert-base-uncased\",\n",
    "        \"model\": AutoModelForSequenceClassification.from_pretrained(\"distilbert-base-uncased\", num_labels=27, cache_dir=\"./models\"),\n",
    "        \"size\": \"750MB\"\n",
    "    },\n",
    "    \"roberta\": {\n",
    "        \"path\": \"roberta-base\",\n",
    "        \"model\": AutoModelForSequenceClassification.from_pretrained(\"roberta-base\", num_labels=27, cache_dir=\"./models\"),\n",
    "        \"size\": \"1GB\"\n",
    "    }\n",
    "}\n",
    "\"\"\""
   ]
  },
  {
   "cell_type": "code",
   "execution_count": null,
   "metadata": {},
   "outputs": [
    {
     "data": {
      "text/plain": [
       "'def compute_metrics(pred):\\n    logits, labels = pred\\n    predictions = np.argmax(logits, axis=-1)\\n    acc = accuracy_metric.compute(predictions=predictions, references=labels)\\n    return {\"accuracy\": acc}'"
      ]
     },
     "execution_count": 8,
     "metadata": {},
     "output_type": "execute_result"
    }
   ],
   "source": [
    "def train_model(model_name, model, tokenizer, dataset, training_args, lora=False):\n",
    "    if lora:\n",
    "        print(f\"Applying QLoRA to {model_name}...\")\n",
    "        # Dynamically set target modules based on the model type\n",
    "        if model_name == \"distilbert\":\n",
    "            target_modules = [\"ffn.lin1\", \"ffn.lin2\"]\n",
    "        elif model_name == \"roberta\":\n",
    "            target_modules = [\"intermediate.dense\", \"output.dense\"]\n",
    "        elif model_name == \"gpt2\":\n",
    "            target_modules = [\"c_fc\", \"c_proj\"]\n",
    "        else:\n",
    "            raise ValueError(f\"LoRA target modules not defined for {model_name}\")\n",
    "\n",
    "        config = LoraConfig(\n",
    "            r=16, lora_alpha=32, lora_dropout=0.1, target_modules=target_modules\n",
    "        )\n",
    "        model = PeftModel(model, config)\n",
    "\n",
    "        # Freeze base model parameters\n",
    "        for param in model.base_model.parameters():\n",
    "            param.requires_grad = False\n",
    "        print(\"Base model parameters frozen.\")\n",
    "\n",
    "        # Ensure LoRA parameters are trainable\n",
    "        for name, param in model.named_parameters():\n",
    "            if 'lora' in name:  # LoRA layers will have 'lora' in their names\n",
    "                param.requires_grad = True\n",
    "        print(\"LoRA parameters are trainable.\")\n",
    "\n",
    "    dataset = dataset.map(lambda x: preprocess_function(x, tokenizer), batched=True)\n",
    "    dataset = dataset.remove_columns(['id'])  # Adjust as per GoEmotions structure\n",
    "    from transformers import TrainerCallback\n",
    "    import json\n",
    "    from sklearn.metrics import accuracy_score\n",
    "    import numpy as np\n",
    "\n",
    "    # Define the compute_metrics function\n",
    "    def compute_metrics(pred):\n",
    "        logits, labels = pred\n",
    "        predictions = np.argmax(logits, axis=-1)\n",
    "\n",
    "        # Calculate accuracy\n",
    "        accuracy = accuracy_score(labels, predictions)\n",
    "\n",
    "        # Calculate the loss (use the loss function used during training)\n",
    "        # Here we're using CrossEntropyLoss as an example\n",
    "        loss_fn = torch.nn.CrossEntropyLoss()\n",
    "        loss = loss_fn(torch.tensor(logits), torch.tensor(labels)).item()  # Calculate loss\n",
    "\n",
    "        return {\"accuracy\": accuracy, \"loss\": loss}\n",
    "\n",
    "\n",
    "    class LogMetricsCallback(TrainerCallback):\n",
    "        def __init__(self, log_dir=\"./logs/log_history_real_train_data.json\"):\n",
    "            self.log_dir = log_dir\n",
    "            self.logs = []\n",
    "\n",
    "        def on_log(self, args, state, control, logs=None, **kwargs):\n",
    "            if logs:\n",
    "                log_entry = {\n",
    "                    \"epoch\": logs.get(\"epoch\"),\n",
    "                    \"train_loss\": logs.get(\"loss\"),\n",
    "                    \"learning_rate\": logs.get(\"learning_rate\"),\n",
    "                    \"grad_norm\": logs.get(\"grad_norm\", None),  # Gradient norm (if available)\n",
    "                    \"eval_loss\": logs.get(\"eval_loss\", None),  # Eval loss\n",
    "                    \"eval_accuracy\": logs.get(\"eval_accuracy\", None),  # Eval accuracy\n",
    "                    \"optimizer_state\": logs.get(\"optimizer_state\", None)  # Optimizer state (if available)\n",
    "                }\n",
    "                self.logs.append(log_entry)\n",
    "                \n",
    "                # Save logs to a file after each logging step\n",
    "                with open(self.log_dir, \"w\") as f:\n",
    "                    json.dump(self.logs, f, indent=4)\n",
    "\n",
    "\n",
    "    trainer = Trainer(\n",
    "        model=model,\n",
    "        args=training_args,\n",
    "        train_dataset=dataset['train'],\n",
    "        eval_dataset=dataset['validation'],\n",
    "        tokenizer=tokenizer,\n",
    "        compute_metrics=compute_metrics,\n",
    "        callbacks=[LogMetricsCallback(log_dir=\"./logs/log_history.json\")]  # Custom callback\n",
    "    )\n",
    "    trainer.train()\n",
    "    return trainer\n",
    "\n",
    "\n",
    "# Metrics computation\n",
    "accuracy_metric = evaluate.load(\"accuracy\")\n",
    "\n",
    "\"\"\"def compute_metrics(pred):\n",
    "    logits, labels = pred\n",
    "    predictions = np.argmax(logits, axis=-1)\n",
    "    acc = accuracy_metric.compute(predictions=predictions, references=labels)\n",
    "    return {\"accuracy\": acc}\"\"\"\n",
    "\n"
   ]
  },
  {
   "cell_type": "code",
   "execution_count": null,
   "metadata": {},
   "outputs": [],
   "source": []
  },
  {
   "cell_type": "code",
   "execution_count": 9,
   "metadata": {},
   "outputs": [
    {
     "data": {
      "text/plain": [
       "DatasetDict({\n",
       "    train: Dataset({\n",
       "        features: ['text', 'labels', 'id'],\n",
       "        num_rows: 5427\n",
       "    })\n",
       "    validation: Dataset({\n",
       "        features: ['text', 'labels', 'id'],\n",
       "        num_rows: 5426\n",
       "    })\n",
       "    test: Dataset({\n",
       "        features: ['text', 'labels', 'id'],\n",
       "        num_rows: 43410\n",
       "    })\n",
       "})"
      ]
     },
     "execution_count": 9,
     "metadata": {},
     "output_type": "execute_result"
    }
   ],
   "source": [
    "dataset"
   ]
  },
  {
   "cell_type": "code",
   "execution_count": 10,
   "metadata": {},
   "outputs": [
    {
     "name": "stderr",
     "output_type": "stream",
     "text": [
      "Some weights of DistilBertForSequenceClassification were not initialized from the model checkpoint at distilbert-base-uncased and are newly initialized: ['classifier.bias', 'classifier.weight', 'pre_classifier.bias', 'pre_classifier.weight']\n",
      "You should probably TRAIN this model on a down-stream task to be able to use it for predictions and inference.\n"
     ]
    }
   ],
   "source": [
    "from sklearn.metrics import precision_recall_fscore_support, accuracy_score\n",
    "\n",
    "# Prepare the dataset for training\n",
    "\"\"\"def preprocess_function(example, tokenizer, max_length=128):\n",
    "    return tokenizer(example['text'], truncation=True, padding='max_length', max_length=max_length)\"\"\"\n",
    "def preprocess_function(example, tokenizer, max_length=128):\n",
    "    inputs = tokenizer(example['text'], truncation=True, padding='max_length', max_length=max_length)\n",
    "    inputs['labels'] = torch.tensor(example['labels']).long()  # Convert to tensor\n",
    "    return inputs\n",
    "\n",
    "\n",
    "tokenizers = {\n",
    "    \"gpt2\": AutoTokenizer.from_pretrained(\"gpt2\"),\n",
    "    \"distilbert\": AutoTokenizer.from_pretrained(\"distilbert-base-uncased\"),\n",
    "    \"roberta\": AutoTokenizer.from_pretrained(\"roberta-base\"),\n",
    "}\n",
    "\n",
    "# Update model configuration for multi-label\n",
    "from transformers import AutoConfig\n",
    "# Models for fine-tuning\n",
    "models = {\n",
    "    \"distilbert\": {\n",
    "        \"path\": \"distilbert-base-uncased\",\n",
    "        \"model\": AutoModelForSequenceClassification.from_pretrained(\"distilbert-base-uncased\", num_labels=28, cache_dir=\"./models\"),\n",
    "        \"size\": \"750MB\"\n",
    "    }\n",
    "}\n",
    "\n",
    "\n"
   ]
  },
  {
   "cell_type": "code",
   "execution_count": null,
   "metadata": {},
   "outputs": [],
   "source": []
  },
  {
   "cell_type": "code",
   "execution_count": null,
   "metadata": {},
   "outputs": [],
   "source": []
  },
  {
   "cell_type": "code",
   "execution_count": null,
   "metadata": {},
   "outputs": [
    {
     "name": "stderr",
     "output_type": "stream",
     "text": [
      "c:\\Users\\kpreube\\miniconda3\\envs\\llm\\Lib\\site-packages\\transformers\\training_args.py:1545: FutureWarning: `evaluation_strategy` is deprecated and will be removed in version 4.46 of 🤗 Transformers. Use `eval_strategy` instead\n",
      "  warnings.warn(\n"
     ]
    },
    {
     "name": "stdout",
     "output_type": "stream",
     "text": [
      "Training distilbert (750MB) with standard fine-tuning...\n"
     ]
    },
    {
     "data": {
      "application/vnd.jupyter.widget-view+json": {
       "model_id": "b42931dd999144088dc2095bcd3d7b8a",
       "version_major": 2,
       "version_minor": 0
      },
      "text/plain": [
       "  0%|          | 0/68000 [00:00<?, ?it/s]"
      ]
     },
     "metadata": {},
     "output_type": "display_data"
    },
    {
     "data": {
      "application/vnd.jupyter.widget-view+json": {
       "model_id": "791fadfdf77c4616a411c8ce998d43ce",
       "version_major": 2,
       "version_minor": 0
      },
      "text/plain": [
       "  0%|          | 0/340 [00:00<?, ?it/s]"
      ]
     },
     "metadata": {},
     "output_type": "display_data"
    },
    {
     "name": "stdout",
     "output_type": "stream",
     "text": [
      "{'eval_loss': 2.0258400440216064, 'eval_accuracy': 0.4719867305565794, 'eval_runtime': 5.5214, 'eval_samples_per_second': 982.723, 'eval_steps_per_second': 61.579, 'epoch': 1.0}\n",
      "{'loss': 2.2568, 'grad_norm': 8.354150772094727, 'learning_rate': 1.985294117647059e-05, 'epoch': 1.47}\n"
     ]
    },
    {
     "data": {
      "application/vnd.jupyter.widget-view+json": {
       "model_id": "d3ed726ea8ab48739fab1d48d29163a9",
       "version_major": 2,
       "version_minor": 0
      },
      "text/plain": [
       "  0%|          | 0/340 [00:00<?, ?it/s]"
      ]
     },
     "metadata": {},
     "output_type": "display_data"
    },
    {
     "name": "stdout",
     "output_type": "stream",
     "text": [
      "{'eval_loss': 1.707974910736084, 'eval_accuracy': 0.525617397714707, 'eval_runtime': 5.5466, 'eval_samples_per_second': 978.262, 'eval_steps_per_second': 61.299, 'epoch': 2.0}\n",
      "{'loss': 1.5066, 'grad_norm': 15.943758964538574, 'learning_rate': 1.9705882352941178e-05, 'epoch': 2.94}\n"
     ]
    },
    {
     "data": {
      "application/vnd.jupyter.widget-view+json": {
       "model_id": "f9dd67976356416285d5a9bc8a830aac",
       "version_major": 2,
       "version_minor": 0
      },
      "text/plain": [
       "  0%|          | 0/340 [00:00<?, ?it/s]"
      ]
     },
     "metadata": {},
     "output_type": "display_data"
    },
    {
     "name": "stdout",
     "output_type": "stream",
     "text": [
      "{'eval_loss': 1.6924551725387573, 'eval_accuracy': 0.53483228897899, 'eval_runtime': 5.5795, 'eval_samples_per_second': 972.494, 'eval_steps_per_second': 60.938, 'epoch': 3.0}\n"
     ]
    },
    {
     "data": {
      "application/vnd.jupyter.widget-view+json": {
       "model_id": "8f1ce4bc4e054205b9f8e39267899789",
       "version_major": 2,
       "version_minor": 0
      },
      "text/plain": [
       "  0%|          | 0/340 [00:00<?, ?it/s]"
      ]
     },
     "metadata": {},
     "output_type": "display_data"
    },
    {
     "name": "stdout",
     "output_type": "stream",
     "text": [
      "{'eval_loss': 1.739866852760315, 'eval_accuracy': 0.5379653520088463, 'eval_runtime': 5.6227, 'eval_samples_per_second': 965.015, 'eval_steps_per_second': 60.469, 'epoch': 4.0}\n",
      "{'loss': 1.0082, 'grad_norm': 7.687646865844727, 'learning_rate': 1.9558823529411766e-05, 'epoch': 4.41}\n"
     ]
    },
    {
     "data": {
      "application/vnd.jupyter.widget-view+json": {
       "model_id": "ee672930c0cf4419a8f57f7f5a5da7b2",
       "version_major": 2,
       "version_minor": 0
      },
      "text/plain": [
       "  0%|          | 0/340 [00:00<?, ?it/s]"
      ]
     },
     "metadata": {},
     "output_type": "display_data"
    },
    {
     "name": "stdout",
     "output_type": "stream",
     "text": [
      "{'eval_loss': 1.8269031047821045, 'eval_accuracy': 0.5291190563951346, 'eval_runtime': 5.3829, 'eval_samples_per_second': 1008.005, 'eval_steps_per_second': 63.163, 'epoch': 5.0}\n",
      "{'loss': 0.6868, 'grad_norm': 11.710638999938965, 'learning_rate': 1.9411764705882355e-05, 'epoch': 5.88}\n"
     ]
    },
    {
     "data": {
      "application/vnd.jupyter.widget-view+json": {
       "model_id": "50ea04a77b244be4b74f6ee7dba0f912",
       "version_major": 2,
       "version_minor": 0
      },
      "text/plain": [
       "  0%|          | 0/340 [00:00<?, ?it/s]"
      ]
     },
     "metadata": {},
     "output_type": "display_data"
    },
    {
     "name": "stdout",
     "output_type": "stream",
     "text": [
      "{'eval_loss': 1.9990277290344238, 'eval_accuracy': 0.501658680427571, 'eval_runtime': 5.3088, 'eval_samples_per_second': 1022.075, 'eval_steps_per_second': 64.045, 'epoch': 6.0}\n"
     ]
    },
    {
     "data": {
      "application/vnd.jupyter.widget-view+json": {
       "model_id": "02454e3d2ade4d7184e614036fa3e7e3",
       "version_major": 2,
       "version_minor": 0
      },
      "text/plain": [
       "  0%|          | 0/340 [00:00<?, ?it/s]"
      ]
     },
     "metadata": {},
     "output_type": "display_data"
    },
    {
     "name": "stdout",
     "output_type": "stream",
     "text": [
      "{'eval_loss': 2.161651134490967, 'eval_accuracy': 0.5145595281975672, 'eval_runtime': 5.2667, 'eval_samples_per_second': 1030.245, 'eval_steps_per_second': 64.556, 'epoch': 7.0}\n",
      "{'loss': 0.4226, 'grad_norm': 2.4027938842773438, 'learning_rate': 1.9264705882352943e-05, 'epoch': 7.35}\n"
     ]
    },
    {
     "data": {
      "application/vnd.jupyter.widget-view+json": {
       "model_id": "135abfe495a24b8782231f3e912a3dda",
       "version_major": 2,
       "version_minor": 0
      },
      "text/plain": [
       "  0%|          | 0/340 [00:00<?, ?it/s]"
      ]
     },
     "metadata": {},
     "output_type": "display_data"
    },
    {
     "name": "stdout",
     "output_type": "stream",
     "text": [
      "{'eval_loss': 2.2804954051971436, 'eval_accuracy': 0.48783634353114635, 'eval_runtime': 5.5421, 'eval_samples_per_second': 979.047, 'eval_steps_per_second': 61.348, 'epoch': 8.0}\n",
      "{'loss': 0.2493, 'grad_norm': 25.546201705932617, 'learning_rate': 1.911764705882353e-05, 'epoch': 8.82}\n"
     ]
    },
    {
     "data": {
      "application/vnd.jupyter.widget-view+json": {
       "model_id": "d46b717874f342d1a23849a6522786d6",
       "version_major": 2,
       "version_minor": 0
      },
      "text/plain": [
       "  0%|          | 0/340 [00:00<?, ?it/s]"
      ]
     },
     "metadata": {},
     "output_type": "display_data"
    },
    {
     "name": "stdout",
     "output_type": "stream",
     "text": [
      "{'eval_loss': 2.5161900520324707, 'eval_accuracy': 0.49336527828971616, 'eval_runtime': 5.5324, 'eval_samples_per_second': 980.77, 'eval_steps_per_second': 61.456, 'epoch': 9.0}\n"
     ]
    },
    {
     "data": {
      "application/vnd.jupyter.widget-view+json": {
       "model_id": "270cfc25d4fe45baa25275ed621894e4",
       "version_major": 2,
       "version_minor": 0
      },
      "text/plain": [
       "  0%|          | 0/340 [00:00<?, ?it/s]"
      ]
     },
     "metadata": {},
     "output_type": "display_data"
    },
    {
     "name": "stdout",
     "output_type": "stream",
     "text": [
      "{'eval_loss': 2.723198890686035, 'eval_accuracy': 0.4894950239587173, 'eval_runtime': 5.3576, 'eval_samples_per_second': 1012.771, 'eval_steps_per_second': 63.462, 'epoch': 10.0}\n",
      "{'loss': 0.1433, 'grad_norm': 7.38239860534668, 'learning_rate': 1.897058823529412e-05, 'epoch': 10.29}\n"
     ]
    },
    {
     "data": {
      "application/vnd.jupyter.widget-view+json": {
       "model_id": "fae72df4839044eb9e8dc290857d67c8",
       "version_major": 2,
       "version_minor": 0
      },
      "text/plain": [
       "  0%|          | 0/340 [00:00<?, ?it/s]"
      ]
     },
     "metadata": {},
     "output_type": "display_data"
    },
    {
     "name": "stdout",
     "output_type": "stream",
     "text": [
      "{'eval_loss': 2.8664028644561768, 'eval_accuracy': 0.4961297456690011, 'eval_runtime': 5.2323, 'eval_samples_per_second': 1037.016, 'eval_steps_per_second': 64.981, 'epoch': 11.0}\n",
      "{'loss': 0.0788, 'grad_norm': 16.053510665893555, 'learning_rate': 1.8823529411764708e-05, 'epoch': 11.76}\n"
     ]
    },
    {
     "data": {
      "application/vnd.jupyter.widget-view+json": {
       "model_id": "8a56e8c7221b4c90bcf6891b9f9c181b",
       "version_major": 2,
       "version_minor": 0
      },
      "text/plain": [
       "  0%|          | 0/340 [00:00<?, ?it/s]"
      ]
     },
     "metadata": {},
     "output_type": "display_data"
    },
    {
     "name": "stdout",
     "output_type": "stream",
     "text": [
      "{'eval_loss': 3.069814682006836, 'eval_accuracy': 0.5095834869148544, 'eval_runtime': 5.4671, 'eval_samples_per_second': 992.49, 'eval_steps_per_second': 62.191, 'epoch': 12.0}\n"
     ]
    },
    {
     "data": {
      "application/vnd.jupyter.widget-view+json": {
       "model_id": "e71f919290ac48e2bf159ab0ebcff660",
       "version_major": 2,
       "version_minor": 0
      },
      "text/plain": [
       "  0%|          | 0/340 [00:00<?, ?it/s]"
      ]
     },
     "metadata": {},
     "output_type": "display_data"
    },
    {
     "name": "stdout",
     "output_type": "stream",
     "text": [
      "{'eval_loss': 3.2497739791870117, 'eval_accuracy': 0.5217471433837081, 'eval_runtime': 5.3919, 'eval_samples_per_second': 1006.321, 'eval_steps_per_second': 63.057, 'epoch': 13.0}\n",
      "{'loss': 0.0458, 'grad_norm': 25.26338005065918, 'learning_rate': 1.8676470588235296e-05, 'epoch': 13.24}\n"
     ]
    },
    {
     "data": {
      "application/vnd.jupyter.widget-view+json": {
       "model_id": "5691748b89a644858b4315f4f85847be",
       "version_major": 2,
       "version_minor": 0
      },
      "text/plain": [
       "  0%|          | 0/340 [00:00<?, ?it/s]"
      ]
     },
     "metadata": {},
     "output_type": "display_data"
    },
    {
     "name": "stdout",
     "output_type": "stream",
     "text": [
      "{'eval_loss': 3.459038734436035, 'eval_accuracy': 0.5088462956137118, 'eval_runtime': 5.6088, 'eval_samples_per_second': 967.403, 'eval_steps_per_second': 60.619, 'epoch': 14.0}\n",
      "{'loss': 0.0288, 'grad_norm': 0.913891613483429, 'learning_rate': 1.8529411764705884e-05, 'epoch': 14.71}\n"
     ]
    },
    {
     "data": {
      "application/vnd.jupyter.widget-view+json": {
       "model_id": "8b0a0ec0c11a482b885347c27726190f",
       "version_major": 2,
       "version_minor": 0
      },
      "text/plain": [
       "  0%|          | 0/340 [00:00<?, ?it/s]"
      ]
     },
     "metadata": {},
     "output_type": "display_data"
    },
    {
     "name": "stdout",
     "output_type": "stream",
     "text": [
      "{'eval_loss': 3.6045968532562256, 'eval_accuracy': 0.5060818282344268, 'eval_runtime': 5.3824, 'eval_samples_per_second': 1008.099, 'eval_steps_per_second': 63.169, 'epoch': 15.0}\n"
     ]
    },
    {
     "data": {
      "application/vnd.jupyter.widget-view+json": {
       "model_id": "9b324af48dfa42a0ab62b95f0b595cf2",
       "version_major": 2,
       "version_minor": 0
      },
      "text/plain": [
       "  0%|          | 0/340 [00:00<?, ?it/s]"
      ]
     },
     "metadata": {},
     "output_type": "display_data"
    },
    {
     "name": "stdout",
     "output_type": "stream",
     "text": [
      "{'eval_loss': 3.752195119857788, 'eval_accuracy': 0.5199041651308515, 'eval_runtime': 5.2476, 'eval_samples_per_second': 1034.0, 'eval_steps_per_second': 64.792, 'epoch': 16.0}\n",
      "{'loss': 0.0174, 'grad_norm': 0.059939753264188766, 'learning_rate': 1.8382352941176472e-05, 'epoch': 16.18}\n"
     ]
    },
    {
     "data": {
      "application/vnd.jupyter.widget-view+json": {
       "model_id": "f0492472fab34de48b11def2cbf01780",
       "version_major": 2,
       "version_minor": 0
      },
      "text/plain": [
       "  0%|          | 0/340 [00:00<?, ?it/s]"
      ]
     },
     "metadata": {},
     "output_type": "display_data"
    },
    {
     "name": "stdout",
     "output_type": "stream",
     "text": [
      "{'eval_loss': 3.876919984817505, 'eval_accuracy': 0.5070033173608551, 'eval_runtime': 5.3936, 'eval_samples_per_second': 1006.001, 'eval_steps_per_second': 63.037, 'epoch': 17.0}\n",
      "{'loss': 0.012, 'grad_norm': 0.033820439130067825, 'learning_rate': 1.823529411764706e-05, 'epoch': 17.65}\n"
     ]
    },
    {
     "data": {
      "application/vnd.jupyter.widget-view+json": {
       "model_id": "ff79dbc94d344bb9807612f5ba6198c3",
       "version_major": 2,
       "version_minor": 0
      },
      "text/plain": [
       "  0%|          | 0/340 [00:00<?, ?it/s]"
      ]
     },
     "metadata": {},
     "output_type": "display_data"
    },
    {
     "name": "stdout",
     "output_type": "stream",
     "text": [
      "{'eval_loss': 3.998649835586548, 'eval_accuracy': 0.512532252119425, 'eval_runtime': 5.348, 'eval_samples_per_second': 1014.583, 'eval_steps_per_second': 63.575, 'epoch': 18.0}\n"
     ]
    },
    {
     "data": {
      "application/vnd.jupyter.widget-view+json": {
       "model_id": "8d755893c72440a2bc66c00d2ec2b242",
       "version_major": 2,
       "version_minor": 0
      },
      "text/plain": [
       "  0%|          | 0/340 [00:00<?, ?it/s]"
      ]
     },
     "metadata": {},
     "output_type": "display_data"
    },
    {
     "name": "stdout",
     "output_type": "stream",
     "text": [
      "{'eval_loss': 4.068843841552734, 'eval_accuracy': 0.5003685956505713, 'eval_runtime': 5.4607, 'eval_samples_per_second': 993.652, 'eval_steps_per_second': 62.264, 'epoch': 19.0}\n",
      "{'loss': 0.0103, 'grad_norm': 0.03430281952023506, 'learning_rate': 1.808823529411765e-05, 'epoch': 19.12}\n"
     ]
    },
    {
     "data": {
      "application/vnd.jupyter.widget-view+json": {
       "model_id": "f535ab28dc624da2b94c98a28c16a6ce",
       "version_major": 2,
       "version_minor": 0
      },
      "text/plain": [
       "  0%|          | 0/340 [00:00<?, ?it/s]"
      ]
     },
     "metadata": {},
     "output_type": "display_data"
    },
    {
     "name": "stdout",
     "output_type": "stream",
     "text": [
      "{'eval_loss': 4.174108982086182, 'eval_accuracy': 0.4957611500184298, 'eval_runtime': 5.5258, 'eval_samples_per_second': 981.945, 'eval_steps_per_second': 61.53, 'epoch': 20.0}\n",
      "{'loss': 0.0156, 'grad_norm': 0.0522472970187664, 'learning_rate': 1.7941176470588237e-05, 'epoch': 20.59}\n"
     ]
    },
    {
     "data": {
      "application/vnd.jupyter.widget-view+json": {
       "model_id": "65dd53a6a1d74299af407b0fb8391b24",
       "version_major": 2,
       "version_minor": 0
      },
      "text/plain": [
       "  0%|          | 0/340 [00:00<?, ?it/s]"
      ]
     },
     "metadata": {},
     "output_type": "display_data"
    },
    {
     "name": "stdout",
     "output_type": "stream",
     "text": [
      "{'eval_loss': 4.262973785400391, 'eval_accuracy': 0.512532252119425, 'eval_runtime': 5.2873, 'eval_samples_per_second': 1026.234, 'eval_steps_per_second': 64.305, 'epoch': 21.0}\n"
     ]
    },
    {
     "data": {
      "application/vnd.jupyter.widget-view+json": {
       "model_id": "4c9616fd99af4d9183020e80f85e2f21",
       "version_major": 2,
       "version_minor": 0
      },
      "text/plain": [
       "  0%|          | 0/340 [00:00<?, ?it/s]"
      ]
     },
     "metadata": {},
     "output_type": "display_data"
    },
    {
     "name": "stdout",
     "output_type": "stream",
     "text": [
      "{'eval_loss': 4.309721946716309, 'eval_accuracy': 0.5, 'eval_runtime': 5.403, 'eval_samples_per_second': 1004.253, 'eval_steps_per_second': 62.928, 'epoch': 22.0}\n",
      "{'loss': 0.0076, 'grad_norm': 0.3161431849002838, 'learning_rate': 1.7794117647058825e-05, 'epoch': 22.06}\n"
     ]
    },
    {
     "data": {
      "application/vnd.jupyter.widget-view+json": {
       "model_id": "7e2586f27faa4f47a8fc1f3bc82e24c1",
       "version_major": 2,
       "version_minor": 0
      },
      "text/plain": [
       "  0%|          | 0/340 [00:00<?, ?it/s]"
      ]
     },
     "metadata": {},
     "output_type": "display_data"
    },
    {
     "name": "stdout",
     "output_type": "stream",
     "text": [
      "{'eval_loss': 4.4149980545043945, 'eval_accuracy': 0.512532252119425, 'eval_runtime': 5.4517, 'eval_samples_per_second': 995.29, 'eval_steps_per_second': 62.366, 'epoch': 23.0}\n",
      "{'loss': 0.0129, 'grad_norm': 0.011684444732964039, 'learning_rate': 1.7647058823529414e-05, 'epoch': 23.53}\n"
     ]
    },
    {
     "data": {
      "application/vnd.jupyter.widget-view+json": {
       "model_id": "5350c39e53824f0c8847cde3634e59e8",
       "version_major": 2,
       "version_minor": 0
      },
      "text/plain": [
       "  0%|          | 0/340 [00:00<?, ?it/s]"
      ]
     },
     "metadata": {},
     "output_type": "display_data"
    },
    {
     "name": "stdout",
     "output_type": "stream",
     "text": [
      "{'eval_loss': 4.406398296356201, 'eval_accuracy': 0.5095834869148544, 'eval_runtime': 5.4018, 'eval_samples_per_second': 1004.488, 'eval_steps_per_second': 62.943, 'epoch': 24.0}\n",
      "{'loss': 0.0121, 'grad_norm': 19.88803482055664, 'learning_rate': 1.7500000000000002e-05, 'epoch': 25.0}\n"
     ]
    },
    {
     "data": {
      "application/vnd.jupyter.widget-view+json": {
       "model_id": "3f454b590c484a23b8f3f0937beb076d",
       "version_major": 2,
       "version_minor": 0
      },
      "text/plain": [
       "  0%|          | 0/340 [00:00<?, ?it/s]"
      ]
     },
     "metadata": {},
     "output_type": "display_data"
    },
    {
     "name": "stdout",
     "output_type": "stream",
     "text": [
      "{'eval_loss': 4.452426910400391, 'eval_accuracy': 0.5106892738665684, 'eval_runtime': 5.499, 'eval_samples_per_second': 986.729, 'eval_steps_per_second': 61.83, 'epoch': 25.0}\n"
     ]
    },
    {
     "data": {
      "application/vnd.jupyter.widget-view+json": {
       "model_id": "408e5f06637d41c5aaf22ae423326ef4",
       "version_major": 2,
       "version_minor": 0
      },
      "text/plain": [
       "  0%|          | 0/340 [00:00<?, ?it/s]"
      ]
     },
     "metadata": {},
     "output_type": "display_data"
    },
    {
     "name": "stdout",
     "output_type": "stream",
     "text": [
      "{'eval_loss': 4.566974639892578, 'eval_accuracy': 0.49539255436785845, 'eval_runtime': 5.2756, 'eval_samples_per_second': 1028.501, 'eval_steps_per_second': 64.447, 'epoch': 26.0}\n",
      "{'loss': 0.0081, 'grad_norm': 0.24659623205661774, 'learning_rate': 1.735294117647059e-05, 'epoch': 26.47}\n"
     ]
    },
    {
     "data": {
      "application/vnd.jupyter.widget-view+json": {
       "model_id": "ba6f9942ac6d43459b00bb42830fea8a",
       "version_major": 2,
       "version_minor": 0
      },
      "text/plain": [
       "  0%|          | 0/340 [00:00<?, ?it/s]"
      ]
     },
     "metadata": {},
     "output_type": "display_data"
    },
    {
     "name": "stdout",
     "output_type": "stream",
     "text": [
      "{'eval_loss': 4.624577522277832, 'eval_accuracy': 0.4948396608920015, 'eval_runtime': 5.4319, 'eval_samples_per_second': 998.919, 'eval_steps_per_second': 62.594, 'epoch': 27.0}\n",
      "{'loss': 0.0151, 'grad_norm': 0.010250316932797432, 'learning_rate': 1.720588235294118e-05, 'epoch': 27.94}\n"
     ]
    },
    {
     "data": {
      "application/vnd.jupyter.widget-view+json": {
       "model_id": "aaeb00123f2547daade70cf44e77fa87",
       "version_major": 2,
       "version_minor": 0
      },
      "text/plain": [
       "  0%|          | 0/340 [00:00<?, ?it/s]"
      ]
     },
     "metadata": {},
     "output_type": "display_data"
    },
    {
     "name": "stdout",
     "output_type": "stream",
     "text": [
      "{'eval_loss': 4.914577007293701, 'eval_accuracy': 0.5151124216734243, 'eval_runtime': 5.3836, 'eval_samples_per_second': 1007.87, 'eval_steps_per_second': 63.154, 'epoch': 28.0}\n"
     ]
    },
    {
     "data": {
      "application/vnd.jupyter.widget-view+json": {
       "model_id": "934cbcb265fa4007bc63899e5946df7d",
       "version_major": 2,
       "version_minor": 0
      },
      "text/plain": [
       "  0%|          | 0/340 [00:00<?, ?it/s]"
      ]
     },
     "metadata": {},
     "output_type": "display_data"
    },
    {
     "name": "stdout",
     "output_type": "stream",
     "text": [
      "{'eval_loss': 4.786440372467041, 'eval_accuracy': 0.4894950239587173, 'eval_runtime': 5.4716, 'eval_samples_per_second': 991.667, 'eval_steps_per_second': 62.139, 'epoch': 29.0}\n",
      "{'loss': 0.0242, 'grad_norm': 0.03122546337544918, 'learning_rate': 1.7058823529411767e-05, 'epoch': 29.41}\n"
     ]
    },
    {
     "data": {
      "application/vnd.jupyter.widget-view+json": {
       "model_id": "ffdd585695e34c9d896926d3048be5d4",
       "version_major": 2,
       "version_minor": 0
      },
      "text/plain": [
       "  0%|          | 0/340 [00:00<?, ?it/s]"
      ]
     },
     "metadata": {},
     "output_type": "display_data"
    },
    {
     "name": "stdout",
     "output_type": "stream",
     "text": [
      "{'eval_loss': 4.7577900886535645, 'eval_accuracy': 0.5047917434574272, 'eval_runtime': 5.3381, 'eval_samples_per_second': 1016.463, 'eval_steps_per_second': 63.693, 'epoch': 30.0}\n",
      "{'loss': 0.0141, 'grad_norm': 0.12909168004989624, 'learning_rate': 1.6911764705882355e-05, 'epoch': 30.88}\n"
     ]
    },
    {
     "data": {
      "application/vnd.jupyter.widget-view+json": {
       "model_id": "70426bd2e4fc43958769e736406a6dae",
       "version_major": 2,
       "version_minor": 0
      },
      "text/plain": [
       "  0%|          | 0/340 [00:00<?, ?it/s]"
      ]
     },
     "metadata": {},
     "output_type": "display_data"
    },
    {
     "name": "stdout",
     "output_type": "stream",
     "text": [
      "{'eval_loss': 5.135380268096924, 'eval_accuracy': 0.510320678215997, 'eval_runtime': 5.1907, 'eval_samples_per_second': 1045.329, 'eval_steps_per_second': 65.502, 'epoch': 31.0}\n"
     ]
    },
    {
     "data": {
      "application/vnd.jupyter.widget-view+json": {
       "model_id": "d55901168cf5423eb1ef6f849e1fbe4e",
       "version_major": 2,
       "version_minor": 0
      },
      "text/plain": [
       "  0%|          | 0/340 [00:00<?, ?it/s]"
      ]
     },
     "metadata": {},
     "output_type": "display_data"
    },
    {
     "name": "stdout",
     "output_type": "stream",
     "text": [
      "{'eval_loss': 5.014164447784424, 'eval_accuracy': 0.5210099520825654, 'eval_runtime': 5.4933, 'eval_samples_per_second': 987.744, 'eval_steps_per_second': 61.893, 'epoch': 32.0}\n",
      "{'loss': 0.015, 'grad_norm': 93.88912963867188, 'learning_rate': 1.6764705882352943e-05, 'epoch': 32.35}\n"
     ]
    },
    {
     "data": {
      "application/vnd.jupyter.widget-view+json": {
       "model_id": "f1644c89375645f6b11805813e2611e8",
       "version_major": 2,
       "version_minor": 0
      },
      "text/plain": [
       "  0%|          | 0/340 [00:00<?, ?it/s]"
      ]
     },
     "metadata": {},
     "output_type": "display_data"
    },
    {
     "name": "stdout",
     "output_type": "stream",
     "text": [
      "{'eval_loss': 5.111371040344238, 'eval_accuracy': 0.500552893475857, 'eval_runtime': 5.5502, 'eval_samples_per_second': 977.614, 'eval_steps_per_second': 61.259, 'epoch': 33.0}\n",
      "{'loss': 0.0155, 'grad_norm': 0.03280530124902725, 'learning_rate': 1.661764705882353e-05, 'epoch': 33.82}\n"
     ]
    },
    {
     "data": {
      "application/vnd.jupyter.widget-view+json": {
       "model_id": "649ed45b53844847bdc45a7663dd036c",
       "version_major": 2,
       "version_minor": 0
      },
      "text/plain": [
       "  0%|          | 0/340 [00:00<?, ?it/s]"
      ]
     },
     "metadata": {},
     "output_type": "display_data"
    },
    {
     "name": "stdout",
     "output_type": "stream",
     "text": [
      "{'eval_loss': 5.034155368804932, 'eval_accuracy': 0.5011057869517139, 'eval_runtime': 5.3654, 'eval_samples_per_second': 1011.304, 'eval_steps_per_second': 63.37, 'epoch': 34.0}\n"
     ]
    },
    {
     "data": {
      "application/vnd.jupyter.widget-view+json": {
       "model_id": "950b4118b62f46ca818561e68e14c982",
       "version_major": 2,
       "version_minor": 0
      },
      "text/plain": [
       "  0%|          | 0/340 [00:00<?, ?it/s]"
      ]
     },
     "metadata": {},
     "output_type": "display_data"
    },
    {
     "name": "stdout",
     "output_type": "stream",
     "text": [
      "{'eval_loss': 4.916276454925537, 'eval_accuracy': 0.5075562108367121, 'eval_runtime': 5.2951, 'eval_samples_per_second': 1024.726, 'eval_steps_per_second': 64.211, 'epoch': 35.0}\n",
      "{'loss': 0.0147, 'grad_norm': 0.0009462829330004752, 'learning_rate': 1.647058823529412e-05, 'epoch': 35.29}\n"
     ]
    },
    {
     "data": {
      "application/vnd.jupyter.widget-view+json": {
       "model_id": "532866ae466c49f1be53b84be167d5fc",
       "version_major": 2,
       "version_minor": 0
      },
      "text/plain": [
       "  0%|          | 0/340 [00:00<?, ?it/s]"
      ]
     },
     "metadata": {},
     "output_type": "display_data"
    },
    {
     "name": "stdout",
     "output_type": "stream",
     "text": [
      "{'eval_loss': 5.038791179656982, 'eval_accuracy': 0.5064504238849982, 'eval_runtime': 5.3173, 'eval_samples_per_second': 1020.437, 'eval_steps_per_second': 63.942, 'epoch': 36.0}\n",
      "{'loss': 0.0054, 'grad_norm': 0.021664876490831375, 'learning_rate': 1.6323529411764708e-05, 'epoch': 36.76}\n"
     ]
    },
    {
     "data": {
      "application/vnd.jupyter.widget-view+json": {
       "model_id": "1cd8ec0f949349bf9a8b0dd6d89b01da",
       "version_major": 2,
       "version_minor": 0
      },
      "text/plain": [
       "  0%|          | 0/340 [00:00<?, ?it/s]"
      ]
     },
     "metadata": {},
     "output_type": "display_data"
    },
    {
     "name": "stdout",
     "output_type": "stream",
     "text": [
      "{'eval_loss': 5.191487789154053, 'eval_accuracy': 0.514743826022853, 'eval_runtime': 5.3805, 'eval_samples_per_second': 1008.459, 'eval_steps_per_second': 63.191, 'epoch': 37.0}\n"
     ]
    },
    {
     "data": {
      "application/vnd.jupyter.widget-view+json": {
       "model_id": "ce80cdff4c9448f798a556ab72846891",
       "version_major": 2,
       "version_minor": 0
      },
      "text/plain": [
       "  0%|          | 0/340 [00:00<?, ?it/s]"
      ]
     },
     "metadata": {},
     "output_type": "display_data"
    },
    {
     "name": "stdout",
     "output_type": "stream",
     "text": [
      "{'eval_loss': 5.303085803985596, 'eval_accuracy': 0.5070033173608551, 'eval_runtime': 5.515, 'eval_samples_per_second': 983.861, 'eval_steps_per_second': 61.65, 'epoch': 38.0}\n",
      "{'loss': 0.0107, 'grad_norm': 0.0017179985297843814, 'learning_rate': 1.6176470588235296e-05, 'epoch': 38.24}\n"
     ]
    },
    {
     "data": {
      "application/vnd.jupyter.widget-view+json": {
       "model_id": "f9add7910d284eb2aa8821f322f911e9",
       "version_major": 2,
       "version_minor": 0
      },
      "text/plain": [
       "  0%|          | 0/340 [00:00<?, ?it/s]"
      ]
     },
     "metadata": {},
     "output_type": "display_data"
    },
    {
     "name": "stdout",
     "output_type": "stream",
     "text": [
      "{'eval_loss': 5.326360702514648, 'eval_accuracy': 0.5208256542572798, 'eval_runtime': 5.3698, 'eval_samples_per_second': 1010.467, 'eval_steps_per_second': 63.317, 'epoch': 39.0}\n",
      "{'loss': 0.01, 'grad_norm': 0.002757391193881631, 'learning_rate': 1.6029411764705884e-05, 'epoch': 39.71}\n"
     ]
    },
    {
     "data": {
      "application/vnd.jupyter.widget-view+json": {
       "model_id": "5eb214c1c5ea42ed95573abe32cae4af",
       "version_major": 2,
       "version_minor": 0
      },
      "text/plain": [
       "  0%|          | 0/340 [00:00<?, ?it/s]"
      ]
     },
     "metadata": {},
     "output_type": "display_data"
    },
    {
     "name": "stdout",
     "output_type": "stream",
     "text": [
      "{'eval_loss': 5.186230659484863, 'eval_accuracy': 0.5171396977515665, 'eval_runtime': 5.2641, 'eval_samples_per_second': 1030.758, 'eval_steps_per_second': 64.589, 'epoch': 40.0}\n"
     ]
    },
    {
     "data": {
      "application/vnd.jupyter.widget-view+json": {
       "model_id": "c95eeba13a7c41e88c75848da2a82704",
       "version_major": 2,
       "version_minor": 0
      },
      "text/plain": [
       "  0%|          | 0/340 [00:00<?, ?it/s]"
      ]
     },
     "metadata": {},
     "output_type": "display_data"
    },
    {
     "name": "stdout",
     "output_type": "stream",
     "text": [
      "{'eval_loss': 5.263375759124756, 'eval_accuracy': 0.5081091043125691, 'eval_runtime': 5.4113, 'eval_samples_per_second': 1002.716, 'eval_steps_per_second': 62.831, 'epoch': 41.0}\n",
      "{'loss': 0.012, 'grad_norm': 0.001264926977455616, 'learning_rate': 1.5882352941176473e-05, 'epoch': 41.18}\n"
     ]
    },
    {
     "data": {
      "application/vnd.jupyter.widget-view+json": {
       "model_id": "d49ac2f59256468b978f4be83975e9c5",
       "version_major": 2,
       "version_minor": 0
      },
      "text/plain": [
       "  0%|          | 0/340 [00:00<?, ?it/s]"
      ]
     },
     "metadata": {},
     "output_type": "display_data"
    },
    {
     "name": "stdout",
     "output_type": "stream",
     "text": [
      "{'eval_loss': 5.310800552368164, 'eval_accuracy': 0.5199041651308515, 'eval_runtime': 5.42, 'eval_samples_per_second': 1001.115, 'eval_steps_per_second': 62.731, 'epoch': 42.0}\n",
      "{'loss': 0.0122, 'grad_norm': 14.841758728027344, 'learning_rate': 1.573529411764706e-05, 'epoch': 42.65}\n"
     ]
    },
    {
     "data": {
      "application/vnd.jupyter.widget-view+json": {
       "model_id": "53e48a32aab546539acd7725fb3ce1e2",
       "version_major": 2,
       "version_minor": 0
      },
      "text/plain": [
       "  0%|          | 0/340 [00:00<?, ?it/s]"
      ]
     },
     "metadata": {},
     "output_type": "display_data"
    },
    {
     "name": "stdout",
     "output_type": "stream",
     "text": [
      "{'eval_loss': 5.446828842163086, 'eval_accuracy': 0.5134537412458533, 'eval_runtime': 5.4215, 'eval_samples_per_second': 1000.835, 'eval_steps_per_second': 62.714, 'epoch': 43.0}\n"
     ]
    },
    {
     "data": {
      "application/vnd.jupyter.widget-view+json": {
       "model_id": "88a338aeca9045a69e458b039fa9021c",
       "version_major": 2,
       "version_minor": 0
      },
      "text/plain": [
       "  0%|          | 0/340 [00:00<?, ?it/s]"
      ]
     },
     "metadata": {},
     "output_type": "display_data"
    },
    {
     "name": "stdout",
     "output_type": "stream",
     "text": [
      "{'eval_loss': 5.47294807434082, 'eval_accuracy': 0.5165868042757096, 'eval_runtime': 5.3785, 'eval_samples_per_second': 1008.828, 'eval_steps_per_second': 63.214, 'epoch': 44.0}\n",
      "{'loss': 0.012, 'grad_norm': 0.007000277750194073, 'learning_rate': 1.558823529411765e-05, 'epoch': 44.12}\n"
     ]
    },
    {
     "data": {
      "application/vnd.jupyter.widget-view+json": {
       "model_id": "cb2c74eeadff4cf89de65af5692e2a1e",
       "version_major": 2,
       "version_minor": 0
      },
      "text/plain": [
       "  0%|          | 0/340 [00:00<?, ?it/s]"
      ]
     },
     "metadata": {},
     "output_type": "display_data"
    },
    {
     "name": "stdout",
     "output_type": "stream",
     "text": [
      "{'eval_loss': 5.444733142852783, 'eval_accuracy': 0.5180611868779949, 'eval_runtime': 5.2676, 'eval_samples_per_second': 1030.069, 'eval_steps_per_second': 64.545, 'epoch': 45.0}\n",
      "{'loss': 0.0062, 'grad_norm': 0.15512587130069733, 'learning_rate': 1.5441176470588237e-05, 'epoch': 45.59}\n"
     ]
    },
    {
     "data": {
      "application/vnd.jupyter.widget-view+json": {
       "model_id": "9a157947d03a420799905ae4de96dd20",
       "version_major": 2,
       "version_minor": 0
      },
      "text/plain": [
       "  0%|          | 0/340 [00:00<?, ?it/s]"
      ]
     },
     "metadata": {},
     "output_type": "display_data"
    },
    {
     "name": "stdout",
     "output_type": "stream",
     "text": [
      "{'eval_loss': 5.367854595184326, 'eval_accuracy': 0.5073719130114265, 'eval_runtime': 5.2852, 'eval_samples_per_second': 1026.636, 'eval_steps_per_second': 64.33, 'epoch': 46.0}\n"
     ]
    },
    {
     "data": {
      "application/vnd.jupyter.widget-view+json": {
       "model_id": "a0b25caff77740d5969e06a5b23b8d25",
       "version_major": 2,
       "version_minor": 0
      },
      "text/plain": [
       "  0%|          | 0/340 [00:00<?, ?it/s]"
      ]
     },
     "metadata": {},
     "output_type": "display_data"
    },
    {
     "name": "stdout",
     "output_type": "stream",
     "text": [
      "{'eval_loss': 5.3034210205078125, 'eval_accuracy': 0.5077405086619978, 'eval_runtime': 5.4092, 'eval_samples_per_second': 1003.097, 'eval_steps_per_second': 62.855, 'epoch': 47.0}\n",
      "{'loss': 0.0187, 'grad_norm': 0.00035507147549651563, 'learning_rate': 1.5294117647058822e-05, 'epoch': 47.06}\n"
     ]
    },
    {
     "data": {
      "application/vnd.jupyter.widget-view+json": {
       "model_id": "8ea8fa6d0b324bf388cc5eec217be03f",
       "version_major": 2,
       "version_minor": 0
      },
      "text/plain": [
       "  0%|          | 0/340 [00:00<?, ?it/s]"
      ]
     },
     "metadata": {},
     "output_type": "display_data"
    },
    {
     "name": "stdout",
     "output_type": "stream",
     "text": [
      "{'eval_loss': 5.338099002838135, 'eval_accuracy': 0.5143752303722816, 'eval_runtime': 5.4094, 'eval_samples_per_second': 1003.062, 'eval_steps_per_second': 62.853, 'epoch': 48.0}\n",
      "{'loss': 0.0163, 'grad_norm': 0.0004941815277561545, 'learning_rate': 1.5147058823529412e-05, 'epoch': 48.53}\n"
     ]
    },
    {
     "data": {
      "application/vnd.jupyter.widget-view+json": {
       "model_id": "33f0481bdef642e49713e3beba066a36",
       "version_major": 2,
       "version_minor": 0
      },
      "text/plain": [
       "  0%|          | 0/340 [00:00<?, ?it/s]"
      ]
     },
     "metadata": {},
     "output_type": "display_data"
    },
    {
     "name": "stdout",
     "output_type": "stream",
     "text": [
      "{'eval_loss': 5.414279937744141, 'eval_accuracy': 0.5140066347217103, 'eval_runtime': 5.4047, 'eval_samples_per_second': 1003.938, 'eval_steps_per_second': 62.908, 'epoch': 49.0}\n",
      "{'loss': 0.0094, 'grad_norm': 0.0007244527223519981, 'learning_rate': 1.5000000000000002e-05, 'epoch': 50.0}\n"
     ]
    },
    {
     "data": {
      "application/vnd.jupyter.widget-view+json": {
       "model_id": "5e78b55c30614e28b4d77e4a5fbd6907",
       "version_major": 2,
       "version_minor": 0
      },
      "text/plain": [
       "  0%|          | 0/340 [00:00<?, ?it/s]"
      ]
     },
     "metadata": {},
     "output_type": "display_data"
    },
    {
     "name": "stdout",
     "output_type": "stream",
     "text": [
      "{'eval_loss': 5.574216365814209, 'eval_accuracy': 0.4948396608920015, 'eval_runtime': 5.2927, 'eval_samples_per_second': 1025.186, 'eval_steps_per_second': 64.239, 'epoch': 50.0}\n"
     ]
    },
    {
     "data": {
      "application/vnd.jupyter.widget-view+json": {
       "model_id": "1e4305023ba942fc96b34e4748b64fa2",
       "version_major": 2,
       "version_minor": 0
      },
      "text/plain": [
       "  0%|          | 0/340 [00:00<?, ?it/s]"
      ]
     },
     "metadata": {},
     "output_type": "display_data"
    },
    {
     "name": "stdout",
     "output_type": "stream",
     "text": [
      "{'eval_loss': 5.527858257293701, 'eval_accuracy': 0.5112421673424253, 'eval_runtime': 5.533, 'eval_samples_per_second': 980.668, 'eval_steps_per_second': 61.45, 'epoch': 51.0}\n",
      "{'loss': 0.0088, 'grad_norm': 0.0015756486682221293, 'learning_rate': 1.485294117647059e-05, 'epoch': 51.47}\n"
     ]
    },
    {
     "data": {
      "application/vnd.jupyter.widget-view+json": {
       "model_id": "c6f713e528d144cf9251c5fbb35c1308",
       "version_major": 2,
       "version_minor": 0
      },
      "text/plain": [
       "  0%|          | 0/340 [00:00<?, ?it/s]"
      ]
     },
     "metadata": {},
     "output_type": "display_data"
    },
    {
     "name": "stdout",
     "output_type": "stream",
     "text": [
      "{'eval_loss': 5.492683410644531, 'eval_accuracy': 0.5202727607814228, 'eval_runtime': 5.4789, 'eval_samples_per_second': 990.338, 'eval_steps_per_second': 62.056, 'epoch': 52.0}\n",
      "{'loss': 0.0064, 'grad_norm': 0.00011801044456660748, 'learning_rate': 1.4705882352941179e-05, 'epoch': 52.94}\n"
     ]
    },
    {
     "data": {
      "application/vnd.jupyter.widget-view+json": {
       "model_id": "57e877c0039f481581f4b82511c008e1",
       "version_major": 2,
       "version_minor": 0
      },
      "text/plain": [
       "  0%|          | 0/340 [00:00<?, ?it/s]"
      ]
     },
     "metadata": {},
     "output_type": "display_data"
    },
    {
     "name": "stdout",
     "output_type": "stream",
     "text": [
      "{'eval_loss': 5.5424418449401855, 'eval_accuracy': 0.5219314412089937, 'eval_runtime': 5.2644, 'eval_samples_per_second': 1030.702, 'eval_steps_per_second': 64.585, 'epoch': 53.0}\n"
     ]
    },
    {
     "data": {
      "application/vnd.jupyter.widget-view+json": {
       "model_id": "7ac50c8785e24d86b74f3b65b3280179",
       "version_major": 2,
       "version_minor": 0
      },
      "text/plain": [
       "  0%|          | 0/340 [00:00<?, ?it/s]"
      ]
     },
     "metadata": {},
     "output_type": "display_data"
    },
    {
     "name": "stdout",
     "output_type": "stream",
     "text": [
      "{'eval_loss': 5.924355983734131, 'eval_accuracy': 0.4883892370070033, 'eval_runtime': 5.4975, 'eval_samples_per_second': 987.0, 'eval_steps_per_second': 61.847, 'epoch': 54.0}\n",
      "{'loss': 0.0041, 'grad_norm': 0.002102396683767438, 'learning_rate': 1.4558823529411765e-05, 'epoch': 54.41}\n"
     ]
    },
    {
     "data": {
      "application/vnd.jupyter.widget-view+json": {
       "model_id": "8f6a2838dd034d2aaeb2e558e8a93956",
       "version_major": 2,
       "version_minor": 0
      },
      "text/plain": [
       "  0%|          | 0/340 [00:00<?, ?it/s]"
      ]
     },
     "metadata": {},
     "output_type": "display_data"
    },
    {
     "name": "stdout",
     "output_type": "stream",
     "text": [
      "{'eval_loss': 5.704638481140137, 'eval_accuracy': 0.5204570586067084, 'eval_runtime': 5.218, 'eval_samples_per_second': 1039.854, 'eval_steps_per_second': 65.159, 'epoch': 55.0}\n",
      "{'loss': 0.0119, 'grad_norm': 0.001082333386875689, 'learning_rate': 1.4411764705882353e-05, 'epoch': 55.88}\n"
     ]
    },
    {
     "data": {
      "application/vnd.jupyter.widget-view+json": {
       "model_id": "2c965fa67aa341e5ac9b754d60f58f34",
       "version_major": 2,
       "version_minor": 0
      },
      "text/plain": [
       "  0%|          | 0/340 [00:00<?, ?it/s]"
      ]
     },
     "metadata": {},
     "output_type": "display_data"
    },
    {
     "name": "stdout",
     "output_type": "stream",
     "text": [
      "{'eval_loss': 5.845614433288574, 'eval_accuracy': 0.5062661260597124, 'eval_runtime': 5.4347, 'eval_samples_per_second': 998.393, 'eval_steps_per_second': 62.561, 'epoch': 56.0}\n"
     ]
    },
    {
     "data": {
      "application/vnd.jupyter.widget-view+json": {
       "model_id": "32441cdbeef74c77b13fa4c8ae969808",
       "version_major": 2,
       "version_minor": 0
      },
      "text/plain": [
       "  0%|          | 0/340 [00:00<?, ?it/s]"
      ]
     },
     "metadata": {},
     "output_type": "display_data"
    },
    {
     "name": "stdout",
     "output_type": "stream",
     "text": [
      "{'eval_loss': 5.824685573577881, 'eval_accuracy': 0.5092148912642831, 'eval_runtime': 5.4966, 'eval_samples_per_second': 987.148, 'eval_steps_per_second': 61.856, 'epoch': 57.0}\n",
      "{'loss': 0.0093, 'grad_norm': 0.0002749051491264254, 'learning_rate': 1.4264705882352943e-05, 'epoch': 57.35}\n"
     ]
    },
    {
     "data": {
      "application/vnd.jupyter.widget-view+json": {
       "model_id": "cce835b6466f43cf8375219f5e874f56",
       "version_major": 2,
       "version_minor": 0
      },
      "text/plain": [
       "  0%|          | 0/340 [00:00<?, ?it/s]"
      ]
     },
     "metadata": {},
     "output_type": "display_data"
    },
    {
     "name": "stdout",
     "output_type": "stream",
     "text": [
      "{'eval_loss': 5.617434024810791, 'eval_accuracy': 0.5046074456321415, 'eval_runtime': 5.432, 'eval_samples_per_second': 998.896, 'eval_steps_per_second': 62.592, 'epoch': 58.0}\n",
      "{'loss': 0.0189, 'grad_norm': 0.006188328843563795, 'learning_rate': 1.4117647058823532e-05, 'epoch': 58.82}\n"
     ]
    },
    {
     "data": {
      "application/vnd.jupyter.widget-view+json": {
       "model_id": "5016393483de403f903a53ef800bc139",
       "version_major": 2,
       "version_minor": 0
      },
      "text/plain": [
       "  0%|          | 0/340 [00:00<?, ?it/s]"
      ]
     },
     "metadata": {},
     "output_type": "display_data"
    },
    {
     "name": "stdout",
     "output_type": "stream",
     "text": [
      "{'eval_loss': 5.582998275756836, 'eval_accuracy': 0.5112421673424253, 'eval_runtime': 5.3723, 'eval_samples_per_second': 1009.992, 'eval_steps_per_second': 63.287, 'epoch': 59.0}\n"
     ]
    },
    {
     "data": {
      "application/vnd.jupyter.widget-view+json": {
       "model_id": "b9c023f9ba0c44608a575e4456f8f93a",
       "version_major": 2,
       "version_minor": 0
      },
      "text/plain": [
       "  0%|          | 0/340 [00:00<?, ?it/s]"
      ]
     },
     "metadata": {},
     "output_type": "display_data"
    },
    {
     "name": "stdout",
     "output_type": "stream",
     "text": [
      "{'eval_loss': 5.716525077819824, 'eval_accuracy': 0.5162182086251382, 'eval_runtime': 5.2754, 'eval_samples_per_second': 1028.549, 'eval_steps_per_second': 64.45, 'epoch': 60.0}\n",
      "{'loss': 0.005, 'grad_norm': 0.0003065866476390511, 'learning_rate': 1.3970588235294118e-05, 'epoch': 60.29}\n"
     ]
    },
    {
     "data": {
      "application/vnd.jupyter.widget-view+json": {
       "model_id": "979967f3eeec4c00821b3b53d03db06d",
       "version_major": 2,
       "version_minor": 0
      },
      "text/plain": [
       "  0%|          | 0/340 [00:00<?, ?it/s]"
      ]
     },
     "metadata": {},
     "output_type": "display_data"
    },
    {
     "name": "stdout",
     "output_type": "stream",
     "text": [
      "{'eval_loss': 5.750777721405029, 'eval_accuracy': 0.5099520825654257, 'eval_runtime': 5.3666, 'eval_samples_per_second': 1011.074, 'eval_steps_per_second': 63.355, 'epoch': 61.0}\n",
      "{'loss': 0.0038, 'grad_norm': 0.009771359153091908, 'learning_rate': 1.3823529411764706e-05, 'epoch': 61.76}\n"
     ]
    },
    {
     "data": {
      "application/vnd.jupyter.widget-view+json": {
       "model_id": "474158296ea54cada31f117d83b3b1a4",
       "version_major": 2,
       "version_minor": 0
      },
      "text/plain": [
       "  0%|          | 0/340 [00:00<?, ?it/s]"
      ]
     },
     "metadata": {},
     "output_type": "display_data"
    },
    {
     "name": "stdout",
     "output_type": "stream",
     "text": [
      "{'eval_loss': 5.747320652008057, 'eval_accuracy': 0.5116107629929967, 'eval_runtime': 5.4039, 'eval_samples_per_second': 1004.083, 'eval_steps_per_second': 62.917, 'epoch': 62.0}\n"
     ]
    },
    {
     "data": {
      "application/vnd.jupyter.widget-view+json": {
       "model_id": "251afbe445514a6d89be0fe4d149de35",
       "version_major": 2,
       "version_minor": 0
      },
      "text/plain": [
       "  0%|          | 0/340 [00:00<?, ?it/s]"
      ]
     },
     "metadata": {},
     "output_type": "display_data"
    },
    {
     "name": "stdout",
     "output_type": "stream",
     "text": [
      "{'eval_loss': 5.855423927307129, 'eval_accuracy': 0.5053446369332842, 'eval_runtime': 5.3714, 'eval_samples_per_second': 1010.174, 'eval_steps_per_second': 63.299, 'epoch': 63.0}\n",
      "{'loss': 0.0047, 'grad_norm': 0.011675958521664143, 'learning_rate': 1.3676470588235296e-05, 'epoch': 63.24}\n"
     ]
    },
    {
     "data": {
      "application/vnd.jupyter.widget-view+json": {
       "model_id": "91a1368fbc9e431fa67b90fd4dffee3e",
       "version_major": 2,
       "version_minor": 0
      },
      "text/plain": [
       "  0%|          | 0/340 [00:00<?, ?it/s]"
      ]
     },
     "metadata": {},
     "output_type": "display_data"
    },
    {
     "name": "stdout",
     "output_type": "stream",
     "text": [
      "{'eval_loss': 5.868350028991699, 'eval_accuracy': 0.5171396977515665, 'eval_runtime': 5.3647, 'eval_samples_per_second': 1011.419, 'eval_steps_per_second': 63.377, 'epoch': 64.0}\n",
      "{'loss': 0.0067, 'grad_norm': 0.00018908060155808926, 'learning_rate': 1.3529411764705885e-05, 'epoch': 64.71}\n"
     ]
    },
    {
     "data": {
      "application/vnd.jupyter.widget-view+json": {
       "model_id": "30b9ce7940c94fdbaebfc1d61e2ef7be",
       "version_major": 2,
       "version_minor": 0
      },
      "text/plain": [
       "  0%|          | 0/340 [00:00<?, ?it/s]"
      ]
     },
     "metadata": {},
     "output_type": "display_data"
    },
    {
     "name": "stdout",
     "output_type": "stream",
     "text": [
      "{'eval_loss': 5.979928970336914, 'eval_accuracy': 0.510320678215997, 'eval_runtime': 5.2977, 'eval_samples_per_second': 1024.209, 'eval_steps_per_second': 64.178, 'epoch': 65.0}\n"
     ]
    },
    {
     "data": {
      "application/vnd.jupyter.widget-view+json": {
       "model_id": "2808788154a346969aa29f6a5deeacdd",
       "version_major": 2,
       "version_minor": 0
      },
      "text/plain": [
       "  0%|          | 0/340 [00:00<?, ?it/s]"
      ]
     },
     "metadata": {},
     "output_type": "display_data"
    },
    {
     "name": "stdout",
     "output_type": "stream",
     "text": [
      "{'eval_loss': 6.095925807952881, 'eval_accuracy': 0.5062661260597124, 'eval_runtime': 5.4031, 'eval_samples_per_second': 1004.231, 'eval_steps_per_second': 62.926, 'epoch': 66.0}\n",
      "{'loss': 0.0125, 'grad_norm': 0.0005579902208410203, 'learning_rate': 1.3382352941176471e-05, 'epoch': 66.18}\n"
     ]
    },
    {
     "data": {
      "application/vnd.jupyter.widget-view+json": {
       "model_id": "33a66faf971144b0ac53fc13b2efe188",
       "version_major": 2,
       "version_minor": 0
      },
      "text/plain": [
       "  0%|          | 0/340 [00:00<?, ?it/s]"
      ]
     },
     "metadata": {},
     "output_type": "display_data"
    },
    {
     "name": "stdout",
     "output_type": "stream",
     "text": [
      "{'eval_loss': 5.905586242675781, 'eval_accuracy': 0.5047917434574272, 'eval_runtime': 5.2956, 'eval_samples_per_second': 1024.633, 'eval_steps_per_second': 64.205, 'epoch': 67.0}\n",
      "{'loss': 0.0069, 'grad_norm': 1.0488327741622925, 'learning_rate': 1.323529411764706e-05, 'epoch': 67.65}\n"
     ]
    },
    {
     "data": {
      "application/vnd.jupyter.widget-view+json": {
       "model_id": "44b261d43aba4684a6df7af549d249ed",
       "version_major": 2,
       "version_minor": 0
      },
      "text/plain": [
       "  0%|          | 0/340 [00:00<?, ?it/s]"
      ]
     },
     "metadata": {},
     "output_type": "display_data"
    },
    {
     "name": "stdout",
     "output_type": "stream",
     "text": [
      "{'eval_loss': 5.922839164733887, 'eval_accuracy': 0.5178768890527092, 'eval_runtime': 5.3807, 'eval_samples_per_second': 1008.427, 'eval_steps_per_second': 63.189, 'epoch': 68.0}\n"
     ]
    },
    {
     "data": {
      "application/vnd.jupyter.widget-view+json": {
       "model_id": "1dd7166203ef4d649985f4aaab9eceba",
       "version_major": 2,
       "version_minor": 0
      },
      "text/plain": [
       "  0%|          | 0/340 [00:00<?, ?it/s]"
      ]
     },
     "metadata": {},
     "output_type": "display_data"
    },
    {
     "name": "stdout",
     "output_type": "stream",
     "text": [
      "{'eval_loss': 6.03229284286499, 'eval_accuracy': 0.5092148912642831, 'eval_runtime': 5.2525, 'eval_samples_per_second': 1033.035, 'eval_steps_per_second': 64.731, 'epoch': 69.0}\n",
      "{'loss': 0.0051, 'grad_norm': 0.0020182370208203793, 'learning_rate': 1.3088235294117648e-05, 'epoch': 69.12}\n"
     ]
    },
    {
     "data": {
      "application/vnd.jupyter.widget-view+json": {
       "model_id": "1d89a11f5077488b93796c58d8f7a1ba",
       "version_major": 2,
       "version_minor": 0
      },
      "text/plain": [
       "  0%|          | 0/340 [00:00<?, ?it/s]"
      ]
     },
     "metadata": {},
     "output_type": "display_data"
    },
    {
     "name": "stdout",
     "output_type": "stream",
     "text": [
      "{'eval_loss': 5.9987263679504395, 'eval_accuracy': 0.4998157021747143, 'eval_runtime': 5.3418, 'eval_samples_per_second': 1015.758, 'eval_steps_per_second': 63.649, 'epoch': 70.0}\n",
      "{'loss': 0.0053, 'grad_norm': 0.03201543167233467, 'learning_rate': 1.2941176470588238e-05, 'epoch': 70.59}\n"
     ]
    },
    {
     "data": {
      "application/vnd.jupyter.widget-view+json": {
       "model_id": "738fa80eb0b849b1bae1d363bf10f22a",
       "version_major": 2,
       "version_minor": 0
      },
      "text/plain": [
       "  0%|          | 0/340 [00:00<?, ?it/s]"
      ]
     },
     "metadata": {},
     "output_type": "display_data"
    },
    {
     "name": "stdout",
     "output_type": "stream",
     "text": [
      "{'eval_loss': 6.027467727661133, 'eval_accuracy': 0.5106892738665684, 'eval_runtime': 5.5395, 'eval_samples_per_second': 979.518, 'eval_steps_per_second': 61.378, 'epoch': 71.0}\n"
     ]
    },
    {
     "data": {
      "application/vnd.jupyter.widget-view+json": {
       "model_id": "2ab934cbfb3a44fc8aec54f79b65a397",
       "version_major": 2,
       "version_minor": 0
      },
      "text/plain": [
       "  0%|          | 0/340 [00:00<?, ?it/s]"
      ]
     },
     "metadata": {},
     "output_type": "display_data"
    },
    {
     "name": "stdout",
     "output_type": "stream",
     "text": [
      "{'eval_loss': 6.104385852813721, 'eval_accuracy': 0.5136380390711389, 'eval_runtime': 5.437, 'eval_samples_per_second': 997.974, 'eval_steps_per_second': 62.534, 'epoch': 72.0}\n",
      "{'loss': 0.0034, 'grad_norm': 0.0005083958967588842, 'learning_rate': 1.2794117647058824e-05, 'epoch': 72.06}\n"
     ]
    },
    {
     "data": {
      "application/vnd.jupyter.widget-view+json": {
       "model_id": "5a187dadb5064cc4a05ecb98ec8c5a87",
       "version_major": 2,
       "version_minor": 0
      },
      "text/plain": [
       "  0%|          | 0/340 [00:00<?, ?it/s]"
      ]
     },
     "metadata": {},
     "output_type": "display_data"
    },
    {
     "name": "stdout",
     "output_type": "stream",
     "text": [
      "{'eval_loss': 6.001463413238525, 'eval_accuracy': 0.510320678215997, 'eval_runtime': 5.3942, 'eval_samples_per_second': 1005.896, 'eval_steps_per_second': 63.031, 'epoch': 73.0}\n",
      "{'loss': 0.0069, 'grad_norm': 0.009487489238381386, 'learning_rate': 1.2647058823529412e-05, 'epoch': 73.53}\n"
     ]
    },
    {
     "data": {
      "application/vnd.jupyter.widget-view+json": {
       "model_id": "d65b2c00a59d41f5a8940c8c6720569f",
       "version_major": 2,
       "version_minor": 0
      },
      "text/plain": [
       "  0%|          | 0/340 [00:00<?, ?it/s]"
      ]
     },
     "metadata": {},
     "output_type": "display_data"
    },
    {
     "name": "stdout",
     "output_type": "stream",
     "text": [
      "{'eval_loss': 6.012304782867432, 'eval_accuracy': 0.5110578695171397, 'eval_runtime': 5.2025, 'eval_samples_per_second': 1042.953, 'eval_steps_per_second': 65.353, 'epoch': 74.0}\n",
      "{'loss': 0.0014, 'grad_norm': 0.0015985958743840456, 'learning_rate': 1.25e-05, 'epoch': 75.0}\n"
     ]
    },
    {
     "data": {
      "application/vnd.jupyter.widget-view+json": {
       "model_id": "cbf0354792a84b05b0c7edf5116a56a1",
       "version_major": 2,
       "version_minor": 0
      },
      "text/plain": [
       "  0%|          | 0/340 [00:00<?, ?it/s]"
      ]
     },
     "metadata": {},
     "output_type": "display_data"
    },
    {
     "name": "stdout",
     "output_type": "stream",
     "text": [
      "{'eval_loss': 6.0452351570129395, 'eval_accuracy': 0.5101363803907114, 'eval_runtime': 5.4087, 'eval_samples_per_second': 1003.191, 'eval_steps_per_second': 62.861, 'epoch': 75.0}\n"
     ]
    },
    {
     "data": {
      "application/vnd.jupyter.widget-view+json": {
       "model_id": "58e87cb86ca848d5b9c1a84c1da42e5d",
       "version_major": 2,
       "version_minor": 0
      },
      "text/plain": [
       "  0%|          | 0/340 [00:00<?, ?it/s]"
      ]
     },
     "metadata": {},
     "output_type": "display_data"
    },
    {
     "name": "stdout",
     "output_type": "stream",
     "text": [
      "{'eval_loss': 6.064857482910156, 'eval_accuracy': 0.5114264651677111, 'eval_runtime': 5.5332, 'eval_samples_per_second': 980.623, 'eval_steps_per_second': 61.447, 'epoch': 76.0}\n",
      "{'loss': 0.0066, 'grad_norm': 0.0016315797111019492, 'learning_rate': 1.235294117647059e-05, 'epoch': 76.47}\n"
     ]
    },
    {
     "data": {
      "application/vnd.jupyter.widget-view+json": {
       "model_id": "0d32d4f9874f4f5fad765df89769e24f",
       "version_major": 2,
       "version_minor": 0
      },
      "text/plain": [
       "  0%|          | 0/340 [00:00<?, ?it/s]"
      ]
     },
     "metadata": {},
     "output_type": "display_data"
    },
    {
     "name": "stdout",
     "output_type": "stream",
     "text": [
      "{'eval_loss': 5.954977989196777, 'eval_accuracy': 0.5158496129745669, 'eval_runtime': 5.4911, 'eval_samples_per_second': 988.15, 'eval_steps_per_second': 61.919, 'epoch': 77.0}\n",
      "{'loss': 0.0118, 'grad_norm': 0.00012986814545001835, 'learning_rate': 1.2205882352941179e-05, 'epoch': 77.94}\n"
     ]
    },
    {
     "data": {
      "application/vnd.jupyter.widget-view+json": {
       "model_id": "33ebc0a4340d486392dd47adfb92c067",
       "version_major": 2,
       "version_minor": 0
      },
      "text/plain": [
       "  0%|          | 0/340 [00:00<?, ?it/s]"
      ]
     },
     "metadata": {},
     "output_type": "display_data"
    },
    {
     "name": "stdout",
     "output_type": "stream",
     "text": [
      "{'eval_loss': 6.177604675292969, 'eval_accuracy': 0.5127165499447106, 'eval_runtime': 5.5347, 'eval_samples_per_second': 980.36, 'eval_steps_per_second': 61.431, 'epoch': 78.0}\n"
     ]
    },
    {
     "data": {
      "application/vnd.jupyter.widget-view+json": {
       "model_id": "47764b6bc53f4ddebf8cce82d7a62c6c",
       "version_major": 2,
       "version_minor": 0
      },
      "text/plain": [
       "  0%|          | 0/340 [00:00<?, ?it/s]"
      ]
     },
     "metadata": {},
     "output_type": "display_data"
    },
    {
     "name": "stdout",
     "output_type": "stream",
     "text": [
      "{'eval_loss': 5.909180641174316, 'eval_accuracy': 0.5055289347585699, 'eval_runtime': 5.281, 'eval_samples_per_second': 1027.448, 'eval_steps_per_second': 64.381, 'epoch': 79.0}\n",
      "{'loss': 0.0076, 'grad_norm': 0.00015554130368400365, 'learning_rate': 1.2058823529411765e-05, 'epoch': 79.41}\n"
     ]
    },
    {
     "data": {
      "application/vnd.jupyter.widget-view+json": {
       "model_id": "e65cbf2de1c748eeab8e10ad187ac447",
       "version_major": 2,
       "version_minor": 0
      },
      "text/plain": [
       "  0%|          | 0/340 [00:00<?, ?it/s]"
      ]
     },
     "metadata": {},
     "output_type": "display_data"
    },
    {
     "name": "stdout",
     "output_type": "stream",
     "text": [
      "{'eval_loss': 5.930831432342529, 'eval_accuracy': 0.522300036859565, 'eval_runtime': 5.4148, 'eval_samples_per_second': 1002.062, 'eval_steps_per_second': 62.79, 'epoch': 80.0}\n",
      "{'loss': 0.0028, 'grad_norm': 0.0010906561510637403, 'learning_rate': 1.1911764705882354e-05, 'epoch': 80.88}\n"
     ]
    },
    {
     "data": {
      "application/vnd.jupyter.widget-view+json": {
       "model_id": "56e69cfbde8843ffbbb819210d657ca0",
       "version_major": 2,
       "version_minor": 0
      },
      "text/plain": [
       "  0%|          | 0/340 [00:00<?, ?it/s]"
      ]
     },
     "metadata": {},
     "output_type": "display_data"
    },
    {
     "name": "stdout",
     "output_type": "stream",
     "text": [
      "{'eval_loss': 5.942101001739502, 'eval_accuracy': 0.520641356431994, 'eval_runtime': 5.4064, 'eval_samples_per_second': 1003.62, 'eval_steps_per_second': 62.888, 'epoch': 81.0}\n"
     ]
    },
    {
     "data": {
      "application/vnd.jupyter.widget-view+json": {
       "model_id": "2499039ff0da4eeba007fb1417af7ac3",
       "version_major": 2,
       "version_minor": 0
      },
      "text/plain": [
       "  0%|          | 0/340 [00:00<?, ?it/s]"
      ]
     },
     "metadata": {},
     "output_type": "display_data"
    },
    {
     "name": "stdout",
     "output_type": "stream",
     "text": [
      "{'eval_loss': 6.012900352478027, 'eval_accuracy': 0.498894213048286, 'eval_runtime': 5.4461, 'eval_samples_per_second': 996.301, 'eval_steps_per_second': 62.429, 'epoch': 82.0}\n",
      "{'loss': 0.0036, 'grad_norm': 0.0003324518329463899, 'learning_rate': 1.1764705882352942e-05, 'epoch': 82.35}\n"
     ]
    },
    {
     "data": {
      "application/vnd.jupyter.widget-view+json": {
       "model_id": "2a6d2f534f0b4de19e33d5aaad2d9254",
       "version_major": 2,
       "version_minor": 0
      },
      "text/plain": [
       "  0%|          | 0/340 [00:00<?, ?it/s]"
      ]
     },
     "metadata": {},
     "output_type": "display_data"
    },
    {
     "name": "stdout",
     "output_type": "stream",
     "text": [
      "{'eval_loss': 6.1947550773620605, 'eval_accuracy': 0.5086619977884261, 'eval_runtime': 5.3544, 'eval_samples_per_second': 1013.371, 'eval_steps_per_second': 63.499, 'epoch': 83.0}\n",
      "{'loss': 0.0093, 'grad_norm': 7.500575884478167e-05, 'learning_rate': 1.1617647058823532e-05, 'epoch': 83.82}\n"
     ]
    },
    {
     "data": {
      "application/vnd.jupyter.widget-view+json": {
       "model_id": "edea32d5d40142d58d4d077746c8b450",
       "version_major": 2,
       "version_minor": 0
      },
      "text/plain": [
       "  0%|          | 0/340 [00:00<?, ?it/s]"
      ]
     },
     "metadata": {},
     "output_type": "display_data"
    },
    {
     "name": "stdout",
     "output_type": "stream",
     "text": [
      "{'eval_loss': 6.174139022827148, 'eval_accuracy': 0.5136380390711389, 'eval_runtime': 5.2662, 'eval_samples_per_second': 1030.34, 'eval_steps_per_second': 64.562, 'epoch': 84.0}\n"
     ]
    },
    {
     "data": {
      "application/vnd.jupyter.widget-view+json": {
       "model_id": "5987e5e88b4b477a8a8f0d6cfe6ca1e0",
       "version_major": 2,
       "version_minor": 0
      },
      "text/plain": [
       "  0%|          | 0/340 [00:00<?, ?it/s]"
      ]
     },
     "metadata": {},
     "output_type": "display_data"
    },
    {
     "name": "stdout",
     "output_type": "stream",
     "text": [
      "{'eval_loss': 6.068782806396484, 'eval_accuracy': 0.5101363803907114, 'eval_runtime': 5.4521, 'eval_samples_per_second': 995.207, 'eval_steps_per_second': 62.361, 'epoch': 85.0}\n",
      "{'loss': 0.0066, 'grad_norm': 0.0011624878970906138, 'learning_rate': 1.1470588235294118e-05, 'epoch': 85.29}\n"
     ]
    },
    {
     "data": {
      "application/vnd.jupyter.widget-view+json": {
       "model_id": "963803da754e4ce3b0327ac0acc21f22",
       "version_major": 2,
       "version_minor": 0
      },
      "text/plain": [
       "  0%|          | 0/340 [00:00<?, ?it/s]"
      ]
     },
     "metadata": {},
     "output_type": "display_data"
    },
    {
     "name": "stdout",
     "output_type": "stream",
     "text": [
      "{'eval_loss': 6.154547214508057, 'eval_accuracy': 0.5029487652045705, 'eval_runtime': 5.3716, 'eval_samples_per_second': 1010.133, 'eval_steps_per_second': 63.296, 'epoch': 86.0}\n",
      "{'loss': 0.0035, 'grad_norm': 0.0018222543876618147, 'learning_rate': 1.1323529411764707e-05, 'epoch': 86.76}\n"
     ]
    },
    {
     "data": {
      "application/vnd.jupyter.widget-view+json": {
       "model_id": "0dda35115df1412bbba327d7078cf873",
       "version_major": 2,
       "version_minor": 0
      },
      "text/plain": [
       "  0%|          | 0/340 [00:00<?, ?it/s]"
      ]
     },
     "metadata": {},
     "output_type": "display_data"
    },
    {
     "name": "stdout",
     "output_type": "stream",
     "text": [
      "{'eval_loss': 6.087460994720459, 'eval_accuracy': 0.527276078142278, 'eval_runtime': 5.4805, 'eval_samples_per_second': 990.064, 'eval_steps_per_second': 62.039, 'epoch': 87.0}\n"
     ]
    },
    {
     "data": {
      "application/vnd.jupyter.widget-view+json": {
       "model_id": "31920c14b76844039842b6386a0d6c77",
       "version_major": 2,
       "version_minor": 0
      },
      "text/plain": [
       "  0%|          | 0/340 [00:00<?, ?it/s]"
      ]
     },
     "metadata": {},
     "output_type": "display_data"
    },
    {
     "name": "stdout",
     "output_type": "stream",
     "text": [
      "{'eval_loss': 6.2523274421691895, 'eval_accuracy': 0.49428676741614447, 'eval_runtime': 5.4682, 'eval_samples_per_second': 992.28, 'eval_steps_per_second': 62.178, 'epoch': 88.0}\n",
      "{'loss': 0.0034, 'grad_norm': 122.06278228759766, 'learning_rate': 1.1176470588235295e-05, 'epoch': 88.24}\n"
     ]
    },
    {
     "data": {
      "application/vnd.jupyter.widget-view+json": {
       "model_id": "b944c2219a1a46e5950d31ddbc69f533",
       "version_major": 2,
       "version_minor": 0
      },
      "text/plain": [
       "  0%|          | 0/340 [00:00<?, ?it/s]"
      ]
     },
     "metadata": {},
     "output_type": "display_data"
    },
    {
     "name": "stdout",
     "output_type": "stream",
     "text": [
      "{'eval_loss': 6.190735816955566, 'eval_accuracy': 0.5068190195355695, 'eval_runtime': 5.2152, 'eval_samples_per_second': 1040.417, 'eval_steps_per_second': 65.194, 'epoch': 89.0}\n",
      "{'loss': 0.0024, 'grad_norm': 0.00010151327296625823, 'learning_rate': 1.1029411764705885e-05, 'epoch': 89.71}\n"
     ]
    },
    {
     "data": {
      "application/vnd.jupyter.widget-view+json": {
       "model_id": "8cda427053e04a1186439208c49d3929",
       "version_major": 2,
       "version_minor": 0
      },
      "text/plain": [
       "  0%|          | 0/340 [00:00<?, ?it/s]"
      ]
     },
     "metadata": {},
     "output_type": "display_data"
    },
    {
     "name": "stdout",
     "output_type": "stream",
     "text": [
      "{'eval_loss': 6.230529308319092, 'eval_accuracy': 0.5156653151492813, 'eval_runtime': 5.456, 'eval_samples_per_second': 994.493, 'eval_steps_per_second': 62.316, 'epoch': 90.0}\n"
     ]
    },
    {
     "data": {
      "application/vnd.jupyter.widget-view+json": {
       "model_id": "1e248e6ed54e407f97a3b7e01bd78da5",
       "version_major": 2,
       "version_minor": 0
      },
      "text/plain": [
       "  0%|          | 0/340 [00:00<?, ?it/s]"
      ]
     },
     "metadata": {},
     "output_type": "display_data"
    },
    {
     "name": "stdout",
     "output_type": "stream",
     "text": [
      "{'eval_loss': 6.3189849853515625, 'eval_accuracy': 0.5199041651308515, 'eval_runtime': 5.4554, 'eval_samples_per_second': 994.609, 'eval_steps_per_second': 62.323, 'epoch': 91.0}\n",
      "{'loss': 0.0016, 'grad_norm': 1.7485557691543363e-05, 'learning_rate': 1.0882352941176471e-05, 'epoch': 91.18}\n"
     ]
    },
    {
     "data": {
      "application/vnd.jupyter.widget-view+json": {
       "model_id": "2fae1b4e5331494baf9934c0087ff782",
       "version_major": 2,
       "version_minor": 0
      },
      "text/plain": [
       "  0%|          | 0/340 [00:00<?, ?it/s]"
      ]
     },
     "metadata": {},
     "output_type": "display_data"
    },
    {
     "name": "stdout",
     "output_type": "stream",
     "text": [
      "{'eval_loss': 6.287472248077393, 'eval_accuracy': 0.5208256542572798, 'eval_runtime': 5.3794, 'eval_samples_per_second': 1008.665, 'eval_steps_per_second': 63.204, 'epoch': 92.0}\n",
      "{'loss': 0.0066, 'grad_norm': 7.15464775566943e-05, 'learning_rate': 1.073529411764706e-05, 'epoch': 92.65}\n"
     ]
    },
    {
     "data": {
      "application/vnd.jupyter.widget-view+json": {
       "model_id": "52782854f9d6416eaa332d2770e0912a",
       "version_major": 2,
       "version_minor": 0
      },
      "text/plain": [
       "  0%|          | 0/340 [00:00<?, ?it/s]"
      ]
     },
     "metadata": {},
     "output_type": "display_data"
    },
    {
     "name": "stdout",
     "output_type": "stream",
     "text": [
      "{'eval_loss': 6.230575084686279, 'eval_accuracy': 0.5210099520825654, 'eval_runtime': 5.4096, 'eval_samples_per_second': 1003.029, 'eval_steps_per_second': 62.851, 'epoch': 93.0}\n"
     ]
    },
    {
     "data": {
      "application/vnd.jupyter.widget-view+json": {
       "model_id": "4dbec1509efb4d5a934bf66ced7814c5",
       "version_major": 2,
       "version_minor": 0
      },
      "text/plain": [
       "  0%|          | 0/340 [00:00<?, ?it/s]"
      ]
     },
     "metadata": {},
     "output_type": "display_data"
    },
    {
     "name": "stdout",
     "output_type": "stream",
     "text": [
      "{'eval_loss': 6.228614330291748, 'eval_accuracy': 0.5132694434205677, 'eval_runtime': 5.2662, 'eval_samples_per_second': 1030.347, 'eval_steps_per_second': 64.563, 'epoch': 94.0}\n",
      "{'loss': 0.0033, 'grad_norm': 5.369782229536213e-05, 'learning_rate': 1.0588235294117648e-05, 'epoch': 94.12}\n"
     ]
    },
    {
     "data": {
      "application/vnd.jupyter.widget-view+json": {
       "model_id": "40c1a54b3a0540238b277e165d2aa4b6",
       "version_major": 2,
       "version_minor": 0
      },
      "text/plain": [
       "  0%|          | 0/340 [00:00<?, ?it/s]"
      ]
     },
     "metadata": {},
     "output_type": "display_data"
    },
    {
     "name": "stdout",
     "output_type": "stream",
     "text": [
      "{'eval_loss': 6.225439548492432, 'eval_accuracy': 0.5138223368964246, 'eval_runtime': 5.3666, 'eval_samples_per_second': 1011.066, 'eval_steps_per_second': 63.355, 'epoch': 95.0}\n",
      "{'loss': 0.0058, 'grad_norm': 0.000834434584248811, 'learning_rate': 1.0441176470588236e-05, 'epoch': 95.59}\n"
     ]
    },
    {
     "data": {
      "application/vnd.jupyter.widget-view+json": {
       "model_id": "848fd647e66749dcaaa5f57325b44a37",
       "version_major": 2,
       "version_minor": 0
      },
      "text/plain": [
       "  0%|          | 0/340 [00:00<?, ?it/s]"
      ]
     },
     "metadata": {},
     "output_type": "display_data"
    },
    {
     "name": "stdout",
     "output_type": "stream",
     "text": [
      "{'eval_loss': 6.228862762451172, 'eval_accuracy': 0.5075562108367121, 'eval_runtime': 5.3939, 'eval_samples_per_second': 1005.946, 'eval_steps_per_second': 63.034, 'epoch': 96.0}\n"
     ]
    },
    {
     "data": {
      "application/vnd.jupyter.widget-view+json": {
       "model_id": "351bde03a2c144848e98c8e4a2055fb4",
       "version_major": 2,
       "version_minor": 0
      },
      "text/plain": [
       "  0%|          | 0/340 [00:00<?, ?it/s]"
      ]
     },
     "metadata": {},
     "output_type": "display_data"
    },
    {
     "name": "stdout",
     "output_type": "stream",
     "text": [
      "{'eval_loss': 6.2226409912109375, 'eval_accuracy': 0.5086619977884261, 'eval_runtime': 5.3837, 'eval_samples_per_second': 1007.858, 'eval_steps_per_second': 63.154, 'epoch': 97.0}\n",
      "{'loss': 0.0031, 'grad_norm': 109.78121185302734, 'learning_rate': 1.0294117647058823e-05, 'epoch': 97.06}\n"
     ]
    },
    {
     "data": {
      "application/vnd.jupyter.widget-view+json": {
       "model_id": "cebca116e5d24fd3915fe23de487c325",
       "version_major": 2,
       "version_minor": 0
      },
      "text/plain": [
       "  0%|          | 0/340 [00:00<?, ?it/s]"
      ]
     },
     "metadata": {},
     "output_type": "display_data"
    },
    {
     "name": "stdout",
     "output_type": "stream",
     "text": [
      "{'eval_loss': 6.121738910675049, 'eval_accuracy': 0.5145595281975672, 'eval_runtime': 5.1998, 'eval_samples_per_second': 1043.504, 'eval_steps_per_second': 65.387, 'epoch': 98.0}\n",
      "{'loss': 0.0036, 'grad_norm': 0.000580295454710722, 'learning_rate': 1.0147058823529413e-05, 'epoch': 98.53}\n"
     ]
    },
    {
     "data": {
      "application/vnd.jupyter.widget-view+json": {
       "model_id": "5c5ce8d415024b11bda030ab526c7a02",
       "version_major": 2,
       "version_minor": 0
      },
      "text/plain": [
       "  0%|          | 0/340 [00:00<?, ?it/s]"
      ]
     },
     "metadata": {},
     "output_type": "display_data"
    },
    {
     "name": "stdout",
     "output_type": "stream",
     "text": [
      "{'eval_loss': 6.160926342010498, 'eval_accuracy': 0.5189826760044232, 'eval_runtime': 5.2575, 'eval_samples_per_second': 1032.043, 'eval_steps_per_second': 64.669, 'epoch': 99.0}\n",
      "{'loss': 0.005, 'grad_norm': 0.00011794718739110976, 'learning_rate': 1e-05, 'epoch': 100.0}\n"
     ]
    },
    {
     "data": {
      "application/vnd.jupyter.widget-view+json": {
       "model_id": "d95fcc966dd34dc7b28f0c0163c24b59",
       "version_major": 2,
       "version_minor": 0
      },
      "text/plain": [
       "  0%|          | 0/340 [00:00<?, ?it/s]"
      ]
     },
     "metadata": {},
     "output_type": "display_data"
    },
    {
     "name": "stdout",
     "output_type": "stream",
     "text": [
      "{'eval_loss': 6.238785266876221, 'eval_accuracy': 0.5012900847769997, 'eval_runtime': 5.4414, 'eval_samples_per_second': 997.161, 'eval_steps_per_second': 62.483, 'epoch': 100.0}\n"
     ]
    },
    {
     "data": {
      "application/vnd.jupyter.widget-view+json": {
       "model_id": "2106633dd9204b0d8579af3c50721d6f",
       "version_major": 2,
       "version_minor": 0
      },
      "text/plain": [
       "  0%|          | 0/340 [00:00<?, ?it/s]"
      ]
     },
     "metadata": {},
     "output_type": "display_data"
    },
    {
     "name": "stdout",
     "output_type": "stream",
     "text": [
      "{'eval_loss': 6.2220635414123535, 'eval_accuracy': 0.5184297825285662, 'eval_runtime': 5.5142, 'eval_samples_per_second': 984.0, 'eval_steps_per_second': 61.659, 'epoch': 101.0}\n",
      "{'loss': 0.0029, 'grad_norm': 0.00011532811186043546, 'learning_rate': 9.852941176470589e-06, 'epoch': 101.47}\n"
     ]
    },
    {
     "data": {
      "application/vnd.jupyter.widget-view+json": {
       "model_id": "8ef1fb2153234375a090b2988b1981fb",
       "version_major": 2,
       "version_minor": 0
      },
      "text/plain": [
       "  0%|          | 0/340 [00:00<?, ?it/s]"
      ]
     },
     "metadata": {},
     "output_type": "display_data"
    },
    {
     "name": "stdout",
     "output_type": "stream",
     "text": [
      "{'eval_loss': 6.206948280334473, 'eval_accuracy': 0.5182454847032805, 'eval_runtime': 5.4038, 'eval_samples_per_second': 1004.099, 'eval_steps_per_second': 62.918, 'epoch': 102.0}\n",
      "{'loss': 0.0058, 'grad_norm': 0.001958986045792699, 'learning_rate': 9.705882352941177e-06, 'epoch': 102.94}\n"
     ]
    },
    {
     "data": {
      "application/vnd.jupyter.widget-view+json": {
       "model_id": "c8e76342296543dd9130bcd0c87b15e1",
       "version_major": 2,
       "version_minor": 0
      },
      "text/plain": [
       "  0%|          | 0/340 [00:00<?, ?it/s]"
      ]
     },
     "metadata": {},
     "output_type": "display_data"
    },
    {
     "name": "stdout",
     "output_type": "stream",
     "text": [
      "{'eval_loss': 6.282732963562012, 'eval_accuracy': 0.5221157390342794, 'eval_runtime': 5.2463, 'eval_samples_per_second': 1034.25, 'eval_steps_per_second': 64.807, 'epoch': 103.0}\n"
     ]
    },
    {
     "data": {
      "application/vnd.jupyter.widget-view+json": {
       "model_id": "e43bc41304ea426e8c450f0655561fea",
       "version_major": 2,
       "version_minor": 0
      },
      "text/plain": [
       "  0%|          | 0/340 [00:00<?, ?it/s]"
      ]
     },
     "metadata": {},
     "output_type": "display_data"
    },
    {
     "name": "stdout",
     "output_type": "stream",
     "text": [
      "{'eval_loss': 6.288832187652588, 'eval_accuracy': 0.5176925912274235, 'eval_runtime': 5.4368, 'eval_samples_per_second': 998.017, 'eval_steps_per_second': 62.537, 'epoch': 104.0}\n",
      "{'loss': 0.0065, 'grad_norm': 0.0007324925973080099, 'learning_rate': 9.558823529411766e-06, 'epoch': 104.41}\n"
     ]
    },
    {
     "data": {
      "application/vnd.jupyter.widget-view+json": {
       "model_id": "7cf03d36090844ac8c46a164b613fccc",
       "version_major": 2,
       "version_minor": 0
      },
      "text/plain": [
       "  0%|          | 0/340 [00:00<?, ?it/s]"
      ]
     },
     "metadata": {},
     "output_type": "display_data"
    },
    {
     "name": "stdout",
     "output_type": "stream",
     "text": [
      "{'eval_loss': 6.172756671905518, 'eval_accuracy': 0.5152967194987099, 'eval_runtime': 5.5197, 'eval_samples_per_second': 983.03, 'eval_steps_per_second': 61.598, 'epoch': 105.0}\n",
      "{'loss': 0.0005, 'grad_norm': 5.4603271484375, 'learning_rate': 9.411764705882354e-06, 'epoch': 105.88}\n"
     ]
    },
    {
     "data": {
      "application/vnd.jupyter.widget-view+json": {
       "model_id": "c5e588ba48aa48a482b8e270594ae1fb",
       "version_major": 2,
       "version_minor": 0
      },
      "text/plain": [
       "  0%|          | 0/340 [00:00<?, ?it/s]"
      ]
     },
     "metadata": {},
     "output_type": "display_data"
    },
    {
     "name": "stdout",
     "output_type": "stream",
     "text": [
      "{'eval_loss': 6.291200637817383, 'eval_accuracy': 0.523405823811279, 'eval_runtime': 5.3487, 'eval_samples_per_second': 1014.45, 'eval_steps_per_second': 63.567, 'epoch': 106.0}\n"
     ]
    },
    {
     "data": {
      "application/vnd.jupyter.widget-view+json": {
       "model_id": "bee4c36807e14f57b65754753fd80418",
       "version_major": 2,
       "version_minor": 0
      },
      "text/plain": [
       "  0%|          | 0/340 [00:00<?, ?it/s]"
      ]
     },
     "metadata": {},
     "output_type": "display_data"
    },
    {
     "name": "stdout",
     "output_type": "stream",
     "text": [
      "{'eval_loss': 6.163178443908691, 'eval_accuracy': 0.520641356431994, 'eval_runtime': 5.4345, 'eval_samples_per_second': 998.427, 'eval_steps_per_second': 62.563, 'epoch': 107.0}\n",
      "{'loss': 0.0036, 'grad_norm': 8.348307164851576e-05, 'learning_rate': 9.264705882352942e-06, 'epoch': 107.35}\n"
     ]
    },
    {
     "data": {
      "application/vnd.jupyter.widget-view+json": {
       "model_id": "007576c30e8f47fb803b96fd8207e744",
       "version_major": 2,
       "version_minor": 0
      },
      "text/plain": [
       "  0%|          | 0/340 [00:00<?, ?it/s]"
      ]
     },
     "metadata": {},
     "output_type": "display_data"
    },
    {
     "name": "stdout",
     "output_type": "stream",
     "text": [
      "{'eval_loss': 6.29404354095459, 'eval_accuracy': 0.512532252119425, 'eval_runtime': 5.2623, 'eval_samples_per_second': 1031.113, 'eval_steps_per_second': 64.611, 'epoch': 108.0}\n",
      "{'loss': 0.0019, 'grad_norm': 3.2036827178671956e-05, 'learning_rate': 9.11764705882353e-06, 'epoch': 108.82}\n"
     ]
    },
    {
     "data": {
      "application/vnd.jupyter.widget-view+json": {
       "model_id": "5e9c12faa4864cb3b122dcbe5e5a10fb",
       "version_major": 2,
       "version_minor": 0
      },
      "text/plain": [
       "  0%|          | 0/340 [00:00<?, ?it/s]"
      ]
     },
     "metadata": {},
     "output_type": "display_data"
    },
    {
     "name": "stdout",
     "output_type": "stream",
     "text": [
      "{'eval_loss': 6.251214981079102, 'eval_accuracy': 0.5278289716181349, 'eval_runtime': 5.3667, 'eval_samples_per_second': 1011.048, 'eval_steps_per_second': 63.354, 'epoch': 109.0}\n"
     ]
    },
    {
     "data": {
      "application/vnd.jupyter.widget-view+json": {
       "model_id": "9a37d05bb104426c9e7caf531ef3cda0",
       "version_major": 2,
       "version_minor": 0
      },
      "text/plain": [
       "  0%|          | 0/340 [00:00<?, ?it/s]"
      ]
     },
     "metadata": {},
     "output_type": "display_data"
    },
    {
     "name": "stdout",
     "output_type": "stream",
     "text": [
      "{'eval_loss': 6.302786350250244, 'eval_accuracy': 0.5160339107998526, 'eval_runtime': 5.4595, 'eval_samples_per_second': 993.86, 'eval_steps_per_second': 62.277, 'epoch': 110.0}\n",
      "{'loss': 0.004, 'grad_norm': 5.834532930748537e-05, 'learning_rate': 8.970588235294119e-06, 'epoch': 110.29}\n"
     ]
    },
    {
     "data": {
      "application/vnd.jupyter.widget-view+json": {
       "model_id": "85d9556b1ae8419f99d84e574b50ba80",
       "version_major": 2,
       "version_minor": 0
      },
      "text/plain": [
       "  0%|          | 0/340 [00:00<?, ?it/s]"
      ]
     },
     "metadata": {},
     "output_type": "display_data"
    },
    {
     "name": "stdout",
     "output_type": "stream",
     "text": [
      "{'eval_loss': 6.262653827667236, 'eval_accuracy': 0.5285661629192776, 'eval_runtime': 5.336, 'eval_samples_per_second': 1016.87, 'eval_steps_per_second': 63.718, 'epoch': 111.0}\n",
      "{'loss': 0.0019, 'grad_norm': 2.8847545763710514e-05, 'learning_rate': 8.823529411764707e-06, 'epoch': 111.76}\n"
     ]
    },
    {
     "data": {
      "application/vnd.jupyter.widget-view+json": {
       "model_id": "7ea9c961254a47cdafc60482d538a3d2",
       "version_major": 2,
       "version_minor": 0
      },
      "text/plain": [
       "  0%|          | 0/340 [00:00<?, ?it/s]"
      ]
     },
     "metadata": {},
     "output_type": "display_data"
    },
    {
     "name": "stdout",
     "output_type": "stream",
     "text": [
      "{'eval_loss': 6.294541835784912, 'eval_accuracy': 0.5193512716549945, 'eval_runtime': 5.4359, 'eval_samples_per_second': 998.186, 'eval_steps_per_second': 62.548, 'epoch': 112.0}\n"
     ]
    },
    {
     "data": {
      "application/vnd.jupyter.widget-view+json": {
       "model_id": "cfce9f13c0ea4f71ae3c3b20dc885de3",
       "version_major": 2,
       "version_minor": 0
      },
      "text/plain": [
       "  0%|          | 0/340 [00:00<?, ?it/s]"
      ]
     },
     "metadata": {},
     "output_type": "display_data"
    },
    {
     "name": "stdout",
     "output_type": "stream",
     "text": [
      "{'eval_loss': 6.334980010986328, 'eval_accuracy': 0.5248802064135644, 'eval_runtime': 5.3132, 'eval_samples_per_second': 1021.233, 'eval_steps_per_second': 63.992, 'epoch': 113.0}\n",
      "{'loss': 0.0012, 'grad_norm': 2.7679061531671323e-05, 'learning_rate': 8.676470588235295e-06, 'epoch': 113.24}\n"
     ]
    },
    {
     "data": {
      "application/vnd.jupyter.widget-view+json": {
       "model_id": "5e850814dc854960b4af56be11a12924",
       "version_major": 2,
       "version_minor": 0
      },
      "text/plain": [
       "  0%|          | 0/340 [00:00<?, ?it/s]"
      ]
     },
     "metadata": {},
     "output_type": "display_data"
    },
    {
     "name": "stdout",
     "output_type": "stream",
     "text": [
      "{'eval_loss': 6.364563941955566, 'eval_accuracy': 0.5152967194987099, 'eval_runtime': 5.5393, 'eval_samples_per_second': 979.545, 'eval_steps_per_second': 61.38, 'epoch': 114.0}\n",
      "{'loss': 0.0046, 'grad_norm': 0.0002745688834693283, 'learning_rate': 8.529411764705883e-06, 'epoch': 114.71}\n"
     ]
    },
    {
     "data": {
      "application/vnd.jupyter.widget-view+json": {
       "model_id": "cbc0d73ed94d420eb15122e3009dcf72",
       "version_major": 2,
       "version_minor": 0
      },
      "text/plain": [
       "  0%|          | 0/340 [00:00<?, ?it/s]"
      ]
     },
     "metadata": {},
     "output_type": "display_data"
    },
    {
     "name": "stdout",
     "output_type": "stream",
     "text": [
      "{'eval_loss': 6.407699108123779, 'eval_accuracy': 0.5199041651308515, 'eval_runtime': 5.3948, 'eval_samples_per_second': 1005.784, 'eval_steps_per_second': 63.024, 'epoch': 115.0}\n"
     ]
    },
    {
     "data": {
      "application/vnd.jupyter.widget-view+json": {
       "model_id": "bdd816d9fe9e46f8a12d7c1b548bc95a",
       "version_major": 2,
       "version_minor": 0
      },
      "text/plain": [
       "  0%|          | 0/340 [00:00<?, ?it/s]"
      ]
     },
     "metadata": {},
     "output_type": "display_data"
    },
    {
     "name": "stdout",
     "output_type": "stream",
     "text": [
      "{'eval_loss': 6.518884181976318, 'eval_accuracy': 0.5213785477331367, 'eval_runtime': 5.3557, 'eval_samples_per_second': 1013.127, 'eval_steps_per_second': 63.484, 'epoch': 116.0}\n",
      "{'loss': 0.0008, 'grad_norm': 0.0001265844766749069, 'learning_rate': 8.382352941176472e-06, 'epoch': 116.18}\n"
     ]
    },
    {
     "data": {
      "application/vnd.jupyter.widget-view+json": {
       "model_id": "d6bc23e63cd94e4a952b660722559443",
       "version_major": 2,
       "version_minor": 0
      },
      "text/plain": [
       "  0%|          | 0/340 [00:00<?, ?it/s]"
      ]
     },
     "metadata": {},
     "output_type": "display_data"
    },
    {
     "name": "stdout",
     "output_type": "stream",
     "text": [
      "{'eval_loss': 6.42823600769043, 'eval_accuracy': 0.5246959085882786, 'eval_runtime': 5.3497, 'eval_samples_per_second': 1014.268, 'eval_steps_per_second': 63.555, 'epoch': 117.0}\n",
      "{'loss': 0.0031, 'grad_norm': 0.0002652391267474741, 'learning_rate': 8.23529411764706e-06, 'epoch': 117.65}\n"
     ]
    },
    {
     "data": {
      "application/vnd.jupyter.widget-view+json": {
       "model_id": "5019385908f1426d9f3f615ceffe6fb2",
       "version_major": 2,
       "version_minor": 0
      },
      "text/plain": [
       "  0%|          | 0/340 [00:00<?, ?it/s]"
      ]
     },
     "metadata": {},
     "output_type": "display_data"
    },
    {
     "name": "stdout",
     "output_type": "stream",
     "text": [
      "{'eval_loss': 6.3854241371154785, 'eval_accuracy': 0.5193512716549945, 'eval_runtime': 5.2156, 'eval_samples_per_second': 1040.331, 'eval_steps_per_second': 65.188, 'epoch': 118.0}\n"
     ]
    },
    {
     "data": {
      "application/vnd.jupyter.widget-view+json": {
       "model_id": "6e6bff0dc39c4ebd810ff0a186dd2dba",
       "version_major": 2,
       "version_minor": 0
      },
      "text/plain": [
       "  0%|          | 0/340 [00:00<?, ?it/s]"
      ]
     },
     "metadata": {},
     "output_type": "display_data"
    },
    {
     "name": "stdout",
     "output_type": "stream",
     "text": [
      "{'eval_loss': 6.374866008758545, 'eval_accuracy': 0.5151124216734243, 'eval_runtime': 5.3501, 'eval_samples_per_second': 1014.178, 'eval_steps_per_second': 63.55, 'epoch': 119.0}\n",
      "{'loss': 0.0027, 'grad_norm': 5.369255450204946e-05, 'learning_rate': 8.088235294117648e-06, 'epoch': 119.12}\n"
     ]
    },
    {
     "data": {
      "application/vnd.jupyter.widget-view+json": {
       "model_id": "5b54fe203f9f415c92c834479316288e",
       "version_major": 2,
       "version_minor": 0
      },
      "text/plain": [
       "  0%|          | 0/340 [00:00<?, ?it/s]"
      ]
     },
     "metadata": {},
     "output_type": "display_data"
    },
    {
     "name": "stdout",
     "output_type": "stream",
     "text": [
      "{'eval_loss': 6.368167400360107, 'eval_accuracy': 0.5269074824917066, 'eval_runtime': 5.4104, 'eval_samples_per_second': 1002.879, 'eval_steps_per_second': 62.842, 'epoch': 120.0}\n",
      "{'loss': 0.0044, 'grad_norm': 0.00013245201262179762, 'learning_rate': 7.941176470588236e-06, 'epoch': 120.59}\n"
     ]
    },
    {
     "data": {
      "application/vnd.jupyter.widget-view+json": {
       "model_id": "1f128b3b4374457e9aad25090d4e73ca",
       "version_major": 2,
       "version_minor": 0
      },
      "text/plain": [
       "  0%|          | 0/340 [00:00<?, ?it/s]"
      ]
     },
     "metadata": {},
     "output_type": "display_data"
    },
    {
     "name": "stdout",
     "output_type": "stream",
     "text": [
      "{'eval_loss': 6.353246212005615, 'eval_accuracy': 0.5149281238481386, 'eval_runtime': 5.5562, 'eval_samples_per_second': 976.561, 'eval_steps_per_second': 61.193, 'epoch': 121.0}\n"
     ]
    },
    {
     "data": {
      "application/vnd.jupyter.widget-view+json": {
       "model_id": "1159f4887df54cdf89aa44ef3fcab40b",
       "version_major": 2,
       "version_minor": 0
      },
      "text/plain": [
       "  0%|          | 0/340 [00:00<?, ?it/s]"
      ]
     },
     "metadata": {},
     "output_type": "display_data"
    },
    {
     "name": "stdout",
     "output_type": "stream",
     "text": [
      "{'eval_loss': 6.555935859680176, 'eval_accuracy': 0.5311463324732768, 'eval_runtime': 5.3943, 'eval_samples_per_second': 1005.885, 'eval_steps_per_second': 63.03, 'epoch': 122.0}\n",
      "{'loss': 0.0007, 'grad_norm': 1.7331034541712143e-05, 'learning_rate': 7.794117647058825e-06, 'epoch': 122.06}\n"
     ]
    },
    {
     "data": {
      "application/vnd.jupyter.widget-view+json": {
       "model_id": "b188f5c0e1b544e0991a80dbff64df9a",
       "version_major": 2,
       "version_minor": 0
      },
      "text/plain": [
       "  0%|          | 0/340 [00:00<?, ?it/s]"
      ]
     },
     "metadata": {},
     "output_type": "display_data"
    },
    {
     "name": "stdout",
     "output_type": "stream",
     "text": [
      "{'eval_loss': 6.513190746307373, 'eval_accuracy': 0.5075562108367121, 'eval_runtime': 5.2935, 'eval_samples_per_second': 1025.032, 'eval_steps_per_second': 64.23, 'epoch': 123.0}\n",
      "{'loss': 0.0043, 'grad_norm': 2.5929673938662745e-05, 'learning_rate': 7.647058823529411e-06, 'epoch': 123.53}\n"
     ]
    },
    {
     "data": {
      "application/vnd.jupyter.widget-view+json": {
       "model_id": "54df089410d94a638ee4d90cc36e90ff",
       "version_major": 2,
       "version_minor": 0
      },
      "text/plain": [
       "  0%|          | 0/340 [00:00<?, ?it/s]"
      ]
     },
     "metadata": {},
     "output_type": "display_data"
    },
    {
     "name": "stdout",
     "output_type": "stream",
     "text": [
      "{'eval_loss': 6.4919281005859375, 'eval_accuracy': 0.5033173608551419, 'eval_runtime': 5.4545, 'eval_samples_per_second': 994.783, 'eval_steps_per_second': 62.334, 'epoch': 124.0}\n",
      "{'loss': 0.0017, 'grad_norm': 5.4988307965686545e-05, 'learning_rate': 7.500000000000001e-06, 'epoch': 125.0}\n"
     ]
    },
    {
     "data": {
      "application/vnd.jupyter.widget-view+json": {
       "model_id": "b161418075d947d6975c1cbd3904a85e",
       "version_major": 2,
       "version_minor": 0
      },
      "text/plain": [
       "  0%|          | 0/340 [00:00<?, ?it/s]"
      ]
     },
     "metadata": {},
     "output_type": "display_data"
    },
    {
     "name": "stdout",
     "output_type": "stream",
     "text": [
      "{'eval_loss': 6.4002227783203125, 'eval_accuracy': 0.514743826022853, 'eval_runtime': 5.5274, 'eval_samples_per_second': 981.652, 'eval_steps_per_second': 61.512, 'epoch': 125.0}\n"
     ]
    },
    {
     "data": {
      "application/vnd.jupyter.widget-view+json": {
       "model_id": "b7dc7b36351143e2b2b82f5f5197a20e",
       "version_major": 2,
       "version_minor": 0
      },
      "text/plain": [
       "  0%|          | 0/340 [00:00<?, ?it/s]"
      ]
     },
     "metadata": {},
     "output_type": "display_data"
    },
    {
     "name": "stdout",
     "output_type": "stream",
     "text": [
      "{'eval_loss': 6.417046546936035, 'eval_accuracy': 0.5219314412089937, 'eval_runtime': 5.4328, 'eval_samples_per_second': 998.744, 'eval_steps_per_second': 62.583, 'epoch': 126.0}\n",
      "{'loss': 0.0024, 'grad_norm': 2.286481139890384e-05, 'learning_rate': 7.352941176470589e-06, 'epoch': 126.47}\n"
     ]
    },
    {
     "data": {
      "application/vnd.jupyter.widget-view+json": {
       "model_id": "829785fe53df4a538ba95ae6ff04c95c",
       "version_major": 2,
       "version_minor": 0
      },
      "text/plain": [
       "  0%|          | 0/340 [00:00<?, ?it/s]"
      ]
     },
     "metadata": {},
     "output_type": "display_data"
    },
    {
     "name": "stdout",
     "output_type": "stream",
     "text": [
      "{'eval_loss': 6.464824199676514, 'eval_accuracy': 0.5193512716549945, 'eval_runtime': 5.3451, 'eval_samples_per_second': 1015.141, 'eval_steps_per_second': 63.61, 'epoch': 127.0}\n",
      "{'loss': 0.0003, 'grad_norm': 0.0007632258930243552, 'learning_rate': 7.205882352941177e-06, 'epoch': 127.94}\n"
     ]
    },
    {
     "data": {
      "application/vnd.jupyter.widget-view+json": {
       "model_id": "af39743a33a842f1aa40495ba0089c8b",
       "version_major": 2,
       "version_minor": 0
      },
      "text/plain": [
       "  0%|          | 0/340 [00:00<?, ?it/s]"
      ]
     },
     "metadata": {},
     "output_type": "display_data"
    },
    {
     "name": "stdout",
     "output_type": "stream",
     "text": [
      "{'eval_loss': 6.4646406173706055, 'eval_accuracy': 0.5165868042757096, 'eval_runtime': 5.399, 'eval_samples_per_second': 1004.998, 'eval_steps_per_second': 62.974, 'epoch': 128.0}\n"
     ]
    },
    {
     "data": {
      "application/vnd.jupyter.widget-view+json": {
       "model_id": "d5ded3dfc8934fba8acff3bbbe2d7871",
       "version_major": 2,
       "version_minor": 0
      },
      "text/plain": [
       "  0%|          | 0/340 [00:00<?, ?it/s]"
      ]
     },
     "metadata": {},
     "output_type": "display_data"
    },
    {
     "name": "stdout",
     "output_type": "stream",
     "text": [
      "{'eval_loss': 6.40794038772583, 'eval_accuracy': 0.5187983781791374, 'eval_runtime': 5.5801, 'eval_samples_per_second': 972.389, 'eval_steps_per_second': 60.931, 'epoch': 129.0}\n",
      "{'loss': 0.0023, 'grad_norm': 4.842726048082113e-05, 'learning_rate': 7.058823529411766e-06, 'epoch': 129.41}\n"
     ]
    },
    {
     "data": {
      "application/vnd.jupyter.widget-view+json": {
       "model_id": "002b4c0713b1414fb8c78b99409b4728",
       "version_major": 2,
       "version_minor": 0
      },
      "text/plain": [
       "  0%|          | 0/340 [00:00<?, ?it/s]"
      ]
     },
     "metadata": {},
     "output_type": "display_data"
    },
    {
     "name": "stdout",
     "output_type": "stream",
     "text": [
      "{'eval_loss': 6.301032543182373, 'eval_accuracy': 0.5235901216365647, 'eval_runtime': 5.5429, 'eval_samples_per_second': 978.916, 'eval_steps_per_second': 61.34, 'epoch': 130.0}\n",
      "{'loss': 0.0009, 'grad_norm': 3.748298331629485e-05, 'learning_rate': 6.911764705882353e-06, 'epoch': 130.88}\n"
     ]
    },
    {
     "data": {
      "application/vnd.jupyter.widget-view+json": {
       "model_id": "c25897d1cae3483781e9e5a54b9b7b83",
       "version_major": 2,
       "version_minor": 0
      },
      "text/plain": [
       "  0%|          | 0/340 [00:00<?, ?it/s]"
      ]
     },
     "metadata": {},
     "output_type": "display_data"
    },
    {
     "name": "stdout",
     "output_type": "stream",
     "text": [
      "{'eval_loss': 6.356691360473633, 'eval_accuracy': 0.5093991890895687, 'eval_runtime': 5.4654, 'eval_samples_per_second': 992.791, 'eval_steps_per_second': 62.21, 'epoch': 131.0}\n"
     ]
    },
    {
     "data": {
      "application/vnd.jupyter.widget-view+json": {
       "model_id": "d825c8f80db24cd1a9669e2f745aacf8",
       "version_major": 2,
       "version_minor": 0
      },
      "text/plain": [
       "  0%|          | 0/340 [00:00<?, ?it/s]"
      ]
     },
     "metadata": {},
     "output_type": "display_data"
    },
    {
     "name": "stdout",
     "output_type": "stream",
     "text": [
      "{'eval_loss': 6.357562065124512, 'eval_accuracy': 0.5237744194618503, 'eval_runtime': 5.2596, 'eval_samples_per_second': 1031.641, 'eval_steps_per_second': 64.644, 'epoch': 132.0}\n",
      "{'loss': 0.0025, 'grad_norm': 0.0006331893964670599, 'learning_rate': 6.764705882352942e-06, 'epoch': 132.35}\n"
     ]
    },
    {
     "data": {
      "application/vnd.jupyter.widget-view+json": {
       "model_id": "3eb2bfa6711d4c888e0f4bd2e14d1877",
       "version_major": 2,
       "version_minor": 0
      },
      "text/plain": [
       "  0%|          | 0/340 [00:00<?, ?it/s]"
      ]
     },
     "metadata": {},
     "output_type": "display_data"
    },
    {
     "name": "stdout",
     "output_type": "stream",
     "text": [
      "{'eval_loss': 6.389156341552734, 'eval_accuracy': 0.5199041651308515, 'eval_runtime': 5.4252, 'eval_samples_per_second': 1000.151, 'eval_steps_per_second': 62.671, 'epoch': 133.0}\n",
      "{'loss': 0.0029, 'grad_norm': 0.00024221595958806574, 'learning_rate': 6.61764705882353e-06, 'epoch': 133.82}\n"
     ]
    },
    {
     "data": {
      "application/vnd.jupyter.widget-view+json": {
       "model_id": "230595c4af034a28964bedd57a9e2b91",
       "version_major": 2,
       "version_minor": 0
      },
      "text/plain": [
       "  0%|          | 0/340 [00:00<?, ?it/s]"
      ]
     },
     "metadata": {},
     "output_type": "display_data"
    },
    {
     "name": "stdout",
     "output_type": "stream",
     "text": [
      "{'eval_loss': 6.385624408721924, 'eval_accuracy': 0.5195355694802801, 'eval_runtime': 5.5075, 'eval_samples_per_second': 985.21, 'eval_steps_per_second': 61.734, 'epoch': 134.0}\n"
     ]
    },
    {
     "data": {
      "application/vnd.jupyter.widget-view+json": {
       "model_id": "92d1bc8ea6224814ba0b14be0096144c",
       "version_major": 2,
       "version_minor": 0
      },
      "text/plain": [
       "  0%|          | 0/340 [00:00<?, ?it/s]"
      ]
     },
     "metadata": {},
     "output_type": "display_data"
    },
    {
     "name": "stdout",
     "output_type": "stream",
     "text": [
      "{'eval_loss': 6.448187351226807, 'eval_accuracy': 0.5140066347217103, 'eval_runtime': 5.4289, 'eval_samples_per_second': 999.473, 'eval_steps_per_second': 62.628, 'epoch': 135.0}\n",
      "{'loss': 0.0019, 'grad_norm': 6.421879515983164e-05, 'learning_rate': 6.470588235294119e-06, 'epoch': 135.29}\n"
     ]
    },
    {
     "data": {
      "application/vnd.jupyter.widget-view+json": {
       "model_id": "38fe9de2ac8b43449ec92696edcaba65",
       "version_major": 2,
       "version_minor": 0
      },
      "text/plain": [
       "  0%|          | 0/340 [00:00<?, ?it/s]"
      ]
     },
     "metadata": {},
     "output_type": "display_data"
    },
    {
     "name": "stdout",
     "output_type": "stream",
     "text": [
      "{'eval_loss': 6.445704936981201, 'eval_accuracy': 0.5134537412458533, 'eval_runtime': 5.5754, 'eval_samples_per_second': 973.211, 'eval_steps_per_second': 60.983, 'epoch': 136.0}\n",
      "{'loss': 0.0046, 'grad_norm': 2.6967267331201583e-05, 'learning_rate': 6.323529411764706e-06, 'epoch': 136.76}\n"
     ]
    },
    {
     "data": {
      "application/vnd.jupyter.widget-view+json": {
       "model_id": "8fa5792da5944b70a233b0d909d1e09e",
       "version_major": 2,
       "version_minor": 0
      },
      "text/plain": [
       "  0%|          | 0/340 [00:00<?, ?it/s]"
      ]
     },
     "metadata": {},
     "output_type": "display_data"
    },
    {
     "name": "stdout",
     "output_type": "stream",
     "text": [
      "{'eval_loss': 6.426699638366699, 'eval_accuracy': 0.5213785477331367, 'eval_runtime': 5.3691, 'eval_samples_per_second': 1010.597, 'eval_steps_per_second': 63.325, 'epoch': 137.0}\n"
     ]
    },
    {
     "data": {
      "application/vnd.jupyter.widget-view+json": {
       "model_id": "d3f43d6742c344c0b0726e1cf0835453",
       "version_major": 2,
       "version_minor": 0
      },
      "text/plain": [
       "  0%|          | 0/340 [00:00<?, ?it/s]"
      ]
     },
     "metadata": {},
     "output_type": "display_data"
    },
    {
     "name": "stdout",
     "output_type": "stream",
     "text": [
      "{'eval_loss': 6.454591274261475, 'eval_accuracy': 0.5173239955768522, 'eval_runtime': 5.4823, 'eval_samples_per_second': 989.725, 'eval_steps_per_second': 62.017, 'epoch': 138.0}\n",
      "{'loss': 0.0007, 'grad_norm': 3.3597076253499836e-05, 'learning_rate': 6.176470588235295e-06, 'epoch': 138.24}\n"
     ]
    },
    {
     "data": {
      "application/vnd.jupyter.widget-view+json": {
       "model_id": "1f51c04aa8264782bd2129615a1512c3",
       "version_major": 2,
       "version_minor": 0
      },
      "text/plain": [
       "  0%|          | 0/340 [00:00<?, ?it/s]"
      ]
     },
     "metadata": {},
     "output_type": "display_data"
    },
    {
     "name": "stdout",
     "output_type": "stream",
     "text": [
      "{'eval_loss': 6.48867130279541, 'eval_accuracy': 0.5208256542572798, 'eval_runtime': 5.5015, 'eval_samples_per_second': 986.268, 'eval_steps_per_second': 61.801, 'epoch': 139.0}\n",
      "{'loss': 0.0027, 'grad_norm': 0.0006495313136838377, 'learning_rate': 6.029411764705883e-06, 'epoch': 139.71}\n"
     ]
    },
    {
     "data": {
      "application/vnd.jupyter.widget-view+json": {
       "model_id": "b416b94b10dd4026bb49cf56defe44a6",
       "version_major": 2,
       "version_minor": 0
      },
      "text/plain": [
       "  0%|          | 0/340 [00:00<?, ?it/s]"
      ]
     },
     "metadata": {},
     "output_type": "display_data"
    },
    {
     "name": "stdout",
     "output_type": "stream",
     "text": [
      "{'eval_loss': 6.590733528137207, 'eval_accuracy': 0.49870991522300034, 'eval_runtime': 5.4839, 'eval_samples_per_second': 989.44, 'eval_steps_per_second': 62.0, 'epoch': 140.0}\n"
     ]
    },
    {
     "data": {
      "application/vnd.jupyter.widget-view+json": {
       "model_id": "4915b81ef8264d879c816e2c6054fb13",
       "version_major": 2,
       "version_minor": 0
      },
      "text/plain": [
       "  0%|          | 0/340 [00:00<?, ?it/s]"
      ]
     },
     "metadata": {},
     "output_type": "display_data"
    },
    {
     "name": "stdout",
     "output_type": "stream",
     "text": [
      "{'eval_loss': 6.54136848449707, 'eval_accuracy': 0.5099520825654257, 'eval_runtime': 5.4307, 'eval_samples_per_second': 999.141, 'eval_steps_per_second': 62.607, 'epoch': 141.0}\n",
      "{'loss': 0.0018, 'grad_norm': 4.733550304081291e-05, 'learning_rate': 5.882352941176471e-06, 'epoch': 141.18}\n"
     ]
    },
    {
     "data": {
      "application/vnd.jupyter.widget-view+json": {
       "model_id": "290a820835fa46f8b849ac05292384c8",
       "version_major": 2,
       "version_minor": 0
      },
      "text/plain": [
       "  0%|          | 0/340 [00:00<?, ?it/s]"
      ]
     },
     "metadata": {},
     "output_type": "display_data"
    },
    {
     "name": "stdout",
     "output_type": "stream",
     "text": [
      "{'eval_loss': 6.474178791046143, 'eval_accuracy': 0.5258016955399927, 'eval_runtime': 5.4025, 'eval_samples_per_second': 1004.353, 'eval_steps_per_second': 62.934, 'epoch': 142.0}\n",
      "{'loss': 0.002, 'grad_norm': 6.22734660282731e-05, 'learning_rate': 5.735294117647059e-06, 'epoch': 142.65}\n"
     ]
    },
    {
     "data": {
      "application/vnd.jupyter.widget-view+json": {
       "model_id": "1a1fe8c9715149819d94ed2acea98ccb",
       "version_major": 2,
       "version_minor": 0
      },
      "text/plain": [
       "  0%|          | 0/340 [00:00<?, ?it/s]"
      ]
     },
     "metadata": {},
     "output_type": "display_data"
    },
    {
     "name": "stdout",
     "output_type": "stream",
     "text": [
      "{'eval_loss': 6.527003765106201, 'eval_accuracy': 0.5105049760412828, 'eval_runtime': 5.3934, 'eval_samples_per_second': 1006.037, 'eval_steps_per_second': 63.04, 'epoch': 143.0}\n"
     ]
    },
    {
     "data": {
      "application/vnd.jupyter.widget-view+json": {
       "model_id": "813bd20754f9465583040bce2c5396e6",
       "version_major": 2,
       "version_minor": 0
      },
      "text/plain": [
       "  0%|          | 0/340 [00:00<?, ?it/s]"
      ]
     },
     "metadata": {},
     "output_type": "display_data"
    },
    {
     "name": "stdout",
     "output_type": "stream",
     "text": [
      "{'eval_loss': 6.535827159881592, 'eval_accuracy': 0.5152967194987099, 'eval_runtime': 5.4232, 'eval_samples_per_second': 1000.509, 'eval_steps_per_second': 62.693, 'epoch': 144.0}\n",
      "{'loss': 0.001, 'grad_norm': 3.215154356439598e-05, 'learning_rate': 5.588235294117647e-06, 'epoch': 144.12}\n"
     ]
    },
    {
     "data": {
      "application/vnd.jupyter.widget-view+json": {
       "model_id": "a3739a4bdef44ff984d6ceb331748362",
       "version_major": 2,
       "version_minor": 0
      },
      "text/plain": [
       "  0%|          | 0/340 [00:00<?, ?it/s]"
      ]
     },
     "metadata": {},
     "output_type": "display_data"
    },
    {
     "name": "stdout",
     "output_type": "stream",
     "text": [
      "{'eval_loss': 6.6566691398620605, 'eval_accuracy': 0.5169553999262809, 'eval_runtime': 5.5462, 'eval_samples_per_second': 978.325, 'eval_steps_per_second': 61.303, 'epoch': 145.0}\n",
      "{'loss': 0.0004, 'grad_norm': 0.5658621191978455, 'learning_rate': 5.441176470588236e-06, 'epoch': 145.59}\n"
     ]
    },
    {
     "data": {
      "application/vnd.jupyter.widget-view+json": {
       "model_id": "15f998f4dab3471b827b1a9a95fbab13",
       "version_major": 2,
       "version_minor": 0
      },
      "text/plain": [
       "  0%|          | 0/340 [00:00<?, ?it/s]"
      ]
     },
     "metadata": {},
     "output_type": "display_data"
    },
    {
     "name": "stdout",
     "output_type": "stream",
     "text": [
      "{'eval_loss': 6.635306358337402, 'eval_accuracy': 0.5084776999631404, 'eval_runtime': 5.1964, 'eval_samples_per_second': 1044.184, 'eval_steps_per_second': 65.43, 'epoch': 146.0}\n"
     ]
    },
    {
     "data": {
      "application/vnd.jupyter.widget-view+json": {
       "model_id": "ad367a84d2704dacab13dc31f9f7f5fb",
       "version_major": 2,
       "version_minor": 0
      },
      "text/plain": [
       "  0%|          | 0/340 [00:00<?, ?it/s]"
      ]
     },
     "metadata": {},
     "output_type": "display_data"
    },
    {
     "name": "stdout",
     "output_type": "stream",
     "text": [
      "{'eval_loss': 6.639509677886963, 'eval_accuracy': 0.5270917803169922, 'eval_runtime': 5.2474, 'eval_samples_per_second': 1034.029, 'eval_steps_per_second': 64.794, 'epoch': 147.0}\n",
      "{'loss': 0.0009, 'grad_norm': 0.00039404461858794093, 'learning_rate': 5.294117647058824e-06, 'epoch': 147.06}\n"
     ]
    },
    {
     "data": {
      "application/vnd.jupyter.widget-view+json": {
       "model_id": "39b3f4eedfed4b279b275db110171ecf",
       "version_major": 2,
       "version_minor": 0
      },
      "text/plain": [
       "  0%|          | 0/340 [00:00<?, ?it/s]"
      ]
     },
     "metadata": {},
     "output_type": "display_data"
    },
    {
     "name": "stdout",
     "output_type": "stream",
     "text": [
      "{'eval_loss': 6.539186477661133, 'eval_accuracy': 0.5193512716549945, 'eval_runtime': 5.338, 'eval_samples_per_second': 1016.495, 'eval_steps_per_second': 63.695, 'epoch': 148.0}\n",
      "{'loss': 0.0005, 'grad_norm': 1.612398227734957e-05, 'learning_rate': 5.147058823529411e-06, 'epoch': 148.53}\n"
     ]
    },
    {
     "data": {
      "application/vnd.jupyter.widget-view+json": {
       "model_id": "312128cc85fc4cde8fccccc908226631",
       "version_major": 2,
       "version_minor": 0
      },
      "text/plain": [
       "  0%|          | 0/340 [00:00<?, ?it/s]"
      ]
     },
     "metadata": {},
     "output_type": "display_data"
    },
    {
     "name": "stdout",
     "output_type": "stream",
     "text": [
      "{'eval_loss': 6.533014297485352, 'eval_accuracy': 0.5221157390342794, 'eval_runtime': 5.4091, 'eval_samples_per_second': 1003.129, 'eval_steps_per_second': 62.857, 'epoch': 149.0}\n",
      "{'loss': 0.0023, 'grad_norm': 1.517610053269891e-05, 'learning_rate': 5e-06, 'epoch': 150.0}\n"
     ]
    },
    {
     "data": {
      "application/vnd.jupyter.widget-view+json": {
       "model_id": "1ba4f844dec54aa58212af0e157bd7e2",
       "version_major": 2,
       "version_minor": 0
      },
      "text/plain": [
       "  0%|          | 0/340 [00:00<?, ?it/s]"
      ]
     },
     "metadata": {},
     "output_type": "display_data"
    },
    {
     "name": "stdout",
     "output_type": "stream",
     "text": [
      "{'eval_loss': 6.502955913543701, 'eval_accuracy': 0.5241430151124217, 'eval_runtime': 5.4335, 'eval_samples_per_second': 998.626, 'eval_steps_per_second': 62.575, 'epoch': 150.0}\n"
     ]
    },
    {
     "data": {
      "application/vnd.jupyter.widget-view+json": {
       "model_id": "e3a7be7b75834e18a2423411be1a5bb3",
       "version_major": 2,
       "version_minor": 0
      },
      "text/plain": [
       "  0%|          | 0/340 [00:00<?, ?it/s]"
      ]
     },
     "metadata": {},
     "output_type": "display_data"
    },
    {
     "name": "stdout",
     "output_type": "stream",
     "text": [
      "{'eval_loss': 6.532896518707275, 'eval_accuracy': 0.5197198673055657, 'eval_runtime': 5.289, 'eval_samples_per_second': 1025.894, 'eval_steps_per_second': 64.284, 'epoch': 151.0}\n",
      "{'loss': 0.0005, 'grad_norm': 0.00011010973685188219, 'learning_rate': 4.852941176470589e-06, 'epoch': 151.47}\n"
     ]
    },
    {
     "data": {
      "application/vnd.jupyter.widget-view+json": {
       "model_id": "0fc499f2224848898e55ed2b2dd97b18",
       "version_major": 2,
       "version_minor": 0
      },
      "text/plain": [
       "  0%|          | 0/340 [00:00<?, ?it/s]"
      ]
     },
     "metadata": {},
     "output_type": "display_data"
    },
    {
     "name": "stdout",
     "output_type": "stream",
     "text": [
      "{'eval_loss': 6.461333274841309, 'eval_accuracy': 0.5235901216365647, 'eval_runtime': 5.2146, 'eval_samples_per_second': 1040.531, 'eval_steps_per_second': 65.201, 'epoch': 152.0}\n",
      "{'loss': 0.0004, 'grad_norm': 4.8316173888451885e-06, 'learning_rate': 4.705882352941177e-06, 'epoch': 152.94}\n"
     ]
    },
    {
     "data": {
      "application/vnd.jupyter.widget-view+json": {
       "model_id": "7cd4b43bfd6e4e3299343604fcc74ae8",
       "version_major": 2,
       "version_minor": 0
      },
      "text/plain": [
       "  0%|          | 0/340 [00:00<?, ?it/s]"
      ]
     },
     "metadata": {},
     "output_type": "display_data"
    },
    {
     "name": "stdout",
     "output_type": "stream",
     "text": [
      "{'eval_loss': 6.470024108886719, 'eval_accuracy': 0.523405823811279, 'eval_runtime': 5.4819, 'eval_samples_per_second': 989.803, 'eval_steps_per_second': 62.022, 'epoch': 153.0}\n"
     ]
    },
    {
     "data": {
      "application/vnd.jupyter.widget-view+json": {
       "model_id": "60b544135dac4db286a6108083f8a553",
       "version_major": 2,
       "version_minor": 0
      },
      "text/plain": [
       "  0%|          | 0/340 [00:00<?, ?it/s]"
      ]
     },
     "metadata": {},
     "output_type": "display_data"
    },
    {
     "name": "stdout",
     "output_type": "stream",
     "text": [
      "{'eval_loss': 6.478061199188232, 'eval_accuracy': 0.5182454847032805, 'eval_runtime': 5.3702, 'eval_samples_per_second': 1010.396, 'eval_steps_per_second': 63.313, 'epoch': 154.0}\n",
      "{'loss': 0.0021, 'grad_norm': 0.0005185644840821624, 'learning_rate': 4.558823529411765e-06, 'epoch': 154.41}\n"
     ]
    },
    {
     "data": {
      "application/vnd.jupyter.widget-view+json": {
       "model_id": "916d51d0281340c795a77a708b6260e6",
       "version_major": 2,
       "version_minor": 0
      },
      "text/plain": [
       "  0%|          | 0/340 [00:00<?, ?it/s]"
      ]
     },
     "metadata": {},
     "output_type": "display_data"
    },
    {
     "name": "stdout",
     "output_type": "stream",
     "text": [
      "{'eval_loss': 6.448193073272705, 'eval_accuracy': 0.5202727607814228, 'eval_runtime': 5.4339, 'eval_samples_per_second': 998.537, 'eval_steps_per_second': 62.57, 'epoch': 155.0}\n",
      "{'loss': 0.0015, 'grad_norm': 3.3722732041496783e-05, 'learning_rate': 4.411764705882353e-06, 'epoch': 155.88}\n"
     ]
    },
    {
     "data": {
      "application/vnd.jupyter.widget-view+json": {
       "model_id": "3a4cc59f376a4c05bfd8c0c0ae74cb7f",
       "version_major": 2,
       "version_minor": 0
      },
      "text/plain": [
       "  0%|          | 0/340 [00:00<?, ?it/s]"
      ]
     },
     "metadata": {},
     "output_type": "display_data"
    },
    {
     "name": "stdout",
     "output_type": "stream",
     "text": [
      "{'eval_loss': 6.507061004638672, 'eval_accuracy': 0.5093991890895687, 'eval_runtime': 5.313, 'eval_samples_per_second': 1021.264, 'eval_steps_per_second': 63.994, 'epoch': 156.0}\n"
     ]
    },
    {
     "data": {
      "application/vnd.jupyter.widget-view+json": {
       "model_id": "c95dc9e471e448199922db95512c7dca",
       "version_major": 2,
       "version_minor": 0
      },
      "text/plain": [
       "  0%|          | 0/340 [00:00<?, ?it/s]"
      ]
     },
     "metadata": {},
     "output_type": "display_data"
    },
    {
     "name": "stdout",
     "output_type": "stream",
     "text": [
      "{'eval_loss': 6.4719977378845215, 'eval_accuracy': 0.5175082934021379, 'eval_runtime': 5.4031, 'eval_samples_per_second': 1004.233, 'eval_steps_per_second': 62.926, 'epoch': 157.0}\n",
      "{'loss': 0.0006, 'grad_norm': 6.672999734291807e-05, 'learning_rate': 4.264705882352942e-06, 'epoch': 157.35}\n"
     ]
    },
    {
     "data": {
      "application/vnd.jupyter.widget-view+json": {
       "model_id": "c064ef9d3020436e96ce311410ad2d6c",
       "version_major": 2,
       "version_minor": 0
      },
      "text/plain": [
       "  0%|          | 0/340 [00:00<?, ?it/s]"
      ]
     },
     "metadata": {},
     "output_type": "display_data"
    },
    {
     "name": "stdout",
     "output_type": "stream",
     "text": [
      "{'eval_loss': 6.517220497131348, 'eval_accuracy': 0.5270917803169922, 'eval_runtime': 5.4691, 'eval_samples_per_second': 992.113, 'eval_steps_per_second': 62.167, 'epoch': 158.0}\n",
      "{'loss': 0.0003, 'grad_norm': 0.0001154640267486684, 'learning_rate': 4.11764705882353e-06, 'epoch': 158.82}\n"
     ]
    },
    {
     "data": {
      "application/vnd.jupyter.widget-view+json": {
       "model_id": "39c7756c47b14724ba164496cf26a3e1",
       "version_major": 2,
       "version_minor": 0
      },
      "text/plain": [
       "  0%|          | 0/340 [00:00<?, ?it/s]"
      ]
     },
     "metadata": {},
     "output_type": "display_data"
    },
    {
     "name": "stdout",
     "output_type": "stream",
     "text": [
      "{'eval_loss': 6.546143531799316, 'eval_accuracy': 0.5169553999262809, 'eval_runtime': 5.4465, 'eval_samples_per_second': 996.239, 'eval_steps_per_second': 62.426, 'epoch': 159.0}\n"
     ]
    },
    {
     "data": {
      "application/vnd.jupyter.widget-view+json": {
       "model_id": "2d06efac9e864222800a1d3d5ca71b14",
       "version_major": 2,
       "version_minor": 0
      },
      "text/plain": [
       "  0%|          | 0/340 [00:00<?, ?it/s]"
      ]
     },
     "metadata": {},
     "output_type": "display_data"
    },
    {
     "name": "stdout",
     "output_type": "stream",
     "text": [
      "{'eval_loss': 6.540170669555664, 'eval_accuracy': 0.5193512716549945, 'eval_runtime': 5.4137, 'eval_samples_per_second': 1002.272, 'eval_steps_per_second': 62.804, 'epoch': 160.0}\n",
      "{'loss': 0.0003, 'grad_norm': 8.805310244497377e-06, 'learning_rate': 3.970588235294118e-06, 'epoch': 160.29}\n"
     ]
    },
    {
     "data": {
      "application/vnd.jupyter.widget-view+json": {
       "model_id": "10f849d1885f47809679ad5aedfe014e",
       "version_major": 2,
       "version_minor": 0
      },
      "text/plain": [
       "  0%|          | 0/340 [00:00<?, ?it/s]"
      ]
     },
     "metadata": {},
     "output_type": "display_data"
    },
    {
     "name": "stdout",
     "output_type": "stream",
     "text": [
      "{'eval_loss': 6.584946155548096, 'eval_accuracy': 0.5075562108367121, 'eval_runtime': 5.2546, 'eval_samples_per_second': 1032.624, 'eval_steps_per_second': 64.706, 'epoch': 161.0}\n",
      "{'loss': 0.0007, 'grad_norm': 1.5239073945849668e-05, 'learning_rate': 3.8235294117647055e-06, 'epoch': 161.76}\n"
     ]
    },
    {
     "data": {
      "application/vnd.jupyter.widget-view+json": {
       "model_id": "29e5bc339add41a5847a817c18c3cb8b",
       "version_major": 2,
       "version_minor": 0
      },
      "text/plain": [
       "  0%|          | 0/340 [00:00<?, ?it/s]"
      ]
     },
     "metadata": {},
     "output_type": "display_data"
    },
    {
     "name": "stdout",
     "output_type": "stream",
     "text": [
      "{'eval_loss': 6.54360294342041, 'eval_accuracy': 0.5197198673055657, 'eval_runtime': 5.4076, 'eval_samples_per_second': 1003.404, 'eval_steps_per_second': 62.875, 'epoch': 162.0}\n"
     ]
    },
    {
     "data": {
      "application/vnd.jupyter.widget-view+json": {
       "model_id": "19db9ccd06ab427a97eaa6335387ba0e",
       "version_major": 2,
       "version_minor": 0
      },
      "text/plain": [
       "  0%|          | 0/340 [00:00<?, ?it/s]"
      ]
     },
     "metadata": {},
     "output_type": "display_data"
    },
    {
     "name": "stdout",
     "output_type": "stream",
     "text": [
      "{'eval_loss': 6.624850273132324, 'eval_accuracy': 0.5156653151492813, 'eval_runtime': 5.4593, 'eval_samples_per_second': 993.896, 'eval_steps_per_second': 62.279, 'epoch': 163.0}\n",
      "{'loss': 0.0007, 'grad_norm': 1.0188947271672077e-05, 'learning_rate': 3.6764705882352946e-06, 'epoch': 163.24}\n"
     ]
    },
    {
     "data": {
      "application/vnd.jupyter.widget-view+json": {
       "model_id": "19fd2f70f7ca4d9fabda03bd08078023",
       "version_major": 2,
       "version_minor": 0
      },
      "text/plain": [
       "  0%|          | 0/340 [00:00<?, ?it/s]"
      ]
     },
     "metadata": {},
     "output_type": "display_data"
    },
    {
     "name": "stdout",
     "output_type": "stream",
     "text": [
      "{'eval_loss': 6.651233673095703, 'eval_accuracy': 0.5136380390711389, 'eval_runtime': 5.4041, 'eval_samples_per_second': 1004.044, 'eval_steps_per_second': 62.915, 'epoch': 164.0}\n",
      "{'loss': 0.0005, 'grad_norm': 5.213671101955697e-06, 'learning_rate': 3.529411764705883e-06, 'epoch': 164.71}\n"
     ]
    },
    {
     "data": {
      "application/vnd.jupyter.widget-view+json": {
       "model_id": "043630afb386491194b3621bcbce8788",
       "version_major": 2,
       "version_minor": 0
      },
      "text/plain": [
       "  0%|          | 0/340 [00:00<?, ?it/s]"
      ]
     },
     "metadata": {},
     "output_type": "display_data"
    },
    {
     "name": "stdout",
     "output_type": "stream",
     "text": [
      "{'eval_loss': 6.641916751861572, 'eval_accuracy': 0.5219314412089937, 'eval_runtime': 5.3946, 'eval_samples_per_second': 1005.826, 'eval_steps_per_second': 63.026, 'epoch': 165.0}\n"
     ]
    },
    {
     "data": {
      "application/vnd.jupyter.widget-view+json": {
       "model_id": "2d3157e5a0c3440d8b2f9ac6a4efd212",
       "version_major": 2,
       "version_minor": 0
      },
      "text/plain": [
       "  0%|          | 0/340 [00:00<?, ?it/s]"
      ]
     },
     "metadata": {},
     "output_type": "display_data"
    },
    {
     "name": "stdout",
     "output_type": "stream",
     "text": [
      "{'eval_loss': 6.665651321411133, 'eval_accuracy': 0.5210099520825654, 'eval_runtime': 5.3001, 'eval_samples_per_second': 1023.75, 'eval_steps_per_second': 64.149, 'epoch': 166.0}\n",
      "{'loss': 0.0006, 'grad_norm': 1.1639578588074073e-05, 'learning_rate': 3.382352941176471e-06, 'epoch': 166.18}\n"
     ]
    },
    {
     "data": {
      "application/vnd.jupyter.widget-view+json": {
       "model_id": "a0e84a4fbc4740689303d5c418eca530",
       "version_major": 2,
       "version_minor": 0
      },
      "text/plain": [
       "  0%|          | 0/340 [00:00<?, ?it/s]"
      ]
     },
     "metadata": {},
     "output_type": "display_data"
    },
    {
     "name": "stdout",
     "output_type": "stream",
     "text": [
      "{'eval_loss': 6.6605753898620605, 'eval_accuracy': 0.5211942499078511, 'eval_runtime': 5.4081, 'eval_samples_per_second': 1003.309, 'eval_steps_per_second': 62.869, 'epoch': 167.0}\n",
      "{'loss': 0.0003, 'grad_norm': 2.091070382448379e-05, 'learning_rate': 3.2352941176470594e-06, 'epoch': 167.65}\n"
     ]
    },
    {
     "data": {
      "application/vnd.jupyter.widget-view+json": {
       "model_id": "09a3889b02444a19901d8bd77cca45e4",
       "version_major": 2,
       "version_minor": 0
      },
      "text/plain": [
       "  0%|          | 0/340 [00:00<?, ?it/s]"
      ]
     },
     "metadata": {},
     "output_type": "display_data"
    },
    {
     "name": "stdout",
     "output_type": "stream",
     "text": [
      "{'eval_loss': 6.654797077178955, 'eval_accuracy': 0.5197198673055657, 'eval_runtime': 5.4177, 'eval_samples_per_second': 1001.524, 'eval_steps_per_second': 62.757, 'epoch': 168.0}\n"
     ]
    },
    {
     "data": {
      "application/vnd.jupyter.widget-view+json": {
       "model_id": "c92858df8df04aa7a8e42f6a3874dd77",
       "version_major": 2,
       "version_minor": 0
      },
      "text/plain": [
       "  0%|          | 0/340 [00:00<?, ?it/s]"
      ]
     },
     "metadata": {},
     "output_type": "display_data"
    },
    {
     "name": "stdout",
     "output_type": "stream",
     "text": [
      "{'eval_loss': 6.657148361206055, 'eval_accuracy': 0.5199041651308515, 'eval_runtime': 5.5394, 'eval_samples_per_second': 979.533, 'eval_steps_per_second': 61.379, 'epoch': 169.0}\n",
      "{'loss': 0.0006, 'grad_norm': 3.973783168476075e-05, 'learning_rate': 3.0882352941176476e-06, 'epoch': 169.12}\n"
     ]
    },
    {
     "data": {
      "application/vnd.jupyter.widget-view+json": {
       "model_id": "ae35c3cfe95f46fb8e52964f5911deb6",
       "version_major": 2,
       "version_minor": 0
      },
      "text/plain": [
       "  0%|          | 0/340 [00:00<?, ?it/s]"
      ]
     },
     "metadata": {},
     "output_type": "display_data"
    },
    {
     "name": "stdout",
     "output_type": "stream",
     "text": [
      "{'eval_loss': 6.654363632202148, 'eval_accuracy': 0.5204570586067084, 'eval_runtime': 5.3412, 'eval_samples_per_second': 1015.867, 'eval_steps_per_second': 63.656, 'epoch': 170.0}\n",
      "{'loss': 0.0003, 'grad_norm': 1.9939363482990302e-05, 'learning_rate': 2.9411764705882355e-06, 'epoch': 170.59}\n"
     ]
    },
    {
     "data": {
      "application/vnd.jupyter.widget-view+json": {
       "model_id": "ef9525c715d94d929d60e350b8b9f431",
       "version_major": 2,
       "version_minor": 0
      },
      "text/plain": [
       "  0%|          | 0/340 [00:00<?, ?it/s]"
      ]
     },
     "metadata": {},
     "output_type": "display_data"
    },
    {
     "name": "stdout",
     "output_type": "stream",
     "text": [
      "{'eval_loss': 6.662718296051025, 'eval_accuracy': 0.5202727607814228, 'eval_runtime': 5.2704, 'eval_samples_per_second': 1029.532, 'eval_steps_per_second': 64.512, 'epoch': 171.0}\n"
     ]
    },
    {
     "data": {
      "application/vnd.jupyter.widget-view+json": {
       "model_id": "d179c54065b046108e91115986e5a49f",
       "version_major": 2,
       "version_minor": 0
      },
      "text/plain": [
       "  0%|          | 0/340 [00:00<?, ?it/s]"
      ]
     },
     "metadata": {},
     "output_type": "display_data"
    },
    {
     "name": "stdout",
     "output_type": "stream",
     "text": [
      "{'eval_loss': 6.666536808013916, 'eval_accuracy': 0.520641356431994, 'eval_runtime': 5.4063, 'eval_samples_per_second': 1003.636, 'eval_steps_per_second': 62.889, 'epoch': 172.0}\n",
      "{'loss': 0.0006, 'grad_norm': 9.886809493764304e-06, 'learning_rate': 2.7941176470588237e-06, 'epoch': 172.06}\n"
     ]
    },
    {
     "data": {
      "application/vnd.jupyter.widget-view+json": {
       "model_id": "3e7a38c5bea94dabb5886fced73c9745",
       "version_major": 2,
       "version_minor": 0
      },
      "text/plain": [
       "  0%|          | 0/340 [00:00<?, ?it/s]"
      ]
     },
     "metadata": {},
     "output_type": "display_data"
    },
    {
     "name": "stdout",
     "output_type": "stream",
     "text": [
      "{'eval_loss': 6.681215763092041, 'eval_accuracy': 0.5219314412089937, 'eval_runtime': 5.2896, 'eval_samples_per_second': 1025.783, 'eval_steps_per_second': 64.277, 'epoch': 173.0}\n",
      "{'loss': 0.0003, 'grad_norm': 1.5580524632241577e-05, 'learning_rate': 2.647058823529412e-06, 'epoch': 173.53}\n"
     ]
    },
    {
     "data": {
      "application/vnd.jupyter.widget-view+json": {
       "model_id": "ba82d92f7ac14039adc2514ae839f0f8",
       "version_major": 2,
       "version_minor": 0
      },
      "text/plain": [
       "  0%|          | 0/340 [00:00<?, ?it/s]"
      ]
     },
     "metadata": {},
     "output_type": "display_data"
    },
    {
     "name": "stdout",
     "output_type": "stream",
     "text": [
      "{'eval_loss': 6.695553779602051, 'eval_accuracy': 0.5202727607814228, 'eval_runtime': 5.2629, 'eval_samples_per_second': 1030.996, 'eval_steps_per_second': 64.603, 'epoch': 174.0}\n",
      "{'loss': 0.0019, 'grad_norm': 5.1431193242024165e-06, 'learning_rate': 2.5e-06, 'epoch': 175.0}\n"
     ]
    },
    {
     "data": {
      "application/vnd.jupyter.widget-view+json": {
       "model_id": "d2f4a0f8c66a459a8c28690355cf58be",
       "version_major": 2,
       "version_minor": 0
      },
      "text/plain": [
       "  0%|          | 0/340 [00:00<?, ?it/s]"
      ]
     },
     "metadata": {},
     "output_type": "display_data"
    },
    {
     "name": "stdout",
     "output_type": "stream",
     "text": [
      "{'eval_loss': 6.657853126525879, 'eval_accuracy': 0.5189826760044232, 'eval_runtime': 5.3739, 'eval_samples_per_second': 1009.702, 'eval_steps_per_second': 63.269, 'epoch': 175.0}\n"
     ]
    },
    {
     "data": {
      "application/vnd.jupyter.widget-view+json": {
       "model_id": "84594b319b76492486b2d8ca48035162",
       "version_major": 2,
       "version_minor": 0
      },
      "text/plain": [
       "  0%|          | 0/340 [00:00<?, ?it/s]"
      ]
     },
     "metadata": {},
     "output_type": "display_data"
    },
    {
     "name": "stdout",
     "output_type": "stream",
     "text": [
      "{'eval_loss': 6.6632232666015625, 'eval_accuracy': 0.5182454847032805, 'eval_runtime': 5.2469, 'eval_samples_per_second': 1034.141, 'eval_steps_per_second': 64.801, 'epoch': 176.0}\n",
      "{'loss': 0.0005, 'grad_norm': 2.2071028070058674e-05, 'learning_rate': 2.3529411764705885e-06, 'epoch': 176.47}\n"
     ]
    },
    {
     "data": {
      "application/vnd.jupyter.widget-view+json": {
       "model_id": "a5b49dfdae6e4fd4bdc33f05c97b6e86",
       "version_major": 2,
       "version_minor": 0
      },
      "text/plain": [
       "  0%|          | 0/340 [00:00<?, ?it/s]"
      ]
     },
     "metadata": {},
     "output_type": "display_data"
    },
    {
     "name": "stdout",
     "output_type": "stream",
     "text": [
      "{'eval_loss': 6.729986190795898, 'eval_accuracy': 0.5208256542572798, 'eval_runtime': 5.4626, 'eval_samples_per_second': 993.306, 'eval_steps_per_second': 62.242, 'epoch': 177.0}\n",
      "{'loss': 0.0003, 'grad_norm': 5.038752078689868e-06, 'learning_rate': 2.2058823529411767e-06, 'epoch': 177.94}\n"
     ]
    },
    {
     "data": {
      "application/vnd.jupyter.widget-view+json": {
       "model_id": "3bb59b5568dd468198b3f20e27e5336c",
       "version_major": 2,
       "version_minor": 0
      },
      "text/plain": [
       "  0%|          | 0/340 [00:00<?, ?it/s]"
      ]
     },
     "metadata": {},
     "output_type": "display_data"
    },
    {
     "name": "stdout",
     "output_type": "stream",
     "text": [
      "{'eval_loss': 6.721664905548096, 'eval_accuracy': 0.5210099520825654, 'eval_runtime': 5.4162, 'eval_samples_per_second': 1001.814, 'eval_steps_per_second': 62.775, 'epoch': 178.0}\n"
     ]
    },
    {
     "data": {
      "application/vnd.jupyter.widget-view+json": {
       "model_id": "3659e5cde89d43c2bbcde8b035853a67",
       "version_major": 2,
       "version_minor": 0
      },
      "text/plain": [
       "  0%|          | 0/340 [00:00<?, ?it/s]"
      ]
     },
     "metadata": {},
     "output_type": "display_data"
    },
    {
     "name": "stdout",
     "output_type": "stream",
     "text": [
      "{'eval_loss': 6.709720611572266, 'eval_accuracy': 0.5175082934021379, 'eval_runtime': 5.2884, 'eval_samples_per_second': 1026.026, 'eval_steps_per_second': 64.292, 'epoch': 179.0}\n",
      "{'loss': 0.0003, 'grad_norm': 5.219716513238382e-06, 'learning_rate': 2.058823529411765e-06, 'epoch': 179.41}\n"
     ]
    },
    {
     "data": {
      "application/vnd.jupyter.widget-view+json": {
       "model_id": "3181c2186b624349a71d47776190b339",
       "version_major": 2,
       "version_minor": 0
      },
      "text/plain": [
       "  0%|          | 0/340 [00:00<?, ?it/s]"
      ]
     },
     "metadata": {},
     "output_type": "display_data"
    },
    {
     "name": "stdout",
     "output_type": "stream",
     "text": [
      "{'eval_loss': 6.815321922302246, 'eval_accuracy': 0.526723184666421, 'eval_runtime': 5.2985, 'eval_samples_per_second': 1024.058, 'eval_steps_per_second': 64.169, 'epoch': 180.0}\n",
      "{'loss': 0.0005, 'grad_norm': 1.531507405161392e-05, 'learning_rate': 1.9117647058823528e-06, 'epoch': 180.88}\n"
     ]
    },
    {
     "data": {
      "application/vnd.jupyter.widget-view+json": {
       "model_id": "1fea569c2dbd48b58175121c11f97d05",
       "version_major": 2,
       "version_minor": 0
      },
      "text/plain": [
       "  0%|          | 0/340 [00:00<?, ?it/s]"
      ]
     },
     "metadata": {},
     "output_type": "display_data"
    },
    {
     "name": "stdout",
     "output_type": "stream",
     "text": [
      "{'eval_loss': 6.785595417022705, 'eval_accuracy': 0.5200884629561371, 'eval_runtime': 5.2922, 'eval_samples_per_second': 1025.291, 'eval_steps_per_second': 64.246, 'epoch': 181.0}\n"
     ]
    },
    {
     "data": {
      "application/vnd.jupyter.widget-view+json": {
       "model_id": "46a6d686d5c24e85aeea438a93441927",
       "version_major": 2,
       "version_minor": 0
      },
      "text/plain": [
       "  0%|          | 0/340 [00:00<?, ?it/s]"
      ]
     },
     "metadata": {},
     "output_type": "display_data"
    },
    {
     "name": "stdout",
     "output_type": "stream",
     "text": [
      "{'eval_loss': 6.810466766357422, 'eval_accuracy': 0.5252488020641356, 'eval_runtime': 5.4377, 'eval_samples_per_second': 997.85, 'eval_steps_per_second': 62.527, 'epoch': 182.0}\n",
      "{'loss': 0.0007, 'grad_norm': 3.763836866710335e-05, 'learning_rate': 1.7647058823529414e-06, 'epoch': 182.35}\n"
     ]
    },
    {
     "data": {
      "application/vnd.jupyter.widget-view+json": {
       "model_id": "f6e8eb47d6304139ae7341751bcb9587",
       "version_major": 2,
       "version_minor": 0
      },
      "text/plain": [
       "  0%|          | 0/340 [00:00<?, ?it/s]"
      ]
     },
     "metadata": {},
     "output_type": "display_data"
    },
    {
     "name": "stdout",
     "output_type": "stream",
     "text": [
      "{'eval_loss': 6.810387134552002, 'eval_accuracy': 0.5258016955399927, 'eval_runtime': 5.6018, 'eval_samples_per_second': 968.623, 'eval_steps_per_second': 60.695, 'epoch': 183.0}\n",
      "{'loss': 0.0003, 'grad_norm': 7.927492333692499e-06, 'learning_rate': 1.6176470588235297e-06, 'epoch': 183.82}\n"
     ]
    },
    {
     "data": {
      "application/vnd.jupyter.widget-view+json": {
       "model_id": "9e0e43a2438547ddb7d26e3b93a6301f",
       "version_major": 2,
       "version_minor": 0
      },
      "text/plain": [
       "  0%|          | 0/340 [00:00<?, ?it/s]"
      ]
     },
     "metadata": {},
     "output_type": "display_data"
    },
    {
     "name": "stdout",
     "output_type": "stream",
     "text": [
      "{'eval_loss': 6.81487512588501, 'eval_accuracy': 0.5199041651308515, 'eval_runtime': 5.4648, 'eval_samples_per_second': 992.905, 'eval_steps_per_second': 62.217, 'epoch': 184.0}\n"
     ]
    },
    {
     "data": {
      "application/vnd.jupyter.widget-view+json": {
       "model_id": "368db2e6bea64c65af85ce16c111d1ff",
       "version_major": 2,
       "version_minor": 0
      },
      "text/plain": [
       "  0%|          | 0/340 [00:00<?, ?it/s]"
      ]
     },
     "metadata": {},
     "output_type": "display_data"
    },
    {
     "name": "stdout",
     "output_type": "stream",
     "text": [
      "{'eval_loss': 6.813817501068115, 'eval_accuracy': 0.5197198673055657, 'eval_runtime': 5.3853, 'eval_samples_per_second': 1007.565, 'eval_steps_per_second': 63.135, 'epoch': 185.0}\n",
      "{'loss': 0.0003, 'grad_norm': 0.00026399962371215224, 'learning_rate': 1.4705882352941177e-06, 'epoch': 185.29}\n"
     ]
    },
    {
     "data": {
      "application/vnd.jupyter.widget-view+json": {
       "model_id": "fc9abad3af8c4d4e85a59fb355acb03c",
       "version_major": 2,
       "version_minor": 0
      },
      "text/plain": [
       "  0%|          | 0/340 [00:00<?, ?it/s]"
      ]
     },
     "metadata": {},
     "output_type": "display_data"
    },
    {
     "name": "stdout",
     "output_type": "stream",
     "text": [
      "{'eval_loss': 6.814964294433594, 'eval_accuracy': 0.5189826760044232, 'eval_runtime': 5.3634, 'eval_samples_per_second': 1011.674, 'eval_steps_per_second': 63.393, 'epoch': 186.0}\n",
      "{'loss': 0.0005, 'grad_norm': 3.999125055997865e-06, 'learning_rate': 1.323529411764706e-06, 'epoch': 186.76}\n"
     ]
    },
    {
     "data": {
      "application/vnd.jupyter.widget-view+json": {
       "model_id": "780f8aa23100421e8e61cf4e57d92b38",
       "version_major": 2,
       "version_minor": 0
      },
      "text/plain": [
       "  0%|          | 0/340 [00:00<?, ?it/s]"
      ]
     },
     "metadata": {},
     "output_type": "display_data"
    },
    {
     "name": "stdout",
     "output_type": "stream",
     "text": [
      "{'eval_loss': 6.8191046714782715, 'eval_accuracy': 0.5187983781791374, 'eval_runtime': 5.4501, 'eval_samples_per_second': 995.574, 'eval_steps_per_second': 62.384, 'epoch': 187.0}\n"
     ]
    },
    {
     "data": {
      "application/vnd.jupyter.widget-view+json": {
       "model_id": "264a5939a6f341c989dfc37d1e2f189b",
       "version_major": 2,
       "version_minor": 0
      },
      "text/plain": [
       "  0%|          | 0/340 [00:00<?, ?it/s]"
      ]
     },
     "metadata": {},
     "output_type": "display_data"
    },
    {
     "name": "stdout",
     "output_type": "stream",
     "text": [
      "{'eval_loss': 6.849383354187012, 'eval_accuracy': 0.5189826760044232, 'eval_runtime': 5.558, 'eval_samples_per_second': 976.247, 'eval_steps_per_second': 61.173, 'epoch': 188.0}\n",
      "{'loss': 0.0005, 'grad_norm': 2.0519873942248523e-05, 'learning_rate': 1.1764705882352942e-06, 'epoch': 188.24}\n"
     ]
    },
    {
     "data": {
      "application/vnd.jupyter.widget-view+json": {
       "model_id": "bc243e8b800e4cdca8d32e8b7574a76d",
       "version_major": 2,
       "version_minor": 0
      },
      "text/plain": [
       "  0%|          | 0/340 [00:00<?, ?it/s]"
      ]
     },
     "metadata": {},
     "output_type": "display_data"
    },
    {
     "name": "stdout",
     "output_type": "stream",
     "text": [
      "{'eval_loss': 6.853143215179443, 'eval_accuracy': 0.5186140803538518, 'eval_runtime': 5.27, 'eval_samples_per_second': 1029.609, 'eval_steps_per_second': 64.517, 'epoch': 189.0}\n",
      "{'loss': 0.0003, 'grad_norm': 3.3562844237167155e-06, 'learning_rate': 1.0294117647058825e-06, 'epoch': 189.71}\n"
     ]
    },
    {
     "data": {
      "application/vnd.jupyter.widget-view+json": {
       "model_id": "7d7f04abd2fe4092a870d49f995586b1",
       "version_major": 2,
       "version_minor": 0
      },
      "text/plain": [
       "  0%|          | 0/340 [00:00<?, ?it/s]"
      ]
     },
     "metadata": {},
     "output_type": "display_data"
    },
    {
     "name": "stdout",
     "output_type": "stream",
     "text": [
      "{'eval_loss': 6.84294319152832, 'eval_accuracy': 0.5193512716549945, 'eval_runtime': 5.2708, 'eval_samples_per_second': 1029.445, 'eval_steps_per_second': 64.506, 'epoch': 190.0}\n"
     ]
    },
    {
     "data": {
      "application/vnd.jupyter.widget-view+json": {
       "model_id": "a63f9e6709c64cfba89ae7d26969b27b",
       "version_major": 2,
       "version_minor": 0
      },
      "text/plain": [
       "  0%|          | 0/340 [00:00<?, ?it/s]"
      ]
     },
     "metadata": {},
     "output_type": "display_data"
    },
    {
     "name": "stdout",
     "output_type": "stream",
     "text": [
      "{'eval_loss': 6.8388848304748535, 'eval_accuracy': 0.5200884629561371, 'eval_runtime': 5.4368, 'eval_samples_per_second': 998.008, 'eval_steps_per_second': 62.536, 'epoch': 191.0}\n",
      "{'loss': 0.0006, 'grad_norm': 3.439951797190588e-06, 'learning_rate': 8.823529411764707e-07, 'epoch': 191.18}\n"
     ]
    },
    {
     "data": {
      "application/vnd.jupyter.widget-view+json": {
       "model_id": "a76487a27a5c4ab9ade76185700db44c",
       "version_major": 2,
       "version_minor": 0
      },
      "text/plain": [
       "  0%|          | 0/340 [00:00<?, ?it/s]"
      ]
     },
     "metadata": {},
     "output_type": "display_data"
    },
    {
     "name": "stdout",
     "output_type": "stream",
     "text": [
      "{'eval_loss': 6.803033828735352, 'eval_accuracy': 0.5211942499078511, 'eval_runtime': 5.2393, 'eval_samples_per_second': 1035.641, 'eval_steps_per_second': 64.895, 'epoch': 192.0}\n",
      "{'loss': 0.0003, 'grad_norm': 4.90755592181813e-05, 'learning_rate': 7.352941176470589e-07, 'epoch': 192.65}\n"
     ]
    },
    {
     "data": {
      "application/vnd.jupyter.widget-view+json": {
       "model_id": "67d5baff5df74318a5f793114c821ee5",
       "version_major": 2,
       "version_minor": 0
      },
      "text/plain": [
       "  0%|          | 0/340 [00:00<?, ?it/s]"
      ]
     },
     "metadata": {},
     "output_type": "display_data"
    },
    {
     "name": "stdout",
     "output_type": "stream",
     "text": [
      "{'eval_loss': 6.796151638031006, 'eval_accuracy': 0.5158496129745669, 'eval_runtime': 5.426, 'eval_samples_per_second': 999.993, 'eval_steps_per_second': 62.661, 'epoch': 193.0}\n"
     ]
    },
    {
     "data": {
      "application/vnd.jupyter.widget-view+json": {
       "model_id": "d166f1b19409416abc3e36673e073b60",
       "version_major": 2,
       "version_minor": 0
      },
      "text/plain": [
       "  0%|          | 0/340 [00:00<?, ?it/s]"
      ]
     },
     "metadata": {},
     "output_type": "display_data"
    },
    {
     "name": "stdout",
     "output_type": "stream",
     "text": [
      "{'eval_loss': 6.787730693817139, 'eval_accuracy': 0.5165868042757096, 'eval_runtime': 5.4226, 'eval_samples_per_second': 1000.629, 'eval_steps_per_second': 62.701, 'epoch': 194.0}\n",
      "{'loss': 0.002, 'grad_norm': 4.7010203161335085e-06, 'learning_rate': 5.882352941176471e-07, 'epoch': 194.12}\n"
     ]
    },
    {
     "data": {
      "application/vnd.jupyter.widget-view+json": {
       "model_id": "82eb2559695c49dfafdf58bb49154be8",
       "version_major": 2,
       "version_minor": 0
      },
      "text/plain": [
       "  0%|          | 0/340 [00:00<?, ?it/s]"
      ]
     },
     "metadata": {},
     "output_type": "display_data"
    },
    {
     "name": "stdout",
     "output_type": "stream",
     "text": [
      "{'eval_loss': 6.789702415466309, 'eval_accuracy': 0.5169553999262809, 'eval_runtime': 5.2202, 'eval_samples_per_second': 1039.418, 'eval_steps_per_second': 65.131, 'epoch': 195.0}\n",
      "{'loss': 0.0003, 'grad_norm': 9.92400964605622e-06, 'learning_rate': 4.4117647058823536e-07, 'epoch': 195.59}\n"
     ]
    },
    {
     "data": {
      "application/vnd.jupyter.widget-view+json": {
       "model_id": "1beb8fa9b7e2464c9b03b159b294a853",
       "version_major": 2,
       "version_minor": 0
      },
      "text/plain": [
       "  0%|          | 0/340 [00:00<?, ?it/s]"
      ]
     },
     "metadata": {},
     "output_type": "display_data"
    },
    {
     "name": "stdout",
     "output_type": "stream",
     "text": [
      "{'eval_loss': 6.785293102264404, 'eval_accuracy': 0.5171396977515665, 'eval_runtime': 5.385, 'eval_samples_per_second': 1007.607, 'eval_steps_per_second': 63.138, 'epoch': 196.0}\n"
     ]
    },
    {
     "data": {
      "application/vnd.jupyter.widget-view+json": {
       "model_id": "db67c5d385434e4fb42365689e771a6f",
       "version_major": 2,
       "version_minor": 0
      },
      "text/plain": [
       "  0%|          | 0/340 [00:00<?, ?it/s]"
      ]
     },
     "metadata": {},
     "output_type": "display_data"
    },
    {
     "name": "stdout",
     "output_type": "stream",
     "text": [
      "{'eval_loss': 6.790668487548828, 'eval_accuracy': 0.5175082934021379, 'eval_runtime': 5.4668, 'eval_samples_per_second': 992.54, 'eval_steps_per_second': 62.194, 'epoch': 197.0}\n",
      "{'loss': 0.001, 'grad_norm': 5.584099926636554e-05, 'learning_rate': 2.9411764705882356e-07, 'epoch': 197.06}\n"
     ]
    },
    {
     "data": {
      "application/vnd.jupyter.widget-view+json": {
       "model_id": "0c7493ec766c49998aff86382dac1849",
       "version_major": 2,
       "version_minor": 0
      },
      "text/plain": [
       "  0%|          | 0/340 [00:00<?, ?it/s]"
      ]
     },
     "metadata": {},
     "output_type": "display_data"
    },
    {
     "name": "stdout",
     "output_type": "stream",
     "text": [
      "{'eval_loss': 6.78917121887207, 'eval_accuracy': 0.5191669738297088, 'eval_runtime': 5.4674, 'eval_samples_per_second': 992.43, 'eval_steps_per_second': 62.187, 'epoch': 198.0}\n",
      "{'loss': 0.0006, 'grad_norm': 7.128299785108538e-06, 'learning_rate': 1.4705882352941178e-07, 'epoch': 198.53}\n"
     ]
    },
    {
     "data": {
      "application/vnd.jupyter.widget-view+json": {
       "model_id": "40ce515fb4824a298106fc21a994e5aa",
       "version_major": 2,
       "version_minor": 0
      },
      "text/plain": [
       "  0%|          | 0/340 [00:00<?, ?it/s]"
      ]
     },
     "metadata": {},
     "output_type": "display_data"
    },
    {
     "name": "stdout",
     "output_type": "stream",
     "text": [
      "{'eval_loss': 6.78908109664917, 'eval_accuracy': 0.5191669738297088, 'eval_runtime': 5.5113, 'eval_samples_per_second': 984.52, 'eval_steps_per_second': 61.691, 'epoch': 199.0}\n",
      "{'loss': 0.0004, 'grad_norm': 4.144049853493925e-06, 'learning_rate': 0.0, 'epoch': 200.0}\n"
     ]
    },
    {
     "data": {
      "application/vnd.jupyter.widget-view+json": {
       "model_id": "9a95309547b6424da420d3f98a4f9c7d",
       "version_major": 2,
       "version_minor": 0
      },
      "text/plain": [
       "  0%|          | 0/340 [00:00<?, ?it/s]"
      ]
     },
     "metadata": {},
     "output_type": "display_data"
    },
    {
     "name": "stdout",
     "output_type": "stream",
     "text": [
      "{'eval_loss': 6.789159774780273, 'eval_accuracy': 0.5193512716549945, 'eval_runtime': 5.2698, 'eval_samples_per_second': 1029.636, 'eval_steps_per_second': 64.518, 'epoch': 200.0}\n",
      "{'train_runtime': 4968.4968, 'train_samples_per_second': 218.456, 'train_steps_per_second': 13.686, 'train_loss': 0.051794999345698776, 'epoch': 200.0}\n"
     ]
    },
    {
     "data": {
      "application/vnd.jupyter.widget-view+json": {
       "model_id": "8726891e4c864f61821225bc152f9a43",
       "version_major": 2,
       "version_minor": 0
      },
      "text/plain": [
       "  0%|          | 0/340 [00:00<?, ?it/s]"
      ]
     },
     "metadata": {},
     "output_type": "display_data"
    }
   ],
   "source": [
    "import os\n",
    "\n",
    "# Enable CUDA launch blocking for debugging\n",
    "os.environ[\"CUDA_LAUNCH_BLOCKING\"] = \"1\"\n",
    "\n",
    "\n",
    "\n",
    "\n",
    "# Training configurations\n",
    "training_args = TrainingArguments(\n",
    "    output_dir=\"./results_real_data\",\n",
    "    evaluation_strategy=\"batch\",\n",
    "    save_strategy=\"epoch\",\n",
    "    logging_dir=\"./logs\",\n",
    "    learning_rate=2e-5,\n",
    "    per_device_train_batch_size=16,\n",
    "    per_device_eval_batch_size=16,\n",
    "    num_train_epochs=200,\n",
    "    weight_decay=0.01,\n",
    "    push_to_hub=False,\n",
    "    logging_first_step=False,   # Make sure logs are being stored\n",
    ")\n",
    "\n",
    "# Train each model\n",
    "results = {}\n",
    "for model_name, model_info in models.items():\n",
    "    print(f\"Training {model_name} ({model_info['size']}) with standard fine-tuning...\")\n",
    "    results[model_name] = {}\n",
    "    trainer = train_model(model_name, model_info[\"model\"], tokenizers[model_name], dataset, training_args, lora=False)\n",
    "    results[model_name]['standard'] = trainer.evaluate()\n",
    "    \n",
    "    \"\"\"print(f\"Training {model_name} ({model_info['size']}) with QLoRA...\")\n",
    "    trainer = train_model(model_name, model_info[\"model\"], tokenizers[model_name], dataset, training_args, lora=True)\n",
    "    results[model_name]['qlora'] = trainer.evaluate()\"\"\""
   ]
  },
  {
   "cell_type": "code",
   "execution_count": 12,
   "metadata": {},
   "outputs": [
    {
     "data": {
      "text/plain": [
       "<transformers.trainer.Trainer at 0x24bd9e92750>"
      ]
     },
     "execution_count": 12,
     "metadata": {},
     "output_type": "execute_result"
    }
   ],
   "source": [
    "trainer"
   ]
  },
  {
   "cell_type": "code",
   "execution_count": 13,
   "metadata": {},
   "outputs": [
    {
     "data": {
      "text/plain": [
       "{'distilbert': {'standard': {'eval_loss': 6.789159774780273,\n",
       "   'eval_accuracy': 0.5193512716549945,\n",
       "   'eval_runtime': 5.2692,\n",
       "   'eval_samples_per_second': 1029.767,\n",
       "   'eval_steps_per_second': 64.527,\n",
       "   'epoch': 200.0}}}"
      ]
     },
     "execution_count": 13,
     "metadata": {},
     "output_type": "execute_result"
    }
   ],
   "source": [
    "results"
   ]
  },
  {
   "cell_type": "code",
   "execution_count": null,
   "metadata": {},
   "outputs": [],
   "source": []
  },
  {
   "cell_type": "code",
   "execution_count": 14,
   "metadata": {},
   "outputs": [
    {
     "name": "stdout",
     "output_type": "stream",
     "text": [
      "Results for distilbert:\n",
      "  Method: standard\n",
      "    eval_loss: 6.789159774780273\n",
      "    eval_accuracy: 0.5193512716549945\n",
      "    eval_runtime: 5.2692\n",
      "    eval_samples_per_second: 1029.767\n",
      "    eval_steps_per_second: 64.527\n",
      "    epoch: 200.0\n"
     ]
    }
   ],
   "source": [
    "# Print the results directly\n",
    "for model_name, metrics in results.items():\n",
    "    print(f\"Results for {model_name}:\")\n",
    "    for method, evaluation in metrics.items():\n",
    "        print(f\"  Method: {method}\")\n",
    "        for metric, value in evaluation.items():\n",
    "            print(f\"    {metric}: {value}\")\n"
   ]
  },
  {
   "cell_type": "code",
   "execution_count": 15,
   "metadata": {},
   "outputs": [
    {
     "name": "stdout",
     "output_type": "stream",
     "text": [
      "        Model    Method  eval_loss  eval_accuracy  eval_runtime  \\\n",
      "0  distilbert  standard    6.78916       0.519351        5.2692   \n",
      "\n",
      "   eval_samples_per_second  eval_steps_per_second  epoch  \n",
      "0                 1029.767                 64.527  200.0  \n"
     ]
    }
   ],
   "source": [
    "import pandas as pd\n",
    "\n",
    "# Prepare data for a DataFrame\n",
    "data = []\n",
    "for model_name, metrics in results.items():\n",
    "    for method, evaluation in metrics.items():\n",
    "        row = {\"Model\": model_name, \"Method\": method}\n",
    "        row.update(evaluation)  # Add metrics to the row\n",
    "        data.append(row)\n",
    "\n",
    "# Convert to DataFrame\n",
    "df = pd.DataFrame(data)\n",
    "\n",
    "# Display the table\n",
    "print(df)\n"
   ]
  },
  {
   "cell_type": "code",
   "execution_count": 16,
   "metadata": {},
   "outputs": [
    {
     "data": {
      "image/png": "[encoded data removed]",
      "text/plain": [
       "<Figure size 1000x1200 with 2 Axes>"
      ]
     },
     "metadata": {},
     "output_type": "display_data"
    }
   ],
   "source": [
    "import json\n",
    "import matplotlib.pyplot as plt\n",
    "\n",
    "# Load logs from the file\n",
    "with open(\"./logs/log_history.json\", \"r\") as f:\n",
    "    logs = json.load(f)\n",
    "\n",
    "# Lists to store metrics\n",
    "epochs = []\n",
    "train_loss = []\n",
    "eval_loss = []\n",
    "train_accuracy = []\n",
    "eval_accuracy = []\n",
    "\n",
    "# Extracting relevant metrics from the logs\n",
    "for log in logs:\n",
    "    epoch = log.get(\"epoch\")\n",
    "    if epoch is not None:\n",
    "        epochs.append(epoch)\n",
    "        \n",
    "        # Check if training loss is available\n",
    "        if log.get(\"train_loss\") is not None:\n",
    "            train_loss.append((epoch, log[\"train_loss\"]))\n",
    "        \n",
    "        # Check if validation loss is available\n",
    "        if log.get(\"eval_loss\") is not None:\n",
    "            eval_loss.append((epoch, log[\"eval_loss\"]))\n",
    "        \n",
    "        # Check if training accuracy is available\n",
    "        if log.get(\"train_accuracy\") is not None:\n",
    "            train_accuracy.append((epoch, log[\"train_accuracy\"]))\n",
    "        \n",
    "        # Check if validation accuracy is available\n",
    "        if log.get(\"eval_accuracy\") is not None:\n",
    "            eval_accuracy.append((epoch, log[\"eval_accuracy\"]))\n",
    "\n",
    "# Sort the lists based on epochs (if they aren't already sorted)\n",
    "train_loss.sort(key=lambda x: x[0])\n",
    "eval_loss.sort(key=lambda x: x[0])\n",
    "train_accuracy.sort(key=lambda x: x[0])\n",
    "eval_accuracy.sort(key=lambda x: x[0])\n",
    "\n",
    "# Unpack the sorted values\n",
    "train_loss_epochs, train_loss_values = zip(*train_loss) if train_loss else ([], [])\n",
    "eval_loss_epochs, eval_loss_values = zip(*eval_loss) if eval_loss else ([], [])\n",
    "train_accuracy_epochs, train_accuracy_values = zip(*train_accuracy) if train_accuracy else ([], [])\n",
    "eval_accuracy_epochs, eval_accuracy_values = zip(*eval_accuracy) if eval_accuracy else ([], [])\n",
    "\n",
    "# Plotting Training and Evaluation Loss and Accuracy\n",
    "fig, axes = plt.subplots(2, 1, figsize=(10, 12))\n",
    "\n",
    "# Training vs Validation Loss\n",
    "axes[0].plot(train_loss_epochs, train_loss_values, label=\"Training Loss\", color=\"blue\", marker=\"o\")\n",
    "axes[0].plot(eval_loss_epochs, eval_loss_values, label=\"Validation Loss\", color=\"red\", marker=\"x\")\n",
    "axes[0].set_title(\"Training and Validation Loss\")\n",
    "axes[0].set_xlabel(\"Epoch\")\n",
    "axes[0].set_ylabel(\"Loss\")\n",
    "axes[0].legend()\n",
    "\n",
    "# Training vs Validation Accuracy\n",
    "axes[1].plot(train_accuracy_epochs, train_accuracy_values, label=\"Training Accuracy\", color=\"green\", marker=\"o\")\n",
    "axes[1].plot(eval_accuracy_epochs, eval_accuracy_values, label=\"Validation Accuracy\", color=\"purple\", marker=\"x\")\n",
    "axes[1].set_title(\"Training and Validation Accuracy\")\n",
    "axes[1].set_xlabel(\"Epoch\")\n",
    "axes[1].set_ylabel(\"Accuracy\")\n",
    "axes[1].legend()\n",
    "\n",
    "# Show the plots\n",
    "plt.tight_layout()\n",
    "plt.show()\n"
   ]
  },
  {
   "cell_type": "code",
   "execution_count": 17,
   "metadata": {},
   "outputs": [
    {
     "data": {
      "image/png": "[encoded data removed]",
      "text/plain": [
       "<Figure size 1000x1000 with 2 Axes>"
      ]
     },
     "metadata": {},
     "output_type": "display_data"
    }
   ],
   "source": [
    "import json\n",
    "import matplotlib.pyplot as plt\n",
    "\n",
    "# Load logs from file\n",
    "logs = []\n",
    "with open(\"./logs/log_history.json\", \"r\") as f:  # Adjust path as needed\n",
    "    logs = json.load(f)\n",
    "\n",
    "# Initialize lists to store data for plotting\n",
    "train_epochs = []\n",
    "train_loss = []\n",
    "eval_epochs = []\n",
    "eval_accuracy = []\n",
    "\n",
    "# Extract data for plotting\n",
    "for log in logs:\n",
    "    # Extract training loss and epochs\n",
    "    if \"loss\" in log:\n",
    "        train_epochs.append(log[\"epoch\"])\n",
    "        train_loss.append(log[\"loss\"])\n",
    "    \n",
    "    # Extract evaluation accuracy and epochs\n",
    "    if \"eval_accuracy\" in log:\n",
    "        eval_epochs.append(log[\"epoch\"])\n",
    "        eval_accuracy.append(log[\"eval_accuracy\"])\n",
    "\n",
    "# Create a figure with two subplots\n",
    "fig, (ax1, ax2) = plt.subplots(2, 1, figsize=(10, 10))\n",
    "\n",
    "# Plot Training Loss over Time\n",
    "ax1.plot(train_epochs, train_loss, label=\"Training Loss\", color='blue', marker='o')\n",
    "ax1.set_xlabel(\"Epoch\")\n",
    "ax1.set_ylabel(\"Loss\")\n",
    "ax1.set_title(\"Training Loss Over Time\")\n",
    "ax1.legend()\n",
    "ax1.grid(True)\n",
    "\n",
    "# Plot Evaluation Accuracy over Time\n",
    "ax2.plot(eval_epochs, eval_accuracy, label=\"Evaluation Accuracy\", color='red', marker='x')\n",
    "ax2.set_xlabel(\"Epoch\")\n",
    "ax2.set_ylabel(\"Accuracy\")\n",
    "ax2.set_title(\"Evaluation Accuracy Over Time\")\n",
    "ax2.legend()\n",
    "ax2.grid(True)\n",
    "\n",
    "# Adjust layout for better spacing\n",
    "plt.tight_layout()\n",
    "\n",
    "# Show the plots\n",
    "plt.show()\n"
   ]
  },
  {
   "cell_type": "code",
   "execution_count": 18,
   "metadata": {},
   "outputs": [
    {
     "data": {
      "image/png": "[encoded data removed]",
      "text/plain": [
       "<Figure size 1000x1500 with 3 Axes>"
      ]
     },
     "metadata": {},
     "output_type": "display_data"
    }
   ],
   "source": [
    "import json\n",
    "import matplotlib.pyplot as plt\n",
    "\n",
    "# Load logs from file\n",
    "logs = []\n",
    "with open(\"./logs/log_history.json\", \"r\") as f:  # Adjust path as needed\n",
    "    logs = json.load(f)\n",
    "\n",
    "# Initialize lists to store data for plotting\n",
    "train_epochs = []\n",
    "train_loss = []\n",
    "train_accuracy = []\n",
    "eval_epochs = []\n",
    "eval_accuracy = []\n",
    "\n",
    "# Extract data for plotting\n",
    "for log in logs:\n",
    "    # Extract training loss, accuracy, and epochs\n",
    "    if \"loss\" in log:\n",
    "        train_epochs.append(log[\"epoch\"])\n",
    "        train_loss.append(log[\"loss\"])\n",
    "    if \"accuracy\" in log:\n",
    "        train_accuracy.append(log[\"accuracy\"])\n",
    "    \n",
    "    # Extract evaluation accuracy and epochs\n",
    "    if \"eval_accuracy\" in log:\n",
    "        eval_epochs.append(log[\"epoch\"])\n",
    "        eval_accuracy.append(log[\"eval_accuracy\"])\n",
    "\n",
    "# Create a figure with multiple subplots\n",
    "fig, axes = plt.subplots(3, 1, figsize=(10, 15))\n",
    "\n",
    "# Plot Training Loss over Time\n",
    "axes[0].plot(train_epochs, train_loss, label=\"Training Loss\", color='blue', marker='o')\n",
    "axes[0].set_xlabel(\"Epoch\")\n",
    "axes[0].set_ylabel(\"Loss\")\n",
    "axes[0].set_title(\"Training Loss Over Time\")\n",
    "axes[0].legend()\n",
    "axes[0].grid(True)\n",
    "\n",
    "# Plot Training Accuracy over Time\n",
    "axes[1].plot(train_epochs, train_accuracy, label=\"Training Accuracy\", color='green', marker='x')\n",
    "axes[1].set_xlabel(\"Epoch\")\n",
    "axes[1].set_ylabel(\"Accuracy\")\n",
    "axes[1].set_title(\"Training Accuracy Over Time\")\n",
    "axes[1].legend()\n",
    "axes[1].grid(True)\n",
    "\n",
    "# Plot Evaluation Accuracy over Time\n",
    "axes[2].plot(eval_epochs, eval_accuracy, label=\"Evaluation Accuracy\", color='red', marker='x')\n",
    "axes[2].set_xlabel(\"Epoch\")\n",
    "axes[2].set_ylabel(\"Accuracy\")\n",
    "axes[2].set_title(\"Evaluation Accuracy Over Time\")\n",
    "axes[2].legend()\n",
    "axes[2].grid(True)\n",
    "\n",
    "# Adjust layout for better spacing\n",
    "plt.tight_layout()\n",
    "\n",
    "# Show the plots\n",
    "plt.show()\n"
   ]
  },
  {
   "cell_type": "code",
   "execution_count": 19,
   "metadata": {},
   "outputs": [
    {
     "name": "stdout",
     "output_type": "stream",
     "text": [
      "Plotting results...\n"
     ]
    },
    {
     "ename": "KeyError",
     "evalue": "'accuracy'",
     "output_type": "error",
     "traceback": [
      "\u001b[1;31m---------------------------------------------------------------------------\u001b[0m",
      "\u001b[1;31mKeyError\u001b[0m                                  Traceback (most recent call last)",
      "Cell \u001b[1;32mIn[19], line 16\u001b[0m\n\u001b[0;32m     13\u001b[0m     plt\u001b[38;5;241m.\u001b[39mgrid()\n\u001b[0;32m     14\u001b[0m     plt\u001b[38;5;241m.\u001b[39mshow()\n\u001b[1;32m---> 16\u001b[0m \u001b[43mplot_results\u001b[49m\u001b[43m(\u001b[49m\u001b[43mresults\u001b[49m\u001b[43m)\u001b[49m\n\u001b[0;32m     18\u001b[0m \u001b[38;5;66;03m# Confusion matrix (example for GPT-2 standard fine-tuning)\u001b[39;00m\n\u001b[0;32m     19\u001b[0m \u001b[38;5;28mprint\u001b[39m(\u001b[38;5;124m\"\u001b[39m\u001b[38;5;124mComputing confusion matrix for GPT-2 (standard fine-tuning)...\u001b[39m\u001b[38;5;124m\"\u001b[39m)\n",
      "Cell \u001b[1;32mIn[19], line 6\u001b[0m, in \u001b[0;36mplot_results\u001b[1;34m(results)\u001b[0m\n\u001b[0;32m      4\u001b[0m plt\u001b[38;5;241m.\u001b[39mfigure(figsize\u001b[38;5;241m=\u001b[39m(\u001b[38;5;241m10\u001b[39m, \u001b[38;5;241m6\u001b[39m))\n\u001b[0;32m      5\u001b[0m \u001b[38;5;28;01mfor\u001b[39;00m model_name, res \u001b[38;5;129;01min\u001b[39;00m results\u001b[38;5;241m.\u001b[39mitems():\n\u001b[1;32m----> 6\u001b[0m     accuracies \u001b[38;5;241m=\u001b[39m [\u001b[43mres\u001b[49m\u001b[43m[\u001b[49m\u001b[38;5;124;43m'\u001b[39;49m\u001b[38;5;124;43mstandard\u001b[39;49m\u001b[38;5;124;43m'\u001b[39;49m\u001b[43m]\u001b[49m\u001b[43m[\u001b[49m\u001b[38;5;124;43m'\u001b[39;49m\u001b[38;5;124;43maccuracy\u001b[39;49m\u001b[38;5;124;43m'\u001b[39;49m\u001b[43m]\u001b[49m, res[\u001b[38;5;124m'\u001b[39m\u001b[38;5;124mqlora\u001b[39m\u001b[38;5;124m'\u001b[39m][\u001b[38;5;124m'\u001b[39m\u001b[38;5;124maccuracy\u001b[39m\u001b[38;5;124m'\u001b[39m]]\n\u001b[0;32m      7\u001b[0m     plt\u001b[38;5;241m.\u001b[39mplot([\u001b[38;5;124m'\u001b[39m\u001b[38;5;124mStandard\u001b[39m\u001b[38;5;124m'\u001b[39m, \u001b[38;5;124m'\u001b[39m\u001b[38;5;124mQLoRA\u001b[39m\u001b[38;5;124m'\u001b[39m], accuracies, label\u001b[38;5;241m=\u001b[39mmodel_name)\n\u001b[0;32m      9\u001b[0m plt\u001b[38;5;241m.\u001b[39mtitle(\u001b[38;5;124m'\u001b[39m\u001b[38;5;124mAccuracy Comparison\u001b[39m\u001b[38;5;124m'\u001b[39m)\n",
      "\u001b[1;31mKeyError\u001b[0m: 'accuracy'"
     ]
    },
    {
     "data": {
      "text/plain": [
       "<Figure size 1000x600 with 0 Axes>"
      ]
     },
     "metadata": {},
     "output_type": "display_data"
    }
   ],
   "source": [
    "\n",
    "\n",
    "\n",
    "\n",
    "# Plot results\n",
    "print(\"Plotting results...\")\n",
    "def plot_results(results):\n",
    "    plt.figure(figsize=(10, 6))\n",
    "    for model_name, res in results.items():\n",
    "        accuracies = [res['standard']['accuracy'], res['qlora']['accuracy']]\n",
    "        plt.plot(['Standard', 'QLoRA'], accuracies, label=model_name)\n",
    "    \n",
    "    plt.title('Accuracy Comparison')\n",
    "    plt.ylabel('Accuracy')\n",
    "    plt.xlabel('Fine-tuning Method')\n",
    "    plt.legend()\n",
    "    plt.grid()\n",
    "    plt.show()\n",
    "\n",
    "plot_results(results)\n",
    "\n",
    "# Confusion matrix (example for GPT-2 standard fine-tuning)\n",
    "print(\"Computing confusion matrix for GPT-2 (standard fine-tuning)...\")\n",
    "y_true = dataset['validation']['labels']\n",
    "y_pred = trainer.predict(dataset['validation']).predictions\n",
    "y_pred = np.argmax(y_pred, axis=-1)\n",
    "\n",
    "cm = confusion_matrix(y_true, y_pred)\n",
    "sns.heatmap(cm, annot=True, fmt=\"d\", cmap=\"Blues\")\n",
    "plt.title(\"Confusion Matrix for GPT-2 Standard Fine-tuning\")\n",
    "plt.ylabel(\"True Labels\")\n",
    "plt.xlabel(\"Predicted Labels\")\n",
    "plt.show()\n"
   ]
  },
  {
   "cell_type": "code",
   "execution_count": null,
   "metadata": {},
   "outputs": [],
   "source": []
  }
 ],
 "metadata": {
  "kernelspec": {
   "display_name": "llm",
   "language": "python",
   "name": "python3"
  },
  "language_info": {
   "codemirror_mode": {
    "name": "ipython",
    "version": 3
   },
   "file_extension": ".py",
   "mimetype": "text/x-python",
   "name": "python",
   "nbconvert_exporter": "python",
   "pygments_lexer": "ipython3",
   "version": "3.12.7"
  }
 },
 "nbformat": 4,
 "nbformat_minor": 2
}
