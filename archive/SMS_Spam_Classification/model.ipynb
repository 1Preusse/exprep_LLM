{
 "cells": [
  {
   "cell_type": "code",
   "execution_count": null,
   "metadata": {},
   "outputs": [
    {
     "data": {
      "application/vnd.jupyter.widget-view+json": {
       "model_id": "71aa273763aa4d24ad69a322cffb04be",
       "version_major": 2,
       "version_minor": 0
      },
      "text/plain": [
       "VBox(children=(HTML(value='<center> <img\\nsrc=https://www.kaggle.com/static/images/site-logo.png\\nalt=\\'Kaggle…"
      ]
     },
     "metadata": {},
     "output_type": "display_data"
    },
    {
     "name": "stdout",
     "output_type": "stream",
     "text": [
      "Kaggle credentials set.\n",
      "Kaggle credentials successfully validated.\n"
     ]
    }
   ],
   "source": [
    "import kagglehub\n",
    "\n",
    "kagglehub.login() #fe2b59006df9190854e38e64ea5b88fc"
   ]
  },
  {
   "cell_type": "code",
   "execution_count": null,
   "metadata": {},
   "outputs": [
    {
     "ename": "ImportError",
     "evalue": "cannot import name 'prepare_model_for_int8_training' from 'peft' (c:\\Users\\kpreube\\miniconda3\\envs\\llm\\Lib\\site-packages\\peft\\__init__.py)",
     "output_type": "error",
     "traceback": [
      "\u001b[1;31m---------------------------------------------------------------------------\u001b[0m",
      "\u001b[1;31mImportError\u001b[0m                               Traceback (most recent call last)",
      "Cell \u001b[1;32mIn[3], line 7\u001b[0m\n\u001b[0;32m      5\u001b[0m \u001b[38;5;28;01mimport\u001b[39;00m \u001b[38;5;21;01mtorch\u001b[39;00m\n\u001b[0;32m      6\u001b[0m \u001b[38;5;28;01mfrom\u001b[39;00m \u001b[38;5;21;01mdatasets\u001b[39;00m \u001b[38;5;28;01mimport\u001b[39;00m Dataset\n\u001b[1;32m----> 7\u001b[0m \u001b[38;5;28;01mfrom\u001b[39;00m \u001b[38;5;21;01mpeft\u001b[39;00m \u001b[38;5;28;01mimport\u001b[39;00m prepare_model_for_int8_training, get_peft_model, LoraConfig, TaskType\n\u001b[0;32m     11\u001b[0m \u001b[38;5;66;03m# Device configuration\u001b[39;00m\n\u001b[0;32m     12\u001b[0m device \u001b[38;5;241m=\u001b[39m torch\u001b[38;5;241m.\u001b[39mdevice(\u001b[38;5;124m\"\u001b[39m\u001b[38;5;124mcuda\u001b[39m\u001b[38;5;124m\"\u001b[39m \u001b[38;5;28;01mif\u001b[39;00m torch\u001b[38;5;241m.\u001b[39mcuda\u001b[38;5;241m.\u001b[39mis_available() \u001b[38;5;28;01melse\u001b[39;00m \u001b[38;5;124m\"\u001b[39m\u001b[38;5;124mcpu\u001b[39m\u001b[38;5;124m\"\u001b[39m)\n",
      "\u001b[1;31mImportError\u001b[0m: cannot import name 'prepare_model_for_int8_training' from 'peft' (c:\\Users\\kpreube\\miniconda3\\envs\\llm\\Lib\\site-packages\\peft\\__init__.py)"
     ]
    },
    {
     "ename": "",
     "evalue": "",
     "output_type": "error",
     "traceback": [
      "\u001b[1;31mThe Kernel crashed while executing code in the current cell or a previous cell. \n",
      "\u001b[1;31mPlease review the code in the cell(s) to identify a possible cause of the failure. \n",
      "\u001b[1;31mClick <a href='https://aka.ms/vscodeJupyterKernelCrash'>here</a> for more info. \n",
      "\u001b[1;31mView Jupyter <a href='command:jupyter.viewOutput'>log</a> for further details."
     ]
    }
   ],
   "source": [
    "from transformers import AutoModelForSequenceClassification, AutoTokenizer, Trainer, TrainingArguments\n",
    "from datasets import load_dataset\n",
    "from peft import get_peft_model, LoraConfig, TaskType\n",
    "import pandas as pd\n",
    "import torch\n",
    "from datasets import Dataset\n",
    "from peft import prepare_model_for_int8_training, get_peft_model, LoraConfig, TaskType\n",
    "\n",
    "\n",
    "\n",
    "# Device configuration\n",
    "device = torch.device(\"cuda\" if torch.cuda.is_available() else \"cpu\")\n",
    "\n",
    "# Load the model in 4-bit precision mode\n",
    "model_name = \"facebook/opt-350m\"\n",
    "model = AutoModelForSequenceClassification.from_pretrained(\n",
    "    model_name, \n",
    "    load_in_4bit=True,  # Load the model with quantized weights\n",
    "    device_map=\"auto\"   # Automatically distribute the model across available GPUs\n",
    ")\n",
    "# Freeze all parameters in the base model\n",
    "for param in model.parameters():\n",
    "    param.requires_grad = False\n",
    "\n",
    "# Prepare model for 8-bit training\n",
    "model = prepare_model_for_int8_training(model)\n",
    "# Load the tokenizer\n",
    "tokenizer = AutoTokenizer.from_pretrained(model_name)\n",
    "\n",
    "\n",
    "import kagglehub\n",
    "\n",
    "# Download latest version\n",
    "path = kagglehub.dataset_download(\"uciml/sms-spam-collection-dataset\")\n",
    "\n",
    "\n",
    "\n",
    "# Assuming the dataset is in CSV format\n",
    "import pandas as pd\n",
    "\n",
    "# Load the dataset into a pandas DataFrame\n",
    "# The file is typically named \"spam.csv\" in this dataset\n",
    "df_sms = pd.read_csv(f\"{path}/spam.csv\", encoding=\"ISO-8859-1\")\n",
    "\n",
    "# Rename columns to match expected names\n",
    "df_sms = df_sms.rename(columns={\"v1\": \"label\", \"v2\": \"text\"})  # 'v1' is label, 'v2' is the message\n",
    "\n",
    "# Drop unnecessary columns if present\n",
    "df_sms = df_sms[['text', 'label']]\n",
    "\n",
    "# Ensure consistent label encoding: 'ham' -> 0, 'spam' -> 1\n",
    "df_sms['label'] = df_sms['label'].map({'ham': 0, 'spam': 1})\n",
    "\n",
    "# Convert to HuggingFace Dataset\n",
    "from datasets import Dataset\n",
    "dataset = Dataset.from_pandas(df_sms)\n",
    "\n",
    "# Split the dataset into training and validation sets (90% train, 10% validation)\n",
    "train_data = dataset.select([i for i in range(len(dataset)) if i % 10 != 0])  # 90% for training\n",
    "val_data = dataset.select([i for i in range(len(dataset)) if i % 10 == 0])  # 10% for validation\n",
    "\n",
    "# Tokenize the input sequences\n",
    "def tokenize_function(examples):\n",
    "    return tokenizer(examples['text'], padding='max_length', max_length=128, truncation=True)\n",
    "\n",
    "# Apply tokenization to the datasets\n",
    "train_data = train_data.map(tokenize_function, batched=True)\n",
    "val_data = val_data.map(tokenize_function, batched=True)\n",
    "\n",
    "# Convert labels to a format suitable for classification (e.g., 0 for ham, 1 for spam)\n",
    "def encode_labels(examples):\n",
    "    examples['labels'] = [1 if label == 'spam' else 0 for label in examples['label']]\n",
    "    return examples\n",
    "\n",
    "train_data = train_data.map(encode_labels, batched=True)\n",
    "val_data = val_data.map(encode_labels, batched=True)\n",
    "\n",
    "# Set up QLoRA (Low-Rank Adaptation)\n",
    "lora_config = LoraConfig(\n",
    "    r=8,                          # Rank of the low-rank matrices\n",
    "    lora_alpha=16,                 # Scaling factor\n",
    "    lora_dropout=0.1,              # Dropout rate\n",
    "    task_type=TaskType.SEQ_CLS     # Sequence classification task\n",
    ")\n",
    "\n",
    "# Apply QLoRA to the model\n",
    "model = get_peft_model(model, lora_config)\n",
    "\n",
    "# Define Training Arguments\n",
    "training_args = TrainingArguments(\n",
    "    output_dir=\"./results_sms_spam\",\n",
    "    evaluation_strategy=\"steps\",\n",
    "    learning_rate=2e-5,\n",
    "    per_device_train_batch_size=16,\n",
    "    per_device_eval_batch_size=16,\n",
    "    num_train_epochs=3,\n",
    "    weight_decay=0.01,\n",
    "    logging_dir=\"./logs\",\n",
    "    logging_steps=10,\n",
    "    save_steps=500,\n",
    "    fp16=False,\n",
    ")\n",
    "\"\"\"training_args = TrainingArguments(\n",
    "    output_dir=\"./results\",\n",
    "    evaluation_strategy=\"steps\",\n",
    "    learning_rate=2e-5,\n",
    "    per_device_train_batch_size=16,\n",
    "    per_device_eval_batch_size=16,\n",
    "    num_train_epochs=3,\n",
    "    weight_decay=0.01,\n",
    "    logging_dir=\"./logs\",\n",
    "    logging_steps=10,\n",
    "    save_steps=500,\n",
    "    fp16=False,  # Disable FP16 precision\n",
    ")\"\"\"\n",
    "\n",
    "# Initialize Trainer\n",
    "trainer = Trainer(\n",
    "    model=model,\n",
    "    args=training_args,\n",
    "    train_dataset=train_data,\n",
    "    eval_dataset=val_data,\n",
    "    tokenizer=tokenizer\n",
    ")\n",
    "\n",
    "# Start Training\n",
    "trainer.train()\n"
   ]
  }
 ],
 "metadata": {
  "kernelspec": {
   "display_name": "llm",
   "language": "python",
   "name": "python3"
  },
  "language_info": {
   "codemirror_mode": {
    "name": "ipython",
    "version": 3
   },
   "file_extension": ".py",
   "mimetype": "text/x-python",
   "name": "python",
   "nbconvert_exporter": "python",
   "pygments_lexer": "ipython3",
   "version": "3.12.7"
  }
 },
 "nbformat": 4,
 "nbformat_minor": 2
}
