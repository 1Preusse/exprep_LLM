{
 "cells": [
  {
   "cell_type": "markdown",
   "metadata": {
    "id": "_F3_7tgFKPn5"
   },
   "source": [
    "# Installing Dependencies"
   ]
  },
  {
   "cell_type": "code",
   "execution_count": null,
   "metadata": {
    "colab": {
     "base_uri": "https://localhost:8080/"
    },
    "id": "8k3qYvLn8zE0",
    "outputId": "da7288c7-b446-4e72-c208-afacf83fc005"
   },
   "outputs": [],
   "source": []
  },
  {
   "cell_type": "markdown",
   "metadata": {
    "id": "6qh-rhOOKd8U"
   },
   "source": [
    "# Import Libraries"
   ]
  },
  {
   "cell_type": "code",
   "execution_count": 27,
   "metadata": {
    "id": "4OGeB2FM8fg5"
   },
   "outputs": [],
   "source": [
    "import torch\n",
    "from transformers import GPT2LMHeadModel, GPT2Tokenizer\n",
    "from transformers import TrainingArguments, Trainer\n",
    "from datasets import load_dataset, load_metric"
   ]
  },
  {
   "cell_type": "markdown",
   "metadata": {
    "id": "MVbtM0vwKuOA"
   },
   "source": [
    "# Import Model"
   ]
  },
  {
   "cell_type": "code",
   "execution_count": 30,
   "metadata": {
    "colab": {
     "base_uri": "https://localhost:8080/",
     "height": 209,
     "referenced_widgets": [
      "5d8a97d1a8534595b0264e1eac9d4095",
      "8de2ed3a613444d589d0a05b680bda7f",
      "ee9e387ffae0412d805d7095f9c2550b",
      "7fd2dd64167d4afa890be1dd7198b3b8",
      "47ff8d89a38c4e93877d18c6724b4943",
      "c0893852fd974f37a79afbad27e9106b",
      "6ca12abab518464798db3e9b7dffe789",
      "b70b2d60aa4f4e74bba1cc06fa0ecf04",
      "a59fcf317d934e45afdca034178747bd",
      "c6f215897c5d4b98a021e71063faeb91",
      "4d6213f927b0418fa6eba1d096e64542",
      "a9e61a4941c34e49b08c3e1f5ce0ef4e",
      "9df70bc9bafc4171ab0a6d0b899132a9",
      "f08b8ff471544f189738c0c68d973cd6",
      "3fa104f16a404ad394cc543feac5cd3c",
      "16921c35c4024f5bbc334303cf28e18e",
      "0b255a3ef28b4d738c044c0aca523406",
      "700aff0fb22b4dac8789f7a44f3b7e77",
      "fa6542d73e684e7ab04b293d291e11ff",
      "68eaec29e86045e5aec3dd032b56cd09",
      "dcf5e111d9504f31bdfe60acebfaec03",
      "e3caea9560854ded97a3ccb90e7a4292",
      "f9511cafde87440985157d30e2c859cd",
      "ec9cc68a0b7d4c32845db2c9a5192122",
      "75421153f63c4c5ca60e060913c612fe",
      "35d6d18ff850443eac132f6484d5197c",
      "721d0897700d47c68a014d5fd825c47b",
      "4140a72094164628bdaabb36d24657d4",
      "b6850f30a0da42bc8ff081e15b67d6fc",
      "db37b287c7354cad9080447b66511988",
      "19ca09fa63cc4a0c806f2b60dbfa0e02",
      "d584ad612b3441a0839068eef39cda46",
      "fca606ff33534b9b8998aa704e5cdfe8",
      "61b6935cccbc4bf08dc46d01ac0e9f25",
      "e969ddb70fcc4364840bc92978c4f52c",
      "8ebf3fc84b7f4c86892cf7bb3063c004",
      "b3aa95d0a9b545ca8490a011db3bc918",
      "641d5610b2214895bef6da87441ec7f1",
      "1e15a0997ffd4d3389e3e173525f0b49",
      "83865482ac624f3d8154c0a48ec659b1",
      "dec4cddbb64b47aebcd293b0d5656593",
      "ce226a3b8a334df0bb0f5a6029dd1188",
      "9bc67cb44760464895c39d6b98f0d129",
      "44f4b5f2f76e41b1bc193e2d61bceb6f",
      "6a601a1fbf69411cb2813a7b67ba8b34",
      "1505ed8ceaa94538940e4653c8f59623",
      "b5d338d34a4a4ee5b3c19c996550ec59",
      "234aec6b44b648a1b1c44324de76c686",
      "61fb78c48c45431797616a3bbf5d85e6",
      "f8a067623d4c4dfaa4f7a13968c83cad",
      "ab561e9c7c8f452e897b0d7585e7d8b4",
      "db019329ddea43d6bfb1f64fffe78944",
      "511a69d126dc406a953e762290e0be64",
      "f7dc67928b3949d4a20b04c4321ee3ae",
      "272f2512e3f64b3bbdbd7240816ef07a",
      "68965c3b723348d1ba16b02d2995c7b1",
      "1e2c632afcbf4b0f8a0f332bd99bc530",
      "b247c5ea1ee44cc982744c41bda3ff07",
      "74e2833a78f54fa0a0aab9e2fde31d05",
      "23f4cf04804e422f942ff302357701fe",
      "00589899197f4ffb8742b166417f1305",
      "15380f7657814cd4b8eca00e8a16767a",
      "351caf4ef5124d89adae38aeb78193a8",
      "bbbccdad52374b268de38d7e0ebafc4c",
      "8ae4c9d2226b4398b171c69057645abd",
      "fb6f538af8d44ad0a4a2ae42be470eb6"
     ]
    },
    "id": "TouK-jYv_WQR",
    "outputId": "36b275b2-c8d8-438d-857b-a57c74c58e53"
   },
   "outputs": [],
   "source": [
    "# Load pre-trained GPT-2 model and tokenizer\n",
    "model_name = \"gpt2\"\n",
    "model = GPT2LMHeadModel.from_pretrained(model_name)\n",
    "tokenizer = GPT2Tokenizer.from_pretrained(model_name)"
   ]
  },
  {
   "cell_type": "markdown",
   "metadata": {
    "id": "XI-FJQSuKhFn"
   },
   "source": [
    "# Importing and Processing Dataset"
   ]
  },
  {
   "cell_type": "code",
   "execution_count": 34,
   "metadata": {},
   "outputs": [
    {
     "data": {
      "application/vnd.jupyter.widget-view+json": {
       "model_id": "3964f6b0cb824c789453b3bc87d4f3de",
       "version_major": 2,
       "version_minor": 0
      },
      "text/plain": [
       "Map:   0%|          | 0/122498 [00:00<?, ? examples/s]"
      ]
     },
     "metadata": {},
     "output_type": "display_data"
    },
    {
     "data": {
      "application/vnd.jupyter.widget-view+json": {
       "model_id": "75bec9ab018245d099620844f2f0eea3",
       "version_major": 2,
       "version_minor": 0
      },
      "text/plain": [
       "Map:   0%|          | 0/13611 [00:00<?, ? examples/s]"
      ]
     },
     "metadata": {},
     "output_type": "display_data"
    },
    {
     "name": "stdout",
     "output_type": "stream",
     "text": [
      "{'question': \"How can I install Python 3 on an AWS EC2 instance? I tried using the command `sudo yum install python3`, but I received an error message saying `No package python3 available.`. I searched online but didn't find a solution. Do I need to download and install it manually?\", 'answer': \"To install Python 3 on an AWS EC2 instance, you can use the Amazon Linux Extras Library. This library is a curated set of software that Amazon provides for the Amazon Linux 2 platform. It includes newer versions of software, like Python 3, that are not included in the default Amazon Linux 2 repositories. Here is a step by step process on how to do it:\\n\\n1. First, update your instance with the following command:\\n\\n```bash\\nsudo yum update -y\\n```\\n\\n2. Next, list available packages in the Amazon Linux Extras repository by typing:\\n\\n```bash\\nsudo amazon-linux-extras list\\n```\\n\\n3. You should see python3.8 available in the list. To install it, use the following command:\\n\\n```bash\\nsudo amazon-linux-extras install python3.8\\n```\\n\\n4. Verify the installation by checking the Python version:\\n\\n```bash\\npython3 --version\\n```\\n\\nThis should return something like:\\n\\n```bash\\nPython 3.8.8\\n```\\n\\nThat's it! You have now installed Python 3 on your AWS EC2 instance.\", 'input_ids': [2437, 460, 314, 2721, 11361, 513, 319, 281, 30865, 13182, 17, 4554, 30, 314, 3088, 1262, 262, 3141, 4600, 24032, 331, 388, 2721, 21015, 18, 47671, 475, 314, 2722, 281, 4049, 3275, 2282, 4600, 2949, 5301, 21015, 18, 1695, 13, 44646, 314, 16499, 2691, 475, 1422, 470, 1064, 257, 4610, 13, 2141, 314, 761, 284, 4321, 290, 2721, 340, 14500, 30, 50256, 50256, 50256, 50256, 50256, 50256, 50256, 50256, 50256, 50256, 50256, 50256, 50256, 50256, 50256, 50256, 50256, 50256, 50256, 50256, 50256, 50256, 50256, 50256, 50256, 50256, 50256, 50256, 50256, 50256, 50256, 50256, 50256, 50256, 50256, 50256, 50256, 50256, 50256, 50256, 50256, 50256, 50256, 50256, 50256, 50256, 50256, 50256, 50256, 50256, 50256, 50256, 50256, 50256, 50256, 50256, 50256, 50256, 50256, 50256, 50256, 50256, 50256, 50256, 50256, 50256, 50256, 50256, 50256, 50256, 50256, 50256, 50256, 50256, 50256, 50256, 50256, 50256, 50256, 50256, 50256, 50256, 50256, 50256, 50256, 50256, 50256, 50256, 50256, 50256, 50256, 50256, 50256, 50256, 50256, 50256, 50256, 50256, 50256, 50256, 50256, 50256, 50256, 50256, 50256, 50256, 50256, 50256, 50256, 50256, 50256, 50256, 50256, 50256, 50256, 50256, 50256, 50256, 50256, 50256, 50256, 50256, 50256, 50256, 50256, 50256, 50256, 50256, 50256, 50256, 50256, 50256, 50256, 50256, 50256, 50256, 50256, 50256, 50256, 50256, 50256, 50256, 50256, 50256, 50256, 50256, 50256, 50256, 50256, 50256, 50256, 50256, 50256, 50256, 50256, 50256, 50256, 50256, 50256, 50256, 50256, 50256, 50256, 50256, 50256, 50256, 50256, 50256, 50256, 50256, 50256, 50256, 50256, 50256, 50256, 50256, 50256, 50256, 50256, 50256, 50256, 50256, 50256, 50256, 50256, 50256, 50256, 50256, 50256, 50256, 50256, 50256, 50256, 50256, 50256, 50256, 50256, 50256, 50256, 50256, 50256, 50256, 50256, 50256, 50256, 50256, 50256, 50256, 50256, 50256, 50256, 50256, 50256, 50256, 50256, 50256, 50256, 50256, 50256, 50256, 50256, 50256, 50256, 50256, 50256, 50256, 50256, 50256, 50256, 50256, 50256, 50256, 50256, 50256, 50256, 50256, 50256, 50256, 50256, 50256, 50256, 50256, 50256, 50256, 50256, 50256, 50256, 50256, 50256, 50256, 50256, 50256, 50256, 50256, 50256, 50256, 50256, 50256, 50256, 50256, 50256, 50256, 50256, 50256, 50256, 50256, 50256, 50256, 50256, 50256, 50256, 50256, 50256, 50256, 50256, 50256, 50256, 50256, 50256, 50256, 50256, 50256, 50256, 50256, 50256, 50256, 50256, 50256, 50256, 50256, 50256, 50256, 50256, 50256, 50256, 50256, 50256, 50256, 50256, 50256, 50256, 50256, 50256, 50256, 50256, 50256, 50256, 50256, 50256, 50256, 50256, 50256, 50256, 50256, 50256, 50256, 50256, 50256, 50256, 50256, 50256, 50256, 50256, 50256, 50256, 50256, 50256, 50256, 50256, 50256, 50256, 50256, 50256, 50256, 50256, 50256, 50256, 50256, 50256, 50256, 50256, 50256, 50256, 50256, 50256, 50256, 50256, 50256, 50256, 50256, 50256, 50256, 50256, 50256, 50256, 50256, 50256, 50256, 50256, 50256, 50256, 50256, 50256, 50256, 50256, 50256, 50256, 50256, 50256, 50256, 50256, 50256, 50256, 50256, 50256, 50256, 50256, 50256, 50256, 50256, 50256, 50256, 50256, 50256, 50256, 50256, 50256, 50256, 50256, 50256, 50256, 50256, 50256, 50256, 50256, 50256, 50256, 50256, 50256, 50256, 50256, 50256, 50256, 50256, 50256, 50256, 50256, 50256, 50256, 50256, 50256, 50256, 50256, 50256, 50256, 50256, 50256, 50256, 50256, 50256, 50256, 50256, 50256, 50256, 50256, 50256, 50256, 50256, 50256, 50256, 50256, 50256, 50256, 50256, 50256, 50256, 50256, 50256, 50256, 50256, 50256, 50256, 50256, 50256, 50256, 50256, 50256, 50256, 50256, 50256, 50256], 'labels': [2514, 2721, 11361, 513, 319, 281, 30865, 13182, 17, 4554, 11, 345, 460, 779, 262, 6186, 7020, 43620, 10074, 13, 770, 5888, 318, 257, 36768, 900, 286, 3788, 326, 6186, 3769, 329, 262, 6186, 7020, 362, 3859, 13, 632, 3407, 15064, 6300, 286, 3788, 11, 588, 11361, 513, 11, 326, 389, 407, 3017, 287, 262, 4277, 6186, 7020, 362, 38072, 13, 3423, 318, 257, 2239, 416, 2239, 1429, 319, 703, 284, 466, 340, 25, 198, 198, 16, 13, 3274, 11, 4296, 534, 4554, 351, 262, 1708, 3141, 25, 198, 198, 15506, 63, 41757, 198, 24032, 331, 388, 4296, 532, 88, 198, 15506, 63, 198, 198, 17, 13, 7406, 11, 1351, 1695, 10392, 287, 262, 6186, 7020, 43620, 16099, 416, 19720, 25, 198, 198, 15506, 63, 41757, 198, 24032, 716, 5168, 12, 23289, 12, 2302, 8847, 1351, 198, 15506, 63, 198, 198, 18, 13, 921, 815, 766, 21015, 18, 13, 23, 1695, 287, 262, 1351, 13, 1675, 2721, 340, 11, 779, 262, 1708, 3141, 25, 198, 198, 15506, 63, 41757, 198, 24032, 716, 5168, 12, 23289, 12, 2302, 8847, 2721, 21015, 18, 13, 23, 198, 15506, 63, 198, 198, 19, 13, 49899, 262, 9988, 416, 10627, 262, 11361, 2196, 25, 198, 198, 15506, 63, 41757, 198, 29412, 18, 1377, 9641, 198, 15506, 63, 198, 198, 1212, 815, 1441, 1223, 588, 25, 198, 198, 15506, 63, 41757, 198, 37906, 513, 13, 23, 13, 23, 198, 15506, 63, 198, 198, 2504, 338, 340, 0, 921, 423, 783, 6589, 11361, 513, 319, 534, 30865, 13182, 17, 4554, 13, 50256, 50256, 50256, 50256, 50256, 50256, 50256, 50256, 50256, 50256, 50256, 50256, 50256, 50256, 50256, 50256, 50256, 50256, 50256, 50256, 50256, 50256, 50256, 50256, 50256, 50256, 50256, 50256, 50256, 50256, 50256, 50256, 50256, 50256, 50256, 50256, 50256, 50256, 50256, 50256, 50256, 50256, 50256, 50256, 50256, 50256, 50256, 50256, 50256, 50256, 50256, 50256, 50256, 50256, 50256, 50256, 50256, 50256, 50256, 50256, 50256, 50256, 50256, 50256, 50256, 50256, 50256, 50256, 50256, 50256, 50256, 50256, 50256, 50256, 50256, 50256, 50256, 50256, 50256, 50256, 50256, 50256, 50256, 50256, 50256, 50256, 50256, 50256, 50256, 50256, 50256, 50256, 50256, 50256, 50256, 50256, 50256, 50256, 50256, 50256, 50256, 50256, 50256, 50256, 50256, 50256, 50256, 50256, 50256, 50256, 50256, 50256, 50256, 50256, 50256, 50256, 50256, 50256, 50256, 50256, 50256, 50256, 50256, 50256, 50256, 50256, 50256, 50256, 50256, 50256, 50256, 50256, 50256, 50256, 50256, 50256, 50256, 50256, 50256, 50256, 50256, 50256, 50256, 50256, 50256, 50256, 50256, 50256, 50256, 50256, 50256, 50256, 50256, 50256, 50256, 50256, 50256, 50256, 50256, 50256, 50256, 50256, 50256, 50256, 50256, 50256, 50256, 50256, 50256, 50256, 50256, 50256, 50256, 50256, 50256, 50256, 50256, 50256, 50256, 50256, 50256, 50256, 50256, 50256, 50256, 50256, 50256, 50256, 50256, 50256, 50256, 50256, 50256, 50256, 50256, 50256, 50256, 50256, 50256, 50256, 50256, 50256, 50256, 50256, 50256, 50256, 50256, 50256, 50256, 50256, 50256, 50256, 50256, 50256, 50256, 50256, 50256, 50256, 50256, 50256, 50256, 50256, 50256, 50256, 50256, 50256, 50256, 50256, 50256, 50256, 50256, 50256, 50256, 50256, 50256, 50256, 50256, 50256, 50256, 50256, 50256, 50256, 50256, 50256, 50256, 50256, 50256, 50256, 50256, 50256, 50256, 50256, 50256, 50256, 50256, 50256, 50256, 50256]}\n",
      "{'question': 'How can I output bold text in Bash? I have a Bash script that prints some text to the screen using the `echo \"Some Text\"` command. Is there a way I can format the text to make it bold?', 'answer': 'Yes, you can format the output text in Bash to make it bold. Bash allows you to use special escape sequences for text decoration. To make some text bold in bash, you would use the escape sequence `\\\\033[1m`, and to reset the formatting, you would use `\\\\033[0m`. \\n\\nHere\\'s how you can update your `echo` statement to print bold text:\\n\\n```bash\\necho -e \"\\\\033[1mSome Text\\\\033[0m\"\\n```\\n\\nIn this code:\\n\\n- The `-e` option of `echo` allows the interpretation of backslash escapes.\\n- The `\\\\033[1m` sequence sets the text to be bold.\\n- The `Some Text` part is the actual text that will be printed in bold.\\n- The `\\\\033[0m` sequence resets the text formatting to the default, so anything printed afterwards will be in the default format.\\n\\nRemember that these escape sequences may not work in all terminals and circumstances, but they should work in most common situations.', 'input_ids': [2437, 460, 314, 5072, 10758, 2420, 287, 15743, 30, 314, 423, 257, 15743, 4226, 326, 20842, 617, 2420, 284, 262, 3159, 1262, 262, 4600, 30328, 366, 4366, 8255, 1, 63, 3141, 13, 1148, 612, 257, 835, 314, 460, 5794, 262, 2420, 284, 787, 340, 10758, 30, 50256, 50256, 50256, 50256, 50256, 50256, 50256, 50256, 50256, 50256, 50256, 50256, 50256, 50256, 50256, 50256, 50256, 50256, 50256, 50256, 50256, 50256, 50256, 50256, 50256, 50256, 50256, 50256, 50256, 50256, 50256, 50256, 50256, 50256, 50256, 50256, 50256, 50256, 50256, 50256, 50256, 50256, 50256, 50256, 50256, 50256, 50256, 50256, 50256, 50256, 50256, 50256, 50256, 50256, 50256, 50256, 50256, 50256, 50256, 50256, 50256, 50256, 50256, 50256, 50256, 50256, 50256, 50256, 50256, 50256, 50256, 50256, 50256, 50256, 50256, 50256, 50256, 50256, 50256, 50256, 50256, 50256, 50256, 50256, 50256, 50256, 50256, 50256, 50256, 50256, 50256, 50256, 50256, 50256, 50256, 50256, 50256, 50256, 50256, 50256, 50256, 50256, 50256, 50256, 50256, 50256, 50256, 50256, 50256, 50256, 50256, 50256, 50256, 50256, 50256, 50256, 50256, 50256, 50256, 50256, 50256, 50256, 50256, 50256, 50256, 50256, 50256, 50256, 50256, 50256, 50256, 50256, 50256, 50256, 50256, 50256, 50256, 50256, 50256, 50256, 50256, 50256, 50256, 50256, 50256, 50256, 50256, 50256, 50256, 50256, 50256, 50256, 50256, 50256, 50256, 50256, 50256, 50256, 50256, 50256, 50256, 50256, 50256, 50256, 50256, 50256, 50256, 50256, 50256, 50256, 50256, 50256, 50256, 50256, 50256, 50256, 50256, 50256, 50256, 50256, 50256, 50256, 50256, 50256, 50256, 50256, 50256, 50256, 50256, 50256, 50256, 50256, 50256, 50256, 50256, 50256, 50256, 50256, 50256, 50256, 50256, 50256, 50256, 50256, 50256, 50256, 50256, 50256, 50256, 50256, 50256, 50256, 50256, 50256, 50256, 50256, 50256, 50256, 50256, 50256, 50256, 50256, 50256, 50256, 50256, 50256, 50256, 50256, 50256, 50256, 50256, 50256, 50256, 50256, 50256, 50256, 50256, 50256, 50256, 50256, 50256, 50256, 50256, 50256, 50256, 50256, 50256, 50256, 50256, 50256, 50256, 50256, 50256, 50256, 50256, 50256, 50256, 50256, 50256, 50256, 50256, 50256, 50256, 50256, 50256, 50256, 50256, 50256, 50256, 50256, 50256, 50256, 50256, 50256, 50256, 50256, 50256, 50256, 50256, 50256, 50256, 50256, 50256, 50256, 50256, 50256, 50256, 50256, 50256, 50256, 50256, 50256, 50256, 50256, 50256, 50256, 50256, 50256, 50256, 50256, 50256, 50256, 50256, 50256, 50256, 50256, 50256, 50256, 50256, 50256, 50256, 50256, 50256, 50256, 50256, 50256, 50256, 50256, 50256, 50256, 50256, 50256, 50256, 50256, 50256, 50256, 50256, 50256, 50256, 50256, 50256, 50256, 50256, 50256, 50256, 50256, 50256, 50256, 50256, 50256, 50256, 50256, 50256, 50256, 50256, 50256, 50256, 50256, 50256, 50256, 50256, 50256, 50256, 50256, 50256, 50256, 50256, 50256, 50256, 50256, 50256, 50256, 50256, 50256, 50256, 50256, 50256, 50256, 50256, 50256, 50256, 50256, 50256, 50256, 50256, 50256, 50256, 50256, 50256, 50256, 50256, 50256, 50256, 50256, 50256, 50256, 50256, 50256, 50256, 50256, 50256, 50256, 50256, 50256, 50256, 50256, 50256, 50256, 50256, 50256, 50256, 50256, 50256, 50256, 50256, 50256, 50256, 50256, 50256, 50256, 50256, 50256, 50256, 50256, 50256, 50256, 50256, 50256, 50256, 50256, 50256, 50256, 50256, 50256, 50256, 50256, 50256, 50256, 50256, 50256, 50256, 50256, 50256, 50256, 50256, 50256, 50256, 50256, 50256, 50256, 50256, 50256, 50256, 50256, 50256, 50256, 50256, 50256, 50256, 50256, 50256, 50256, 50256, 50256, 50256, 50256, 50256, 50256, 50256, 50256, 50256, 50256, 50256, 50256, 50256, 50256], 'labels': [5297, 11, 345, 460, 5794, 262, 5072, 2420, 287, 15743, 284, 787, 340, 10758, 13, 15743, 3578, 345, 284, 779, 2041, 6654, 16311, 329, 2420, 42050, 13, 1675, 787, 617, 2420, 10758, 287, 27334, 11, 345, 561, 779, 262, 6654, 8379, 4600, 59, 44427, 58, 16, 76, 47671, 290, 284, 13259, 262, 33313, 11, 345, 561, 779, 4600, 59, 44427, 58, 15, 76, 44646, 220, 198, 198, 4342, 338, 703, 345, 460, 4296, 534, 4600, 30328, 63, 2643, 284, 3601, 10758, 2420, 25, 198, 198, 15506, 63, 41757, 198, 30328, 532, 68, 37082, 44427, 58, 16, 76, 4366, 8255, 59, 44427, 58, 15, 76, 1, 198, 15506, 63, 198, 198, 818, 428, 2438, 25, 198, 198, 12, 383, 4600, 12, 68, 63, 3038, 286, 4600, 30328, 63, 3578, 262, 10794, 286, 736, 6649, 1077, 32695, 13, 198, 12, 383, 4600, 59, 44427, 58, 16, 76, 63, 8379, 5621, 262, 2420, 284, 307, 10758, 13, 198, 12, 383, 4600, 4366, 8255, 63, 636, 318, 262, 4036, 2420, 326, 481, 307, 10398, 287, 10758, 13, 198, 12, 383, 4600, 59, 44427, 58, 15, 76, 63, 8379, 581, 1039, 262, 2420, 33313, 284, 262, 4277, 11, 523, 1997, 10398, 12979, 481, 307, 287, 262, 4277, 5794, 13, 198, 198, 16676, 326, 777, 6654, 16311, 743, 407, 670, 287, 477, 30237, 290, 5917, 11, 475, 484, 815, 670, 287, 749, 2219, 7445, 13, 50256, 50256, 50256, 50256, 50256, 50256, 50256, 50256, 50256, 50256, 50256, 50256, 50256, 50256, 50256, 50256, 50256, 50256, 50256, 50256, 50256, 50256, 50256, 50256, 50256, 50256, 50256, 50256, 50256, 50256, 50256, 50256, 50256, 50256, 50256, 50256, 50256, 50256, 50256, 50256, 50256, 50256, 50256, 50256, 50256, 50256, 50256, 50256, 50256, 50256, 50256, 50256, 50256, 50256, 50256, 50256, 50256, 50256, 50256, 50256, 50256, 50256, 50256, 50256, 50256, 50256, 50256, 50256, 50256, 50256, 50256, 50256, 50256, 50256, 50256, 50256, 50256, 50256, 50256, 50256, 50256, 50256, 50256, 50256, 50256, 50256, 50256, 50256, 50256, 50256, 50256, 50256, 50256, 50256, 50256, 50256, 50256, 50256, 50256, 50256, 50256, 50256, 50256, 50256, 50256, 50256, 50256, 50256, 50256, 50256, 50256, 50256, 50256, 50256, 50256, 50256, 50256, 50256, 50256, 50256, 50256, 50256, 50256, 50256, 50256, 50256, 50256, 50256, 50256, 50256, 50256, 50256, 50256, 50256, 50256, 50256, 50256, 50256, 50256, 50256, 50256, 50256, 50256, 50256, 50256, 50256, 50256, 50256, 50256, 50256, 50256, 50256, 50256, 50256, 50256, 50256, 50256, 50256, 50256, 50256, 50256, 50256, 50256, 50256, 50256, 50256, 50256, 50256, 50256, 50256, 50256, 50256, 50256, 50256, 50256, 50256, 50256, 50256, 50256, 50256, 50256, 50256, 50256, 50256, 50256, 50256, 50256, 50256, 50256, 50256, 50256, 50256, 50256, 50256, 50256, 50256, 50256, 50256, 50256, 50256, 50256, 50256, 50256, 50256, 50256, 50256, 50256, 50256, 50256, 50256, 50256, 50256, 50256, 50256, 50256, 50256, 50256, 50256, 50256, 50256, 50256, 50256, 50256, 50256, 50256, 50256, 50256, 50256, 50256, 50256, 50256, 50256, 50256, 50256, 50256, 50256, 50256, 50256, 50256, 50256, 50256, 50256, 50256, 50256, 50256, 50256, 50256, 50256, 50256, 50256, 50256, 50256, 50256, 50256, 50256, 50256, 50256, 50256, 50256, 50256, 50256, 50256, 50256, 50256, 50256, 50256, 50256, 50256, 50256, 50256, 50256, 50256, 50256, 50256, 50256, 50256, 50256, 50256, 50256, 50256, 50256, 50256, 50256]}\n"
     ]
    }
   ],
   "source": [
    "import pandas as pd\n",
    "from datasets import Dataset\n",
    "import torch\n",
    "from transformers import AutoTokenizer\n",
    "\n",
    "# Device configuration\n",
    "device = torch.device(\"cuda\" if torch.cuda.is_available() else \"cpu\")\n",
    "\n",
    "# Load the tokenizer and set the padding token\n",
    "tokenizer = AutoTokenizer.from_pretrained(\"gpt2\")  # Replace with your model name\n",
    "tokenizer.pad_token = tokenizer.eos_token\n",
    "\n",
    "# Load your dataset from JSON\n",
    "df_glaive = pd.read_json(\"hf://datasets/glaiveai/glaive-code-assistant/c9bc9129-eba0-4b10-8292-4ae70fc7fa0d.json\")\n",
    "\n",
    "# Convert the DataFrame to a HuggingFace Dataset\n",
    "dataset = Dataset.from_pandas(df_glaive)\n",
    "\n",
    "# Split the dataset into training and validation sets (90% train, 10% validation)\n",
    "train_data = dataset.select([i for i in range(len(dataset)) if i % 10 != 0])  # 90% for training\n",
    "val_data = dataset.select([i for i in range(len(dataset)) if i % 10 == 0])  # 10% for validation\n",
    "\n",
    "# Tokenize the input and target sequences\n",
    "def tokenize_function(examples):\n",
    "    inputs = tokenizer(examples['question'], return_tensors='pt', padding='max_length', max_length=512, truncation=True)\n",
    "    labels = tokenizer(examples['answer'], return_tensors='pt', padding='max_length', max_length=512, truncation=True)\n",
    "    return {'input_ids': inputs['input_ids'], 'labels': labels['input_ids']}\n",
    "\n",
    "# Apply tokenization to the datasets\n",
    "train_data = train_data.map(tokenize_function, batched=True)\n",
    "val_data = val_data.map(tokenize_function, batched=True)\n",
    "\n",
    "# Print a sample for debugging\n",
    "print(train_data[0])\n",
    "print(val_data[0])"
   ]
  },
  {
   "cell_type": "code",
   "execution_count": 13,
   "metadata": {
    "colab": {
     "base_uri": "https://localhost:8080/",
     "height": 177,
     "referenced_widgets": [
      "2f28a5144ce44414ac40e2d9abb898e7",
      "b5de755045bb47b59f05da0e7f26ad99",
      "84c02347d9a240659a8a4b47eec3a7ca",
      "7ae3534756304287abd8f250b55674d9",
      "ed13c5fa0edb467d9bb5203f5ca2999c",
      "da78d92dc5e547f984cd80e9a190a2c7",
      "ab371524fe44453e855e3104ec44fa3b",
      "e45abea5b8394b36acf31300b65be003",
      "b1486aadc73d4e84baf6feab2e142ac2",
      "4f9ef50bc07641339c77ad43517cdc54",
      "242ced3e264d440f984b1834c6bd7d1b",
      "207a3f01677c4ad8a08dcf10bae7d6a4",
      "441e3b6ed170405ebae8830a33e8a7e8",
      "d3185d7199d4434dafb12513c28f8608",
      "b7a0bea8ba5a4d929de57116ac283ee5",
      "a990c9d2c2a44bde85735ba0388b8ffd",
      "371cff3330f542668e400f86ee306787",
      "f5bac7bb8ab143d88ec73402b7d7c379",
      "e4253f09d7684900a2974d9c1dbb7faf",
      "df7b8377d7c84714acbe4923680b1955",
      "ee676ef24bbc4116ad666bfdb2e9d68b",
      "ad8c6b1a716644d5a989a6e26a38a7c3",
      "d057dcf1fdc94718af90d69248ccb4d6",
      "81b55d6654914ced9847337c7ceaebe9",
      "9e25c3e4e9084c48be13c3626d964482",
      "f5654baa65ad4a73b931a48f6efecbbb",
      "9e6ad96020a34e5c9062a0482e28c7c5",
      "e889a15fff0243e8a0e5c20021ae1715",
      "56f77d3c35f946518065b4aadfe4e0fe",
      "ea2a1cd799ac458584a02a8c7cbe746a",
      "6636afde8126468c9ca90a47ae5ddda4",
      "09837679baa74e8fbdd9f2f01c31751f",
      "02ff1271babd49a4a19f9ce4af66f688",
      "0e8887fbf2594103abcfded90f0e56cb",
      "d91492cc0a3f4fbe8810b198fca4a2a9",
      "be8a25627db1487794c3c21d2a00ee3a",
      "94dd83a6f0834533bc4373023b5882be",
      "4a93a0539de44e99b169e501380bba7c",
      "841d59acdcd447e68fc43a627094022e",
      "56c8672948d34c55b19454da3942919c",
      "bb4f7677363044a5ae3c62eab511817f",
      "f264dfdca34047568adf37361d30327c",
      "c7285f22bb9d40439b1a216aa1c9c57e",
      "cd2f179183814533bc9a8efa3d88c0bc",
      "cb44f76b65e0440eabdba34f97b85e10",
      "3827975aeffa4cf2a8c4367523f94146",
      "ac648a72258b4b1a997aa2b331a31224",
      "dd6bc3bbb71544a1922839985d795f08",
      "eb2e7ff6060a439598b16b1c54da90e4",
      "12afbb3a4e2e489081446a3243ca601c",
      "bf4c89491dd34c71bfb48370f84c3c87",
      "63c94995f3e345c7bf64cba4865d86f7",
      "a8c1ca02b8774d709397cda022d14490",
      "794acefe761040f28f3f5f34c78b6f60",
      "69a3373ba1ef4599ad1f0f7d14d3e3b0"
     ]
    },
    "id": "XaiAM37R_eu1",
    "outputId": "2024c0b8-dd53-4a69-d41d-5c90280f0346"
   },
   "outputs": [],
   "source": [
    "device = torch.device(\"cuda\" if torch.cuda.is_available() else \"cpu\")\n",
    "\n",
    "# Set the pad_token for the tokenizer\n",
    "tokenizer.pad_token = tokenizer.eos_token\n",
    "\n",
    "# Load your dataset in a CSV file\n",
    "dataset = load_dataset(\"csv\", data_files=\"data.csv\")\n",
    "\n",
    "# Split the dataset into training and validation sets\n",
    "train_data = dataset[\"train\"].select([i for i in range(len(dataset[\"train\"])) if i % 10 != 0])  # Use 90% of the data for training\n",
    "val_data = dataset[\"train\"].select([i for i in range(len(dataset[\"train\"])) if i % 10 == 0])  # Use 10% of the data for validation\n",
    "\n",
    "# Tokenize the input and target sequences\n",
    "def tokenize_function(examples):\n",
    "    inputs = tokenizer(examples['Bad_Practices'], return_tensors='pt', padding='max_length', max_length=512, truncation=True)\n",
    "    labels = tokenizer(examples['Good_Practices'], return_tensors='pt', padding='max_length', max_length=512, truncation=True)\n",
    "    return {'input_ids': inputs['input_ids'], 'labels': labels['input_ids']}\n",
    "\n",
    "# Apply tokenization to the datasets\n",
    "train_data = train_data.map(tokenize_function, batched=True)\n",
    "val_data = val_data.map(tokenize_function, batched=True)"
   ]
  },
  {
   "cell_type": "markdown",
   "metadata": {
    "id": "uBKGyEdoKwWT"
   },
   "source": [
    "# Train Model"
   ]
  },
  {
   "cell_type": "code",
   "execution_count": 35,
   "metadata": {},
   "outputs": [
    {
     "name": "stderr",
     "output_type": "stream",
     "text": [
      "c:\\Users\\kpreube\\miniconda3\\envs\\llm\\Lib\\site-packages\\transformers\\generation\\configuration_utils.py:601: UserWarning: `do_sample` is set to `False`. However, `temperature` is set to `0.7` -- this flag is only used in sample-based generation modes. You should set `do_sample=True` or unset `temperature`.\n",
      "  warnings.warn(\n",
      "The attention mask and the pad token id were not set. As a consequence, you may observe unexpected behavior. Please pass your input's `attention_mask` to obtain reliable results.\n",
      "Setting `pad_token_id` to `eos_token_id`:None for open-end generation.\n"
     ]
    },
    {
     "name": "stdout",
     "output_type": "stream",
     "text": [
      "Output before training:\n",
      "Hi how are you?\n",
      "\n",
      "I'm a little bit of a nerd. I'm a big nerd. I'm a big nerd. I'm a big nerd. I'm a big nerd. I'm a big nerd. I'm a big nerd. I'm a big nerd. I'm a big nerd. I'm a big nerd. I'm a big nerd. I'm a big nerd. I'm a big nerd. I'm a big nerd. I'm a big nerd. I'm a big nerd. I'm a big nerd. I'm a big nerd. I'm a big nerd. I'm a big nerd. I'm a big nerd. I'm a big nerd. I'm a big nerd. I'm a big nerd. I'm a big nerd. I'm a big nerd. I'm a big nerd. I'm a big nerd. I'm a big nerd. I'm a big nerd. I'm a big nerd. I'm a big nerd. I'm a big nerd. I'm a big nerd. I'm a big nerd. I'm a big nerd. I'm a big nerd. I'm a big nerd. I'm a big nerd. I'm a big nerd. I'm a big nerd. I'm a big nerd. I'm a big nerd. I'm a big nerd. I'm a big nerd. I'm a big nerd. I'm a big nerd. I'm a big nerd. I'm\n"
     ]
    }
   ],
   "source": [
    "# Example input for pre-trained model\n",
    "input_text = \"\"\"Hi how are you?\"\"\"\n",
    "\n",
    "# Tokenize the input\n",
    "input_ids = tokenizer.encode(input_text, return_tensors=\"pt\").to(device)\n",
    "\n",
    "# Generate output\n",
    "model.to(device)\n",
    "pre_training_output = model.generate(\n",
    "    input_ids,\n",
    "    max_length=300,\n",
    "    num_return_sequences=1,\n",
    "    temperature=0.7,\n",
    "    top_k=50,\n",
    ")\n",
    "\n",
    "# Decode and print the result\n",
    "decoded_output = tokenizer.decode(pre_training_output[0], skip_special_tokens=True)\n",
    "print(\"Output before training:\")\n",
    "print(decoded_output)"
   ]
  },
  {
   "cell_type": "code",
   "execution_count": 40,
   "metadata": {},
   "outputs": [
    {
     "name": "stderr",
     "output_type": "stream",
     "text": [
      "c:\\Users\\kpreube\\miniconda3\\envs\\llm\\Lib\\site-packages\\transformers\\generation\\configuration_utils.py:601: UserWarning: `do_sample` is set to `False`. However, `temperature` is set to `0.7` -- this flag is only used in sample-based generation modes. You should set `do_sample=True` or unset `temperature`.\n",
      "  warnings.warn(\n",
      "The attention mask and the pad token id were not set. As a consequence, you may observe unexpected behavior. Please pass your input's `attention_mask` to obtain reliable results.\n",
      "Setting `pad_token_id` to `eos_token_id`:None for open-end generation.\n"
     ]
    },
    {
     "name": "stdout",
     "output_type": "stream",
     "text": [
      "Output before training:\n",
      "what is the mistake in this python code here? a = [1,2,3,4,5,6)\n",
      " for x in a \n",
      " print(x)\n",
      "\n",
      "print(x)\n",
      "\n",
      "print(x)\n",
      "\n",
      "print(x)\n",
      "\n",
      "print(x)\n",
      "\n",
      "print(x)\n",
      "\n",
      "print(x)\n",
      "\n",
      "print(x)\n",
      "\n",
      "print(x)\n",
      "\n",
      "print(x)\n",
      "\n",
      "print(x)\n",
      "\n",
      "print(\n"
     ]
    }
   ],
   "source": [
    "# Example input for pre-trained model\n",
    "input_text = \"\"\"what is the mistake in this python code here? a = [1,2,3,4,5,6)\n",
    " for x in a \n",
    " print(x)\"\"\"\n",
    "\n",
    "# Tokenize the input\n",
    "input_ids = tokenizer.encode(input_text, return_tensors=\"pt\").to(device)\n",
    "\n",
    "# Generate output\n",
    "model.to(device)\n",
    "pre_training_output = model.generate(\n",
    "    input_ids,\n",
    "    max_length=100,\n",
    "    num_return_sequences=1,\n",
    "    temperature=0.7,\n",
    "    top_k=50,\n",
    ")\n",
    "\n",
    "# Decode and print the result\n",
    "decoded_output = tokenizer.decode(pre_training_output[0], skip_special_tokens=True)\n",
    "print(\"Output before training:\")\n",
    "print(decoded_output)"
   ]
  },
  {
   "cell_type": "code",
   "execution_count": 41,
   "metadata": {
    "colab": {
     "base_uri": "https://localhost:8080/",
     "height": 581
    },
    "id": "VQuBHSec_hjO",
    "outputId": "c8f10dc5-37d2-4125-8aec-3fc96147b3f4"
   },
   "outputs": [
    {
     "name": "stderr",
     "output_type": "stream",
     "text": [
      "c:\\Users\\kpreube\\miniconda3\\envs\\llm\\Lib\\site-packages\\transformers\\training_args.py:1545: FutureWarning: `evaluation_strategy` is deprecated and will be removed in version 4.46 of 🤗 Transformers. Use `eval_strategy` instead\n",
      "  warnings.warn(\n"
     ]
    },
    {
     "data": {
      "application/vnd.jupyter.widget-view+json": {
       "model_id": "50241b504f37403fb95b31e7793a9a72",
       "version_major": 2,
       "version_minor": 0
      },
      "text/plain": [
       "  0%|          | 0/30625 [00:00<?, ?it/s]"
      ]
     },
     "metadata": {},
     "output_type": "display_data"
    },
    {
     "name": "stdout",
     "output_type": "stream",
     "text": [
      "{'loss': 4.9745, 'grad_norm': 38.67289733886719, 'learning_rate': 4.983673469387755e-05, 'epoch': 0.0}\n"
     ]
    },
    {
     "data": {
      "application/vnd.jupyter.widget-view+json": {
       "model_id": "db3496deda584acc8a0f228a99742b87",
       "version_major": 2,
       "version_minor": 0
      },
      "text/plain": [
       "  0%|          | 0/1702 [00:00<?, ?it/s]"
      ]
     },
     "metadata": {},
     "output_type": "display_data"
    },
    {
     "name": "stdout",
     "output_type": "stream",
     "text": [
      "{'eval_loss': 4.5602641105651855, 'eval_runtime': 111.29, 'eval_samples_per_second': 122.302, 'eval_steps_per_second': 15.293, 'epoch': 0.0}\n",
      "{'loss': 4.5466, 'grad_norm': 33.64840316772461, 'learning_rate': 4.967346938775511e-05, 'epoch': 0.0}\n"
     ]
    },
    {
     "data": {
      "application/vnd.jupyter.widget-view+json": {
       "model_id": "29fa22a9faca4e1abd3efe7bcb8892f2",
       "version_major": 2,
       "version_minor": 0
      },
      "text/plain": [
       "  0%|          | 0/1702 [00:00<?, ?it/s]"
      ]
     },
     "metadata": {},
     "output_type": "display_data"
    },
    {
     "name": "stdout",
     "output_type": "stream",
     "text": [
      "{'eval_loss': 4.46965217590332, 'eval_runtime': 111.5692, 'eval_samples_per_second': 121.996, 'eval_steps_per_second': 15.255, 'epoch': 0.0}\n",
      "{'loss': 4.6061, 'grad_norm': 17.511735916137695, 'learning_rate': 4.9510204081632655e-05, 'epoch': 0.0}\n"
     ]
    },
    {
     "data": {
      "application/vnd.jupyter.widget-view+json": {
       "model_id": "db0f89188b2343e7b5b4f133f350117c",
       "version_major": 2,
       "version_minor": 0
      },
      "text/plain": [
       "  0%|          | 0/1702 [00:00<?, ?it/s]"
      ]
     },
     "metadata": {},
     "output_type": "display_data"
    },
    {
     "name": "stdout",
     "output_type": "stream",
     "text": [
      "{'eval_loss': 4.373347282409668, 'eval_runtime': 111.6196, 'eval_samples_per_second': 121.941, 'eval_steps_per_second': 15.248, 'epoch': 0.0}\n",
      "{'loss': 4.5174, 'grad_norm': 36.45682907104492, 'learning_rate': 4.93469387755102e-05, 'epoch': 0.01}\n"
     ]
    },
    {
     "data": {
      "application/vnd.jupyter.widget-view+json": {
       "model_id": "4b75aedb367145f1a638e9c4a86ecbcb",
       "version_major": 2,
       "version_minor": 0
      },
      "text/plain": [
       "  0%|          | 0/1702 [00:00<?, ?it/s]"
      ]
     },
     "metadata": {},
     "output_type": "display_data"
    },
    {
     "name": "stdout",
     "output_type": "stream",
     "text": [
      "{'eval_loss': 4.361853122711182, 'eval_runtime': 111.6429, 'eval_samples_per_second': 121.916, 'eval_steps_per_second': 15.245, 'epoch': 0.01}\n",
      "{'loss': 4.4957, 'grad_norm': 49.092288970947266, 'learning_rate': 4.918367346938776e-05, 'epoch': 0.01}\n"
     ]
    },
    {
     "data": {
      "application/vnd.jupyter.widget-view+json": {
       "model_id": "19864296730443b5869dfd8d671b21c8",
       "version_major": 2,
       "version_minor": 0
      },
      "text/plain": [
       "  0%|          | 0/1702 [00:00<?, ?it/s]"
      ]
     },
     "metadata": {},
     "output_type": "display_data"
    },
    {
     "name": "stdout",
     "output_type": "stream",
     "text": [
      "{'eval_loss': 4.9009599685668945, 'eval_runtime': 110.8343, 'eval_samples_per_second': 122.805, 'eval_steps_per_second': 15.356, 'epoch': 0.01}\n",
      "{'loss': 4.4774, 'grad_norm': 18.7022705078125, 'learning_rate': 4.902040816326531e-05, 'epoch': 0.01}\n"
     ]
    },
    {
     "data": {
      "application/vnd.jupyter.widget-view+json": {
       "model_id": "e23ea21e22854768bbbb76e66070907b",
       "version_major": 2,
       "version_minor": 0
      },
      "text/plain": [
       "  0%|          | 0/1702 [00:00<?, ?it/s]"
      ]
     },
     "metadata": {},
     "output_type": "display_data"
    },
    {
     "name": "stdout",
     "output_type": "stream",
     "text": [
      "{'eval_loss': 4.294500827789307, 'eval_runtime': 111.6508, 'eval_samples_per_second': 121.907, 'eval_steps_per_second': 15.244, 'epoch': 0.01}\n",
      "{'loss': 4.4391, 'grad_norm': 12.33527660369873, 'learning_rate': 4.885714285714286e-05, 'epoch': 0.01}\n"
     ]
    },
    {
     "data": {
      "application/vnd.jupyter.widget-view+json": {
       "model_id": "6b7de3262f714c2fb5932d59dd80c3d9",
       "version_major": 2,
       "version_minor": 0
      },
      "text/plain": [
       "  0%|          | 0/1702 [00:00<?, ?it/s]"
      ]
     },
     "metadata": {},
     "output_type": "display_data"
    },
    {
     "name": "stdout",
     "output_type": "stream",
     "text": [
      "{'eval_loss': 4.301912307739258, 'eval_runtime': 111.411, 'eval_samples_per_second': 122.169, 'eval_steps_per_second': 15.277, 'epoch': 0.01}\n",
      "{'loss': 4.3404, 'grad_norm': 28.901321411132812, 'learning_rate': 4.869387755102041e-05, 'epoch': 0.01}\n"
     ]
    },
    {
     "data": {
      "application/vnd.jupyter.widget-view+json": {
       "model_id": "b2ab0cabd5574ee08364a49f58ff9c6a",
       "version_major": 2,
       "version_minor": 0
      },
      "text/plain": [
       "  0%|          | 0/1702 [00:00<?, ?it/s]"
      ]
     },
     "metadata": {},
     "output_type": "display_data"
    },
    {
     "name": "stdout",
     "output_type": "stream",
     "text": [
      "{'eval_loss': 4.296668529510498, 'eval_runtime': 111.1942, 'eval_samples_per_second': 122.407, 'eval_steps_per_second': 15.307, 'epoch': 0.01}\n",
      "{'loss': 4.3669, 'grad_norm': 9.255460739135742, 'learning_rate': 4.853061224489796e-05, 'epoch': 0.01}\n"
     ]
    },
    {
     "data": {
      "application/vnd.jupyter.widget-view+json": {
       "model_id": "bfe7eb0f76dd46eab096b92295b42232",
       "version_major": 2,
       "version_minor": 0
      },
      "text/plain": [
       "  0%|          | 0/1702 [00:00<?, ?it/s]"
      ]
     },
     "metadata": {},
     "output_type": "display_data"
    },
    {
     "name": "stdout",
     "output_type": "stream",
     "text": [
      "{'eval_loss': 4.222559928894043, 'eval_runtime': 111.4684, 'eval_samples_per_second': 122.106, 'eval_steps_per_second': 15.269, 'epoch': 0.01}\n",
      "{'loss': 4.1347, 'grad_norm': 5.199283123016357, 'learning_rate': 4.836734693877551e-05, 'epoch': 0.02}\n"
     ]
    },
    {
     "data": {
      "application/vnd.jupyter.widget-view+json": {
       "model_id": "0af2ccd8571b4833b38fc565bcb639ad",
       "version_major": 2,
       "version_minor": 0
      },
      "text/plain": [
       "  0%|          | 0/1702 [00:00<?, ?it/s]"
      ]
     },
     "metadata": {},
     "output_type": "display_data"
    },
    {
     "name": "stdout",
     "output_type": "stream",
     "text": [
      "{'eval_loss': 4.220297336578369, 'eval_runtime': 111.5953, 'eval_samples_per_second': 121.967, 'eval_steps_per_second': 15.252, 'epoch': 0.02}\n",
      "{'loss': 4.2863, 'grad_norm': 20.783721923828125, 'learning_rate': 4.8204081632653065e-05, 'epoch': 0.02}\n"
     ]
    },
    {
     "data": {
      "application/vnd.jupyter.widget-view+json": {
       "model_id": "e9a76e65838146bcba85484b84d988fe",
       "version_major": 2,
       "version_minor": 0
      },
      "text/plain": [
       "  0%|          | 0/1702 [00:00<?, ?it/s]"
      ]
     },
     "metadata": {},
     "output_type": "display_data"
    },
    {
     "name": "stdout",
     "output_type": "stream",
     "text": [
      "{'eval_loss': 4.243503093719482, 'eval_runtime': 111.5886, 'eval_samples_per_second': 121.975, 'eval_steps_per_second': 15.252, 'epoch': 0.02}\n",
      "{'loss': 4.3054, 'grad_norm': 6.754384517669678, 'learning_rate': 4.804081632653061e-05, 'epoch': 0.02}\n"
     ]
    },
    {
     "data": {
      "application/vnd.jupyter.widget-view+json": {
       "model_id": "cd08e473b8e74723a9fd40a93b4924c7",
       "version_major": 2,
       "version_minor": 0
      },
      "text/plain": [
       "  0%|          | 0/1702 [00:00<?, ?it/s]"
      ]
     },
     "metadata": {},
     "output_type": "display_data"
    },
    {
     "name": "stdout",
     "output_type": "stream",
     "text": [
      "{'eval_loss': 4.220836639404297, 'eval_runtime': 110.7251, 'eval_samples_per_second': 122.926, 'eval_steps_per_second': 15.371, 'epoch': 0.02}\n",
      "{'loss': 4.2202, 'grad_norm': 22.855955123901367, 'learning_rate': 4.787755102040817e-05, 'epoch': 0.02}\n"
     ]
    },
    {
     "data": {
      "application/vnd.jupyter.widget-view+json": {
       "model_id": "d89fffa9461a47e3af6d5595afe9acdf",
       "version_major": 2,
       "version_minor": 0
      },
      "text/plain": [
       "  0%|          | 0/1702 [00:00<?, ?it/s]"
      ]
     },
     "metadata": {},
     "output_type": "display_data"
    },
    {
     "name": "stdout",
     "output_type": "stream",
     "text": [
      "{'eval_loss': 4.207033157348633, 'eval_runtime': 109.5817, 'eval_samples_per_second': 124.209, 'eval_steps_per_second': 15.532, 'epoch': 0.02}\n",
      "{'loss': 4.2691, 'grad_norm': 26.771291732788086, 'learning_rate': 4.771428571428572e-05, 'epoch': 0.02}\n"
     ]
    },
    {
     "data": {
      "application/vnd.jupyter.widget-view+json": {
       "model_id": "fbb4932b1f4842b8b160df91f57ce11f",
       "version_major": 2,
       "version_minor": 0
      },
      "text/plain": [
       "  0%|          | 0/1702 [00:00<?, ?it/s]"
      ]
     },
     "metadata": {},
     "output_type": "display_data"
    },
    {
     "name": "stdout",
     "output_type": "stream",
     "text": [
      "{'eval_loss': 4.223531723022461, 'eval_runtime': 109.4897, 'eval_samples_per_second': 124.313, 'eval_steps_per_second': 15.545, 'epoch': 0.02}\n",
      "{'loss': 4.297, 'grad_norm': 8.300406455993652, 'learning_rate': 4.7551020408163263e-05, 'epoch': 0.02}\n"
     ]
    },
    {
     "data": {
      "application/vnd.jupyter.widget-view+json": {
       "model_id": "6f4af33469fd414e8c7287773ff31665",
       "version_major": 2,
       "version_minor": 0
      },
      "text/plain": [
       "  0%|          | 0/1702 [00:00<?, ?it/s]"
      ]
     },
     "metadata": {},
     "output_type": "display_data"
    },
    {
     "name": "stdout",
     "output_type": "stream",
     "text": [
      "{'eval_loss': 4.210755825042725, 'eval_runtime': 109.5846, 'eval_samples_per_second': 124.205, 'eval_steps_per_second': 15.531, 'epoch': 0.02}\n",
      "{'loss': 4.1531, 'grad_norm': 9.440519332885742, 'learning_rate': 4.738775510204082e-05, 'epoch': 0.03}\n"
     ]
    },
    {
     "data": {
      "application/vnd.jupyter.widget-view+json": {
       "model_id": "958c52625111420ab990cb82f8f493c4",
       "version_major": 2,
       "version_minor": 0
      },
      "text/plain": [
       "  0%|          | 0/1702 [00:00<?, ?it/s]"
      ]
     },
     "metadata": {},
     "output_type": "display_data"
    },
    {
     "name": "stdout",
     "output_type": "stream",
     "text": [
      "{'eval_loss': 4.229766845703125, 'eval_runtime': 109.4995, 'eval_samples_per_second': 124.302, 'eval_steps_per_second': 15.543, 'epoch': 0.03}\n",
      "{'loss': 4.1474, 'grad_norm': 5.966073036193848, 'learning_rate': 4.722448979591837e-05, 'epoch': 0.03}\n"
     ]
    },
    {
     "data": {
      "application/vnd.jupyter.widget-view+json": {
       "model_id": "0dacbcc7c9014a179dd772933d91e125",
       "version_major": 2,
       "version_minor": 0
      },
      "text/plain": [
       "  0%|          | 0/1702 [00:00<?, ?it/s]"
      ]
     },
     "metadata": {},
     "output_type": "display_data"
    },
    {
     "name": "stdout",
     "output_type": "stream",
     "text": [
      "{'eval_loss': 4.196539878845215, 'eval_runtime': 109.5675, 'eval_samples_per_second': 124.225, 'eval_steps_per_second': 15.534, 'epoch': 0.03}\n",
      "{'loss': 4.2709, 'grad_norm': 8.998388290405273, 'learning_rate': 4.7061224489795916e-05, 'epoch': 0.03}\n"
     ]
    },
    {
     "data": {
      "application/vnd.jupyter.widget-view+json": {
       "model_id": "b2bbdfd63926403881fcfe8d1dfd3b42",
       "version_major": 2,
       "version_minor": 0
      },
      "text/plain": [
       "  0%|          | 0/1702 [00:00<?, ?it/s]"
      ]
     },
     "metadata": {},
     "output_type": "display_data"
    },
    {
     "name": "stdout",
     "output_type": "stream",
     "text": [
      "{'eval_loss': 4.174525737762451, 'eval_runtime': 109.5312, 'eval_samples_per_second': 124.266, 'eval_steps_per_second': 15.539, 'epoch': 0.03}\n",
      "{'loss': 4.2288, 'grad_norm': 8.450685501098633, 'learning_rate': 4.6897959183673475e-05, 'epoch': 0.03}\n"
     ]
    },
    {
     "data": {
      "application/vnd.jupyter.widget-view+json": {
       "model_id": "15898ef91bb94a38ac881a38937798a5",
       "version_major": 2,
       "version_minor": 0
      },
      "text/plain": [
       "  0%|          | 0/1702 [00:00<?, ?it/s]"
      ]
     },
     "metadata": {},
     "output_type": "display_data"
    },
    {
     "name": "stdout",
     "output_type": "stream",
     "text": [
      "{'eval_loss': 4.145242214202881, 'eval_runtime': 109.5796, 'eval_samples_per_second': 124.211, 'eval_steps_per_second': 15.532, 'epoch': 0.03}\n",
      "{'loss': 4.2263, 'grad_norm': 5.533444881439209, 'learning_rate': 4.673469387755102e-05, 'epoch': 0.03}\n"
     ]
    },
    {
     "data": {
      "application/vnd.jupyter.widget-view+json": {
       "model_id": "8cf81acfd8814113a196b2402352bf17",
       "version_major": 2,
       "version_minor": 0
      },
      "text/plain": [
       "  0%|          | 0/1702 [00:00<?, ?it/s]"
      ]
     },
     "metadata": {},
     "output_type": "display_data"
    },
    {
     "name": "stdout",
     "output_type": "stream",
     "text": [
      "{'eval_loss': 4.137927532196045, 'eval_runtime': 109.5046, 'eval_samples_per_second': 124.296, 'eval_steps_per_second': 15.543, 'epoch': 0.03}\n",
      "{'loss': 4.2551, 'grad_norm': 20.7500057220459, 'learning_rate': 4.6571428571428575e-05, 'epoch': 0.03}\n"
     ]
    },
    {
     "data": {
      "application/vnd.jupyter.widget-view+json": {
       "model_id": "f7f04eb49ee54099be47813ca9eae72b",
       "version_major": 2,
       "version_minor": 0
      },
      "text/plain": [
       "  0%|          | 0/1702 [00:00<?, ?it/s]"
      ]
     },
     "metadata": {},
     "output_type": "display_data"
    },
    {
     "name": "stdout",
     "output_type": "stream",
     "text": [
      "{'eval_loss': 4.363005638122559, 'eval_runtime': 109.5363, 'eval_samples_per_second': 124.26, 'eval_steps_per_second': 15.538, 'epoch': 0.03}\n",
      "{'loss': 4.0801, 'grad_norm': 6.6810526847839355, 'learning_rate': 4.640816326530613e-05, 'epoch': 0.04}\n"
     ]
    },
    {
     "data": {
      "application/vnd.jupyter.widget-view+json": {
       "model_id": "a745225d22a64559a60899ad91499617",
       "version_major": 2,
       "version_minor": 0
      },
      "text/plain": [
       "  0%|          | 0/1702 [00:00<?, ?it/s]"
      ]
     },
     "metadata": {},
     "output_type": "display_data"
    },
    {
     "name": "stdout",
     "output_type": "stream",
     "text": [
      "{'eval_loss': 4.1602373123168945, 'eval_runtime': 109.636, 'eval_samples_per_second': 124.147, 'eval_steps_per_second': 15.524, 'epoch': 0.04}\n",
      "{'loss': 4.0953, 'grad_norm': 13.332316398620605, 'learning_rate': 4.6244897959183674e-05, 'epoch': 0.04}\n"
     ]
    },
    {
     "data": {
      "application/vnd.jupyter.widget-view+json": {
       "model_id": "6878fb6a155545a88d156c7a4f669f4a",
       "version_major": 2,
       "version_minor": 0
      },
      "text/plain": [
       "  0%|          | 0/1702 [00:00<?, ?it/s]"
      ]
     },
     "metadata": {},
     "output_type": "display_data"
    },
    {
     "name": "stdout",
     "output_type": "stream",
     "text": [
      "{'eval_loss': 4.207216739654541, 'eval_runtime': 109.5325, 'eval_samples_per_second': 124.264, 'eval_steps_per_second': 15.539, 'epoch': 0.04}\n",
      "{'loss': 4.1675, 'grad_norm': 2.4331681728363037, 'learning_rate': 4.608163265306123e-05, 'epoch': 0.04}\n"
     ]
    },
    {
     "data": {
      "application/vnd.jupyter.widget-view+json": {
       "model_id": "3f5f561f7e3347bca21e39e4fe66cf65",
       "version_major": 2,
       "version_minor": 0
      },
      "text/plain": [
       "  0%|          | 0/1702 [00:00<?, ?it/s]"
      ]
     },
     "metadata": {},
     "output_type": "display_data"
    },
    {
     "name": "stdout",
     "output_type": "stream",
     "text": [
      "{'eval_loss': 4.14959716796875, 'eval_runtime': 109.5797, 'eval_samples_per_second': 124.211, 'eval_steps_per_second': 15.532, 'epoch': 0.04}\n",
      "{'loss': 4.1151, 'grad_norm': 13.208364486694336, 'learning_rate': 4.591836734693878e-05, 'epoch': 0.04}\n"
     ]
    },
    {
     "data": {
      "application/vnd.jupyter.widget-view+json": {
       "model_id": "e07697334b9740358f062483d364b448",
       "version_major": 2,
       "version_minor": 0
      },
      "text/plain": [
       "  0%|          | 0/1702 [00:00<?, ?it/s]"
      ]
     },
     "metadata": {},
     "output_type": "display_data"
    },
    {
     "name": "stdout",
     "output_type": "stream",
     "text": [
      "{'eval_loss': 4.348509311676025, 'eval_runtime': 109.6369, 'eval_samples_per_second': 124.146, 'eval_steps_per_second': 15.524, 'epoch': 0.04}\n",
      "{'loss': 4.225, 'grad_norm': 3.899728775024414, 'learning_rate': 4.5755102040816326e-05, 'epoch': 0.04}\n"
     ]
    },
    {
     "data": {
      "application/vnd.jupyter.widget-view+json": {
       "model_id": "bc2a920cea08426e92988da769582fd0",
       "version_major": 2,
       "version_minor": 0
      },
      "text/plain": [
       "  0%|          | 0/1702 [00:00<?, ?it/s]"
      ]
     },
     "metadata": {},
     "output_type": "display_data"
    },
    {
     "name": "stdout",
     "output_type": "stream",
     "text": [
      "{'eval_loss': 4.133893966674805, 'eval_runtime': 109.5619, 'eval_samples_per_second': 124.231, 'eval_steps_per_second': 15.535, 'epoch': 0.04}\n",
      "{'loss': 4.2497, 'grad_norm': 5.247395038604736, 'learning_rate': 4.559183673469388e-05, 'epoch': 0.04}\n"
     ]
    },
    {
     "data": {
      "application/vnd.jupyter.widget-view+json": {
       "model_id": "0740944c9ce24716b536ab78a66c28e0",
       "version_major": 2,
       "version_minor": 0
      },
      "text/plain": [
       "  0%|          | 0/1702 [00:00<?, ?it/s]"
      ]
     },
     "metadata": {},
     "output_type": "display_data"
    },
    {
     "name": "stdout",
     "output_type": "stream",
     "text": [
      "{'eval_loss': 4.116611957550049, 'eval_runtime': 109.5988, 'eval_samples_per_second': 124.189, 'eval_steps_per_second': 15.529, 'epoch': 0.04}\n",
      "{'loss': 4.2981, 'grad_norm': 6.629566192626953, 'learning_rate': 4.542857142857143e-05, 'epoch': 0.05}\n"
     ]
    },
    {
     "data": {
      "application/vnd.jupyter.widget-view+json": {
       "model_id": "d50c1f5af404412ba4314b4937c2b612",
       "version_major": 2,
       "version_minor": 0
      },
      "text/plain": [
       "  0%|          | 0/1702 [00:00<?, ?it/s]"
      ]
     },
     "metadata": {},
     "output_type": "display_data"
    },
    {
     "name": "stdout",
     "output_type": "stream",
     "text": [
      "{'eval_loss': 4.117306709289551, 'eval_runtime': 109.6027, 'eval_samples_per_second': 124.185, 'eval_steps_per_second': 15.529, 'epoch': 0.05}\n",
      "{'loss': 4.1416, 'grad_norm': 7.947585105895996, 'learning_rate': 4.526530612244898e-05, 'epoch': 0.05}\n"
     ]
    },
    {
     "data": {
      "application/vnd.jupyter.widget-view+json": {
       "model_id": "70227578512a47f58ea2de37f6fd9a23",
       "version_major": 2,
       "version_minor": 0
      },
      "text/plain": [
       "  0%|          | 0/1702 [00:00<?, ?it/s]"
      ]
     },
     "metadata": {},
     "output_type": "display_data"
    },
    {
     "name": "stdout",
     "output_type": "stream",
     "text": [
      "{'eval_loss': 4.159780502319336, 'eval_runtime': 109.5032, 'eval_samples_per_second': 124.298, 'eval_steps_per_second': 15.543, 'epoch': 0.05}\n",
      "{'loss': 4.1711, 'grad_norm': 3.4660732746124268, 'learning_rate': 4.510204081632654e-05, 'epoch': 0.05}\n"
     ]
    },
    {
     "data": {
      "application/vnd.jupyter.widget-view+json": {
       "model_id": "fc01de33d7fc452e830d15304ca369a4",
       "version_major": 2,
       "version_minor": 0
      },
      "text/plain": [
       "  0%|          | 0/1702 [00:00<?, ?it/s]"
      ]
     },
     "metadata": {},
     "output_type": "display_data"
    },
    {
     "name": "stdout",
     "output_type": "stream",
     "text": [
      "{'eval_loss': 4.112354755401611, 'eval_runtime': 109.531, 'eval_samples_per_second': 124.266, 'eval_steps_per_second': 15.539, 'epoch': 0.05}\n",
      "{'loss': 4.1426, 'grad_norm': 3.0599429607391357, 'learning_rate': 4.4938775510204084e-05, 'epoch': 0.05}\n"
     ]
    },
    {
     "data": {
      "application/vnd.jupyter.widget-view+json": {
       "model_id": "cfde1a9bfb994bc6b8391d2822a28094",
       "version_major": 2,
       "version_minor": 0
      },
      "text/plain": [
       "  0%|          | 0/1702 [00:00<?, ?it/s]"
      ]
     },
     "metadata": {},
     "output_type": "display_data"
    },
    {
     "name": "stdout",
     "output_type": "stream",
     "text": [
      "{'eval_loss': 4.110419273376465, 'eval_runtime': 109.5872, 'eval_samples_per_second': 124.202, 'eval_steps_per_second': 15.531, 'epoch': 0.05}\n",
      "{'loss': 4.1325, 'grad_norm': 6.1060285568237305, 'learning_rate': 4.477551020408163e-05, 'epoch': 0.05}\n"
     ]
    },
    {
     "data": {
      "application/vnd.jupyter.widget-view+json": {
       "model_id": "bb8b27466b8b47e682ac2bbc8aaeb629",
       "version_major": 2,
       "version_minor": 0
      },
      "text/plain": [
       "  0%|          | 0/1702 [00:00<?, ?it/s]"
      ]
     },
     "metadata": {},
     "output_type": "display_data"
    },
    {
     "name": "stdout",
     "output_type": "stream",
     "text": [
      "{'eval_loss': 4.095597743988037, 'eval_runtime': 109.553, 'eval_samples_per_second': 124.241, 'eval_steps_per_second': 15.536, 'epoch': 0.05}\n",
      "{'loss': 4.0609, 'grad_norm': 11.919713973999023, 'learning_rate': 4.461224489795919e-05, 'epoch': 0.05}\n"
     ]
    },
    {
     "data": {
      "application/vnd.jupyter.widget-view+json": {
       "model_id": "0b1128a0d70e48cfb21b1bb8d3179afb",
       "version_major": 2,
       "version_minor": 0
      },
      "text/plain": [
       "  0%|          | 0/1702 [00:00<?, ?it/s]"
      ]
     },
     "metadata": {},
     "output_type": "display_data"
    },
    {
     "name": "stdout",
     "output_type": "stream",
     "text": [
      "{'eval_loss': 4.068836212158203, 'eval_runtime': 109.4607, 'eval_samples_per_second': 124.346, 'eval_steps_per_second': 15.549, 'epoch': 0.05}\n",
      "{'loss': 4.0534, 'grad_norm': 4.450563907623291, 'learning_rate': 4.4448979591836737e-05, 'epoch': 0.06}\n"
     ]
    },
    {
     "data": {
      "application/vnd.jupyter.widget-view+json": {
       "model_id": "a80b9b9cd7364fe7a0be2f8e75ba688b",
       "version_major": 2,
       "version_minor": 0
      },
      "text/plain": [
       "  0%|          | 0/1702 [00:00<?, ?it/s]"
      ]
     },
     "metadata": {},
     "output_type": "display_data"
    },
    {
     "name": "stdout",
     "output_type": "stream",
     "text": [
      "{'eval_loss': 4.107717990875244, 'eval_runtime': 109.5235, 'eval_samples_per_second': 124.275, 'eval_steps_per_second': 15.54, 'epoch': 0.06}\n",
      "{'loss': 4.4088, 'grad_norm': 4.731905937194824, 'learning_rate': 4.428571428571428e-05, 'epoch': 0.06}\n"
     ]
    },
    {
     "data": {
      "application/vnd.jupyter.widget-view+json": {
       "model_id": "dca688eaf70f456a9ab814e75f062dcd",
       "version_major": 2,
       "version_minor": 0
      },
      "text/plain": [
       "  0%|          | 0/1702 [00:00<?, ?it/s]"
      ]
     },
     "metadata": {},
     "output_type": "display_data"
    },
    {
     "name": "stdout",
     "output_type": "stream",
     "text": [
      "{'eval_loss': 4.119265556335449, 'eval_runtime': 109.5752, 'eval_samples_per_second': 124.216, 'eval_steps_per_second': 15.533, 'epoch': 0.06}\n",
      "{'loss': 3.9978, 'grad_norm': 3.4483375549316406, 'learning_rate': 4.412244897959184e-05, 'epoch': 0.06}\n"
     ]
    },
    {
     "data": {
      "application/vnd.jupyter.widget-view+json": {
       "model_id": "230ddd0ffb8a4a6aa697579131025dd4",
       "version_major": 2,
       "version_minor": 0
      },
      "text/plain": [
       "  0%|          | 0/1702 [00:00<?, ?it/s]"
      ]
     },
     "metadata": {},
     "output_type": "display_data"
    },
    {
     "name": "stdout",
     "output_type": "stream",
     "text": [
      "{'eval_loss': 4.12792444229126, 'eval_runtime': 109.6135, 'eval_samples_per_second': 124.173, 'eval_steps_per_second': 15.527, 'epoch': 0.06}\n",
      "{'loss': 4.2172, 'grad_norm': 4.733151435852051, 'learning_rate': 4.395918367346939e-05, 'epoch': 0.06}\n"
     ]
    },
    {
     "data": {
      "application/vnd.jupyter.widget-view+json": {
       "model_id": "cdb54af06e604e1f8630411adaa1e32a",
       "version_major": 2,
       "version_minor": 0
      },
      "text/plain": [
       "  0%|          | 0/1702 [00:00<?, ?it/s]"
      ]
     },
     "metadata": {},
     "output_type": "display_data"
    },
    {
     "name": "stdout",
     "output_type": "stream",
     "text": [
      "{'eval_loss': 4.0758376121521, 'eval_runtime': 109.617, 'eval_samples_per_second': 124.169, 'eval_steps_per_second': 15.527, 'epoch': 0.06}\n",
      "{'loss': 4.218, 'grad_norm': 2.4679746627807617, 'learning_rate': 4.379591836734694e-05, 'epoch': 0.06}\n"
     ]
    },
    {
     "data": {
      "application/vnd.jupyter.widget-view+json": {
       "model_id": "08c0afc569b34827b2c2d37a22f7c250",
       "version_major": 2,
       "version_minor": 0
      },
      "text/plain": [
       "  0%|          | 0/1702 [00:00<?, ?it/s]"
      ]
     },
     "metadata": {},
     "output_type": "display_data"
    },
    {
     "name": "stdout",
     "output_type": "stream",
     "text": [
      "{'eval_loss': 4.099019527435303, 'eval_runtime': 109.5383, 'eval_samples_per_second': 124.258, 'eval_steps_per_second': 15.538, 'epoch': 0.06}\n",
      "{'loss': 4.0344, 'grad_norm': 4.772653579711914, 'learning_rate': 4.3632653061224495e-05, 'epoch': 0.06}\n"
     ]
    },
    {
     "data": {
      "application/vnd.jupyter.widget-view+json": {
       "model_id": "67a432a1500446c4a4baefc7a5bb40b3",
       "version_major": 2,
       "version_minor": 0
      },
      "text/plain": [
       "  0%|          | 0/1702 [00:00<?, ?it/s]"
      ]
     },
     "metadata": {},
     "output_type": "display_data"
    },
    {
     "name": "stdout",
     "output_type": "stream",
     "text": [
      "{'eval_loss': 4.07487154006958, 'eval_runtime': 109.5907, 'eval_samples_per_second': 124.199, 'eval_steps_per_second': 15.531, 'epoch': 0.06}\n",
      "{'loss': 4.1976, 'grad_norm': 6.565102577209473, 'learning_rate': 4.346938775510204e-05, 'epoch': 0.07}\n"
     ]
    },
    {
     "data": {
      "application/vnd.jupyter.widget-view+json": {
       "model_id": "fdc1f18fff0e42dcbed6cbadf659a761",
       "version_major": 2,
       "version_minor": 0
      },
      "text/plain": [
       "  0%|          | 0/1702 [00:00<?, ?it/s]"
      ]
     },
     "metadata": {},
     "output_type": "display_data"
    },
    {
     "name": "stdout",
     "output_type": "stream",
     "text": [
      "{'eval_loss': 4.071948528289795, 'eval_runtime': 109.5269, 'eval_samples_per_second': 124.271, 'eval_steps_per_second': 15.54, 'epoch': 0.07}\n",
      "{'loss': 4.26, 'grad_norm': 4.243940353393555, 'learning_rate': 4.3306122448979594e-05, 'epoch': 0.07}\n"
     ]
    },
    {
     "data": {
      "application/vnd.jupyter.widget-view+json": {
       "model_id": "0f048e306fa047dc8d1ac9749c20c415",
       "version_major": 2,
       "version_minor": 0
      },
      "text/plain": [
       "  0%|          | 0/1702 [00:00<?, ?it/s]"
      ]
     },
     "metadata": {},
     "output_type": "display_data"
    },
    {
     "name": "stdout",
     "output_type": "stream",
     "text": [
      "{'eval_loss': 4.095213890075684, 'eval_runtime': 109.6008, 'eval_samples_per_second': 124.187, 'eval_steps_per_second': 15.529, 'epoch': 0.07}\n",
      "{'loss': 4.1229, 'grad_norm': 3.787357807159424, 'learning_rate': 4.314285714285715e-05, 'epoch': 0.07}\n"
     ]
    },
    {
     "data": {
      "application/vnd.jupyter.widget-view+json": {
       "model_id": "7197ad5422754d82a732839540202482",
       "version_major": 2,
       "version_minor": 0
      },
      "text/plain": [
       "  0%|          | 0/1702 [00:00<?, ?it/s]"
      ]
     },
     "metadata": {},
     "output_type": "display_data"
    },
    {
     "name": "stdout",
     "output_type": "stream",
     "text": [
      "{'eval_loss': 4.044898986816406, 'eval_runtime': 109.6119, 'eval_samples_per_second': 124.175, 'eval_steps_per_second': 15.528, 'epoch': 0.07}\n",
      "{'loss': 4.2724, 'grad_norm': 5.557543754577637, 'learning_rate': 4.297959183673469e-05, 'epoch': 0.07}\n"
     ]
    },
    {
     "data": {
      "application/vnd.jupyter.widget-view+json": {
       "model_id": "73bdea2f0ef24fe59f23401d7b86f19c",
       "version_major": 2,
       "version_minor": 0
      },
      "text/plain": [
       "  0%|          | 0/1702 [00:00<?, ?it/s]"
      ]
     },
     "metadata": {},
     "output_type": "display_data"
    },
    {
     "name": "stdout",
     "output_type": "stream",
     "text": [
      "{'eval_loss': 4.0657477378845215, 'eval_runtime': 109.6368, 'eval_samples_per_second': 124.146, 'eval_steps_per_second': 15.524, 'epoch': 0.07}\n",
      "{'loss': 4.23, 'grad_norm': 2.291269063949585, 'learning_rate': 4.281632653061225e-05, 'epoch': 0.07}\n"
     ]
    },
    {
     "data": {
      "application/vnd.jupyter.widget-view+json": {
       "model_id": "f6a2990f06844e3cb7e95bcc3c03a3a7",
       "version_major": 2,
       "version_minor": 0
      },
      "text/plain": [
       "  0%|          | 0/1702 [00:00<?, ?it/s]"
      ]
     },
     "metadata": {},
     "output_type": "display_data"
    },
    {
     "name": "stdout",
     "output_type": "stream",
     "text": [
      "{'eval_loss': 4.0535783767700195, 'eval_runtime': 109.5817, 'eval_samples_per_second': 124.209, 'eval_steps_per_second': 15.532, 'epoch': 0.07}\n",
      "{'loss': 4.0713, 'grad_norm': 6.41731595993042, 'learning_rate': 4.26530612244898e-05, 'epoch': 0.07}\n"
     ]
    },
    {
     "data": {
      "application/vnd.jupyter.widget-view+json": {
       "model_id": "05b4e3699bb146c1a99b4e76f72f1e6f",
       "version_major": 2,
       "version_minor": 0
      },
      "text/plain": [
       "  0%|          | 0/1702 [00:00<?, ?it/s]"
      ]
     },
     "metadata": {},
     "output_type": "display_data"
    },
    {
     "name": "stdout",
     "output_type": "stream",
     "text": [
      "{'eval_loss': 4.069117546081543, 'eval_runtime': 109.6299, 'eval_samples_per_second': 124.154, 'eval_steps_per_second': 15.525, 'epoch': 0.07}\n",
      "{'loss': 4.0067, 'grad_norm': 2.8631091117858887, 'learning_rate': 4.2489795918367345e-05, 'epoch': 0.08}\n"
     ]
    },
    {
     "data": {
      "application/vnd.jupyter.widget-view+json": {
       "model_id": "381d5b4abf0c44a78705b3307b2d3c29",
       "version_major": 2,
       "version_minor": 0
      },
      "text/plain": [
       "  0%|          | 0/1702 [00:00<?, ?it/s]"
      ]
     },
     "metadata": {},
     "output_type": "display_data"
    },
    {
     "name": "stdout",
     "output_type": "stream",
     "text": [
      "{'eval_loss': 4.0461039543151855, 'eval_runtime': 109.5428, 'eval_samples_per_second': 124.253, 'eval_steps_per_second': 15.537, 'epoch': 0.08}\n",
      "{'loss': 4.1803, 'grad_norm': 9.380488395690918, 'learning_rate': 4.2326530612244905e-05, 'epoch': 0.08}\n"
     ]
    },
    {
     "data": {
      "application/vnd.jupyter.widget-view+json": {
       "model_id": "d1d92542d1684f179d32f0d06566134e",
       "version_major": 2,
       "version_minor": 0
      },
      "text/plain": [
       "  0%|          | 0/1702 [00:00<?, ?it/s]"
      ]
     },
     "metadata": {},
     "output_type": "display_data"
    },
    {
     "name": "stdout",
     "output_type": "stream",
     "text": [
      "{'eval_loss': 4.057071685791016, 'eval_runtime': 109.5603, 'eval_samples_per_second': 124.233, 'eval_steps_per_second': 15.535, 'epoch': 0.08}\n",
      "{'loss': 4.0202, 'grad_norm': 5.051041603088379, 'learning_rate': 4.216326530612245e-05, 'epoch': 0.08}\n"
     ]
    },
    {
     "data": {
      "application/vnd.jupyter.widget-view+json": {
       "model_id": "3f2d726bd13e4ee5b9bcfb847e12d0b4",
       "version_major": 2,
       "version_minor": 0
      },
      "text/plain": [
       "  0%|          | 0/1702 [00:00<?, ?it/s]"
      ]
     },
     "metadata": {},
     "output_type": "display_data"
    },
    {
     "name": "stdout",
     "output_type": "stream",
     "text": [
      "{'eval_loss': 4.081528663635254, 'eval_runtime': 109.5385, 'eval_samples_per_second': 124.258, 'eval_steps_per_second': 15.538, 'epoch': 0.08}\n",
      "{'loss': 4.1852, 'grad_norm': 8.982549667358398, 'learning_rate': 4.2e-05, 'epoch': 0.08}\n"
     ]
    },
    {
     "data": {
      "application/vnd.jupyter.widget-view+json": {
       "model_id": "4ff85a5700174053a89bfd38c29ed3e3",
       "version_major": 2,
       "version_minor": 0
      },
      "text/plain": [
       "  0%|          | 0/1702 [00:00<?, ?it/s]"
      ]
     },
     "metadata": {},
     "output_type": "display_data"
    },
    {
     "name": "stdout",
     "output_type": "stream",
     "text": [
      "{'eval_loss': 4.098198890686035, 'eval_runtime': 109.5157, 'eval_samples_per_second': 124.283, 'eval_steps_per_second': 15.541, 'epoch': 0.08}\n",
      "{'loss': 4.1755, 'grad_norm': 3.6063663959503174, 'learning_rate': 4.183673469387756e-05, 'epoch': 0.08}\n"
     ]
    },
    {
     "data": {
      "application/vnd.jupyter.widget-view+json": {
       "model_id": "161d2ad54a6e4924923f4c6ace62f4f9",
       "version_major": 2,
       "version_minor": 0
      },
      "text/plain": [
       "  0%|          | 0/1702 [00:00<?, ?it/s]"
      ]
     },
     "metadata": {},
     "output_type": "display_data"
    },
    {
     "name": "stdout",
     "output_type": "stream",
     "text": [
      "{'eval_loss': 4.040622234344482, 'eval_runtime': 109.5484, 'eval_samples_per_second': 124.246, 'eval_steps_per_second': 15.537, 'epoch': 0.08}\n",
      "{'loss': 4.0325, 'grad_norm': 7.212335586547852, 'learning_rate': 4.1673469387755104e-05, 'epoch': 0.08}\n"
     ]
    },
    {
     "data": {
      "application/vnd.jupyter.widget-view+json": {
       "model_id": "ac22ec9d379d4ee186604929a0fffd1a",
       "version_major": 2,
       "version_minor": 0
      },
      "text/plain": [
       "  0%|          | 0/1702 [00:00<?, ?it/s]"
      ]
     },
     "metadata": {},
     "output_type": "display_data"
    },
    {
     "name": "stdout",
     "output_type": "stream",
     "text": [
      "{'eval_loss': 4.027671813964844, 'eval_runtime': 109.5383, 'eval_samples_per_second': 124.258, 'eval_steps_per_second': 15.538, 'epoch': 0.08}\n",
      "{'loss': 4.104, 'grad_norm': 2.3704311847686768, 'learning_rate': 4.151020408163265e-05, 'epoch': 0.08}\n"
     ]
    },
    {
     "data": {
      "application/vnd.jupyter.widget-view+json": {
       "model_id": "033ab95839c74a509bcca294bec72e52",
       "version_major": 2,
       "version_minor": 0
      },
      "text/plain": [
       "  0%|          | 0/1702 [00:00<?, ?it/s]"
      ]
     },
     "metadata": {},
     "output_type": "display_data"
    },
    {
     "name": "stdout",
     "output_type": "stream",
     "text": [
      "{'eval_loss': 4.0323967933654785, 'eval_runtime': 109.554, 'eval_samples_per_second': 124.24, 'eval_steps_per_second': 15.536, 'epoch': 0.08}\n",
      "{'loss': 4.0576, 'grad_norm': 6.652912139892578, 'learning_rate': 4.134693877551021e-05, 'epoch': 0.09}\n"
     ]
    },
    {
     "data": {
      "application/vnd.jupyter.widget-view+json": {
       "model_id": "834f76ea704b4ff59a4506bad5bf2628",
       "version_major": 2,
       "version_minor": 0
      },
      "text/plain": [
       "  0%|          | 0/1702 [00:00<?, ?it/s]"
      ]
     },
     "metadata": {},
     "output_type": "display_data"
    },
    {
     "name": "stdout",
     "output_type": "stream",
     "text": [
      "{'eval_loss': 4.0538859367370605, 'eval_runtime': 109.526, 'eval_samples_per_second': 124.272, 'eval_steps_per_second': 15.54, 'epoch': 0.09}\n",
      "{'loss': 3.986, 'grad_norm': 2.738908529281616, 'learning_rate': 4.1183673469387756e-05, 'epoch': 0.09}\n"
     ]
    },
    {
     "data": {
      "application/vnd.jupyter.widget-view+json": {
       "model_id": "493fd50686e64709964e4918ec359c51",
       "version_major": 2,
       "version_minor": 0
      },
      "text/plain": [
       "  0%|          | 0/1702 [00:00<?, ?it/s]"
      ]
     },
     "metadata": {},
     "output_type": "display_data"
    },
    {
     "name": "stdout",
     "output_type": "stream",
     "text": [
      "{'eval_loss': 4.02589225769043, 'eval_runtime': 109.5269, 'eval_samples_per_second': 124.271, 'eval_steps_per_second': 15.54, 'epoch': 0.09}\n",
      "{'loss': 4.1869, 'grad_norm': 3.0372278690338135, 'learning_rate': 4.102040816326531e-05, 'epoch': 0.09}\n"
     ]
    },
    {
     "data": {
      "application/vnd.jupyter.widget-view+json": {
       "model_id": "6beb188820a842948e288aaabe413660",
       "version_major": 2,
       "version_minor": 0
      },
      "text/plain": [
       "  0%|          | 0/1702 [00:00<?, ?it/s]"
      ]
     },
     "metadata": {},
     "output_type": "display_data"
    },
    {
     "name": "stdout",
     "output_type": "stream",
     "text": [
      "{'eval_loss': 4.019473552703857, 'eval_runtime': 109.5516, 'eval_samples_per_second': 124.243, 'eval_steps_per_second': 15.536, 'epoch': 0.09}\n",
      "{'loss': 4.1128, 'grad_norm': 7.767414569854736, 'learning_rate': 4.085714285714286e-05, 'epoch': 0.09}\n"
     ]
    },
    {
     "data": {
      "application/vnd.jupyter.widget-view+json": {
       "model_id": "8e42a47f3ef346fa9c99c326b4e9ed2f",
       "version_major": 2,
       "version_minor": 0
      },
      "text/plain": [
       "  0%|          | 0/1702 [00:00<?, ?it/s]"
      ]
     },
     "metadata": {},
     "output_type": "display_data"
    },
    {
     "name": "stdout",
     "output_type": "stream",
     "text": [
      "{'eval_loss': 4.040103912353516, 'eval_runtime': 110.8279, 'eval_samples_per_second': 122.812, 'eval_steps_per_second': 15.357, 'epoch': 0.09}\n",
      "{'loss': 3.9369, 'grad_norm': 2.3988208770751953, 'learning_rate': 4.069387755102041e-05, 'epoch': 0.09}\n"
     ]
    },
    {
     "data": {
      "application/vnd.jupyter.widget-view+json": {
       "model_id": "b964642eb08f4fe7950ea23f3fa574c1",
       "version_major": 2,
       "version_minor": 0
      },
      "text/plain": [
       "  0%|          | 0/1702 [00:00<?, ?it/s]"
      ]
     },
     "metadata": {},
     "output_type": "display_data"
    },
    {
     "name": "stdout",
     "output_type": "stream",
     "text": [
      "{'eval_loss': 4.032371997833252, 'eval_runtime': 110.6005, 'eval_samples_per_second': 123.065, 'eval_steps_per_second': 15.389, 'epoch': 0.09}\n",
      "{'loss': 4.1358, 'grad_norm': 3.522266387939453, 'learning_rate': 4.053061224489796e-05, 'epoch': 0.09}\n"
     ]
    },
    {
     "data": {
      "application/vnd.jupyter.widget-view+json": {
       "model_id": "a95012f4319744c09eac0ff046ea5ec2",
       "version_major": 2,
       "version_minor": 0
      },
      "text/plain": [
       "  0%|          | 0/1702 [00:00<?, ?it/s]"
      ]
     },
     "metadata": {},
     "output_type": "display_data"
    },
    {
     "name": "stdout",
     "output_type": "stream",
     "text": [
      "{'eval_loss': 4.021040916442871, 'eval_runtime': 109.5849, 'eval_samples_per_second': 124.205, 'eval_steps_per_second': 15.531, 'epoch': 0.09}\n",
      "{'loss': 4.0765, 'grad_norm': 5.209183692932129, 'learning_rate': 4.0367346938775514e-05, 'epoch': 0.1}\n"
     ]
    },
    {
     "data": {
      "application/vnd.jupyter.widget-view+json": {
       "model_id": "2018cd9a56914168a18746385025527a",
       "version_major": 2,
       "version_minor": 0
      },
      "text/plain": [
       "  0%|          | 0/1702 [00:00<?, ?it/s]"
      ]
     },
     "metadata": {},
     "output_type": "display_data"
    },
    {
     "name": "stdout",
     "output_type": "stream",
     "text": [
      "{'eval_loss': 4.024949550628662, 'eval_runtime': 109.6045, 'eval_samples_per_second': 124.183, 'eval_steps_per_second': 15.529, 'epoch': 0.1}\n",
      "{'loss': 4.3145, 'grad_norm': 2.847734212875366, 'learning_rate': 4.020408163265306e-05, 'epoch': 0.1}\n"
     ]
    },
    {
     "data": {
      "application/vnd.jupyter.widget-view+json": {
       "model_id": "16eb54c63796438290cdbd5d3019bde5",
       "version_major": 2,
       "version_minor": 0
      },
      "text/plain": [
       "  0%|          | 0/1702 [00:00<?, ?it/s]"
      ]
     },
     "metadata": {},
     "output_type": "display_data"
    },
    {
     "name": "stdout",
     "output_type": "stream",
     "text": [
      "{'eval_loss': 4.023052215576172, 'eval_runtime': 109.6039, 'eval_samples_per_second': 124.184, 'eval_steps_per_second': 15.529, 'epoch': 0.1}\n",
      "{'loss': 4.024, 'grad_norm': 7.358754634857178, 'learning_rate': 4.004081632653062e-05, 'epoch': 0.1}\n"
     ]
    },
    {
     "data": {
      "application/vnd.jupyter.widget-view+json": {
       "model_id": "9836d420679c4769aee9fdc4c8c0ebb8",
       "version_major": 2,
       "version_minor": 0
      },
      "text/plain": [
       "  0%|          | 0/1702 [00:00<?, ?it/s]"
      ]
     },
     "metadata": {},
     "output_type": "display_data"
    },
    {
     "name": "stdout",
     "output_type": "stream",
     "text": [
      "{'eval_loss': 4.028507709503174, 'eval_runtime': 109.6037, 'eval_samples_per_second': 124.184, 'eval_steps_per_second': 15.529, 'epoch': 0.1}\n",
      "{'loss': 4.0476, 'grad_norm': 4.818171977996826, 'learning_rate': 3.9877551020408166e-05, 'epoch': 0.1}\n"
     ]
    },
    {
     "data": {
      "application/vnd.jupyter.widget-view+json": {
       "model_id": "b2feea8a194b413285680c245f138e32",
       "version_major": 2,
       "version_minor": 0
      },
      "text/plain": [
       "  0%|          | 0/1702 [00:00<?, ?it/s]"
      ]
     },
     "metadata": {},
     "output_type": "display_data"
    },
    {
     "name": "stdout",
     "output_type": "stream",
     "text": [
      "{'eval_loss': 4.012923717498779, 'eval_runtime': 109.5898, 'eval_samples_per_second': 124.2, 'eval_steps_per_second': 15.531, 'epoch': 0.1}\n",
      "{'loss': 4.0125, 'grad_norm': 2.971646547317505, 'learning_rate': 3.971428571428571e-05, 'epoch': 0.1}\n"
     ]
    },
    {
     "data": {
      "application/vnd.jupyter.widget-view+json": {
       "model_id": "51c48d31fbb14d15977312b1a105e0d9",
       "version_major": 2,
       "version_minor": 0
      },
      "text/plain": [
       "  0%|          | 0/1702 [00:00<?, ?it/s]"
      ]
     },
     "metadata": {},
     "output_type": "display_data"
    },
    {
     "name": "stdout",
     "output_type": "stream",
     "text": [
      "{'eval_loss': 4.000617027282715, 'eval_runtime': 109.5888, 'eval_samples_per_second': 124.201, 'eval_steps_per_second': 15.531, 'epoch': 0.1}\n",
      "{'loss': 4.114, 'grad_norm': 2.0294923782348633, 'learning_rate': 3.955102040816327e-05, 'epoch': 0.1}\n"
     ]
    },
    {
     "data": {
      "application/vnd.jupyter.widget-view+json": {
       "model_id": "9b3e02458efc42ba80e86f72e2f2b909",
       "version_major": 2,
       "version_minor": 0
      },
      "text/plain": [
       "  0%|          | 0/1702 [00:00<?, ?it/s]"
      ]
     },
     "metadata": {},
     "output_type": "display_data"
    },
    {
     "name": "stdout",
     "output_type": "stream",
     "text": [
      "{'eval_loss': 4.014309883117676, 'eval_runtime': 109.5004, 'eval_samples_per_second': 124.301, 'eval_steps_per_second': 15.543, 'epoch': 0.1}\n",
      "{'loss': 4.029, 'grad_norm': 4.493895530700684, 'learning_rate': 3.938775510204082e-05, 'epoch': 0.11}\n"
     ]
    },
    {
     "data": {
      "application/vnd.jupyter.widget-view+json": {
       "model_id": "c358b3a7b7c74759862ef2ed8d86ef03",
       "version_major": 2,
       "version_minor": 0
      },
      "text/plain": [
       "  0%|          | 0/1702 [00:00<?, ?it/s]"
      ]
     },
     "metadata": {},
     "output_type": "display_data"
    },
    {
     "name": "stdout",
     "output_type": "stream",
     "text": [
      "{'eval_loss': 4.001533031463623, 'eval_runtime': 109.5809, 'eval_samples_per_second': 124.21, 'eval_steps_per_second': 15.532, 'epoch': 0.11}\n",
      "{'loss': 4.0195, 'grad_norm': 2.7981343269348145, 'learning_rate': 3.9224489795918365e-05, 'epoch': 0.11}\n"
     ]
    },
    {
     "data": {
      "application/vnd.jupyter.widget-view+json": {
       "model_id": "3e7e5bb1fdf74b7788dc5f17a8296561",
       "version_major": 2,
       "version_minor": 0
      },
      "text/plain": [
       "  0%|          | 0/1702 [00:00<?, ?it/s]"
      ]
     },
     "metadata": {},
     "output_type": "display_data"
    },
    {
     "name": "stdout",
     "output_type": "stream",
     "text": [
      "{'eval_loss': 4.012678146362305, 'eval_runtime': 109.5177, 'eval_samples_per_second': 124.281, 'eval_steps_per_second': 15.541, 'epoch': 0.11}\n",
      "{'loss': 4.206, 'grad_norm': 3.8193840980529785, 'learning_rate': 3.9061224489795925e-05, 'epoch': 0.11}\n"
     ]
    },
    {
     "data": {
      "application/vnd.jupyter.widget-view+json": {
       "model_id": "7444ccb6335143e3aab13cbc31a33486",
       "version_major": 2,
       "version_minor": 0
      },
      "text/plain": [
       "  0%|          | 0/1702 [00:00<?, ?it/s]"
      ]
     },
     "metadata": {},
     "output_type": "display_data"
    },
    {
     "name": "stdout",
     "output_type": "stream",
     "text": [
      "{'eval_loss': 4.010492324829102, 'eval_runtime': 109.4738, 'eval_samples_per_second': 124.331, 'eval_steps_per_second': 15.547, 'epoch': 0.11}\n",
      "{'loss': 4.0185, 'grad_norm': 2.617654323577881, 'learning_rate': 3.889795918367347e-05, 'epoch': 0.11}\n"
     ]
    },
    {
     "data": {
      "application/vnd.jupyter.widget-view+json": {
       "model_id": "469f415c9c5141b2b7758b001b7dcf18",
       "version_major": 2,
       "version_minor": 0
      },
      "text/plain": [
       "  0%|          | 0/1702 [00:00<?, ?it/s]"
      ]
     },
     "metadata": {},
     "output_type": "display_data"
    },
    {
     "name": "stdout",
     "output_type": "stream",
     "text": [
      "{'eval_loss': 4.000938892364502, 'eval_runtime': 109.4921, 'eval_samples_per_second': 124.31, 'eval_steps_per_second': 15.545, 'epoch': 0.11}\n",
      "{'loss': 4.0195, 'grad_norm': 3.1409425735473633, 'learning_rate': 3.8734693877551024e-05, 'epoch': 0.11}\n"
     ]
    },
    {
     "data": {
      "application/vnd.jupyter.widget-view+json": {
       "model_id": "ea9c77a79de648ffa5642f9c7abbc264",
       "version_major": 2,
       "version_minor": 0
      },
      "text/plain": [
       "  0%|          | 0/1702 [00:00<?, ?it/s]"
      ]
     },
     "metadata": {},
     "output_type": "display_data"
    },
    {
     "name": "stdout",
     "output_type": "stream",
     "text": [
      "{'eval_loss': 4.0092058181762695, 'eval_runtime': 109.5165, 'eval_samples_per_second': 124.283, 'eval_steps_per_second': 15.541, 'epoch': 0.11}\n",
      "{'loss': 4.2147, 'grad_norm': 3.8207006454467773, 'learning_rate': 3.857142857142858e-05, 'epoch': 0.11}\n"
     ]
    },
    {
     "data": {
      "application/vnd.jupyter.widget-view+json": {
       "model_id": "cf1fdade5ce341ca982a67d65e7e0b6b",
       "version_major": 2,
       "version_minor": 0
      },
      "text/plain": [
       "  0%|          | 0/1702 [00:00<?, ?it/s]"
      ]
     },
     "metadata": {},
     "output_type": "display_data"
    },
    {
     "name": "stdout",
     "output_type": "stream",
     "text": [
      "{'eval_loss': 4.015017509460449, 'eval_runtime': 109.5017, 'eval_samples_per_second': 124.299, 'eval_steps_per_second': 15.543, 'epoch': 0.11}\n",
      "{'loss': 4.107, 'grad_norm': 4.299478054046631, 'learning_rate': 3.840816326530612e-05, 'epoch': 0.12}\n"
     ]
    },
    {
     "data": {
      "application/vnd.jupyter.widget-view+json": {
       "model_id": "32a55c1a2f864cd0bc56773e81d66861",
       "version_major": 2,
       "version_minor": 0
      },
      "text/plain": [
       "  0%|          | 0/1702 [00:00<?, ?it/s]"
      ]
     },
     "metadata": {},
     "output_type": "display_data"
    },
    {
     "name": "stdout",
     "output_type": "stream",
     "text": [
      "{'eval_loss': 4.027975082397461, 'eval_runtime': 109.71, 'eval_samples_per_second': 124.063, 'eval_steps_per_second': 15.514, 'epoch': 0.12}\n",
      "{'loss': 4.0567, 'grad_norm': 4.485382080078125, 'learning_rate': 3.8244897959183676e-05, 'epoch': 0.12}\n"
     ]
    },
    {
     "data": {
      "application/vnd.jupyter.widget-view+json": {
       "model_id": "5de2a44e09c94c56b030738ac81c546c",
       "version_major": 2,
       "version_minor": 0
      },
      "text/plain": [
       "  0%|          | 0/1702 [00:00<?, ?it/s]"
      ]
     },
     "metadata": {},
     "output_type": "display_data"
    },
    {
     "name": "stdout",
     "output_type": "stream",
     "text": [
      "{'eval_loss': 4.018169403076172, 'eval_runtime': 109.5052, 'eval_samples_per_second': 124.295, 'eval_steps_per_second': 15.543, 'epoch': 0.12}\n",
      "{'loss': 4.1122, 'grad_norm': 3.8289167881011963, 'learning_rate': 3.808163265306123e-05, 'epoch': 0.12}\n"
     ]
    },
    {
     "data": {
      "application/vnd.jupyter.widget-view+json": {
       "model_id": "b51d27fbae28422d8d6346445433cdf5",
       "version_major": 2,
       "version_minor": 0
      },
      "text/plain": [
       "  0%|          | 0/1702 [00:00<?, ?it/s]"
      ]
     },
     "metadata": {},
     "output_type": "display_data"
    },
    {
     "name": "stdout",
     "output_type": "stream",
     "text": [
      "{'eval_loss': 4.027092456817627, 'eval_runtime': 109.4962, 'eval_samples_per_second': 124.306, 'eval_steps_per_second': 15.544, 'epoch': 0.12}\n",
      "{'loss': 3.9401, 'grad_norm': 3.1419408321380615, 'learning_rate': 3.7918367346938775e-05, 'epoch': 0.12}\n"
     ]
    },
    {
     "data": {
      "application/vnd.jupyter.widget-view+json": {
       "model_id": "fd86cec39f2a4b8ba6c51f2dc18028f5",
       "version_major": 2,
       "version_minor": 0
      },
      "text/plain": [
       "  0%|          | 0/1702 [00:00<?, ?it/s]"
      ]
     },
     "metadata": {},
     "output_type": "display_data"
    },
    {
     "name": "stdout",
     "output_type": "stream",
     "text": [
      "{'eval_loss': 4.040889263153076, 'eval_runtime': 109.4671, 'eval_samples_per_second': 124.339, 'eval_steps_per_second': 15.548, 'epoch': 0.12}\n",
      "{'loss': 3.8952, 'grad_norm': 3.175879716873169, 'learning_rate': 3.775510204081633e-05, 'epoch': 0.12}\n"
     ]
    },
    {
     "data": {
      "application/vnd.jupyter.widget-view+json": {
       "model_id": "dcc8acca95dd4770b8a0880b6a4a4f4f",
       "version_major": 2,
       "version_minor": 0
      },
      "text/plain": [
       "  0%|          | 0/1702 [00:00<?, ?it/s]"
      ]
     },
     "metadata": {},
     "output_type": "display_data"
    },
    {
     "name": "stdout",
     "output_type": "stream",
     "text": [
      "{'eval_loss': 4.010098457336426, 'eval_runtime': 109.5117, 'eval_samples_per_second': 124.288, 'eval_steps_per_second': 15.542, 'epoch': 0.12}\n",
      "{'loss': 3.9851, 'grad_norm': 3.3393962383270264, 'learning_rate': 3.759183673469388e-05, 'epoch': 0.12}\n"
     ]
    },
    {
     "data": {
      "application/vnd.jupyter.widget-view+json": {
       "model_id": "1cd4d1d2e1684a1ea87a552e04ba5568",
       "version_major": 2,
       "version_minor": 0
      },
      "text/plain": [
       "  0%|          | 0/1702 [00:00<?, ?it/s]"
      ]
     },
     "metadata": {},
     "output_type": "display_data"
    },
    {
     "name": "stdout",
     "output_type": "stream",
     "text": [
      "{'eval_loss': 3.985342502593994, 'eval_runtime': 109.5447, 'eval_samples_per_second': 124.251, 'eval_steps_per_second': 15.537, 'epoch': 0.12}\n",
      "{'loss': 4.0861, 'grad_norm': 2.089745283126831, 'learning_rate': 3.742857142857143e-05, 'epoch': 0.13}\n"
     ]
    },
    {
     "data": {
      "application/vnd.jupyter.widget-view+json": {
       "model_id": "77a80df1c1d54eda9b502d939644c028",
       "version_major": 2,
       "version_minor": 0
      },
      "text/plain": [
       "  0%|          | 0/1702 [00:00<?, ?it/s]"
      ]
     },
     "metadata": {},
     "output_type": "display_data"
    },
    {
     "name": "stdout",
     "output_type": "stream",
     "text": [
      "{'eval_loss': 4.009171485900879, 'eval_runtime': 109.5841, 'eval_samples_per_second': 124.206, 'eval_steps_per_second': 15.531, 'epoch': 0.13}\n",
      "{'loss': 4.0995, 'grad_norm': 5.585481643676758, 'learning_rate': 3.726530612244899e-05, 'epoch': 0.13}\n"
     ]
    },
    {
     "data": {
      "application/vnd.jupyter.widget-view+json": {
       "model_id": "f54c33754bc74b4f861ad9651758ced0",
       "version_major": 2,
       "version_minor": 0
      },
      "text/plain": [
       "  0%|          | 0/1702 [00:00<?, ?it/s]"
      ]
     },
     "metadata": {},
     "output_type": "display_data"
    },
    {
     "name": "stdout",
     "output_type": "stream",
     "text": [
      "{'eval_loss': 3.9912455081939697, 'eval_runtime': 109.6068, 'eval_samples_per_second': 124.18, 'eval_steps_per_second': 15.528, 'epoch': 0.13}\n",
      "{'loss': 4.0191, 'grad_norm': 3.654374122619629, 'learning_rate': 3.7102040816326533e-05, 'epoch': 0.13}\n"
     ]
    },
    {
     "data": {
      "application/vnd.jupyter.widget-view+json": {
       "model_id": "bce59d8fd51c4cd29a67062125b3f869",
       "version_major": 2,
       "version_minor": 0
      },
      "text/plain": [
       "  0%|          | 0/1702 [00:00<?, ?it/s]"
      ]
     },
     "metadata": {},
     "output_type": "display_data"
    },
    {
     "name": "stdout",
     "output_type": "stream",
     "text": [
      "{'eval_loss': 3.9847769737243652, 'eval_runtime': 109.5893, 'eval_samples_per_second': 124.2, 'eval_steps_per_second': 15.531, 'epoch': 0.13}\n",
      "{'loss': 3.9891, 'grad_norm': 5.228717803955078, 'learning_rate': 3.693877551020408e-05, 'epoch': 0.13}\n"
     ]
    },
    {
     "data": {
      "application/vnd.jupyter.widget-view+json": {
       "model_id": "db17806c6b37417681cd661dcc98cf67",
       "version_major": 2,
       "version_minor": 0
      },
      "text/plain": [
       "  0%|          | 0/1702 [00:00<?, ?it/s]"
      ]
     },
     "metadata": {},
     "output_type": "display_data"
    },
    {
     "name": "stdout",
     "output_type": "stream",
     "text": [
      "{'eval_loss': 4.006066799163818, 'eval_runtime': 109.5871, 'eval_samples_per_second': 124.203, 'eval_steps_per_second': 15.531, 'epoch': 0.13}\n",
      "{'loss': 3.9369, 'grad_norm': 17.643953323364258, 'learning_rate': 3.677551020408164e-05, 'epoch': 0.13}\n"
     ]
    },
    {
     "data": {
      "application/vnd.jupyter.widget-view+json": {
       "model_id": "2d5ee67abafc45fe98b59acb777ba0eb",
       "version_major": 2,
       "version_minor": 0
      },
      "text/plain": [
       "  0%|          | 0/1702 [00:00<?, ?it/s]"
      ]
     },
     "metadata": {},
     "output_type": "display_data"
    },
    {
     "name": "stdout",
     "output_type": "stream",
     "text": [
      "{'eval_loss': 3.994655132293701, 'eval_runtime': 109.5377, 'eval_samples_per_second': 124.259, 'eval_steps_per_second': 15.538, 'epoch': 0.13}\n",
      "{'loss': 3.9048, 'grad_norm': 5.819009304046631, 'learning_rate': 3.6612244897959186e-05, 'epoch': 0.13}\n"
     ]
    },
    {
     "data": {
      "application/vnd.jupyter.widget-view+json": {
       "model_id": "c0b871fb3f7c46169bf21029b1fbbc3d",
       "version_major": 2,
       "version_minor": 0
      },
      "text/plain": [
       "  0%|          | 0/1702 [00:00<?, ?it/s]"
      ]
     },
     "metadata": {},
     "output_type": "display_data"
    },
    {
     "name": "stdout",
     "output_type": "stream",
     "text": [
      "{'eval_loss': 3.981016159057617, 'eval_runtime': 109.5587, 'eval_samples_per_second': 124.235, 'eval_steps_per_second': 15.535, 'epoch': 0.13}\n",
      "{'loss': 4.0356, 'grad_norm': 1.6630903482437134, 'learning_rate': 3.644897959183673e-05, 'epoch': 0.14}\n"
     ]
    },
    {
     "data": {
      "application/vnd.jupyter.widget-view+json": {
       "model_id": "57743b0a4b7c417fbd07169f3103816e",
       "version_major": 2,
       "version_minor": 0
      },
      "text/plain": [
       "  0%|          | 0/1702 [00:00<?, ?it/s]"
      ]
     },
     "metadata": {},
     "output_type": "display_data"
    },
    {
     "name": "stdout",
     "output_type": "stream",
     "text": [
      "{'eval_loss': 3.9871022701263428, 'eval_runtime': 109.5709, 'eval_samples_per_second': 124.221, 'eval_steps_per_second': 15.533, 'epoch': 0.14}\n",
      "{'loss': 4.0776, 'grad_norm': 3.6497743129730225, 'learning_rate': 3.628571428571429e-05, 'epoch': 0.14}\n"
     ]
    },
    {
     "data": {
      "application/vnd.jupyter.widget-view+json": {
       "model_id": "8419c7825c7649f0bd5d60da2078b1c0",
       "version_major": 2,
       "version_minor": 0
      },
      "text/plain": [
       "  0%|          | 0/1702 [00:00<?, ?it/s]"
      ]
     },
     "metadata": {},
     "output_type": "display_data"
    },
    {
     "name": "stdout",
     "output_type": "stream",
     "text": [
      "{'eval_loss': 3.9906599521636963, 'eval_runtime': 109.5731, 'eval_samples_per_second': 124.218, 'eval_steps_per_second': 15.533, 'epoch': 0.14}\n",
      "{'loss': 3.7693, 'grad_norm': 4.460656642913818, 'learning_rate': 3.612244897959184e-05, 'epoch': 0.14}\n"
     ]
    },
    {
     "data": {
      "application/vnd.jupyter.widget-view+json": {
       "model_id": "dbe92f3d7b21435f895df81ec8911fd8",
       "version_major": 2,
       "version_minor": 0
      },
      "text/plain": [
       "  0%|          | 0/1702 [00:00<?, ?it/s]"
      ]
     },
     "metadata": {},
     "output_type": "display_data"
    },
    {
     "name": "stdout",
     "output_type": "stream",
     "text": [
      "{'eval_loss': 3.985089063644409, 'eval_runtime': 109.6105, 'eval_samples_per_second': 124.176, 'eval_steps_per_second': 15.528, 'epoch': 0.14}\n",
      "{'loss': 3.9655, 'grad_norm': 2.5629570484161377, 'learning_rate': 3.595918367346939e-05, 'epoch': 0.14}\n"
     ]
    },
    {
     "data": {
      "application/vnd.jupyter.widget-view+json": {
       "model_id": "abd37de0cbeb41bfbb505439ffd6e370",
       "version_major": 2,
       "version_minor": 0
      },
      "text/plain": [
       "  0%|          | 0/1702 [00:00<?, ?it/s]"
      ]
     },
     "metadata": {},
     "output_type": "display_data"
    },
    {
     "name": "stdout",
     "output_type": "stream",
     "text": [
      "{'eval_loss': 3.979598045349121, 'eval_runtime': 109.6327, 'eval_samples_per_second': 124.151, 'eval_steps_per_second': 15.525, 'epoch': 0.14}\n",
      "{'loss': 4.0646, 'grad_norm': 4.0319037437438965, 'learning_rate': 3.5795918367346944e-05, 'epoch': 0.14}\n"
     ]
    },
    {
     "data": {
      "application/vnd.jupyter.widget-view+json": {
       "model_id": "e6b04e444d4c443fbc33c691558db101",
       "version_major": 2,
       "version_minor": 0
      },
      "text/plain": [
       "  0%|          | 0/1702 [00:00<?, ?it/s]"
      ]
     },
     "metadata": {},
     "output_type": "display_data"
    },
    {
     "name": "stdout",
     "output_type": "stream",
     "text": [
      "{'eval_loss': 3.9874813556671143, 'eval_runtime': 109.6431, 'eval_samples_per_second': 124.139, 'eval_steps_per_second': 15.523, 'epoch': 0.14}\n",
      "{'loss': 4.0197, 'grad_norm': 1.7747122049331665, 'learning_rate': 3.563265306122449e-05, 'epoch': 0.14}\n"
     ]
    },
    {
     "data": {
      "application/vnd.jupyter.widget-view+json": {
       "model_id": "3c1d02a97778489bac3593b53ef17bae",
       "version_major": 2,
       "version_minor": 0
      },
      "text/plain": [
       "  0%|          | 0/1702 [00:00<?, ?it/s]"
      ]
     },
     "metadata": {},
     "output_type": "display_data"
    },
    {
     "name": "stdout",
     "output_type": "stream",
     "text": [
      "{'eval_loss': 3.988030195236206, 'eval_runtime': 109.6013, 'eval_samples_per_second': 124.187, 'eval_steps_per_second': 15.529, 'epoch': 0.14}\n",
      "{'loss': 4.0926, 'grad_norm': 2.0107805728912354, 'learning_rate': 3.546938775510204e-05, 'epoch': 0.15}\n"
     ]
    },
    {
     "data": {
      "application/vnd.jupyter.widget-view+json": {
       "model_id": "be10a52eb87040a3862076ac4dc689e3",
       "version_major": 2,
       "version_minor": 0
      },
      "text/plain": [
       "  0%|          | 0/1702 [00:00<?, ?it/s]"
      ]
     },
     "metadata": {},
     "output_type": "display_data"
    },
    {
     "name": "stdout",
     "output_type": "stream",
     "text": [
      "{'eval_loss': 3.9755423069000244, 'eval_runtime': 109.5763, 'eval_samples_per_second': 124.215, 'eval_steps_per_second': 15.533, 'epoch': 0.15}\n",
      "{'loss': 3.8514, 'grad_norm': 3.3216347694396973, 'learning_rate': 3.5306122448979596e-05, 'epoch': 0.15}\n"
     ]
    },
    {
     "data": {
      "application/vnd.jupyter.widget-view+json": {
       "model_id": "d06c395358694e1980acf14cb3f7a584",
       "version_major": 2,
       "version_minor": 0
      },
      "text/plain": [
       "  0%|          | 0/1702 [00:00<?, ?it/s]"
      ]
     },
     "metadata": {},
     "output_type": "display_data"
    },
    {
     "name": "stdout",
     "output_type": "stream",
     "text": [
      "{'eval_loss': 4.00956392288208, 'eval_runtime': 109.5963, 'eval_samples_per_second': 124.192, 'eval_steps_per_second': 15.53, 'epoch': 0.15}\n",
      "{'loss': 4.0537, 'grad_norm': 2.0142462253570557, 'learning_rate': 3.514285714285714e-05, 'epoch': 0.15}\n"
     ]
    },
    {
     "data": {
      "application/vnd.jupyter.widget-view+json": {
       "model_id": "b3eb4dca039346b8b2652888f067019e",
       "version_major": 2,
       "version_minor": 0
      },
      "text/plain": [
       "  0%|          | 0/1702 [00:00<?, ?it/s]"
      ]
     },
     "metadata": {},
     "output_type": "display_data"
    },
    {
     "name": "stdout",
     "output_type": "stream",
     "text": [
      "{'eval_loss': 3.9777133464813232, 'eval_runtime': 109.6189, 'eval_samples_per_second': 124.167, 'eval_steps_per_second': 15.527, 'epoch': 0.15}\n",
      "{'loss': 3.9972, 'grad_norm': 1.7710660696029663, 'learning_rate': 3.4979591836734695e-05, 'epoch': 0.15}\n"
     ]
    },
    {
     "data": {
      "application/vnd.jupyter.widget-view+json": {
       "model_id": "423f8d87bc3f4009a7ebf415c449433a",
       "version_major": 2,
       "version_minor": 0
      },
      "text/plain": [
       "  0%|          | 0/1702 [00:00<?, ?it/s]"
      ]
     },
     "metadata": {},
     "output_type": "display_data"
    },
    {
     "name": "stdout",
     "output_type": "stream",
     "text": [
      "{'eval_loss': 4.023947715759277, 'eval_runtime': 109.6149, 'eval_samples_per_second': 124.171, 'eval_steps_per_second': 15.527, 'epoch': 0.15}\n",
      "{'loss': 4.12, 'grad_norm': 4.356527805328369, 'learning_rate': 3.481632653061225e-05, 'epoch': 0.15}\n"
     ]
    },
    {
     "data": {
      "application/vnd.jupyter.widget-view+json": {
       "model_id": "8133683cf1b2489c85ab109f6f3d9fa6",
       "version_major": 2,
       "version_minor": 0
      },
      "text/plain": [
       "  0%|          | 0/1702 [00:00<?, ?it/s]"
      ]
     },
     "metadata": {},
     "output_type": "display_data"
    },
    {
     "name": "stdout",
     "output_type": "stream",
     "text": [
      "{'eval_loss': 3.97652530670166, 'eval_runtime': 109.5473, 'eval_samples_per_second': 124.248, 'eval_steps_per_second': 15.537, 'epoch': 0.15}\n",
      "{'loss': 3.9678, 'grad_norm': 7.051150798797607, 'learning_rate': 3.4653061224489795e-05, 'epoch': 0.15}\n"
     ]
    },
    {
     "data": {
      "application/vnd.jupyter.widget-view+json": {
       "model_id": "dfb15b3e677a41688bfc47a557b007e1",
       "version_major": 2,
       "version_minor": 0
      },
      "text/plain": [
       "  0%|          | 0/1702 [00:00<?, ?it/s]"
      ]
     },
     "metadata": {},
     "output_type": "display_data"
    },
    {
     "name": "stdout",
     "output_type": "stream",
     "text": [
      "{'eval_loss': 3.975703716278076, 'eval_runtime': 109.5421, 'eval_samples_per_second': 124.254, 'eval_steps_per_second': 15.537, 'epoch': 0.15}\n",
      "{'loss': 4.0749, 'grad_norm': 4.758042335510254, 'learning_rate': 3.4489795918367354e-05, 'epoch': 0.16}\n"
     ]
    },
    {
     "data": {
      "application/vnd.jupyter.widget-view+json": {
       "model_id": "0b37cbb15c4f4cbb970c21069b016d8a",
       "version_major": 2,
       "version_minor": 0
      },
      "text/plain": [
       "  0%|          | 0/1702 [00:00<?, ?it/s]"
      ]
     },
     "metadata": {},
     "output_type": "display_data"
    },
    {
     "name": "stdout",
     "output_type": "stream",
     "text": [
      "{'eval_loss': 3.9756946563720703, 'eval_runtime': 109.5857, 'eval_samples_per_second': 124.204, 'eval_steps_per_second': 15.531, 'epoch': 0.16}\n",
      "{'loss': 4.0048, 'grad_norm': 3.4862775802612305, 'learning_rate': 3.43265306122449e-05, 'epoch': 0.16}\n"
     ]
    },
    {
     "data": {
      "application/vnd.jupyter.widget-view+json": {
       "model_id": "612b3797a6b148808e5cc67f66886036",
       "version_major": 2,
       "version_minor": 0
      },
      "text/plain": [
       "  0%|          | 0/1702 [00:00<?, ?it/s]"
      ]
     },
     "metadata": {},
     "output_type": "display_data"
    },
    {
     "name": "stdout",
     "output_type": "stream",
     "text": [
      "{'eval_loss': 3.9742419719696045, 'eval_runtime': 109.5928, 'eval_samples_per_second': 124.196, 'eval_steps_per_second': 15.53, 'epoch': 0.16}\n",
      "{'loss': 3.986, 'grad_norm': 1.7065801620483398, 'learning_rate': 3.416326530612245e-05, 'epoch': 0.16}\n"
     ]
    },
    {
     "data": {
      "application/vnd.jupyter.widget-view+json": {
       "model_id": "33d1b135bfa04c488a26da8139d3783b",
       "version_major": 2,
       "version_minor": 0
      },
      "text/plain": [
       "  0%|          | 0/1702 [00:00<?, ?it/s]"
      ]
     },
     "metadata": {},
     "output_type": "display_data"
    },
    {
     "name": "stdout",
     "output_type": "stream",
     "text": [
      "{'eval_loss': 3.9735803604125977, 'eval_runtime': 109.6797, 'eval_samples_per_second': 124.098, 'eval_steps_per_second': 15.518, 'epoch': 0.16}\n",
      "{'loss': 3.8687, 'grad_norm': 3.1336231231689453, 'learning_rate': 3.4000000000000007e-05, 'epoch': 0.16}\n"
     ]
    },
    {
     "data": {
      "application/vnd.jupyter.widget-view+json": {
       "model_id": "2336ffff80fc4a39bbfaaa9b9757875a",
       "version_major": 2,
       "version_minor": 0
      },
      "text/plain": [
       "  0%|          | 0/1702 [00:00<?, ?it/s]"
      ]
     },
     "metadata": {},
     "output_type": "display_data"
    },
    {
     "name": "stdout",
     "output_type": "stream",
     "text": [
      "{'eval_loss': 3.9897584915161133, 'eval_runtime': 109.6645, 'eval_samples_per_second': 124.115, 'eval_steps_per_second': 15.52, 'epoch': 0.16}\n",
      "{'loss': 4.0095, 'grad_norm': 4.4796142578125, 'learning_rate': 3.383673469387755e-05, 'epoch': 0.16}\n"
     ]
    },
    {
     "data": {
      "application/vnd.jupyter.widget-view+json": {
       "model_id": "007674a5050944679ca8766fc4ab0c0c",
       "version_major": 2,
       "version_minor": 0
      },
      "text/plain": [
       "  0%|          | 0/1702 [00:00<?, ?it/s]"
      ]
     },
     "metadata": {},
     "output_type": "display_data"
    },
    {
     "name": "stdout",
     "output_type": "stream",
     "text": [
      "{'eval_loss': 4.005974769592285, 'eval_runtime': 109.6504, 'eval_samples_per_second': 124.131, 'eval_steps_per_second': 15.522, 'epoch': 0.16}\n",
      "{'loss': 3.9166, 'grad_norm': 2.862626791000366, 'learning_rate': 3.36734693877551e-05, 'epoch': 0.16}\n"
     ]
    },
    {
     "data": {
      "application/vnd.jupyter.widget-view+json": {
       "model_id": "d1329effc8d14934ab93f6aab7250a78",
       "version_major": 2,
       "version_minor": 0
      },
      "text/plain": [
       "  0%|          | 0/1702 [00:00<?, ?it/s]"
      ]
     },
     "metadata": {},
     "output_type": "display_data"
    },
    {
     "name": "stdout",
     "output_type": "stream",
     "text": [
      "{'eval_loss': 3.9752705097198486, 'eval_runtime': 109.6174, 'eval_samples_per_second': 124.168, 'eval_steps_per_second': 15.527, 'epoch': 0.16}\n",
      "{'loss': 4.1396, 'grad_norm': 7.394679546356201, 'learning_rate': 3.351020408163266e-05, 'epoch': 0.16}\n"
     ]
    },
    {
     "data": {
      "application/vnd.jupyter.widget-view+json": {
       "model_id": "fc3d988b94db4ec089e7dabaa336d7a8",
       "version_major": 2,
       "version_minor": 0
      },
      "text/plain": [
       "  0%|          | 0/1702 [00:00<?, ?it/s]"
      ]
     },
     "metadata": {},
     "output_type": "display_data"
    },
    {
     "name": "stdout",
     "output_type": "stream",
     "text": [
      "{'eval_loss': 3.9698221683502197, 'eval_runtime': 109.6348, 'eval_samples_per_second': 124.149, 'eval_steps_per_second': 15.524, 'epoch': 0.16}\n",
      "{'loss': 3.9334, 'grad_norm': 7.905846118927002, 'learning_rate': 3.3346938775510205e-05, 'epoch': 0.17}\n"
     ]
    },
    {
     "data": {
      "application/vnd.jupyter.widget-view+json": {
       "model_id": "ab343746ae0a4e2495590c1f7fe6759e",
       "version_major": 2,
       "version_minor": 0
      },
      "text/plain": [
       "  0%|          | 0/1702 [00:00<?, ?it/s]"
      ]
     },
     "metadata": {},
     "output_type": "display_data"
    },
    {
     "name": "stdout",
     "output_type": "stream",
     "text": [
      "{'eval_loss': 3.9786951541900635, 'eval_runtime': 109.6201, 'eval_samples_per_second': 124.165, 'eval_steps_per_second': 15.526, 'epoch': 0.17}\n",
      "{'loss': 3.8805, 'grad_norm': 1.856276512145996, 'learning_rate': 3.318367346938776e-05, 'epoch': 0.17}\n"
     ]
    },
    {
     "data": {
      "application/vnd.jupyter.widget-view+json": {
       "model_id": "98b339c434194dd59f59d9a9de8cab3a",
       "version_major": 2,
       "version_minor": 0
      },
      "text/plain": [
       "  0%|          | 0/1702 [00:00<?, ?it/s]"
      ]
     },
     "metadata": {},
     "output_type": "display_data"
    },
    {
     "name": "stdout",
     "output_type": "stream",
     "text": [
      "{'eval_loss': 3.9898669719696045, 'eval_runtime': 109.6264, 'eval_samples_per_second': 124.158, 'eval_steps_per_second': 15.525, 'epoch': 0.17}\n",
      "{'loss': 3.8258, 'grad_norm': 1.6188172101974487, 'learning_rate': 3.302040816326531e-05, 'epoch': 0.17}\n"
     ]
    },
    {
     "data": {
      "application/vnd.jupyter.widget-view+json": {
       "model_id": "10bde3afd0ff4f0c8c1e381fcf0274d9",
       "version_major": 2,
       "version_minor": 0
      },
      "text/plain": [
       "  0%|          | 0/1702 [00:00<?, ?it/s]"
      ]
     },
     "metadata": {},
     "output_type": "display_data"
    },
    {
     "name": "stdout",
     "output_type": "stream",
     "text": [
      "{'eval_loss': 3.9695801734924316, 'eval_runtime': 109.6859, 'eval_samples_per_second': 124.091, 'eval_steps_per_second': 15.517, 'epoch': 0.17}\n",
      "{'loss': 3.9814, 'grad_norm': 3.7882423400878906, 'learning_rate': 3.285714285714286e-05, 'epoch': 0.17}\n"
     ]
    },
    {
     "data": {
      "application/vnd.jupyter.widget-view+json": {
       "model_id": "945698269aa041a58056ded51bfabe39",
       "version_major": 2,
       "version_minor": 0
      },
      "text/plain": [
       "  0%|          | 0/1702 [00:00<?, ?it/s]"
      ]
     },
     "metadata": {},
     "output_type": "display_data"
    },
    {
     "name": "stdout",
     "output_type": "stream",
     "text": [
      "{'eval_loss': 3.9569196701049805, 'eval_runtime': 109.5726, 'eval_samples_per_second': 124.219, 'eval_steps_per_second': 15.533, 'epoch': 0.17}\n",
      "{'loss': 4.0668, 'grad_norm': 4.8499979972839355, 'learning_rate': 3.269387755102041e-05, 'epoch': 0.17}\n"
     ]
    },
    {
     "data": {
      "application/vnd.jupyter.widget-view+json": {
       "model_id": "681893b9da724cc49b85face1f68dcdd",
       "version_major": 2,
       "version_minor": 0
      },
      "text/plain": [
       "  0%|          | 0/1702 [00:00<?, ?it/s]"
      ]
     },
     "metadata": {},
     "output_type": "display_data"
    },
    {
     "name": "stdout",
     "output_type": "stream",
     "text": [
      "{'eval_loss': 3.9648685455322266, 'eval_runtime': 109.6781, 'eval_samples_per_second': 124.1, 'eval_steps_per_second': 15.518, 'epoch': 0.17}\n",
      "{'loss': 4.0959, 'grad_norm': 5.825951099395752, 'learning_rate': 3.253061224489796e-05, 'epoch': 0.17}\n"
     ]
    },
    {
     "data": {
      "application/vnd.jupyter.widget-view+json": {
       "model_id": "3c282f4d2769479baeab264902a01dee",
       "version_major": 2,
       "version_minor": 0
      },
      "text/plain": [
       "  0%|          | 0/1702 [00:00<?, ?it/s]"
      ]
     },
     "metadata": {},
     "output_type": "display_data"
    },
    {
     "name": "stdout",
     "output_type": "stream",
     "text": [
      "{'eval_loss': 3.9638001918792725, 'eval_runtime': 109.6467, 'eval_samples_per_second': 124.135, 'eval_steps_per_second': 15.523, 'epoch': 0.17}\n",
      "{'loss': 3.9219, 'grad_norm': 2.193222999572754, 'learning_rate': 3.236734693877551e-05, 'epoch': 0.18}\n"
     ]
    },
    {
     "data": {
      "application/vnd.jupyter.widget-view+json": {
       "model_id": "0331d098047f472bb7635b4d211fa71d",
       "version_major": 2,
       "version_minor": 0
      },
      "text/plain": [
       "  0%|          | 0/1702 [00:00<?, ?it/s]"
      ]
     },
     "metadata": {},
     "output_type": "display_data"
    },
    {
     "name": "stdout",
     "output_type": "stream",
     "text": [
      "{'eval_loss': 3.970899820327759, 'eval_runtime': 109.6326, 'eval_samples_per_second': 124.151, 'eval_steps_per_second': 15.525, 'epoch': 0.18}\n",
      "{'loss': 3.9806, 'grad_norm': 2.2301106452941895, 'learning_rate': 3.220408163265306e-05, 'epoch': 0.18}\n"
     ]
    },
    {
     "data": {
      "application/vnd.jupyter.widget-view+json": {
       "model_id": "f060c00f42964b23975ae2ef8d1b7570",
       "version_major": 2,
       "version_minor": 0
      },
      "text/plain": [
       "  0%|          | 0/1702 [00:00<?, ?it/s]"
      ]
     },
     "metadata": {},
     "output_type": "display_data"
    },
    {
     "name": "stdout",
     "output_type": "stream",
     "text": [
      "{'eval_loss': 3.9491333961486816, 'eval_runtime': 109.5838, 'eval_samples_per_second': 124.206, 'eval_steps_per_second': 15.531, 'epoch': 0.18}\n",
      "{'loss': 4.0017, 'grad_norm': 5.2124104499816895, 'learning_rate': 3.2040816326530615e-05, 'epoch': 0.18}\n"
     ]
    },
    {
     "data": {
      "application/vnd.jupyter.widget-view+json": {
       "model_id": "8cd6f82c24c14bc48774c1618eb418b1",
       "version_major": 2,
       "version_minor": 0
      },
      "text/plain": [
       "  0%|          | 0/1702 [00:00<?, ?it/s]"
      ]
     },
     "metadata": {},
     "output_type": "display_data"
    },
    {
     "name": "stdout",
     "output_type": "stream",
     "text": [
      "{'eval_loss': 3.972430467605591, 'eval_runtime': 109.5794, 'eval_samples_per_second': 124.211, 'eval_steps_per_second': 15.532, 'epoch': 0.18}\n",
      "{'loss': 3.9525, 'grad_norm': 5.154917240142822, 'learning_rate': 3.187755102040816e-05, 'epoch': 0.18}\n"
     ]
    },
    {
     "data": {
      "application/vnd.jupyter.widget-view+json": {
       "model_id": "08cb546f7e6941598f839ebf55c57f3a",
       "version_major": 2,
       "version_minor": 0
      },
      "text/plain": [
       "  0%|          | 0/1702 [00:00<?, ?it/s]"
      ]
     },
     "metadata": {},
     "output_type": "display_data"
    },
    {
     "name": "stdout",
     "output_type": "stream",
     "text": [
      "{'eval_loss': 3.9516823291778564, 'eval_runtime': 109.5891, 'eval_samples_per_second': 124.2, 'eval_steps_per_second': 15.531, 'epoch': 0.18}\n",
      "{'loss': 3.9963, 'grad_norm': 2.9394686222076416, 'learning_rate': 3.1714285714285715e-05, 'epoch': 0.18}\n"
     ]
    },
    {
     "data": {
      "application/vnd.jupyter.widget-view+json": {
       "model_id": "1baa300329e24d77ae4daaf8d5eb6c49",
       "version_major": 2,
       "version_minor": 0
      },
      "text/plain": [
       "  0%|          | 0/1702 [00:00<?, ?it/s]"
      ]
     },
     "metadata": {},
     "output_type": "display_data"
    },
    {
     "name": "stdout",
     "output_type": "stream",
     "text": [
      "{'eval_loss': 3.9693291187286377, 'eval_runtime': 109.6337, 'eval_samples_per_second': 124.15, 'eval_steps_per_second': 15.524, 'epoch': 0.18}\n",
      "{'loss': 3.9465, 'grad_norm': 3.82352352142334, 'learning_rate': 3.155102040816327e-05, 'epoch': 0.18}\n"
     ]
    },
    {
     "data": {
      "application/vnd.jupyter.widget-view+json": {
       "model_id": "12ef044584624e0eb15e81dd0cd37259",
       "version_major": 2,
       "version_minor": 0
      },
      "text/plain": [
       "  0%|          | 0/1702 [00:00<?, ?it/s]"
      ]
     },
     "metadata": {},
     "output_type": "display_data"
    },
    {
     "name": "stdout",
     "output_type": "stream",
     "text": [
      "{'eval_loss': 3.9509921073913574, 'eval_runtime': 109.6047, 'eval_samples_per_second': 124.183, 'eval_steps_per_second': 15.529, 'epoch': 0.18}\n",
      "{'loss': 3.9748, 'grad_norm': 2.6522154808044434, 'learning_rate': 3.1387755102040814e-05, 'epoch': 0.19}\n"
     ]
    },
    {
     "data": {
      "application/vnd.jupyter.widget-view+json": {
       "model_id": "d4a3a4522072483baf0ee42cd803a549",
       "version_major": 2,
       "version_minor": 0
      },
      "text/plain": [
       "  0%|          | 0/1702 [00:00<?, ?it/s]"
      ]
     },
     "metadata": {},
     "output_type": "display_data"
    },
    {
     "name": "stdout",
     "output_type": "stream",
     "text": [
      "{'eval_loss': 3.9569458961486816, 'eval_runtime': 109.5791, 'eval_samples_per_second': 124.212, 'eval_steps_per_second': 15.532, 'epoch': 0.19}\n",
      "{'loss': 3.9213, 'grad_norm': 2.4038891792297363, 'learning_rate': 3.1224489795918374e-05, 'epoch': 0.19}\n"
     ]
    },
    {
     "data": {
      "application/vnd.jupyter.widget-view+json": {
       "model_id": "f7d2aa6fe2c04d1195d4e86a4da1adb1",
       "version_major": 2,
       "version_minor": 0
      },
      "text/plain": [
       "  0%|          | 0/1702 [00:00<?, ?it/s]"
      ]
     },
     "metadata": {},
     "output_type": "display_data"
    },
    {
     "name": "stdout",
     "output_type": "stream",
     "text": [
      "{'eval_loss': 3.952199697494507, 'eval_runtime': 109.6056, 'eval_samples_per_second': 124.182, 'eval_steps_per_second': 15.528, 'epoch': 0.19}\n",
      "{'loss': 3.8775, 'grad_norm': 4.304388999938965, 'learning_rate': 3.106122448979592e-05, 'epoch': 0.19}\n"
     ]
    },
    {
     "data": {
      "application/vnd.jupyter.widget-view+json": {
       "model_id": "3566b87cd85444e9b01a9662f7184839",
       "version_major": 2,
       "version_minor": 0
      },
      "text/plain": [
       "  0%|          | 0/1702 [00:00<?, ?it/s]"
      ]
     },
     "metadata": {},
     "output_type": "display_data"
    },
    {
     "name": "stdout",
     "output_type": "stream",
     "text": [
      "{'eval_loss': 3.9641926288604736, 'eval_runtime': 109.6784, 'eval_samples_per_second': 124.099, 'eval_steps_per_second': 15.518, 'epoch': 0.19}\n",
      "{'loss': 3.9582, 'grad_norm': 8.275628089904785, 'learning_rate': 3.0897959183673466e-05, 'epoch': 0.19}\n"
     ]
    },
    {
     "data": {
      "application/vnd.jupyter.widget-view+json": {
       "model_id": "5c94806a8d484333a9f431117890e594",
       "version_major": 2,
       "version_minor": 0
      },
      "text/plain": [
       "  0%|          | 0/1702 [00:00<?, ?it/s]"
      ]
     },
     "metadata": {},
     "output_type": "display_data"
    },
    {
     "name": "stdout",
     "output_type": "stream",
     "text": [
      "{'eval_loss': 3.9439146518707275, 'eval_runtime': 109.6656, 'eval_samples_per_second': 124.114, 'eval_steps_per_second': 15.52, 'epoch': 0.19}\n",
      "{'loss': 4.1851, 'grad_norm': 2.593508720397949, 'learning_rate': 3.0734693877551026e-05, 'epoch': 0.19}\n"
     ]
    },
    {
     "data": {
      "application/vnd.jupyter.widget-view+json": {
       "model_id": "99d71abe98994a35818934a2f89253ef",
       "version_major": 2,
       "version_minor": 0
      },
      "text/plain": [
       "  0%|          | 0/1702 [00:00<?, ?it/s]"
      ]
     },
     "metadata": {},
     "output_type": "display_data"
    },
    {
     "name": "stdout",
     "output_type": "stream",
     "text": [
      "{'eval_loss': 3.9512853622436523, 'eval_runtime': 109.7069, 'eval_samples_per_second': 124.067, 'eval_steps_per_second': 15.514, 'epoch': 0.19}\n",
      "{'loss': 3.9274, 'grad_norm': 4.033092975616455, 'learning_rate': 3.057142857142857e-05, 'epoch': 0.19}\n"
     ]
    },
    {
     "data": {
      "application/vnd.jupyter.widget-view+json": {
       "model_id": "f2130821775a4a45b73f26c5a46dc3dc",
       "version_major": 2,
       "version_minor": 0
      },
      "text/plain": [
       "  0%|          | 0/1702 [00:00<?, ?it/s]"
      ]
     },
     "metadata": {},
     "output_type": "display_data"
    },
    {
     "name": "stdout",
     "output_type": "stream",
     "text": [
      "{'eval_loss': 3.9507102966308594, 'eval_runtime': 109.685, 'eval_samples_per_second': 124.092, 'eval_steps_per_second': 15.517, 'epoch': 0.19}\n",
      "{'loss': 3.9723, 'grad_norm': 6.4450602531433105, 'learning_rate': 3.040816326530612e-05, 'epoch': 0.2}\n"
     ]
    },
    {
     "data": {
      "application/vnd.jupyter.widget-view+json": {
       "model_id": "20b03cb5965f480195cef789c2a34527",
       "version_major": 2,
       "version_minor": 0
      },
      "text/plain": [
       "  0%|          | 0/1702 [00:00<?, ?it/s]"
      ]
     },
     "metadata": {},
     "output_type": "display_data"
    },
    {
     "name": "stdout",
     "output_type": "stream",
     "text": [
      "{'eval_loss': 3.9640097618103027, 'eval_runtime': 109.6654, 'eval_samples_per_second': 124.114, 'eval_steps_per_second': 15.52, 'epoch': 0.2}\n",
      "{'loss': 4.0192, 'grad_norm': 3.024960994720459, 'learning_rate': 3.0244897959183678e-05, 'epoch': 0.2}\n"
     ]
    },
    {
     "data": {
      "application/vnd.jupyter.widget-view+json": {
       "model_id": "59d8004908f34f6a949751cae15627e9",
       "version_major": 2,
       "version_minor": 0
      },
      "text/plain": [
       "  0%|          | 0/1702 [00:00<?, ?it/s]"
      ]
     },
     "metadata": {},
     "output_type": "display_data"
    },
    {
     "name": "stdout",
     "output_type": "stream",
     "text": [
      "{'eval_loss': 3.949735403060913, 'eval_runtime': 109.6951, 'eval_samples_per_second': 124.08, 'eval_steps_per_second': 15.516, 'epoch': 0.2}\n",
      "{'loss': 3.7799, 'grad_norm': 2.4874165058135986, 'learning_rate': 3.0081632653061224e-05, 'epoch': 0.2}\n"
     ]
    },
    {
     "data": {
      "application/vnd.jupyter.widget-view+json": {
       "model_id": "f621fd9c2dd645c4a0a694b7257c7d25",
       "version_major": 2,
       "version_minor": 0
      },
      "text/plain": [
       "  0%|          | 0/1702 [00:00<?, ?it/s]"
      ]
     },
     "metadata": {},
     "output_type": "display_data"
    },
    {
     "name": "stdout",
     "output_type": "stream",
     "text": [
      "{'eval_loss': 3.948024272918701, 'eval_runtime': 109.6643, 'eval_samples_per_second': 124.115, 'eval_steps_per_second': 15.52, 'epoch': 0.2}\n",
      "{'loss': 4.069, 'grad_norm': 2.0504636764526367, 'learning_rate': 2.9918367346938774e-05, 'epoch': 0.2}\n"
     ]
    },
    {
     "data": {
      "application/vnd.jupyter.widget-view+json": {
       "model_id": "31a430c14d284c0ebf05b1b6f5cd644d",
       "version_major": 2,
       "version_minor": 0
      },
      "text/plain": [
       "  0%|          | 0/1702 [00:00<?, ?it/s]"
      ]
     },
     "metadata": {},
     "output_type": "display_data"
    },
    {
     "name": "stdout",
     "output_type": "stream",
     "text": [
      "{'eval_loss': 3.94998836517334, 'eval_runtime': 109.6536, 'eval_samples_per_second': 124.127, 'eval_steps_per_second': 15.522, 'epoch': 0.2}\n",
      "{'loss': 3.9199, 'grad_norm': 3.3429770469665527, 'learning_rate': 2.975510204081633e-05, 'epoch': 0.2}\n"
     ]
    },
    {
     "data": {
      "application/vnd.jupyter.widget-view+json": {
       "model_id": "b4a81b04391649d8adc62442b5cfc7f4",
       "version_major": 2,
       "version_minor": 0
      },
      "text/plain": [
       "  0%|          | 0/1702 [00:00<?, ?it/s]"
      ]
     },
     "metadata": {},
     "output_type": "display_data"
    },
    {
     "name": "stdout",
     "output_type": "stream",
     "text": [
      "{'eval_loss': 3.986797571182251, 'eval_runtime': 109.6532, 'eval_samples_per_second': 124.128, 'eval_steps_per_second': 15.522, 'epoch': 0.2}\n",
      "{'loss': 4.138, 'grad_norm': 6.326511859893799, 'learning_rate': 2.959183673469388e-05, 'epoch': 0.2}\n"
     ]
    },
    {
     "data": {
      "application/vnd.jupyter.widget-view+json": {
       "model_id": "0aa73374b3b44dcfbd0179f4a33298a7",
       "version_major": 2,
       "version_minor": 0
      },
      "text/plain": [
       "  0%|          | 0/1702 [00:00<?, ?it/s]"
      ]
     },
     "metadata": {},
     "output_type": "display_data"
    },
    {
     "name": "stdout",
     "output_type": "stream",
     "text": [
      "{'eval_loss': 3.957427501678467, 'eval_runtime': 109.5796, 'eval_samples_per_second': 124.211, 'eval_steps_per_second': 15.532, 'epoch': 0.2}\n",
      "{'loss': 4.0424, 'grad_norm': 3.8447580337524414, 'learning_rate': 2.9428571428571426e-05, 'epoch': 0.21}\n"
     ]
    },
    {
     "data": {
      "application/vnd.jupyter.widget-view+json": {
       "model_id": "75b577f8b60d4536af5ecf1b52f674b6",
       "version_major": 2,
       "version_minor": 0
      },
      "text/plain": [
       "  0%|          | 0/1702 [00:00<?, ?it/s]"
      ]
     },
     "metadata": {},
     "output_type": "display_data"
    },
    {
     "name": "stdout",
     "output_type": "stream",
     "text": [
      "{'eval_loss': 3.941073417663574, 'eval_runtime': 109.6379, 'eval_samples_per_second': 124.145, 'eval_steps_per_second': 15.524, 'epoch': 0.21}\n",
      "{'loss': 3.9769, 'grad_norm': 3.301389694213867, 'learning_rate': 2.9265306122448982e-05, 'epoch': 0.21}\n"
     ]
    },
    {
     "data": {
      "application/vnd.jupyter.widget-view+json": {
       "model_id": "f68159592b1f46cdb1e77f1290295aaf",
       "version_major": 2,
       "version_minor": 0
      },
      "text/plain": [
       "  0%|          | 0/1702 [00:00<?, ?it/s]"
      ]
     },
     "metadata": {},
     "output_type": "display_data"
    },
    {
     "name": "stdout",
     "output_type": "stream",
     "text": [
      "{'eval_loss': 3.9544870853424072, 'eval_runtime': 109.6948, 'eval_samples_per_second': 124.081, 'eval_steps_per_second': 15.516, 'epoch': 0.21}\n",
      "{'loss': 4.0777, 'grad_norm': 2.2017979621887207, 'learning_rate': 2.9102040816326532e-05, 'epoch': 0.21}\n"
     ]
    },
    {
     "data": {
      "application/vnd.jupyter.widget-view+json": {
       "model_id": "9eb6bc4483b94685b7f8b32f3274876c",
       "version_major": 2,
       "version_minor": 0
      },
      "text/plain": [
       "  0%|          | 0/1702 [00:00<?, ?it/s]"
      ]
     },
     "metadata": {},
     "output_type": "display_data"
    },
    {
     "name": "stdout",
     "output_type": "stream",
     "text": [
      "{'eval_loss': 3.944809675216675, 'eval_runtime': 109.6236, 'eval_samples_per_second': 124.161, 'eval_steps_per_second': 15.526, 'epoch': 0.21}\n",
      "{'loss': 3.9632, 'grad_norm': 1.7560545206069946, 'learning_rate': 2.8938775510204082e-05, 'epoch': 0.21}\n"
     ]
    },
    {
     "data": {
      "application/vnd.jupyter.widget-view+json": {
       "model_id": "27a32d9113124fb0b8f1797db99043f3",
       "version_major": 2,
       "version_minor": 0
      },
      "text/plain": [
       "  0%|          | 0/1702 [00:00<?, ?it/s]"
      ]
     },
     "metadata": {},
     "output_type": "display_data"
    },
    {
     "name": "stdout",
     "output_type": "stream",
     "text": [
      "{'eval_loss': 3.9383327960968018, 'eval_runtime': 109.6044, 'eval_samples_per_second': 124.183, 'eval_steps_per_second': 15.529, 'epoch': 0.21}\n",
      "{'loss': 3.9965, 'grad_norm': 1.9476699829101562, 'learning_rate': 2.8775510204081635e-05, 'epoch': 0.21}\n"
     ]
    },
    {
     "data": {
      "application/vnd.jupyter.widget-view+json": {
       "model_id": "6f432328278e4f3abf43818955a2de47",
       "version_major": 2,
       "version_minor": 0
      },
      "text/plain": [
       "  0%|          | 0/1702 [00:00<?, ?it/s]"
      ]
     },
     "metadata": {},
     "output_type": "display_data"
    },
    {
     "name": "stdout",
     "output_type": "stream",
     "text": [
      "{'eval_loss': 3.935319423675537, 'eval_runtime': 109.6149, 'eval_samples_per_second': 124.171, 'eval_steps_per_second': 15.527, 'epoch': 0.21}\n",
      "{'loss': 3.9801, 'grad_norm': 2.116424083709717, 'learning_rate': 2.8612244897959184e-05, 'epoch': 0.21}\n"
     ]
    },
    {
     "data": {
      "application/vnd.jupyter.widget-view+json": {
       "model_id": "aa962e1d1d774b5aa1be8a0934e55e0c",
       "version_major": 2,
       "version_minor": 0
      },
      "text/plain": [
       "  0%|          | 0/1702 [00:00<?, ?it/s]"
      ]
     },
     "metadata": {},
     "output_type": "display_data"
    },
    {
     "name": "stdout",
     "output_type": "stream",
     "text": [
      "{'eval_loss': 3.9420201778411865, 'eval_runtime': 109.6292, 'eval_samples_per_second': 124.155, 'eval_steps_per_second': 15.525, 'epoch': 0.21}\n",
      "{'loss': 3.9792, 'grad_norm': 5.409671306610107, 'learning_rate': 2.8448979591836737e-05, 'epoch': 0.22}\n"
     ]
    },
    {
     "data": {
      "application/vnd.jupyter.widget-view+json": {
       "model_id": "a6b13427918046aba94a8a71ef058ea0",
       "version_major": 2,
       "version_minor": 0
      },
      "text/plain": [
       "  0%|          | 0/1702 [00:00<?, ?it/s]"
      ]
     },
     "metadata": {},
     "output_type": "display_data"
    },
    {
     "name": "stdout",
     "output_type": "stream",
     "text": [
      "{'eval_loss': 3.9576101303100586, 'eval_runtime': 109.6606, 'eval_samples_per_second': 124.119, 'eval_steps_per_second': 15.521, 'epoch': 0.22}\n",
      "{'loss': 3.9424, 'grad_norm': 2.1299631595611572, 'learning_rate': 2.8285714285714287e-05, 'epoch': 0.22}\n"
     ]
    },
    {
     "data": {
      "application/vnd.jupyter.widget-view+json": {
       "model_id": "04a5b42a591f42ec924a4c41d6688c1a",
       "version_major": 2,
       "version_minor": 0
      },
      "text/plain": [
       "  0%|          | 0/1702 [00:00<?, ?it/s]"
      ]
     },
     "metadata": {},
     "output_type": "display_data"
    },
    {
     "name": "stdout",
     "output_type": "stream",
     "text": [
      "{'eval_loss': 3.951190948486328, 'eval_runtime': 109.6659, 'eval_samples_per_second': 124.113, 'eval_steps_per_second': 15.52, 'epoch': 0.22}\n",
      "{'loss': 3.9461, 'grad_norm': 4.184598445892334, 'learning_rate': 2.8122448979591837e-05, 'epoch': 0.22}\n"
     ]
    },
    {
     "data": {
      "application/vnd.jupyter.widget-view+json": {
       "model_id": "5467153031a3403a8b3eba9899b893e5",
       "version_major": 2,
       "version_minor": 0
      },
      "text/plain": [
       "  0%|          | 0/1702 [00:00<?, ?it/s]"
      ]
     },
     "metadata": {},
     "output_type": "display_data"
    },
    {
     "name": "stdout",
     "output_type": "stream",
     "text": [
      "{'eval_loss': 3.9399964809417725, 'eval_runtime': 109.5923, 'eval_samples_per_second': 124.197, 'eval_steps_per_second': 15.53, 'epoch': 0.22}\n",
      "{'loss': 3.86, 'grad_norm': 3.176572799682617, 'learning_rate': 2.7959183673469393e-05, 'epoch': 0.22}\n"
     ]
    },
    {
     "data": {
      "application/vnd.jupyter.widget-view+json": {
       "model_id": "1ad438842bdd484cae25b0dab6680b05",
       "version_major": 2,
       "version_minor": 0
      },
      "text/plain": [
       "  0%|          | 0/1702 [00:00<?, ?it/s]"
      ]
     },
     "metadata": {},
     "output_type": "display_data"
    },
    {
     "name": "stdout",
     "output_type": "stream",
     "text": [
      "{'eval_loss': 3.946936845779419, 'eval_runtime': 109.6162, 'eval_samples_per_second': 124.17, 'eval_steps_per_second': 15.527, 'epoch': 0.22}\n",
      "{'loss': 4.0487, 'grad_norm': 4.964203834533691, 'learning_rate': 2.779591836734694e-05, 'epoch': 0.22}\n"
     ]
    },
    {
     "data": {
      "application/vnd.jupyter.widget-view+json": {
       "model_id": "47ca0dcd7e5241a8a51ff27b5dafe421",
       "version_major": 2,
       "version_minor": 0
      },
      "text/plain": [
       "  0%|          | 0/1702 [00:00<?, ?it/s]"
      ]
     },
     "metadata": {},
     "output_type": "display_data"
    },
    {
     "name": "stdout",
     "output_type": "stream",
     "text": [
      "{'eval_loss': 3.939271926879883, 'eval_runtime': 109.5724, 'eval_samples_per_second': 124.219, 'eval_steps_per_second': 15.533, 'epoch': 0.22}\n",
      "{'loss': 4.0617, 'grad_norm': 3.183668375015259, 'learning_rate': 2.763265306122449e-05, 'epoch': 0.22}\n"
     ]
    },
    {
     "data": {
      "application/vnd.jupyter.widget-view+json": {
       "model_id": "bde01c725f614b9db3a89981ffba12f3",
       "version_major": 2,
       "version_minor": 0
      },
      "text/plain": [
       "  0%|          | 0/1702 [00:00<?, ?it/s]"
      ]
     },
     "metadata": {},
     "output_type": "display_data"
    },
    {
     "name": "stdout",
     "output_type": "stream",
     "text": [
      "{'eval_loss': 3.931807041168213, 'eval_runtime': 109.621, 'eval_samples_per_second': 124.164, 'eval_steps_per_second': 15.526, 'epoch': 0.22}\n",
      "{'loss': 3.9338, 'grad_norm': 4.273491859436035, 'learning_rate': 2.7469387755102045e-05, 'epoch': 0.23}\n"
     ]
    },
    {
     "data": {
      "application/vnd.jupyter.widget-view+json": {
       "model_id": "e67f2c18e9b04646ae86aafb72e268d7",
       "version_major": 2,
       "version_minor": 0
      },
      "text/plain": [
       "  0%|          | 0/1702 [00:00<?, ?it/s]"
      ]
     },
     "metadata": {},
     "output_type": "display_data"
    },
    {
     "name": "stdout",
     "output_type": "stream",
     "text": [
      "{'eval_loss': 3.963475465774536, 'eval_runtime': 109.6637, 'eval_samples_per_second': 124.116, 'eval_steps_per_second': 15.52, 'epoch': 0.23}\n",
      "{'loss': 3.9922, 'grad_norm': 8.495768547058105, 'learning_rate': 2.730612244897959e-05, 'epoch': 0.23}\n"
     ]
    },
    {
     "data": {
      "application/vnd.jupyter.widget-view+json": {
       "model_id": "4ac6bbb2b21a4f07bee72f2514da3b13",
       "version_major": 2,
       "version_minor": 0
      },
      "text/plain": [
       "  0%|          | 0/1702 [00:00<?, ?it/s]"
      ]
     },
     "metadata": {},
     "output_type": "display_data"
    },
    {
     "name": "stdout",
     "output_type": "stream",
     "text": [
      "{'eval_loss': 3.9335756301879883, 'eval_runtime': 109.6954, 'eval_samples_per_second': 124.08, 'eval_steps_per_second': 15.516, 'epoch': 0.23}\n",
      "{'loss': 3.9348, 'grad_norm': 2.8464090824127197, 'learning_rate': 2.714285714285714e-05, 'epoch': 0.23}\n"
     ]
    },
    {
     "data": {
      "application/vnd.jupyter.widget-view+json": {
       "model_id": "e435af31c42041b5b72ab56fa30e4a01",
       "version_major": 2,
       "version_minor": 0
      },
      "text/plain": [
       "  0%|          | 0/1702 [00:00<?, ?it/s]"
      ]
     },
     "metadata": {},
     "output_type": "display_data"
    },
    {
     "name": "stdout",
     "output_type": "stream",
     "text": [
      "{'eval_loss': 3.931912899017334, 'eval_runtime': 109.6483, 'eval_samples_per_second': 124.133, 'eval_steps_per_second': 15.522, 'epoch': 0.23}\n",
      "{'loss': 3.8891, 'grad_norm': 6.234919548034668, 'learning_rate': 2.6979591836734697e-05, 'epoch': 0.23}\n"
     ]
    },
    {
     "data": {
      "application/vnd.jupyter.widget-view+json": {
       "model_id": "360e62fc897140d5926a0837f851cdd4",
       "version_major": 2,
       "version_minor": 0
      },
      "text/plain": [
       "  0%|          | 0/1702 [00:00<?, ?it/s]"
      ]
     },
     "metadata": {},
     "output_type": "display_data"
    },
    {
     "name": "stdout",
     "output_type": "stream",
     "text": [
      "{'eval_loss': 3.9400713443756104, 'eval_runtime': 109.6398, 'eval_samples_per_second': 124.143, 'eval_steps_per_second': 15.524, 'epoch': 0.23}\n",
      "{'loss': 3.9416, 'grad_norm': 4.1793904304504395, 'learning_rate': 2.6816326530612247e-05, 'epoch': 0.23}\n"
     ]
    },
    {
     "data": {
      "application/vnd.jupyter.widget-view+json": {
       "model_id": "a1d7d62a2e8f471fa92bbfc25c1de701",
       "version_major": 2,
       "version_minor": 0
      },
      "text/plain": [
       "  0%|          | 0/1702 [00:00<?, ?it/s]"
      ]
     },
     "metadata": {},
     "output_type": "display_data"
    },
    {
     "name": "stdout",
     "output_type": "stream",
     "text": [
      "{'eval_loss': 3.9409470558166504, 'eval_runtime': 109.6887, 'eval_samples_per_second': 124.088, 'eval_steps_per_second': 15.517, 'epoch': 0.23}\n",
      "{'loss': 4.0169, 'grad_norm': 3.46290922164917, 'learning_rate': 2.6653061224489793e-05, 'epoch': 0.23}\n"
     ]
    },
    {
     "data": {
      "application/vnd.jupyter.widget-view+json": {
       "model_id": "c94b81f17191402ab38d3db527aa4063",
       "version_major": 2,
       "version_minor": 0
      },
      "text/plain": [
       "  0%|          | 0/1702 [00:00<?, ?it/s]"
      ]
     },
     "metadata": {},
     "output_type": "display_data"
    },
    {
     "name": "stdout",
     "output_type": "stream",
     "text": [
      "{'eval_loss': 3.928579807281494, 'eval_runtime': 109.7303, 'eval_samples_per_second': 124.04, 'eval_steps_per_second': 15.511, 'epoch': 0.23}\n",
      "{'loss': 4.1398, 'grad_norm': 2.4413344860076904, 'learning_rate': 2.648979591836735e-05, 'epoch': 0.24}\n"
     ]
    },
    {
     "data": {
      "application/vnd.jupyter.widget-view+json": {
       "model_id": "95aed8dfa2174b6e928e3194f6ed5219",
       "version_major": 2,
       "version_minor": 0
      },
      "text/plain": [
       "  0%|          | 0/1702 [00:00<?, ?it/s]"
      ]
     },
     "metadata": {},
     "output_type": "display_data"
    },
    {
     "name": "stdout",
     "output_type": "stream",
     "text": [
      "{'eval_loss': 3.931955575942993, 'eval_runtime': 109.6897, 'eval_samples_per_second': 124.086, 'eval_steps_per_second': 15.517, 'epoch': 0.24}\n",
      "{'loss': 3.9157, 'grad_norm': 3.2747318744659424, 'learning_rate': 2.63265306122449e-05, 'epoch': 0.24}\n"
     ]
    },
    {
     "data": {
      "application/vnd.jupyter.widget-view+json": {
       "model_id": "8fb4275f62e5435bb2370a1298f5a5b9",
       "version_major": 2,
       "version_minor": 0
      },
      "text/plain": [
       "  0%|          | 0/1702 [00:00<?, ?it/s]"
      ]
     },
     "metadata": {},
     "output_type": "display_data"
    },
    {
     "name": "stdout",
     "output_type": "stream",
     "text": [
      "{'eval_loss': 3.9316160678863525, 'eval_runtime': 109.6363, 'eval_samples_per_second': 124.147, 'eval_steps_per_second': 15.524, 'epoch': 0.24}\n",
      "{'loss': 4.0221, 'grad_norm': 3.471789598464966, 'learning_rate': 2.616326530612245e-05, 'epoch': 0.24}\n"
     ]
    },
    {
     "data": {
      "application/vnd.jupyter.widget-view+json": {
       "model_id": "3bc0006f1dc8471f8b9899be9dce53ee",
       "version_major": 2,
       "version_minor": 0
      },
      "text/plain": [
       "  0%|          | 0/1702 [00:00<?, ?it/s]"
      ]
     },
     "metadata": {},
     "output_type": "display_data"
    },
    {
     "name": "stdout",
     "output_type": "stream",
     "text": [
      "{'eval_loss': 3.934507131576538, 'eval_runtime': 109.6704, 'eval_samples_per_second': 124.108, 'eval_steps_per_second': 15.519, 'epoch': 0.24}\n",
      "{'loss': 4.025, 'grad_norm': 5.072558403015137, 'learning_rate': 2.6000000000000002e-05, 'epoch': 0.24}\n"
     ]
    },
    {
     "data": {
      "application/vnd.jupyter.widget-view+json": {
       "model_id": "1e4f492feb5d4981b054e3bdc83dbece",
       "version_major": 2,
       "version_minor": 0
      },
      "text/plain": [
       "  0%|          | 0/1702 [00:00<?, ?it/s]"
      ]
     },
     "metadata": {},
     "output_type": "display_data"
    },
    {
     "name": "stdout",
     "output_type": "stream",
     "text": [
      "{'eval_loss': 3.9355273246765137, 'eval_runtime': 109.7388, 'eval_samples_per_second': 124.031, 'eval_steps_per_second': 15.51, 'epoch': 0.24}\n",
      "{'loss': 3.9689, 'grad_norm': 5.810727119445801, 'learning_rate': 2.583673469387755e-05, 'epoch': 0.24}\n"
     ]
    },
    {
     "data": {
      "application/vnd.jupyter.widget-view+json": {
       "model_id": "2fe7ea666d2348eaaca25fbf85295010",
       "version_major": 2,
       "version_minor": 0
      },
      "text/plain": [
       "  0%|          | 0/1702 [00:00<?, ?it/s]"
      ]
     },
     "metadata": {},
     "output_type": "display_data"
    },
    {
     "name": "stdout",
     "output_type": "stream",
     "text": [
      "{'eval_loss': 3.9653425216674805, 'eval_runtime': 109.6998, 'eval_samples_per_second': 124.075, 'eval_steps_per_second': 15.515, 'epoch': 0.24}\n",
      "{'loss': 3.8218, 'grad_norm': 4.841303825378418, 'learning_rate': 2.5673469387755104e-05, 'epoch': 0.24}\n"
     ]
    },
    {
     "data": {
      "application/vnd.jupyter.widget-view+json": {
       "model_id": "fc361c167961454b8f4782b250b5f6ab",
       "version_major": 2,
       "version_minor": 0
      },
      "text/plain": [
       "  0%|          | 0/1702 [00:00<?, ?it/s]"
      ]
     },
     "metadata": {},
     "output_type": "display_data"
    },
    {
     "name": "stdout",
     "output_type": "stream",
     "text": [
      "{'eval_loss': 3.9398481845855713, 'eval_runtime': 109.7085, 'eval_samples_per_second': 124.065, 'eval_steps_per_second': 15.514, 'epoch': 0.24}\n",
      "{'loss': 3.9434, 'grad_norm': 1.6430224180221558, 'learning_rate': 2.5510204081632654e-05, 'epoch': 0.24}\n"
     ]
    },
    {
     "data": {
      "application/vnd.jupyter.widget-view+json": {
       "model_id": "a4cf99653a1447d7b73201ad7bcddb9e",
       "version_major": 2,
       "version_minor": 0
      },
      "text/plain": [
       "  0%|          | 0/1702 [00:00<?, ?it/s]"
      ]
     },
     "metadata": {},
     "output_type": "display_data"
    },
    {
     "name": "stdout",
     "output_type": "stream",
     "text": [
      "{'eval_loss': 3.9350898265838623, 'eval_runtime': 109.7031, 'eval_samples_per_second': 124.071, 'eval_steps_per_second': 15.515, 'epoch': 0.24}\n",
      "{'loss': 4.0257, 'grad_norm': 2.3612613677978516, 'learning_rate': 2.5346938775510204e-05, 'epoch': 0.25}\n"
     ]
    },
    {
     "data": {
      "application/vnd.jupyter.widget-view+json": {
       "model_id": "a93610b6f1b14569ab4d1f9551790a08",
       "version_major": 2,
       "version_minor": 0
      },
      "text/plain": [
       "  0%|          | 0/1702 [00:00<?, ?it/s]"
      ]
     },
     "metadata": {},
     "output_type": "display_data"
    },
    {
     "name": "stdout",
     "output_type": "stream",
     "text": [
      "{'eval_loss': 3.940650701522827, 'eval_runtime': 109.7117, 'eval_samples_per_second': 124.062, 'eval_steps_per_second': 15.513, 'epoch': 0.25}\n",
      "{'loss': 3.9695, 'grad_norm': 4.628580570220947, 'learning_rate': 2.518367346938776e-05, 'epoch': 0.25}\n"
     ]
    },
    {
     "data": {
      "application/vnd.jupyter.widget-view+json": {
       "model_id": "103898a8e3c3447eab0fbdff5fc6d85d",
       "version_major": 2,
       "version_minor": 0
      },
      "text/plain": [
       "  0%|          | 0/1702 [00:00<?, ?it/s]"
      ]
     },
     "metadata": {},
     "output_type": "display_data"
    },
    {
     "name": "stdout",
     "output_type": "stream",
     "text": [
      "{'eval_loss': 3.9326975345611572, 'eval_runtime': 109.7463, 'eval_samples_per_second': 124.022, 'eval_steps_per_second': 15.508, 'epoch': 0.25}\n",
      "{'loss': 3.9185, 'grad_norm': 6.492946147918701, 'learning_rate': 2.5020408163265306e-05, 'epoch': 0.25}\n"
     ]
    },
    {
     "data": {
      "application/vnd.jupyter.widget-view+json": {
       "model_id": "17653380716b4d94ae0ed1ce75ebe6e3",
       "version_major": 2,
       "version_minor": 0
      },
      "text/plain": [
       "  0%|          | 0/1702 [00:00<?, ?it/s]"
      ]
     },
     "metadata": {},
     "output_type": "display_data"
    },
    {
     "name": "stdout",
     "output_type": "stream",
     "text": [
      "{'eval_loss': 3.9193389415740967, 'eval_runtime': 109.7112, 'eval_samples_per_second': 124.062, 'eval_steps_per_second': 15.513, 'epoch': 0.25}\n",
      "{'loss': 3.9447, 'grad_norm': 4.028794288635254, 'learning_rate': 2.485714285714286e-05, 'epoch': 0.25}\n"
     ]
    },
    {
     "data": {
      "application/vnd.jupyter.widget-view+json": {
       "model_id": "9fe4afc7307a4fe48114d075c86eb708",
       "version_major": 2,
       "version_minor": 0
      },
      "text/plain": [
       "  0%|          | 0/1702 [00:00<?, ?it/s]"
      ]
     },
     "metadata": {},
     "output_type": "display_data"
    },
    {
     "name": "stdout",
     "output_type": "stream",
     "text": [
      "{'eval_loss': 3.927025318145752, 'eval_runtime': 109.6822, 'eval_samples_per_second': 124.095, 'eval_steps_per_second': 15.518, 'epoch': 0.25}\n",
      "{'loss': 3.8839, 'grad_norm': 4.026447772979736, 'learning_rate': 2.469387755102041e-05, 'epoch': 0.25}\n"
     ]
    },
    {
     "data": {
      "application/vnd.jupyter.widget-view+json": {
       "model_id": "eae77b9ec962401290b0ce3b54f6e4f6",
       "version_major": 2,
       "version_minor": 0
      },
      "text/plain": [
       "  0%|          | 0/1702 [00:00<?, ?it/s]"
      ]
     },
     "metadata": {},
     "output_type": "display_data"
    },
    {
     "name": "stdout",
     "output_type": "stream",
     "text": [
      "{'eval_loss': 3.9497971534729004, 'eval_runtime': 109.6888, 'eval_samples_per_second': 124.087, 'eval_steps_per_second': 15.517, 'epoch': 0.25}\n",
      "{'loss': 3.9496, 'grad_norm': 5.279932022094727, 'learning_rate': 2.4530612244897962e-05, 'epoch': 0.25}\n"
     ]
    },
    {
     "data": {
      "application/vnd.jupyter.widget-view+json": {
       "model_id": "91871660b5c64535aacee30d7ebc3c12",
       "version_major": 2,
       "version_minor": 0
      },
      "text/plain": [
       "  0%|          | 0/1702 [00:00<?, ?it/s]"
      ]
     },
     "metadata": {},
     "output_type": "display_data"
    },
    {
     "name": "stdout",
     "output_type": "stream",
     "text": [
      "{'eval_loss': 3.92433500289917, 'eval_runtime': 109.7297, 'eval_samples_per_second': 124.041, 'eval_steps_per_second': 15.511, 'epoch': 0.25}\n",
      "{'loss': 3.9791, 'grad_norm': 6.317784786224365, 'learning_rate': 2.436734693877551e-05, 'epoch': 0.26}\n"
     ]
    },
    {
     "data": {
      "application/vnd.jupyter.widget-view+json": {
       "model_id": "93601c110e6c4746bf7e237e8d47cca8",
       "version_major": 2,
       "version_minor": 0
      },
      "text/plain": [
       "  0%|          | 0/1702 [00:00<?, ?it/s]"
      ]
     },
     "metadata": {},
     "output_type": "display_data"
    },
    {
     "name": "stdout",
     "output_type": "stream",
     "text": [
      "{'eval_loss': 3.9253292083740234, 'eval_runtime': 109.7168, 'eval_samples_per_second': 124.056, 'eval_steps_per_second': 15.513, 'epoch': 0.26}\n",
      "{'loss': 3.9688, 'grad_norm': 3.8488564491271973, 'learning_rate': 2.420408163265306e-05, 'epoch': 0.26}\n"
     ]
    },
    {
     "data": {
      "application/vnd.jupyter.widget-view+json": {
       "model_id": "af13397d9c8a43d1929e5de9de905881",
       "version_major": 2,
       "version_minor": 0
      },
      "text/plain": [
       "  0%|          | 0/1702 [00:00<?, ?it/s]"
      ]
     },
     "metadata": {},
     "output_type": "display_data"
    },
    {
     "name": "stdout",
     "output_type": "stream",
     "text": [
      "{'eval_loss': 3.9351766109466553, 'eval_runtime': 109.7523, 'eval_samples_per_second': 124.016, 'eval_steps_per_second': 15.508, 'epoch': 0.26}\n",
      "{'loss': 3.998, 'grad_norm': 3.125335931777954, 'learning_rate': 2.4040816326530614e-05, 'epoch': 0.26}\n"
     ]
    },
    {
     "data": {
      "application/vnd.jupyter.widget-view+json": {
       "model_id": "f182b4ab77b644baaf0695288c4201fb",
       "version_major": 2,
       "version_minor": 0
      },
      "text/plain": [
       "  0%|          | 0/1702 [00:00<?, ?it/s]"
      ]
     },
     "metadata": {},
     "output_type": "display_data"
    },
    {
     "name": "stdout",
     "output_type": "stream",
     "text": [
      "{'eval_loss': 3.9253597259521484, 'eval_runtime': 109.7493, 'eval_samples_per_second': 124.019, 'eval_steps_per_second': 15.508, 'epoch': 0.26}\n",
      "{'loss': 3.9287, 'grad_norm': 5.867690086364746, 'learning_rate': 2.3877551020408164e-05, 'epoch': 0.26}\n"
     ]
    },
    {
     "data": {
      "application/vnd.jupyter.widget-view+json": {
       "model_id": "5618cd6aa5a54b209341332c321e9ba9",
       "version_major": 2,
       "version_minor": 0
      },
      "text/plain": [
       "  0%|          | 0/1702 [00:00<?, ?it/s]"
      ]
     },
     "metadata": {},
     "output_type": "display_data"
    },
    {
     "name": "stdout",
     "output_type": "stream",
     "text": [
      "{'eval_loss': 3.917262554168701, 'eval_runtime': 109.71, 'eval_samples_per_second': 124.063, 'eval_steps_per_second': 15.514, 'epoch': 0.26}\n",
      "{'loss': 3.7794, 'grad_norm': 2.477206230163574, 'learning_rate': 2.3714285714285717e-05, 'epoch': 0.26}\n"
     ]
    },
    {
     "data": {
      "application/vnd.jupyter.widget-view+json": {
       "model_id": "18c40914454e4554b18b29fb63ab5b77",
       "version_major": 2,
       "version_minor": 0
      },
      "text/plain": [
       "  0%|          | 0/1702 [00:00<?, ?it/s]"
      ]
     },
     "metadata": {},
     "output_type": "display_data"
    },
    {
     "name": "stdout",
     "output_type": "stream",
     "text": [
      "{'eval_loss': 3.9518749713897705, 'eval_runtime': 109.727, 'eval_samples_per_second': 124.044, 'eval_steps_per_second': 15.511, 'epoch': 0.26}\n",
      "{'loss': 3.9052, 'grad_norm': 2.857478380203247, 'learning_rate': 2.3551020408163266e-05, 'epoch': 0.26}\n"
     ]
    },
    {
     "data": {
      "application/vnd.jupyter.widget-view+json": {
       "model_id": "a25404c6d6214387bc6dc6f64c6a1b60",
       "version_major": 2,
       "version_minor": 0
      },
      "text/plain": [
       "  0%|          | 0/1702 [00:00<?, ?it/s]"
      ]
     },
     "metadata": {},
     "output_type": "display_data"
    },
    {
     "name": "stdout",
     "output_type": "stream",
     "text": [
      "{'eval_loss': 3.931333303451538, 'eval_runtime': 109.7635, 'eval_samples_per_second': 124.003, 'eval_steps_per_second': 15.506, 'epoch': 0.26}\n",
      "{'loss': 3.8353, 'grad_norm': 2.313563108444214, 'learning_rate': 2.3387755102040816e-05, 'epoch': 0.27}\n"
     ]
    },
    {
     "data": {
      "application/vnd.jupyter.widget-view+json": {
       "model_id": "5ba2d4a086e04ead8f693a35be3de333",
       "version_major": 2,
       "version_minor": 0
      },
      "text/plain": [
       "  0%|          | 0/1702 [00:00<?, ?it/s]"
      ]
     },
     "metadata": {},
     "output_type": "display_data"
    },
    {
     "name": "stdout",
     "output_type": "stream",
     "text": [
      "{'eval_loss': 3.9321699142456055, 'eval_runtime': 109.7249, 'eval_samples_per_second': 124.047, 'eval_steps_per_second': 15.512, 'epoch': 0.27}\n",
      "{'loss': 3.8707, 'grad_norm': 2.0386300086975098, 'learning_rate': 2.322448979591837e-05, 'epoch': 0.27}\n"
     ]
    },
    {
     "data": {
      "application/vnd.jupyter.widget-view+json": {
       "model_id": "b691d22bd8084f9c803ada334ad42568",
       "version_major": 2,
       "version_minor": 0
      },
      "text/plain": [
       "  0%|          | 0/1702 [00:00<?, ?it/s]"
      ]
     },
     "metadata": {},
     "output_type": "display_data"
    },
    {
     "name": "stdout",
     "output_type": "stream",
     "text": [
      "{'eval_loss': 3.922964096069336, 'eval_runtime': 109.6743, 'eval_samples_per_second': 124.104, 'eval_steps_per_second': 15.519, 'epoch': 0.27}\n",
      "{'loss': 4.0231, 'grad_norm': 3.278372049331665, 'learning_rate': 2.306122448979592e-05, 'epoch': 0.27}\n"
     ]
    },
    {
     "data": {
      "application/vnd.jupyter.widget-view+json": {
       "model_id": "3c0c2852d61e4604b9c9f848077e02be",
       "version_major": 2,
       "version_minor": 0
      },
      "text/plain": [
       "  0%|          | 0/1702 [00:00<?, ?it/s]"
      ]
     },
     "metadata": {},
     "output_type": "display_data"
    },
    {
     "name": "stdout",
     "output_type": "stream",
     "text": [
      "{'eval_loss': 3.9250547885894775, 'eval_runtime': 109.7679, 'eval_samples_per_second': 123.998, 'eval_steps_per_second': 15.505, 'epoch': 0.27}\n",
      "{'loss': 3.9823, 'grad_norm': 6.955981254577637, 'learning_rate': 2.289795918367347e-05, 'epoch': 0.27}\n"
     ]
    },
    {
     "data": {
      "application/vnd.jupyter.widget-view+json": {
       "model_id": "c17df8d9ae9445829a8a8864f531b892",
       "version_major": 2,
       "version_minor": 0
      },
      "text/plain": [
       "  0%|          | 0/1702 [00:00<?, ?it/s]"
      ]
     },
     "metadata": {},
     "output_type": "display_data"
    },
    {
     "name": "stdout",
     "output_type": "stream",
     "text": [
      "{'eval_loss': 3.9257497787475586, 'eval_runtime': 109.7488, 'eval_samples_per_second': 124.02, 'eval_steps_per_second': 15.508, 'epoch': 0.27}\n",
      "{'loss': 3.8778, 'grad_norm': 4.278469562530518, 'learning_rate': 2.273469387755102e-05, 'epoch': 0.27}\n"
     ]
    },
    {
     "data": {
      "application/vnd.jupyter.widget-view+json": {
       "model_id": "c31a856a6da441b7a13c48108bc8179d",
       "version_major": 2,
       "version_minor": 0
      },
      "text/plain": [
       "  0%|          | 0/1702 [00:00<?, ?it/s]"
      ]
     },
     "metadata": {},
     "output_type": "display_data"
    },
    {
     "name": "stdout",
     "output_type": "stream",
     "text": [
      "{'eval_loss': 3.9221301078796387, 'eval_runtime': 109.7178, 'eval_samples_per_second': 124.055, 'eval_steps_per_second': 15.513, 'epoch': 0.27}\n",
      "{'loss': 3.9306, 'grad_norm': 6.082777976989746, 'learning_rate': 2.257142857142857e-05, 'epoch': 0.27}\n"
     ]
    },
    {
     "data": {
      "application/vnd.jupyter.widget-view+json": {
       "model_id": "0d57a8c1f6224d5e924979e0ec50a92a",
       "version_major": 2,
       "version_minor": 0
      },
      "text/plain": [
       "  0%|          | 0/1702 [00:00<?, ?it/s]"
      ]
     },
     "metadata": {},
     "output_type": "display_data"
    },
    {
     "name": "stdout",
     "output_type": "stream",
     "text": [
      "{'eval_loss': 3.9362633228302, 'eval_runtime': 109.6911, 'eval_samples_per_second': 124.085, 'eval_steps_per_second': 15.516, 'epoch': 0.27}\n",
      "{'loss': 3.9088, 'grad_norm': 4.292964458465576, 'learning_rate': 2.2408163265306124e-05, 'epoch': 0.28}\n"
     ]
    },
    {
     "data": {
      "application/vnd.jupyter.widget-view+json": {
       "model_id": "858fcfa731c04640b1bd9030e4c9d247",
       "version_major": 2,
       "version_minor": 0
      },
      "text/plain": [
       "  0%|          | 0/1702 [00:00<?, ?it/s]"
      ]
     },
     "metadata": {},
     "output_type": "display_data"
    },
    {
     "name": "stdout",
     "output_type": "stream",
     "text": [
      "{'eval_loss': 3.940176486968994, 'eval_runtime': 109.7664, 'eval_samples_per_second': 124.0, 'eval_steps_per_second': 15.506, 'epoch': 0.28}\n",
      "{'loss': 3.9094, 'grad_norm': 2.8597137928009033, 'learning_rate': 2.2244897959183673e-05, 'epoch': 0.28}\n"
     ]
    },
    {
     "data": {
      "application/vnd.jupyter.widget-view+json": {
       "model_id": "39bfc9496a604464ac4a1d6eb7066a01",
       "version_major": 2,
       "version_minor": 0
      },
      "text/plain": [
       "  0%|          | 0/1702 [00:00<?, ?it/s]"
      ]
     },
     "metadata": {},
     "output_type": "display_data"
    },
    {
     "name": "stdout",
     "output_type": "stream",
     "text": [
      "{'eval_loss': 3.9300124645233154, 'eval_runtime': 109.7537, 'eval_samples_per_second': 124.014, 'eval_steps_per_second': 15.507, 'epoch': 0.28}\n",
      "{'loss': 4.0245, 'grad_norm': 2.636338472366333, 'learning_rate': 2.2081632653061226e-05, 'epoch': 0.28}\n"
     ]
    },
    {
     "data": {
      "application/vnd.jupyter.widget-view+json": {
       "model_id": "7146a0a425ea427f911a4c355c6333ad",
       "version_major": 2,
       "version_minor": 0
      },
      "text/plain": [
       "  0%|          | 0/1702 [00:00<?, ?it/s]"
      ]
     },
     "metadata": {},
     "output_type": "display_data"
    },
    {
     "name": "stdout",
     "output_type": "stream",
     "text": [
      "{'eval_loss': 3.910710334777832, 'eval_runtime': 109.7118, 'eval_samples_per_second': 124.061, 'eval_steps_per_second': 15.513, 'epoch': 0.28}\n",
      "{'loss': 3.9749, 'grad_norm': 1.6984196901321411, 'learning_rate': 2.1918367346938776e-05, 'epoch': 0.28}\n"
     ]
    },
    {
     "data": {
      "application/vnd.jupyter.widget-view+json": {
       "model_id": "d7be65ae42904481aa8c606d91f8811e",
       "version_major": 2,
       "version_minor": 0
      },
      "text/plain": [
       "  0%|          | 0/1702 [00:00<?, ?it/s]"
      ]
     },
     "metadata": {},
     "output_type": "display_data"
    },
    {
     "name": "stdout",
     "output_type": "stream",
     "text": [
      "{'eval_loss': 3.9182095527648926, 'eval_runtime': 109.7777, 'eval_samples_per_second': 123.987, 'eval_steps_per_second': 15.504, 'epoch': 0.28}\n",
      "{'loss': 4.0073, 'grad_norm': 5.758031845092773, 'learning_rate': 2.175510204081633e-05, 'epoch': 0.28}\n"
     ]
    },
    {
     "data": {
      "application/vnd.jupyter.widget-view+json": {
       "model_id": "c8f67570a47045a684ef1a4bb269f984",
       "version_major": 2,
       "version_minor": 0
      },
      "text/plain": [
       "  0%|          | 0/1702 [00:00<?, ?it/s]"
      ]
     },
     "metadata": {},
     "output_type": "display_data"
    },
    {
     "name": "stdout",
     "output_type": "stream",
     "text": [
      "{'eval_loss': 3.9294357299804688, 'eval_runtime': 109.7829, 'eval_samples_per_second': 123.981, 'eval_steps_per_second': 15.503, 'epoch': 0.28}\n",
      "{'loss': 3.9566, 'grad_norm': 3.041407346725464, 'learning_rate': 2.159183673469388e-05, 'epoch': 0.28}\n"
     ]
    },
    {
     "data": {
      "application/vnd.jupyter.widget-view+json": {
       "model_id": "a20a86258f714b46b0a2215e96956680",
       "version_major": 2,
       "version_minor": 0
      },
      "text/plain": [
       "  0%|          | 0/1702 [00:00<?, ?it/s]"
      ]
     },
     "metadata": {},
     "output_type": "display_data"
    },
    {
     "name": "stdout",
     "output_type": "stream",
     "text": [
      "{'eval_loss': 3.9407782554626465, 'eval_runtime': 109.7125, 'eval_samples_per_second': 124.061, 'eval_steps_per_second': 15.513, 'epoch': 0.28}\n",
      "{'loss': 3.9956, 'grad_norm': 3.3200321197509766, 'learning_rate': 2.1428571428571428e-05, 'epoch': 0.29}\n"
     ]
    },
    {
     "data": {
      "application/vnd.jupyter.widget-view+json": {
       "model_id": "f0be6cfdd81e43e4a5c73f2da8478926",
       "version_major": 2,
       "version_minor": 0
      },
      "text/plain": [
       "  0%|          | 0/1702 [00:00<?, ?it/s]"
      ]
     },
     "metadata": {},
     "output_type": "display_data"
    },
    {
     "name": "stdout",
     "output_type": "stream",
     "text": [
      "{'eval_loss': 3.909761905670166, 'eval_runtime': 109.7104, 'eval_samples_per_second': 124.063, 'eval_steps_per_second': 15.514, 'epoch': 0.29}\n",
      "{'loss': 4.0972, 'grad_norm': 3.4045281410217285, 'learning_rate': 2.126530612244898e-05, 'epoch': 0.29}\n"
     ]
    },
    {
     "data": {
      "application/vnd.jupyter.widget-view+json": {
       "model_id": "fa56a131365840ceb6aa761954550bae",
       "version_major": 2,
       "version_minor": 0
      },
      "text/plain": [
       "  0%|          | 0/1702 [00:00<?, ?it/s]"
      ]
     },
     "metadata": {},
     "output_type": "display_data"
    },
    {
     "name": "stdout",
     "output_type": "stream",
     "text": [
      "{'eval_loss': 3.9098057746887207, 'eval_runtime': 109.7598, 'eval_samples_per_second': 124.007, 'eval_steps_per_second': 15.507, 'epoch': 0.29}\n",
      "{'loss': 3.7637, 'grad_norm': 5.138885974884033, 'learning_rate': 2.110204081632653e-05, 'epoch': 0.29}\n"
     ]
    },
    {
     "data": {
      "application/vnd.jupyter.widget-view+json": {
       "model_id": "ddf132f8c53744e9acca13beb7afc4f1",
       "version_major": 2,
       "version_minor": 0
      },
      "text/plain": [
       "  0%|          | 0/1702 [00:00<?, ?it/s]"
      ]
     },
     "metadata": {},
     "output_type": "display_data"
    },
    {
     "name": "stdout",
     "output_type": "stream",
     "text": [
      "{'eval_loss': 3.921272039413452, 'eval_runtime': 109.7982, 'eval_samples_per_second': 123.964, 'eval_steps_per_second': 15.501, 'epoch': 0.29}\n",
      "{'loss': 4.0417, 'grad_norm': 5.809049606323242, 'learning_rate': 2.0938775510204084e-05, 'epoch': 0.29}\n"
     ]
    },
    {
     "data": {
      "application/vnd.jupyter.widget-view+json": {
       "model_id": "84e4e49a63284f8d9b8cf1e1b85c6b11",
       "version_major": 2,
       "version_minor": 0
      },
      "text/plain": [
       "  0%|          | 0/1702 [00:00<?, ?it/s]"
      ]
     },
     "metadata": {},
     "output_type": "display_data"
    },
    {
     "name": "stdout",
     "output_type": "stream",
     "text": [
      "{'eval_loss': 3.9103431701660156, 'eval_runtime': 109.7884, 'eval_samples_per_second': 123.975, 'eval_steps_per_second': 15.503, 'epoch': 0.29}\n",
      "{'loss': 3.9359, 'grad_norm': 4.2710490226745605, 'learning_rate': 2.0775510204081633e-05, 'epoch': 0.29}\n"
     ]
    },
    {
     "data": {
      "application/vnd.jupyter.widget-view+json": {
       "model_id": "0cc952215db54da98954e59d098331e2",
       "version_major": 2,
       "version_minor": 0
      },
      "text/plain": [
       "  0%|          | 0/1702 [00:00<?, ?it/s]"
      ]
     },
     "metadata": {},
     "output_type": "display_data"
    },
    {
     "name": "stdout",
     "output_type": "stream",
     "text": [
      "{'eval_loss': 3.912792205810547, 'eval_runtime': 109.7111, 'eval_samples_per_second': 124.062, 'eval_steps_per_second': 15.513, 'epoch': 0.29}\n",
      "{'loss': 3.8617, 'grad_norm': 4.013326168060303, 'learning_rate': 2.0612244897959186e-05, 'epoch': 0.29}\n"
     ]
    },
    {
     "data": {
      "application/vnd.jupyter.widget-view+json": {
       "model_id": "ae55782528f7498e9303d919293cb2cc",
       "version_major": 2,
       "version_minor": 0
      },
      "text/plain": [
       "  0%|          | 0/1702 [00:00<?, ?it/s]"
      ]
     },
     "metadata": {},
     "output_type": "display_data"
    },
    {
     "name": "stdout",
     "output_type": "stream",
     "text": [
      "{'eval_loss': 3.9258084297180176, 'eval_runtime': 109.7535, 'eval_samples_per_second': 124.014, 'eval_steps_per_second': 15.507, 'epoch': 0.29}\n",
      "{'loss': 4.0174, 'grad_norm': 5.9332356452941895, 'learning_rate': 2.0448979591836736e-05, 'epoch': 0.3}\n"
     ]
    },
    {
     "data": {
      "application/vnd.jupyter.widget-view+json": {
       "model_id": "a6f2fa81753b4fc484a0a4ab20db1b92",
       "version_major": 2,
       "version_minor": 0
      },
      "text/plain": [
       "  0%|          | 0/1702 [00:00<?, ?it/s]"
      ]
     },
     "metadata": {},
     "output_type": "display_data"
    },
    {
     "name": "stdout",
     "output_type": "stream",
     "text": [
      "{'eval_loss': 3.9140682220458984, 'eval_runtime': 109.7851, 'eval_samples_per_second': 123.979, 'eval_steps_per_second': 15.503, 'epoch': 0.3}\n",
      "{'loss': 3.8539, 'grad_norm': 3.479311227798462, 'learning_rate': 2.0285714285714286e-05, 'epoch': 0.3}\n"
     ]
    },
    {
     "data": {
      "application/vnd.jupyter.widget-view+json": {
       "model_id": "4f3d6bbc98474363b69af853abef8375",
       "version_major": 2,
       "version_minor": 0
      },
      "text/plain": [
       "  0%|          | 0/1702 [00:00<?, ?it/s]"
      ]
     },
     "metadata": {},
     "output_type": "display_data"
    },
    {
     "name": "stdout",
     "output_type": "stream",
     "text": [
      "{'eval_loss': 3.9207494258880615, 'eval_runtime': 109.7538, 'eval_samples_per_second': 124.014, 'eval_steps_per_second': 15.507, 'epoch': 0.3}\n",
      "{'loss': 3.8628, 'grad_norm': 4.376101493835449, 'learning_rate': 2.012244897959184e-05, 'epoch': 0.3}\n"
     ]
    },
    {
     "data": {
      "application/vnd.jupyter.widget-view+json": {
       "model_id": "f4d9f1ce723a4a9d975a219cd04fb481",
       "version_major": 2,
       "version_minor": 0
      },
      "text/plain": [
       "  0%|          | 0/1702 [00:00<?, ?it/s]"
      ]
     },
     "metadata": {},
     "output_type": "display_data"
    },
    {
     "name": "stdout",
     "output_type": "stream",
     "text": [
      "{'eval_loss': 3.925036907196045, 'eval_runtime': 109.7392, 'eval_samples_per_second': 124.03, 'eval_steps_per_second': 15.51, 'epoch': 0.3}\n",
      "{'loss': 3.9075, 'grad_norm': 7.126071929931641, 'learning_rate': 1.9959183673469388e-05, 'epoch': 0.3}\n"
     ]
    },
    {
     "data": {
      "application/vnd.jupyter.widget-view+json": {
       "model_id": "aed9185bae6e4425a243f5f38c4c4e5c",
       "version_major": 2,
       "version_minor": 0
      },
      "text/plain": [
       "  0%|          | 0/1702 [00:00<?, ?it/s]"
      ]
     },
     "metadata": {},
     "output_type": "display_data"
    },
    {
     "name": "stdout",
     "output_type": "stream",
     "text": [
      "{'eval_loss': 3.934779405593872, 'eval_runtime': 109.718, 'eval_samples_per_second': 124.054, 'eval_steps_per_second': 15.512, 'epoch': 0.3}\n",
      "{'loss': 3.9493, 'grad_norm': 5.32426118850708, 'learning_rate': 1.9795918367346938e-05, 'epoch': 0.3}\n"
     ]
    },
    {
     "data": {
      "application/vnd.jupyter.widget-view+json": {
       "model_id": "3e5a59f339c14462b797d70b3da1d85a",
       "version_major": 2,
       "version_minor": 0
      },
      "text/plain": [
       "  0%|          | 0/1702 [00:00<?, ?it/s]"
      ]
     },
     "metadata": {},
     "output_type": "display_data"
    },
    {
     "name": "stdout",
     "output_type": "stream",
     "text": [
      "{'eval_loss': 3.91744327545166, 'eval_runtime': 109.6942, 'eval_samples_per_second': 124.081, 'eval_steps_per_second': 15.516, 'epoch': 0.3}\n",
      "{'loss': 4.0668, 'grad_norm': 3.869046926498413, 'learning_rate': 1.963265306122449e-05, 'epoch': 0.3}\n"
     ]
    },
    {
     "data": {
      "application/vnd.jupyter.widget-view+json": {
       "model_id": "402f74910b044bcb868e90823f53a230",
       "version_major": 2,
       "version_minor": 0
      },
      "text/plain": [
       "  0%|          | 0/1702 [00:00<?, ?it/s]"
      ]
     },
     "metadata": {},
     "output_type": "display_data"
    },
    {
     "name": "stdout",
     "output_type": "stream",
     "text": [
      "{'eval_loss': 3.911083221435547, 'eval_runtime': 109.7105, 'eval_samples_per_second': 124.063, 'eval_steps_per_second': 15.514, 'epoch': 0.3}\n",
      "{'loss': 3.6964, 'grad_norm': 4.765562534332275, 'learning_rate': 1.946938775510204e-05, 'epoch': 0.31}\n"
     ]
    },
    {
     "data": {
      "application/vnd.jupyter.widget-view+json": {
       "model_id": "c6c421596c7a4eb0906fc675dff4cbbe",
       "version_major": 2,
       "version_minor": 0
      },
      "text/plain": [
       "  0%|          | 0/1702 [00:00<?, ?it/s]"
      ]
     },
     "metadata": {},
     "output_type": "display_data"
    },
    {
     "name": "stdout",
     "output_type": "stream",
     "text": [
      "{'eval_loss': 3.9122204780578613, 'eval_runtime': 109.7496, 'eval_samples_per_second': 124.019, 'eval_steps_per_second': 15.508, 'epoch': 0.31}\n",
      "{'loss': 3.7868, 'grad_norm': 2.0526883602142334, 'learning_rate': 1.9306122448979593e-05, 'epoch': 0.31}\n"
     ]
    },
    {
     "data": {
      "application/vnd.jupyter.widget-view+json": {
       "model_id": "e7434e5383bd490b927345b3135424c9",
       "version_major": 2,
       "version_minor": 0
      },
      "text/plain": [
       "  0%|          | 0/1702 [00:00<?, ?it/s]"
      ]
     },
     "metadata": {},
     "output_type": "display_data"
    },
    {
     "name": "stdout",
     "output_type": "stream",
     "text": [
      "{'eval_loss': 3.9164061546325684, 'eval_runtime': 109.7498, 'eval_samples_per_second': 124.018, 'eval_steps_per_second': 15.508, 'epoch': 0.31}\n",
      "{'loss': 3.8649, 'grad_norm': 3.591797351837158, 'learning_rate': 1.9142857142857143e-05, 'epoch': 0.31}\n"
     ]
    },
    {
     "data": {
      "application/vnd.jupyter.widget-view+json": {
       "model_id": "2548c3302a714e2fbb27dcf2e4cf023d",
       "version_major": 2,
       "version_minor": 0
      },
      "text/plain": [
       "  0%|          | 0/1702 [00:00<?, ?it/s]"
      ]
     },
     "metadata": {},
     "output_type": "display_data"
    },
    {
     "name": "stdout",
     "output_type": "stream",
     "text": [
      "{'eval_loss': 3.915024995803833, 'eval_runtime': 109.7475, 'eval_samples_per_second': 124.021, 'eval_steps_per_second': 15.508, 'epoch': 0.31}\n",
      "{'loss': 3.9822, 'grad_norm': 3.9879467487335205, 'learning_rate': 1.8979591836734696e-05, 'epoch': 0.31}\n"
     ]
    },
    {
     "data": {
      "application/vnd.jupyter.widget-view+json": {
       "model_id": "f18a7c03eefc447abb92cc2853daca12",
       "version_major": 2,
       "version_minor": 0
      },
      "text/plain": [
       "  0%|          | 0/1702 [00:00<?, ?it/s]"
      ]
     },
     "metadata": {},
     "output_type": "display_data"
    },
    {
     "name": "stdout",
     "output_type": "stream",
     "text": [
      "{'eval_loss': 3.9049112796783447, 'eval_runtime': 109.7282, 'eval_samples_per_second': 124.043, 'eval_steps_per_second': 15.511, 'epoch': 0.31}\n",
      "{'loss': 4.146, 'grad_norm': 3.6801812648773193, 'learning_rate': 1.8816326530612246e-05, 'epoch': 0.31}\n"
     ]
    },
    {
     "data": {
      "application/vnd.jupyter.widget-view+json": {
       "model_id": "209b879480934e79b85fc617a0120d07",
       "version_major": 2,
       "version_minor": 0
      },
      "text/plain": [
       "  0%|          | 0/1702 [00:00<?, ?it/s]"
      ]
     },
     "metadata": {},
     "output_type": "display_data"
    },
    {
     "name": "stdout",
     "output_type": "stream",
     "text": [
      "{'eval_loss': 3.905562400817871, 'eval_runtime': 109.7667, 'eval_samples_per_second': 123.999, 'eval_steps_per_second': 15.506, 'epoch': 0.31}\n",
      "{'loss': 4.0478, 'grad_norm': 11.985651016235352, 'learning_rate': 1.8653061224489795e-05, 'epoch': 0.31}\n"
     ]
    },
    {
     "data": {
      "application/vnd.jupyter.widget-view+json": {
       "model_id": "cd9901db2e6e4c28876aeff3fd7ff945",
       "version_major": 2,
       "version_minor": 0
      },
      "text/plain": [
       "  0%|          | 0/1702 [00:00<?, ?it/s]"
      ]
     },
     "metadata": {},
     "output_type": "display_data"
    },
    {
     "name": "stdout",
     "output_type": "stream",
     "text": [
      "{'eval_loss': 3.925471544265747, 'eval_runtime': 109.7678, 'eval_samples_per_second': 123.998, 'eval_steps_per_second': 15.505, 'epoch': 0.31}\n",
      "{'loss': 3.9491, 'grad_norm': 2.1691195964813232, 'learning_rate': 1.8489795918367348e-05, 'epoch': 0.32}\n"
     ]
    },
    {
     "data": {
      "application/vnd.jupyter.widget-view+json": {
       "model_id": "5e910f72f6614c71aa9d7bd193b3bd05",
       "version_major": 2,
       "version_minor": 0
      },
      "text/plain": [
       "  0%|          | 0/1702 [00:00<?, ?it/s]"
      ]
     },
     "metadata": {},
     "output_type": "display_data"
    },
    {
     "name": "stdout",
     "output_type": "stream",
     "text": [
      "{'eval_loss': 3.9053890705108643, 'eval_runtime': 109.7511, 'eval_samples_per_second': 124.017, 'eval_steps_per_second': 15.508, 'epoch': 0.32}\n",
      "{'loss': 3.929, 'grad_norm': 1.7834532260894775, 'learning_rate': 1.8326530612244898e-05, 'epoch': 0.32}\n"
     ]
    },
    {
     "data": {
      "application/vnd.jupyter.widget-view+json": {
       "model_id": "27fddcaaacde46cca55fd442721a29a5",
       "version_major": 2,
       "version_minor": 0
      },
      "text/plain": [
       "  0%|          | 0/1702 [00:00<?, ?it/s]"
      ]
     },
     "metadata": {},
     "output_type": "display_data"
    },
    {
     "name": "stdout",
     "output_type": "stream",
     "text": [
      "{'eval_loss': 3.9060354232788086, 'eval_runtime': 109.7012, 'eval_samples_per_second': 124.073, 'eval_steps_per_second': 15.515, 'epoch': 0.32}\n",
      "{'loss': 4.0266, 'grad_norm': 1.1737375259399414, 'learning_rate': 1.816326530612245e-05, 'epoch': 0.32}\n"
     ]
    },
    {
     "data": {
      "application/vnd.jupyter.widget-view+json": {
       "model_id": "885687c9a56346689b681f9a062331db",
       "version_major": 2,
       "version_minor": 0
      },
      "text/plain": [
       "  0%|          | 0/1702 [00:00<?, ?it/s]"
      ]
     },
     "metadata": {},
     "output_type": "display_data"
    },
    {
     "name": "stdout",
     "output_type": "stream",
     "text": [
      "{'eval_loss': 3.9024524688720703, 'eval_runtime': 109.9425, 'eval_samples_per_second': 123.801, 'eval_steps_per_second': 15.481, 'epoch': 0.32}\n",
      "{'loss': 4.0528, 'grad_norm': 2.8970844745635986, 'learning_rate': 1.8e-05, 'epoch': 0.32}\n"
     ]
    },
    {
     "data": {
      "application/vnd.jupyter.widget-view+json": {
       "model_id": "58ad190b7a0d4997aa79132fcc17bdf3",
       "version_major": 2,
       "version_minor": 0
      },
      "text/plain": [
       "  0%|          | 0/1702 [00:00<?, ?it/s]"
      ]
     },
     "metadata": {},
     "output_type": "display_data"
    },
    {
     "name": "stdout",
     "output_type": "stream",
     "text": [
      "{'eval_loss': 3.902893543243408, 'eval_runtime': 109.7425, 'eval_samples_per_second': 124.027, 'eval_steps_per_second': 15.509, 'epoch': 0.32}\n",
      "{'loss': 3.9357, 'grad_norm': 4.222126007080078, 'learning_rate': 1.7836734693877553e-05, 'epoch': 0.32}\n"
     ]
    },
    {
     "data": {
      "application/vnd.jupyter.widget-view+json": {
       "model_id": "da10019d407b4b72b280146df7ec7443",
       "version_major": 2,
       "version_minor": 0
      },
      "text/plain": [
       "  0%|          | 0/1702 [00:00<?, ?it/s]"
      ]
     },
     "metadata": {},
     "output_type": "display_data"
    },
    {
     "name": "stdout",
     "output_type": "stream",
     "text": [
      "{'eval_loss': 3.913132905960083, 'eval_runtime': 109.7251, 'eval_samples_per_second': 124.046, 'eval_steps_per_second': 15.511, 'epoch': 0.32}\n",
      "{'loss': 3.8553, 'grad_norm': 8.25046443939209, 'learning_rate': 1.7673469387755103e-05, 'epoch': 0.32}\n"
     ]
    },
    {
     "data": {
      "application/vnd.jupyter.widget-view+json": {
       "model_id": "710656b7736c4089bb95b92fc7ad09f9",
       "version_major": 2,
       "version_minor": 0
      },
      "text/plain": [
       "  0%|          | 0/1702 [00:00<?, ?it/s]"
      ]
     },
     "metadata": {},
     "output_type": "display_data"
    },
    {
     "name": "stdout",
     "output_type": "stream",
     "text": [
      "{'eval_loss': 3.9104416370391846, 'eval_runtime': 109.773, 'eval_samples_per_second': 123.992, 'eval_steps_per_second': 15.505, 'epoch': 0.32}\n",
      "{'loss': 3.8447, 'grad_norm': 4.435224533081055, 'learning_rate': 1.7510204081632653e-05, 'epoch': 0.32}\n"
     ]
    },
    {
     "data": {
      "application/vnd.jupyter.widget-view+json": {
       "model_id": "ad0f55be6ba841ca8991c44efbdb6b41",
       "version_major": 2,
       "version_minor": 0
      },
      "text/plain": [
       "  0%|          | 0/1702 [00:00<?, ?it/s]"
      ]
     },
     "metadata": {},
     "output_type": "display_data"
    },
    {
     "name": "stdout",
     "output_type": "stream",
     "text": [
      "{'eval_loss': 3.9045512676239014, 'eval_runtime': 109.7533, 'eval_samples_per_second': 124.015, 'eval_steps_per_second': 15.508, 'epoch': 0.32}\n",
      "{'loss': 3.9954, 'grad_norm': 1.510097861289978, 'learning_rate': 1.7346938775510206e-05, 'epoch': 0.33}\n"
     ]
    },
    {
     "data": {
      "application/vnd.jupyter.widget-view+json": {
       "model_id": "5fbbf990697b48138452060a23a556bc",
       "version_major": 2,
       "version_minor": 0
      },
      "text/plain": [
       "  0%|          | 0/1702 [00:00<?, ?it/s]"
      ]
     },
     "metadata": {},
     "output_type": "display_data"
    },
    {
     "name": "stdout",
     "output_type": "stream",
     "text": [
      "{'eval_loss': 3.906507968902588, 'eval_runtime': 109.7983, 'eval_samples_per_second': 123.964, 'eval_steps_per_second': 15.501, 'epoch': 0.33}\n",
      "{'loss': 3.8608, 'grad_norm': 1.9023758172988892, 'learning_rate': 1.7183673469387755e-05, 'epoch': 0.33}\n"
     ]
    },
    {
     "data": {
      "application/vnd.jupyter.widget-view+json": {
       "model_id": "302b67d1ca354e4584f57004f6fe3019",
       "version_major": 2,
       "version_minor": 0
      },
      "text/plain": [
       "  0%|          | 0/1702 [00:00<?, ?it/s]"
      ]
     },
     "metadata": {},
     "output_type": "display_data"
    },
    {
     "name": "stdout",
     "output_type": "stream",
     "text": [
      "{'eval_loss': 3.904294490814209, 'eval_runtime': 109.7791, 'eval_samples_per_second': 123.985, 'eval_steps_per_second': 15.504, 'epoch': 0.33}\n",
      "{'loss': 3.8713, 'grad_norm': 4.336911201477051, 'learning_rate': 1.7020408163265305e-05, 'epoch': 0.33}\n"
     ]
    },
    {
     "data": {
      "application/vnd.jupyter.widget-view+json": {
       "model_id": "3ccaaa1d826c427eb75d781a34905ecc",
       "version_major": 2,
       "version_minor": 0
      },
      "text/plain": [
       "  0%|          | 0/1702 [00:00<?, ?it/s]"
      ]
     },
     "metadata": {},
     "output_type": "display_data"
    },
    {
     "name": "stdout",
     "output_type": "stream",
     "text": [
      "{'eval_loss': 3.9048216342926025, 'eval_runtime': 109.7218, 'eval_samples_per_second': 124.05, 'eval_steps_per_second': 15.512, 'epoch': 0.33}\n",
      "{'loss': 4.0705, 'grad_norm': 7.344269752502441, 'learning_rate': 1.6857142857142858e-05, 'epoch': 0.33}\n"
     ]
    },
    {
     "data": {
      "application/vnd.jupyter.widget-view+json": {
       "model_id": "026a24db98684da3887565624d09d7b8",
       "version_major": 2,
       "version_minor": 0
      },
      "text/plain": [
       "  0%|          | 0/1702 [00:00<?, ?it/s]"
      ]
     },
     "metadata": {},
     "output_type": "display_data"
    },
    {
     "name": "stdout",
     "output_type": "stream",
     "text": [
      "{'eval_loss': 3.9044876098632812, 'eval_runtime': 109.7328, 'eval_samples_per_second': 124.038, 'eval_steps_per_second': 15.51, 'epoch': 0.33}\n",
      "{'loss': 3.6637, 'grad_norm': 4.20595645904541, 'learning_rate': 1.669387755102041e-05, 'epoch': 0.33}\n"
     ]
    },
    {
     "data": {
      "application/vnd.jupyter.widget-view+json": {
       "model_id": "fcbfb160dd374b729c21ee5245f9afdc",
       "version_major": 2,
       "version_minor": 0
      },
      "text/plain": [
       "  0%|          | 0/1702 [00:00<?, ?it/s]"
      ]
     },
     "metadata": {},
     "output_type": "display_data"
    },
    {
     "name": "stdout",
     "output_type": "stream",
     "text": [
      "{'eval_loss': 3.908569097518921, 'eval_runtime': 109.7517, 'eval_samples_per_second': 124.016, 'eval_steps_per_second': 15.508, 'epoch': 0.33}\n",
      "{'loss': 3.9156, 'grad_norm': 2.794297456741333, 'learning_rate': 1.653061224489796e-05, 'epoch': 0.33}\n"
     ]
    },
    {
     "data": {
      "application/vnd.jupyter.widget-view+json": {
       "model_id": "5881848577354c6c9f93b672faeff049",
       "version_major": 2,
       "version_minor": 0
      },
      "text/plain": [
       "  0%|          | 0/1702 [00:00<?, ?it/s]"
      ]
     },
     "metadata": {},
     "output_type": "display_data"
    },
    {
     "name": "stdout",
     "output_type": "stream",
     "text": [
      "{'eval_loss': 3.900724172592163, 'eval_runtime': 109.7296, 'eval_samples_per_second': 124.041, 'eval_steps_per_second': 15.511, 'epoch': 0.33}\n",
      "{'loss': 4.0097, 'grad_norm': 3.9033756256103516, 'learning_rate': 1.636734693877551e-05, 'epoch': 0.34}\n"
     ]
    },
    {
     "data": {
      "application/vnd.jupyter.widget-view+json": {
       "model_id": "9084848b2f2e47e7838f3053496b061a",
       "version_major": 2,
       "version_minor": 0
      },
      "text/plain": [
       "  0%|          | 0/1702 [00:00<?, ?it/s]"
      ]
     },
     "metadata": {},
     "output_type": "display_data"
    },
    {
     "name": "stdout",
     "output_type": "stream",
     "text": [
      "{'eval_loss': 3.900508403778076, 'eval_runtime': 109.7377, 'eval_samples_per_second': 124.032, 'eval_steps_per_second': 15.51, 'epoch': 0.34}\n",
      "{'loss': 3.8829, 'grad_norm': 3.9630625247955322, 'learning_rate': 1.6204081632653063e-05, 'epoch': 0.34}\n"
     ]
    },
    {
     "data": {
      "application/vnd.jupyter.widget-view+json": {
       "model_id": "fb337955e24a4bb48ed716188446f10b",
       "version_major": 2,
       "version_minor": 0
      },
      "text/plain": [
       "  0%|          | 0/1702 [00:00<?, ?it/s]"
      ]
     },
     "metadata": {},
     "output_type": "display_data"
    },
    {
     "name": "stdout",
     "output_type": "stream",
     "text": [
      "{'eval_loss': 3.8964481353759766, 'eval_runtime': 109.7358, 'eval_samples_per_second': 124.034, 'eval_steps_per_second': 15.51, 'epoch': 0.34}\n",
      "{'loss': 4.0097, 'grad_norm': 6.325133323669434, 'learning_rate': 1.6040816326530613e-05, 'epoch': 0.34}\n"
     ]
    },
    {
     "data": {
      "application/vnd.jupyter.widget-view+json": {
       "model_id": "32a9ca47df84441ba5b84ac2ce82048e",
       "version_major": 2,
       "version_minor": 0
      },
      "text/plain": [
       "  0%|          | 0/1702 [00:00<?, ?it/s]"
      ]
     },
     "metadata": {},
     "output_type": "display_data"
    },
    {
     "name": "stdout",
     "output_type": "stream",
     "text": [
      "{'eval_loss': 3.913163900375366, 'eval_runtime': 109.7308, 'eval_samples_per_second': 124.04, 'eval_steps_per_second': 15.511, 'epoch': 0.34}\n",
      "{'loss': 3.915, 'grad_norm': 3.0232019424438477, 'learning_rate': 1.5877551020408162e-05, 'epoch': 0.34}\n"
     ]
    },
    {
     "data": {
      "application/vnd.jupyter.widget-view+json": {
       "model_id": "2c7d454675ad4f0480b9ff568e40c208",
       "version_major": 2,
       "version_minor": 0
      },
      "text/plain": [
       "  0%|          | 0/1702 [00:00<?, ?it/s]"
      ]
     },
     "metadata": {},
     "output_type": "display_data"
    },
    {
     "name": "stdout",
     "output_type": "stream",
     "text": [
      "{'eval_loss': 3.9177939891815186, 'eval_runtime': 109.7322, 'eval_samples_per_second': 124.038, 'eval_steps_per_second': 15.51, 'epoch': 0.34}\n",
      "{'loss': 3.9107, 'grad_norm': 1.7064553499221802, 'learning_rate': 1.5714285714285715e-05, 'epoch': 0.34}\n"
     ]
    },
    {
     "data": {
      "application/vnd.jupyter.widget-view+json": {
       "model_id": "f3e2b669b1554c269658fc86ce5117d4",
       "version_major": 2,
       "version_minor": 0
      },
      "text/plain": [
       "  0%|          | 0/1702 [00:00<?, ?it/s]"
      ]
     },
     "metadata": {},
     "output_type": "display_data"
    },
    {
     "name": "stdout",
     "output_type": "stream",
     "text": [
      "{'eval_loss': 3.902923107147217, 'eval_runtime': 109.7487, 'eval_samples_per_second': 124.02, 'eval_steps_per_second': 15.508, 'epoch': 0.34}\n",
      "{'loss': 3.9256, 'grad_norm': 2.6622610092163086, 'learning_rate': 1.5551020408163265e-05, 'epoch': 0.34}\n"
     ]
    },
    {
     "data": {
      "application/vnd.jupyter.widget-view+json": {
       "model_id": "ec85525b71344964860ea4173e873b60",
       "version_major": 2,
       "version_minor": 0
      },
      "text/plain": [
       "  0%|          | 0/1702 [00:00<?, ?it/s]"
      ]
     },
     "metadata": {},
     "output_type": "display_data"
    },
    {
     "name": "stdout",
     "output_type": "stream",
     "text": [
      "{'eval_loss': 3.8942954540252686, 'eval_runtime': 109.7735, 'eval_samples_per_second': 123.992, 'eval_steps_per_second': 15.505, 'epoch': 0.34}\n",
      "{'loss': 3.901, 'grad_norm': 2.353602886199951, 'learning_rate': 1.5387755102040818e-05, 'epoch': 0.35}\n"
     ]
    },
    {
     "data": {
      "application/vnd.jupyter.widget-view+json": {
       "model_id": "103b355ab1204687baeb06b4c8de3ccf",
       "version_major": 2,
       "version_minor": 0
      },
      "text/plain": [
       "  0%|          | 0/1702 [00:00<?, ?it/s]"
      ]
     },
     "metadata": {},
     "output_type": "display_data"
    },
    {
     "name": "stdout",
     "output_type": "stream",
     "text": [
      "{'eval_loss': 3.898117780685425, 'eval_runtime': 109.7317, 'eval_samples_per_second': 124.039, 'eval_steps_per_second': 15.511, 'epoch': 0.35}\n",
      "{'loss': 3.7932, 'grad_norm': 1.4856703281402588, 'learning_rate': 1.5224489795918368e-05, 'epoch': 0.35}\n"
     ]
    },
    {
     "data": {
      "application/vnd.jupyter.widget-view+json": {
       "model_id": "7d9243fe0f8b4f9587bbbb19d003d216",
       "version_major": 2,
       "version_minor": 0
      },
      "text/plain": [
       "  0%|          | 0/1702 [00:00<?, ?it/s]"
      ]
     },
     "metadata": {},
     "output_type": "display_data"
    },
    {
     "name": "stdout",
     "output_type": "stream",
     "text": [
      "{'eval_loss': 3.9037482738494873, 'eval_runtime': 109.6586, 'eval_samples_per_second': 124.122, 'eval_steps_per_second': 15.521, 'epoch': 0.35}\n",
      "{'loss': 3.868, 'grad_norm': 1.9356938600540161, 'learning_rate': 1.5061224489795919e-05, 'epoch': 0.35}\n"
     ]
    },
    {
     "data": {
      "application/vnd.jupyter.widget-view+json": {
       "model_id": "90181f35551e4a57a8dea9cd92985b9e",
       "version_major": 2,
       "version_minor": 0
      },
      "text/plain": [
       "  0%|          | 0/1702 [00:00<?, ?it/s]"
      ]
     },
     "metadata": {},
     "output_type": "display_data"
    },
    {
     "name": "stdout",
     "output_type": "stream",
     "text": [
      "{'eval_loss': 3.900517225265503, 'eval_runtime': 109.7187, 'eval_samples_per_second': 124.054, 'eval_steps_per_second': 15.512, 'epoch': 0.35}\n",
      "{'loss': 3.9823, 'grad_norm': 3.316767930984497, 'learning_rate': 1.4897959183673472e-05, 'epoch': 0.35}\n"
     ]
    },
    {
     "data": {
      "application/vnd.jupyter.widget-view+json": {
       "model_id": "ba65d921aaa44b2fa9e027d69cc751e2",
       "version_major": 2,
       "version_minor": 0
      },
      "text/plain": [
       "  0%|          | 0/1702 [00:00<?, ?it/s]"
      ]
     },
     "metadata": {},
     "output_type": "display_data"
    },
    {
     "name": "stdout",
     "output_type": "stream",
     "text": [
      "{'eval_loss': 3.8904895782470703, 'eval_runtime': 109.7107, 'eval_samples_per_second': 124.063, 'eval_steps_per_second': 15.514, 'epoch': 0.35}\n",
      "{'loss': 3.9814, 'grad_norm': 2.435436964035034, 'learning_rate': 1.473469387755102e-05, 'epoch': 0.35}\n"
     ]
    },
    {
     "data": {
      "application/vnd.jupyter.widget-view+json": {
       "model_id": "96ed337077fb454d88bb15d04655a984",
       "version_major": 2,
       "version_minor": 0
      },
      "text/plain": [
       "  0%|          | 0/1702 [00:00<?, ?it/s]"
      ]
     },
     "metadata": {},
     "output_type": "display_data"
    },
    {
     "name": "stdout",
     "output_type": "stream",
     "text": [
      "{'eval_loss': 3.8955931663513184, 'eval_runtime': 109.7038, 'eval_samples_per_second': 124.07, 'eval_steps_per_second': 15.515, 'epoch': 0.35}\n",
      "{'loss': 3.9716, 'grad_norm': 1.850406289100647, 'learning_rate': 1.4571428571428573e-05, 'epoch': 0.35}\n"
     ]
    },
    {
     "data": {
      "application/vnd.jupyter.widget-view+json": {
       "model_id": "36b6770a313c4e90877e88cd3d9d8d6d",
       "version_major": 2,
       "version_minor": 0
      },
      "text/plain": [
       "  0%|          | 0/1702 [00:00<?, ?it/s]"
      ]
     },
     "metadata": {},
     "output_type": "display_data"
    },
    {
     "name": "stdout",
     "output_type": "stream",
     "text": [
      "{'eval_loss': 3.9101920127868652, 'eval_runtime': 109.7411, 'eval_samples_per_second': 124.028, 'eval_steps_per_second': 15.509, 'epoch': 0.35}\n",
      "{'loss': 4.0296, 'grad_norm': 3.9020791053771973, 'learning_rate': 1.4408163265306124e-05, 'epoch': 0.36}\n"
     ]
    },
    {
     "data": {
      "application/vnd.jupyter.widget-view+json": {
       "model_id": "f244592511e943949f6348c0657171b9",
       "version_major": 2,
       "version_minor": 0
      },
      "text/plain": [
       "  0%|          | 0/1702 [00:00<?, ?it/s]"
      ]
     },
     "metadata": {},
     "output_type": "display_data"
    },
    {
     "name": "stdout",
     "output_type": "stream",
     "text": [
      "{'eval_loss': 3.8983817100524902, 'eval_runtime': 109.7354, 'eval_samples_per_second': 124.035, 'eval_steps_per_second': 15.51, 'epoch': 0.36}\n",
      "{'loss': 4.0231, 'grad_norm': 1.961681842803955, 'learning_rate': 1.4244897959183674e-05, 'epoch': 0.36}\n"
     ]
    },
    {
     "data": {
      "application/vnd.jupyter.widget-view+json": {
       "model_id": "98e7237861514b8eae0a3c7a824e0901",
       "version_major": 2,
       "version_minor": 0
      },
      "text/plain": [
       "  0%|          | 0/1702 [00:00<?, ?it/s]"
      ]
     },
     "metadata": {},
     "output_type": "display_data"
    },
    {
     "name": "stdout",
     "output_type": "stream",
     "text": [
      "{'eval_loss': 3.9056594371795654, 'eval_runtime': 109.6961, 'eval_samples_per_second': 124.079, 'eval_steps_per_second': 15.516, 'epoch': 0.36}\n",
      "{'loss': 3.7184, 'grad_norm': 2.3271117210388184, 'learning_rate': 1.4081632653061225e-05, 'epoch': 0.36}\n"
     ]
    },
    {
     "data": {
      "application/vnd.jupyter.widget-view+json": {
       "model_id": "fac5ca120d8f441cbce9c52c8eeef90a",
       "version_major": 2,
       "version_minor": 0
      },
      "text/plain": [
       "  0%|          | 0/1702 [00:00<?, ?it/s]"
      ]
     },
     "metadata": {},
     "output_type": "display_data"
    },
    {
     "name": "stdout",
     "output_type": "stream",
     "text": [
      "{'eval_loss': 3.8993546962738037, 'eval_runtime': 109.6992, 'eval_samples_per_second': 124.076, 'eval_steps_per_second': 15.515, 'epoch': 0.36}\n",
      "{'loss': 3.84, 'grad_norm': 4.272223949432373, 'learning_rate': 1.3918367346938776e-05, 'epoch': 0.36}\n"
     ]
    },
    {
     "data": {
      "application/vnd.jupyter.widget-view+json": {
       "model_id": "9edea9bc90864ad88290290acded62f9",
       "version_major": 2,
       "version_minor": 0
      },
      "text/plain": [
       "  0%|          | 0/1702 [00:00<?, ?it/s]"
      ]
     },
     "metadata": {},
     "output_type": "display_data"
    },
    {
     "name": "stdout",
     "output_type": "stream",
     "text": [
      "{'eval_loss': 3.8954355716705322, 'eval_runtime': 109.7189, 'eval_samples_per_second': 124.053, 'eval_steps_per_second': 15.512, 'epoch': 0.36}\n",
      "{'loss': 3.9338, 'grad_norm': 2.6310129165649414, 'learning_rate': 1.3755102040816328e-05, 'epoch': 0.36}\n"
     ]
    },
    {
     "data": {
      "application/vnd.jupyter.widget-view+json": {
       "model_id": "9498fd78b1ed48609a5a75e40abcda5f",
       "version_major": 2,
       "version_minor": 0
      },
      "text/plain": [
       "  0%|          | 0/1702 [00:00<?, ?it/s]"
      ]
     },
     "metadata": {},
     "output_type": "display_data"
    },
    {
     "name": "stdout",
     "output_type": "stream",
     "text": [
      "{'eval_loss': 3.897684335708618, 'eval_runtime': 109.6855, 'eval_samples_per_second': 124.091, 'eval_steps_per_second': 15.517, 'epoch': 0.36}\n",
      "{'loss': 3.8855, 'grad_norm': 1.8985261917114258, 'learning_rate': 1.3591836734693877e-05, 'epoch': 0.36}\n"
     ]
    },
    {
     "data": {
      "application/vnd.jupyter.widget-view+json": {
       "model_id": "b8e2ab27bed24ce4bc4648a84236c16d",
       "version_major": 2,
       "version_minor": 0
      },
      "text/plain": [
       "  0%|          | 0/1702 [00:00<?, ?it/s]"
      ]
     },
     "metadata": {},
     "output_type": "display_data"
    },
    {
     "name": "stdout",
     "output_type": "stream",
     "text": [
      "{'eval_loss': 3.888550043106079, 'eval_runtime': 109.6986, 'eval_samples_per_second': 124.076, 'eval_steps_per_second': 15.515, 'epoch': 0.36}\n",
      "{'loss': 4.0693, 'grad_norm': 7.012241363525391, 'learning_rate': 1.3428571428571429e-05, 'epoch': 0.37}\n"
     ]
    },
    {
     "data": {
      "application/vnd.jupyter.widget-view+json": {
       "model_id": "d4f5d26dc3c840e8ba5e2fbc604db15c",
       "version_major": 2,
       "version_minor": 0
      },
      "text/plain": [
       "  0%|          | 0/1702 [00:00<?, ?it/s]"
      ]
     },
     "metadata": {},
     "output_type": "display_data"
    },
    {
     "name": "stdout",
     "output_type": "stream",
     "text": [
      "{'eval_loss': 3.9002320766448975, 'eval_runtime': 109.6756, 'eval_samples_per_second': 124.102, 'eval_steps_per_second': 15.518, 'epoch': 0.37}\n",
      "{'loss': 3.8428, 'grad_norm': 3.572821617126465, 'learning_rate': 1.3265306122448982e-05, 'epoch': 0.37}\n"
     ]
    },
    {
     "data": {
      "application/vnd.jupyter.widget-view+json": {
       "model_id": "d752e7cd87db4188a432cfe8044f5593",
       "version_major": 2,
       "version_minor": 0
      },
      "text/plain": [
       "  0%|          | 0/1702 [00:00<?, ?it/s]"
      ]
     },
     "metadata": {},
     "output_type": "display_data"
    },
    {
     "name": "stdout",
     "output_type": "stream",
     "text": [
      "{'eval_loss': 3.895016670227051, 'eval_runtime': 109.7393, 'eval_samples_per_second': 124.03, 'eval_steps_per_second': 15.509, 'epoch': 0.37}\n",
      "{'loss': 3.785, 'grad_norm': 3.1776232719421387, 'learning_rate': 1.310204081632653e-05, 'epoch': 0.37}\n"
     ]
    },
    {
     "data": {
      "application/vnd.jupyter.widget-view+json": {
       "model_id": "bf302f4e31aa4366a5f42a73e6ee96a3",
       "version_major": 2,
       "version_minor": 0
      },
      "text/plain": [
       "  0%|          | 0/1702 [00:00<?, ?it/s]"
      ]
     },
     "metadata": {},
     "output_type": "display_data"
    },
    {
     "name": "stdout",
     "output_type": "stream",
     "text": [
      "{'eval_loss': 3.8976290225982666, 'eval_runtime': 109.7736, 'eval_samples_per_second': 123.992, 'eval_steps_per_second': 15.505, 'epoch': 0.37}\n",
      "{'loss': 3.9007, 'grad_norm': 3.776785135269165, 'learning_rate': 1.2938775510204082e-05, 'epoch': 0.37}\n"
     ]
    },
    {
     "data": {
      "application/vnd.jupyter.widget-view+json": {
       "model_id": "6d61c6149473442299ea2bbc8162e533",
       "version_major": 2,
       "version_minor": 0
      },
      "text/plain": [
       "  0%|          | 0/1702 [00:00<?, ?it/s]"
      ]
     },
     "metadata": {},
     "output_type": "display_data"
    },
    {
     "name": "stdout",
     "output_type": "stream",
     "text": [
      "{'eval_loss': 3.8996641635894775, 'eval_runtime': 109.8083, 'eval_samples_per_second': 123.952, 'eval_steps_per_second': 15.5, 'epoch': 0.37}\n",
      "{'loss': 3.8329, 'grad_norm': 2.686429262161255, 'learning_rate': 1.2775510204081634e-05, 'epoch': 0.37}\n"
     ]
    },
    {
     "data": {
      "application/vnd.jupyter.widget-view+json": {
       "model_id": "54fef0a2f85043de84580ae324248bc3",
       "version_major": 2,
       "version_minor": 0
      },
      "text/plain": [
       "  0%|          | 0/1702 [00:00<?, ?it/s]"
      ]
     },
     "metadata": {},
     "output_type": "display_data"
    },
    {
     "name": "stdout",
     "output_type": "stream",
     "text": [
      "{'eval_loss': 3.892854690551758, 'eval_runtime': 109.7886, 'eval_samples_per_second': 123.975, 'eval_steps_per_second': 15.503, 'epoch': 0.37}\n",
      "{'loss': 3.8696, 'grad_norm': 6.439247131347656, 'learning_rate': 1.2612244897959185e-05, 'epoch': 0.37}\n"
     ]
    },
    {
     "data": {
      "application/vnd.jupyter.widget-view+json": {
       "model_id": "2b4ddd02396e4fe796576a57330f5875",
       "version_major": 2,
       "version_minor": 0
      },
      "text/plain": [
       "  0%|          | 0/1702 [00:00<?, ?it/s]"
      ]
     },
     "metadata": {},
     "output_type": "display_data"
    },
    {
     "name": "stdout",
     "output_type": "stream",
     "text": [
      "{'eval_loss': 3.89316463470459, 'eval_runtime': 109.7661, 'eval_samples_per_second': 124.0, 'eval_steps_per_second': 15.506, 'epoch': 0.37}\n",
      "{'loss': 3.8603, 'grad_norm': 2.3870060443878174, 'learning_rate': 1.2448979591836735e-05, 'epoch': 0.38}\n"
     ]
    },
    {
     "data": {
      "application/vnd.jupyter.widget-view+json": {
       "model_id": "38cdc23692de49fd9bb6062908137060",
       "version_major": 2,
       "version_minor": 0
      },
      "text/plain": [
       "  0%|          | 0/1702 [00:00<?, ?it/s]"
      ]
     },
     "metadata": {},
     "output_type": "display_data"
    },
    {
     "name": "stdout",
     "output_type": "stream",
     "text": [
      "{'eval_loss': 3.9000160694122314, 'eval_runtime': 109.7945, 'eval_samples_per_second': 123.968, 'eval_steps_per_second': 15.502, 'epoch': 0.38}\n",
      "{'loss': 3.9348, 'grad_norm': 3.939785957336426, 'learning_rate': 1.2285714285714286e-05, 'epoch': 0.38}\n"
     ]
    },
    {
     "data": {
      "application/vnd.jupyter.widget-view+json": {
       "model_id": "9f453e3a2b314604838e6049cdcf7739",
       "version_major": 2,
       "version_minor": 0
      },
      "text/plain": [
       "  0%|          | 0/1702 [00:00<?, ?it/s]"
      ]
     },
     "metadata": {},
     "output_type": "display_data"
    },
    {
     "name": "stdout",
     "output_type": "stream",
     "text": [
      "{'eval_loss': 3.892699956893921, 'eval_runtime': 109.7006, 'eval_samples_per_second': 124.074, 'eval_steps_per_second': 15.515, 'epoch': 0.38}\n",
      "{'loss': 3.9871, 'grad_norm': 3.772784948348999, 'learning_rate': 1.2122448979591837e-05, 'epoch': 0.38}\n"
     ]
    },
    {
     "data": {
      "application/vnd.jupyter.widget-view+json": {
       "model_id": "decc36ebcb5d4075875a32dcd7a8d3d4",
       "version_major": 2,
       "version_minor": 0
      },
      "text/plain": [
       "  0%|          | 0/1702 [00:00<?, ?it/s]"
      ]
     },
     "metadata": {},
     "output_type": "display_data"
    },
    {
     "name": "stdout",
     "output_type": "stream",
     "text": [
      "{'eval_loss': 3.8916757106781006, 'eval_runtime': 109.7421, 'eval_samples_per_second': 124.027, 'eval_steps_per_second': 15.509, 'epoch': 0.38}\n",
      "{'loss': 3.9714, 'grad_norm': 6.374429225921631, 'learning_rate': 1.1959183673469389e-05, 'epoch': 0.38}\n"
     ]
    },
    {
     "data": {
      "application/vnd.jupyter.widget-view+json": {
       "model_id": "8a1db9cc37364be89e17a5d06baf0d16",
       "version_major": 2,
       "version_minor": 0
      },
      "text/plain": [
       "  0%|          | 0/1702 [00:00<?, ?it/s]"
      ]
     },
     "metadata": {},
     "output_type": "display_data"
    },
    {
     "name": "stdout",
     "output_type": "stream",
     "text": [
      "{'eval_loss': 3.887117862701416, 'eval_runtime': 109.7443, 'eval_samples_per_second': 124.025, 'eval_steps_per_second': 15.509, 'epoch': 0.38}\n",
      "{'loss': 3.7317, 'grad_norm': 2.805359125137329, 'learning_rate': 1.179591836734694e-05, 'epoch': 0.38}\n"
     ]
    },
    {
     "data": {
      "application/vnd.jupyter.widget-view+json": {
       "model_id": "3259e7d5e05144b9adf171fb327e3948",
       "version_major": 2,
       "version_minor": 0
      },
      "text/plain": [
       "  0%|          | 0/1702 [00:00<?, ?it/s]"
      ]
     },
     "metadata": {},
     "output_type": "display_data"
    },
    {
     "name": "stdout",
     "output_type": "stream",
     "text": [
      "{'eval_loss': 3.8909239768981934, 'eval_runtime': 109.7019, 'eval_samples_per_second': 124.073, 'eval_steps_per_second': 15.515, 'epoch': 0.38}\n",
      "{'loss': 3.9879, 'grad_norm': 3.6635990142822266, 'learning_rate': 1.163265306122449e-05, 'epoch': 0.38}\n"
     ]
    },
    {
     "data": {
      "application/vnd.jupyter.widget-view+json": {
       "model_id": "9073905dfe7443a7bf10d4f96a2d25d0",
       "version_major": 2,
       "version_minor": 0
      },
      "text/plain": [
       "  0%|          | 0/1702 [00:00<?, ?it/s]"
      ]
     },
     "metadata": {},
     "output_type": "display_data"
    },
    {
     "name": "stdout",
     "output_type": "stream",
     "text": [
      "{'eval_loss': 3.8876614570617676, 'eval_runtime': 109.7339, 'eval_samples_per_second': 124.036, 'eval_steps_per_second': 15.51, 'epoch': 0.38}\n",
      "{'loss': 4.007, 'grad_norm': 3.980118989944458, 'learning_rate': 1.146938775510204e-05, 'epoch': 0.39}\n"
     ]
    },
    {
     "data": {
      "application/vnd.jupyter.widget-view+json": {
       "model_id": "4b9834ce24b24eb5823d6319e6d5bed3",
       "version_major": 2,
       "version_minor": 0
      },
      "text/plain": [
       "  0%|          | 0/1702 [00:00<?, ?it/s]"
      ]
     },
     "metadata": {},
     "output_type": "display_data"
    },
    {
     "name": "stdout",
     "output_type": "stream",
     "text": [
      "{'eval_loss': 3.895789623260498, 'eval_runtime': 109.6878, 'eval_samples_per_second': 124.089, 'eval_steps_per_second': 15.517, 'epoch': 0.39}\n",
      "{'loss': 3.9814, 'grad_norm': 6.9148383140563965, 'learning_rate': 1.1306122448979592e-05, 'epoch': 0.39}\n"
     ]
    },
    {
     "data": {
      "application/vnd.jupyter.widget-view+json": {
       "model_id": "8ff63e3d723c403ca12dd809e54ad015",
       "version_major": 2,
       "version_minor": 0
      },
      "text/plain": [
       "  0%|          | 0/1702 [00:00<?, ?it/s]"
      ]
     },
     "metadata": {},
     "output_type": "display_data"
    },
    {
     "name": "stdout",
     "output_type": "stream",
     "text": [
      "{'eval_loss': 3.893587350845337, 'eval_runtime': 109.7132, 'eval_samples_per_second': 124.06, 'eval_steps_per_second': 15.513, 'epoch': 0.39}\n",
      "{'loss': 4.0529, 'grad_norm': 5.04536247253418, 'learning_rate': 1.1142857142857143e-05, 'epoch': 0.39}\n"
     ]
    },
    {
     "data": {
      "application/vnd.jupyter.widget-view+json": {
       "model_id": "191d80d53c1941c1bd7b4aaba0869e8f",
       "version_major": 2,
       "version_minor": 0
      },
      "text/plain": [
       "  0%|          | 0/1702 [00:00<?, ?it/s]"
      ]
     },
     "metadata": {},
     "output_type": "display_data"
    },
    {
     "name": "stdout",
     "output_type": "stream",
     "text": [
      "{'eval_loss': 3.8957648277282715, 'eval_runtime': 109.7001, 'eval_samples_per_second': 124.075, 'eval_steps_per_second': 15.515, 'epoch': 0.39}\n",
      "{'loss': 3.9035, 'grad_norm': 2.7389464378356934, 'learning_rate': 1.0979591836734695e-05, 'epoch': 0.39}\n"
     ]
    },
    {
     "data": {
      "application/vnd.jupyter.widget-view+json": {
       "model_id": "721cbd0b646b4562821b75d639eb7c10",
       "version_major": 2,
       "version_minor": 0
      },
      "text/plain": [
       "  0%|          | 0/1702 [00:00<?, ?it/s]"
      ]
     },
     "metadata": {},
     "output_type": "display_data"
    },
    {
     "name": "stdout",
     "output_type": "stream",
     "text": [
      "{'eval_loss': 3.8862273693084717, 'eval_runtime': 109.7243, 'eval_samples_per_second': 124.047, 'eval_steps_per_second': 15.512, 'epoch': 0.39}\n",
      "{'loss': 3.8499, 'grad_norm': 1.8737250566482544, 'learning_rate': 1.0816326530612246e-05, 'epoch': 0.39}\n"
     ]
    },
    {
     "data": {
      "application/vnd.jupyter.widget-view+json": {
       "model_id": "044302a8fe694497984698cd27910056",
       "version_major": 2,
       "version_minor": 0
      },
      "text/plain": [
       "  0%|          | 0/1702 [00:00<?, ?it/s]"
      ]
     },
     "metadata": {},
     "output_type": "display_data"
    },
    {
     "name": "stdout",
     "output_type": "stream",
     "text": [
      "{'eval_loss': 3.892137050628662, 'eval_runtime': 109.7086, 'eval_samples_per_second': 124.065, 'eval_steps_per_second': 15.514, 'epoch': 0.39}\n",
      "{'loss': 4.0293, 'grad_norm': 3.441020965576172, 'learning_rate': 1.0653061224489797e-05, 'epoch': 0.39}\n"
     ]
    },
    {
     "data": {
      "application/vnd.jupyter.widget-view+json": {
       "model_id": "8de357629e4b4a5bb33392e96f5b9924",
       "version_major": 2,
       "version_minor": 0
      },
      "text/plain": [
       "  0%|          | 0/1702 [00:00<?, ?it/s]"
      ]
     },
     "metadata": {},
     "output_type": "display_data"
    },
    {
     "name": "stdout",
     "output_type": "stream",
     "text": [
      "{'eval_loss': 3.88917875289917, 'eval_runtime': 109.7646, 'eval_samples_per_second': 124.002, 'eval_steps_per_second': 15.506, 'epoch': 0.39}\n",
      "{'loss': 3.9671, 'grad_norm': 6.593017101287842, 'learning_rate': 1.0489795918367347e-05, 'epoch': 0.4}\n"
     ]
    },
    {
     "data": {
      "application/vnd.jupyter.widget-view+json": {
       "model_id": "73bb60ecef84487a8acfb1e308a7e02e",
       "version_major": 2,
       "version_minor": 0
      },
      "text/plain": [
       "  0%|          | 0/1702 [00:00<?, ?it/s]"
      ]
     },
     "metadata": {},
     "output_type": "display_data"
    },
    {
     "name": "stdout",
     "output_type": "stream",
     "text": [
      "{'eval_loss': 3.8827390670776367, 'eval_runtime': 109.6893, 'eval_samples_per_second': 124.087, 'eval_steps_per_second': 15.517, 'epoch': 0.4}\n",
      "{'loss': 3.9136, 'grad_norm': 2.414716958999634, 'learning_rate': 1.0326530612244898e-05, 'epoch': 0.4}\n"
     ]
    },
    {
     "data": {
      "application/vnd.jupyter.widget-view+json": {
       "model_id": "ad0e5e7434624aab87d5d641ccbea689",
       "version_major": 2,
       "version_minor": 0
      },
      "text/plain": [
       "  0%|          | 0/1702 [00:00<?, ?it/s]"
      ]
     },
     "metadata": {},
     "output_type": "display_data"
    },
    {
     "name": "stdout",
     "output_type": "stream",
     "text": [
      "{'eval_loss': 3.8823606967926025, 'eval_runtime': 109.6175, 'eval_samples_per_second': 124.168, 'eval_steps_per_second': 15.527, 'epoch': 0.4}\n",
      "{'loss': 4.1004, 'grad_norm': 3.5281319618225098, 'learning_rate': 1.016326530612245e-05, 'epoch': 0.4}\n"
     ]
    },
    {
     "data": {
      "application/vnd.jupyter.widget-view+json": {
       "model_id": "1529e4e97a7f41d881759f6e67310739",
       "version_major": 2,
       "version_minor": 0
      },
      "text/plain": [
       "  0%|          | 0/1702 [00:00<?, ?it/s]"
      ]
     },
     "metadata": {},
     "output_type": "display_data"
    },
    {
     "name": "stdout",
     "output_type": "stream",
     "text": [
      "{'eval_loss': 3.891822338104248, 'eval_runtime': 109.6917, 'eval_samples_per_second': 124.084, 'eval_steps_per_second': 15.516, 'epoch': 0.4}\n",
      "{'loss': 3.8975, 'grad_norm': 7.6591057777404785, 'learning_rate': 1e-05, 'epoch': 0.4}\n"
     ]
    },
    {
     "data": {
      "application/vnd.jupyter.widget-view+json": {
       "model_id": "11890c5a8e8148dfb53f63fef2ed28d8",
       "version_major": 2,
       "version_minor": 0
      },
      "text/plain": [
       "  0%|          | 0/1702 [00:00<?, ?it/s]"
      ]
     },
     "metadata": {},
     "output_type": "display_data"
    },
    {
     "name": "stdout",
     "output_type": "stream",
     "text": [
      "{'eval_loss': 3.8855373859405518, 'eval_runtime': 109.726, 'eval_samples_per_second': 124.045, 'eval_steps_per_second': 15.511, 'epoch': 0.4}\n",
      "{'loss': 3.863, 'grad_norm': 5.040950298309326, 'learning_rate': 9.836734693877552e-06, 'epoch': 0.4}\n"
     ]
    },
    {
     "data": {
      "application/vnd.jupyter.widget-view+json": {
       "model_id": "71ade508f8184f1fa570dbc200381bb1",
       "version_major": 2,
       "version_minor": 0
      },
      "text/plain": [
       "  0%|          | 0/1702 [00:00<?, ?it/s]"
      ]
     },
     "metadata": {},
     "output_type": "display_data"
    },
    {
     "name": "stdout",
     "output_type": "stream",
     "text": [
      "{'eval_loss': 3.880448818206787, 'eval_runtime': 109.6729, 'eval_samples_per_second': 124.105, 'eval_steps_per_second': 15.519, 'epoch': 0.4}\n",
      "{'loss': 3.7894, 'grad_norm': 6.2402119636535645, 'learning_rate': 9.673469387755102e-06, 'epoch': 0.4}\n"
     ]
    },
    {
     "data": {
      "application/vnd.jupyter.widget-view+json": {
       "model_id": "0b053d7e2dec412593221857f5d5ae4a",
       "version_major": 2,
       "version_minor": 0
      },
      "text/plain": [
       "  0%|          | 0/1702 [00:00<?, ?it/s]"
      ]
     },
     "metadata": {},
     "output_type": "display_data"
    },
    {
     "name": "stdout",
     "output_type": "stream",
     "text": [
      "{'eval_loss': 3.8858187198638916, 'eval_runtime': 109.7478, 'eval_samples_per_second': 124.021, 'eval_steps_per_second': 15.508, 'epoch': 0.4}\n",
      "{'loss': 3.8899, 'grad_norm': 3.8487086296081543, 'learning_rate': 9.510204081632653e-06, 'epoch': 0.4}\n"
     ]
    },
    {
     "data": {
      "application/vnd.jupyter.widget-view+json": {
       "model_id": "5dfeab8402d14e1a811394114cc1d9db",
       "version_major": 2,
       "version_minor": 0
      },
      "text/plain": [
       "  0%|          | 0/1702 [00:00<?, ?it/s]"
      ]
     },
     "metadata": {},
     "output_type": "display_data"
    },
    {
     "name": "stdout",
     "output_type": "stream",
     "text": [
      "{'eval_loss': 3.8830225467681885, 'eval_runtime': 109.7122, 'eval_samples_per_second': 124.061, 'eval_steps_per_second': 15.513, 'epoch': 0.4}\n",
      "{'loss': 4.014, 'grad_norm': 3.3087546825408936, 'learning_rate': 9.346938775510204e-06, 'epoch': 0.41}\n"
     ]
    },
    {
     "data": {
      "application/vnd.jupyter.widget-view+json": {
       "model_id": "cdd184bfee614492b199b314c25189c1",
       "version_major": 2,
       "version_minor": 0
      },
      "text/plain": [
       "  0%|          | 0/1702 [00:00<?, ?it/s]"
      ]
     },
     "metadata": {},
     "output_type": "display_data"
    },
    {
     "name": "stdout",
     "output_type": "stream",
     "text": [
      "{'eval_loss': 3.887237310409546, 'eval_runtime': 109.6969, 'eval_samples_per_second': 124.078, 'eval_steps_per_second': 15.515, 'epoch': 0.41}\n",
      "{'loss': 3.7956, 'grad_norm': 3.5672478675842285, 'learning_rate': 9.183673469387756e-06, 'epoch': 0.41}\n"
     ]
    },
    {
     "data": {
      "application/vnd.jupyter.widget-view+json": {
       "model_id": "2712e1f6ce824bcf9a2c8c156b4e95df",
       "version_major": 2,
       "version_minor": 0
      },
      "text/plain": [
       "  0%|          | 0/1702 [00:00<?, ?it/s]"
      ]
     },
     "metadata": {},
     "output_type": "display_data"
    },
    {
     "name": "stdout",
     "output_type": "stream",
     "text": [
      "{'eval_loss': 3.882488250732422, 'eval_runtime': 109.651, 'eval_samples_per_second': 124.13, 'eval_steps_per_second': 15.522, 'epoch': 0.41}\n",
      "{'loss': 3.9305, 'grad_norm': 5.036694526672363, 'learning_rate': 9.020408163265307e-06, 'epoch': 0.41}\n"
     ]
    },
    {
     "data": {
      "application/vnd.jupyter.widget-view+json": {
       "model_id": "3c9bcc2f8fac46f99504b244e59b1379",
       "version_major": 2,
       "version_minor": 0
      },
      "text/plain": [
       "  0%|          | 0/1702 [00:00<?, ?it/s]"
      ]
     },
     "metadata": {},
     "output_type": "display_data"
    },
    {
     "name": "stdout",
     "output_type": "stream",
     "text": [
      "{'eval_loss': 3.880845785140991, 'eval_runtime': 109.6425, 'eval_samples_per_second': 124.14, 'eval_steps_per_second': 15.523, 'epoch': 0.41}\n",
      "{'loss': 3.8521, 'grad_norm': 3.710249900817871, 'learning_rate': 8.857142857142857e-06, 'epoch': 0.41}\n"
     ]
    },
    {
     "data": {
      "application/vnd.jupyter.widget-view+json": {
       "model_id": "9e4323ba451344b98c02e0df3ad3b07f",
       "version_major": 2,
       "version_minor": 0
      },
      "text/plain": [
       "  0%|          | 0/1702 [00:00<?, ?it/s]"
      ]
     },
     "metadata": {},
     "output_type": "display_data"
    },
    {
     "name": "stdout",
     "output_type": "stream",
     "text": [
      "{'eval_loss': 3.8793208599090576, 'eval_runtime': 109.6087, 'eval_samples_per_second': 124.178, 'eval_steps_per_second': 15.528, 'epoch': 0.41}\n",
      "{'loss': 3.8512, 'grad_norm': 4.3166399002075195, 'learning_rate': 8.69387755102041e-06, 'epoch': 0.41}\n"
     ]
    },
    {
     "data": {
      "application/vnd.jupyter.widget-view+json": {
       "model_id": "895e8d9c0c464dcc8e60f297634e0960",
       "version_major": 2,
       "version_minor": 0
      },
      "text/plain": [
       "  0%|          | 0/1702 [00:00<?, ?it/s]"
      ]
     },
     "metadata": {},
     "output_type": "display_data"
    },
    {
     "name": "stdout",
     "output_type": "stream",
     "text": [
      "{'eval_loss': 3.8814239501953125, 'eval_runtime': 109.653, 'eval_samples_per_second': 124.128, 'eval_steps_per_second': 15.522, 'epoch': 0.41}\n",
      "{'loss': 3.9304, 'grad_norm': 4.216821670532227, 'learning_rate': 8.53061224489796e-06, 'epoch': 0.41}\n"
     ]
    },
    {
     "data": {
      "application/vnd.jupyter.widget-view+json": {
       "model_id": "1f552c9ebfed4c58936203a7cd150acd",
       "version_major": 2,
       "version_minor": 0
      },
      "text/plain": [
       "  0%|          | 0/1702 [00:00<?, ?it/s]"
      ]
     },
     "metadata": {},
     "output_type": "display_data"
    },
    {
     "name": "stdout",
     "output_type": "stream",
     "text": [
      "{'eval_loss': 3.8850138187408447, 'eval_runtime': 109.5928, 'eval_samples_per_second': 124.196, 'eval_steps_per_second': 15.53, 'epoch': 0.41}\n",
      "{'loss': 3.8906, 'grad_norm': 2.212730884552002, 'learning_rate': 8.36734693877551e-06, 'epoch': 0.42}\n"
     ]
    },
    {
     "data": {
      "application/vnd.jupyter.widget-view+json": {
       "model_id": "ef2757b42fcc482189d3b04bcc786264",
       "version_major": 2,
       "version_minor": 0
      },
      "text/plain": [
       "  0%|          | 0/1702 [00:00<?, ?it/s]"
      ]
     },
     "metadata": {},
     "output_type": "display_data"
    },
    {
     "name": "stdout",
     "output_type": "stream",
     "text": [
      "{'eval_loss': 3.884316921234131, 'eval_runtime': 109.6129, 'eval_samples_per_second': 124.173, 'eval_steps_per_second': 15.527, 'epoch': 0.42}\n",
      "{'loss': 3.9295, 'grad_norm': 4.883177757263184, 'learning_rate': 8.204081632653062e-06, 'epoch': 0.42}\n"
     ]
    },
    {
     "data": {
      "application/vnd.jupyter.widget-view+json": {
       "model_id": "64d659572d1d49a48838eb67db27fd9c",
       "version_major": 2,
       "version_minor": 0
      },
      "text/plain": [
       "  0%|          | 0/1702 [00:00<?, ?it/s]"
      ]
     },
     "metadata": {},
     "output_type": "display_data"
    },
    {
     "name": "stdout",
     "output_type": "stream",
     "text": [
      "{'eval_loss': 3.8771684169769287, 'eval_runtime': 109.5836, 'eval_samples_per_second': 124.207, 'eval_steps_per_second': 15.532, 'epoch': 0.42}\n",
      "{'loss': 3.9561, 'grad_norm': 3.670799732208252, 'learning_rate': 8.040816326530613e-06, 'epoch': 0.42}\n"
     ]
    },
    {
     "data": {
      "application/vnd.jupyter.widget-view+json": {
       "model_id": "74087460925249298dc212aac1c619f1",
       "version_major": 2,
       "version_minor": 0
      },
      "text/plain": [
       "  0%|          | 0/1702 [00:00<?, ?it/s]"
      ]
     },
     "metadata": {},
     "output_type": "display_data"
    },
    {
     "name": "stdout",
     "output_type": "stream",
     "text": [
      "{'eval_loss': 3.8847010135650635, 'eval_runtime': 109.8169, 'eval_samples_per_second': 123.943, 'eval_steps_per_second': 15.499, 'epoch': 0.42}\n",
      "{'loss': 3.7766, 'grad_norm': 5.110223293304443, 'learning_rate': 7.877551020408164e-06, 'epoch': 0.42}\n"
     ]
    },
    {
     "data": {
      "application/vnd.jupyter.widget-view+json": {
       "model_id": "57acfdafb08a460e8cba00544164bfb0",
       "version_major": 2,
       "version_minor": 0
      },
      "text/plain": [
       "  0%|          | 0/1702 [00:00<?, ?it/s]"
      ]
     },
     "metadata": {},
     "output_type": "display_data"
    },
    {
     "name": "stdout",
     "output_type": "stream",
     "text": [
      "{'eval_loss': 3.8818037509918213, 'eval_runtime': 109.5707, 'eval_samples_per_second': 124.221, 'eval_steps_per_second': 15.533, 'epoch': 0.42}\n",
      "{'loss': 4.0112, 'grad_norm': 6.718925476074219, 'learning_rate': 7.714285714285714e-06, 'epoch': 0.42}\n"
     ]
    },
    {
     "data": {
      "application/vnd.jupyter.widget-view+json": {
       "model_id": "cf56383181c74bbb8a3a941cce5d843e",
       "version_major": 2,
       "version_minor": 0
      },
      "text/plain": [
       "  0%|          | 0/1702 [00:00<?, ?it/s]"
      ]
     },
     "metadata": {},
     "output_type": "display_data"
    },
    {
     "name": "stdout",
     "output_type": "stream",
     "text": [
      "{'eval_loss': 3.888493776321411, 'eval_runtime': 109.6099, 'eval_samples_per_second': 124.177, 'eval_steps_per_second': 15.528, 'epoch': 0.42}\n",
      "{'loss': 3.963, 'grad_norm': 2.5887787342071533, 'learning_rate': 7.551020408163266e-06, 'epoch': 0.42}\n"
     ]
    },
    {
     "data": {
      "application/vnd.jupyter.widget-view+json": {
       "model_id": "e93a0e29253c43d7ad8a06a962be4f7c",
       "version_major": 2,
       "version_minor": 0
      },
      "text/plain": [
       "  0%|          | 0/1702 [00:00<?, ?it/s]"
      ]
     },
     "metadata": {},
     "output_type": "display_data"
    },
    {
     "name": "stdout",
     "output_type": "stream",
     "text": [
      "{'eval_loss': 3.879132032394409, 'eval_runtime': 109.5901, 'eval_samples_per_second': 124.199, 'eval_steps_per_second': 15.531, 'epoch': 0.42}\n",
      "{'loss': 3.9085, 'grad_norm': 2.423393964767456, 'learning_rate': 7.387755102040817e-06, 'epoch': 0.43}\n"
     ]
    },
    {
     "data": {
      "application/vnd.jupyter.widget-view+json": {
       "model_id": "a74835d0738340adb1e3e3f45f463eda",
       "version_major": 2,
       "version_minor": 0
      },
      "text/plain": [
       "  0%|          | 0/1702 [00:00<?, ?it/s]"
      ]
     },
     "metadata": {},
     "output_type": "display_data"
    },
    {
     "name": "stdout",
     "output_type": "stream",
     "text": [
      "{'eval_loss': 3.8859174251556396, 'eval_runtime': 109.589, 'eval_samples_per_second': 124.2, 'eval_steps_per_second': 15.531, 'epoch': 0.43}\n",
      "{'loss': 3.9276, 'grad_norm': 3.889587163925171, 'learning_rate': 7.224489795918368e-06, 'epoch': 0.43}\n"
     ]
    },
    {
     "data": {
      "application/vnd.jupyter.widget-view+json": {
       "model_id": "f92f274dc9024faeaf71a86da4f34261",
       "version_major": 2,
       "version_minor": 0
      },
      "text/plain": [
       "  0%|          | 0/1702 [00:00<?, ?it/s]"
      ]
     },
     "metadata": {},
     "output_type": "display_data"
    },
    {
     "name": "stdout",
     "output_type": "stream",
     "text": [
      "{'eval_loss': 3.878406286239624, 'eval_runtime': 109.584, 'eval_samples_per_second': 124.206, 'eval_steps_per_second': 15.531, 'epoch': 0.43}\n",
      "{'loss': 3.9734, 'grad_norm': 3.7117395401000977, 'learning_rate': 7.061224489795918e-06, 'epoch': 0.43}\n"
     ]
    },
    {
     "data": {
      "application/vnd.jupyter.widget-view+json": {
       "model_id": "40a74c86d1e7473195955d522c3b4c70",
       "version_major": 2,
       "version_minor": 0
      },
      "text/plain": [
       "  0%|          | 0/1702 [00:00<?, ?it/s]"
      ]
     },
     "metadata": {},
     "output_type": "display_data"
    },
    {
     "name": "stdout",
     "output_type": "stream",
     "text": [
      "{'eval_loss': 3.8778436183929443, 'eval_runtime': 109.6072, 'eval_samples_per_second': 124.18, 'eval_steps_per_second': 15.528, 'epoch': 0.43}\n",
      "{'loss': 3.9929, 'grad_norm': 4.956496715545654, 'learning_rate': 6.897959183673469e-06, 'epoch': 0.43}\n"
     ]
    },
    {
     "data": {
      "application/vnd.jupyter.widget-view+json": {
       "model_id": "eca7688d9d5049aa96e0a3b7a71ed582",
       "version_major": 2,
       "version_minor": 0
      },
      "text/plain": [
       "  0%|          | 0/1702 [00:00<?, ?it/s]"
      ]
     },
     "metadata": {},
     "output_type": "display_data"
    },
    {
     "name": "stdout",
     "output_type": "stream",
     "text": [
      "{'eval_loss': 3.875910997390747, 'eval_runtime': 109.5373, 'eval_samples_per_second': 124.259, 'eval_steps_per_second': 15.538, 'epoch': 0.43}\n",
      "{'loss': 3.8616, 'grad_norm': 4.034073352813721, 'learning_rate': 6.734693877551021e-06, 'epoch': 0.43}\n"
     ]
    },
    {
     "data": {
      "application/vnd.jupyter.widget-view+json": {
       "model_id": "e0e79d6863a04f57b3d245111ad8d16a",
       "version_major": 2,
       "version_minor": 0
      },
      "text/plain": [
       "  0%|          | 0/1702 [00:00<?, ?it/s]"
      ]
     },
     "metadata": {},
     "output_type": "display_data"
    },
    {
     "name": "stdout",
     "output_type": "stream",
     "text": [
      "{'eval_loss': 3.877609968185425, 'eval_runtime': 109.6163, 'eval_samples_per_second': 124.17, 'eval_steps_per_second': 15.527, 'epoch': 0.43}\n",
      "{'loss': 3.8346, 'grad_norm': 3.1382510662078857, 'learning_rate': 6.5714285714285714e-06, 'epoch': 0.43}\n"
     ]
    },
    {
     "data": {
      "application/vnd.jupyter.widget-view+json": {
       "model_id": "c1d49bfa1d5d478b9d28452cd5db4496",
       "version_major": 2,
       "version_minor": 0
      },
      "text/plain": [
       "  0%|          | 0/1702 [00:00<?, ?it/s]"
      ]
     },
     "metadata": {},
     "output_type": "display_data"
    },
    {
     "name": "stdout",
     "output_type": "stream",
     "text": [
      "{'eval_loss': 3.8765993118286133, 'eval_runtime': 109.5899, 'eval_samples_per_second': 124.199, 'eval_steps_per_second': 15.531, 'epoch': 0.43}\n",
      "{'loss': 3.8998, 'grad_norm': 4.32956600189209, 'learning_rate': 6.408163265306124e-06, 'epoch': 0.44}\n"
     ]
    },
    {
     "data": {
      "application/vnd.jupyter.widget-view+json": {
       "model_id": "c0533ea5870d44529e3b4531d2a572ba",
       "version_major": 2,
       "version_minor": 0
      },
      "text/plain": [
       "  0%|          | 0/1702 [00:00<?, ?it/s]"
      ]
     },
     "metadata": {},
     "output_type": "display_data"
    },
    {
     "name": "stdout",
     "output_type": "stream",
     "text": [
      "{'eval_loss': 3.8765430450439453, 'eval_runtime': 109.6019, 'eval_samples_per_second': 124.186, 'eval_steps_per_second': 15.529, 'epoch': 0.44}\n",
      "{'loss': 3.9147, 'grad_norm': 4.559917449951172, 'learning_rate': 6.244897959183674e-06, 'epoch': 0.44}\n"
     ]
    },
    {
     "data": {
      "application/vnd.jupyter.widget-view+json": {
       "model_id": "d0962afa2dde4f1c82a4d0a1b498341b",
       "version_major": 2,
       "version_minor": 0
      },
      "text/plain": [
       "  0%|          | 0/1702 [00:00<?, ?it/s]"
      ]
     },
     "metadata": {},
     "output_type": "display_data"
    },
    {
     "name": "stdout",
     "output_type": "stream",
     "text": [
      "{'eval_loss': 3.875898599624634, 'eval_runtime': 109.6959, 'eval_samples_per_second': 124.079, 'eval_steps_per_second': 15.516, 'epoch': 0.44}\n",
      "{'loss': 4.038, 'grad_norm': 4.273165225982666, 'learning_rate': 6.0816326530612245e-06, 'epoch': 0.44}\n"
     ]
    },
    {
     "data": {
      "application/vnd.jupyter.widget-view+json": {
       "model_id": "2c0071b17c3643208c4131a8983b8595",
       "version_major": 2,
       "version_minor": 0
      },
      "text/plain": [
       "  0%|          | 0/1702 [00:00<?, ?it/s]"
      ]
     },
     "metadata": {},
     "output_type": "display_data"
    },
    {
     "name": "stdout",
     "output_type": "stream",
     "text": [
      "{'eval_loss': 3.8730013370513916, 'eval_runtime': 109.6399, 'eval_samples_per_second': 124.143, 'eval_steps_per_second': 15.524, 'epoch': 0.44}\n",
      "{'loss': 3.8217, 'grad_norm': 5.209369659423828, 'learning_rate': 5.918367346938776e-06, 'epoch': 0.44}\n"
     ]
    },
    {
     "data": {
      "application/vnd.jupyter.widget-view+json": {
       "model_id": "0ab0b2e07ac547709fb7a108745bd701",
       "version_major": 2,
       "version_minor": 0
      },
      "text/plain": [
       "  0%|          | 0/1702 [00:00<?, ?it/s]"
      ]
     },
     "metadata": {},
     "output_type": "display_data"
    },
    {
     "name": "stdout",
     "output_type": "stream",
     "text": [
      "{'eval_loss': 3.8799736499786377, 'eval_runtime': 109.6091, 'eval_samples_per_second': 124.178, 'eval_steps_per_second': 15.528, 'epoch': 0.44}\n",
      "{'loss': 3.8701, 'grad_norm': 12.12435531616211, 'learning_rate': 5.755102040816327e-06, 'epoch': 0.44}\n"
     ]
    },
    {
     "data": {
      "application/vnd.jupyter.widget-view+json": {
       "model_id": "99469eee95c8430f9b19eaac8d9e4168",
       "version_major": 2,
       "version_minor": 0
      },
      "text/plain": [
       "  0%|          | 0/1702 [00:00<?, ?it/s]"
      ]
     },
     "metadata": {},
     "output_type": "display_data"
    },
    {
     "name": "stdout",
     "output_type": "stream",
     "text": [
      "{'eval_loss': 3.8764455318450928, 'eval_runtime': 109.5934, 'eval_samples_per_second': 124.195, 'eval_steps_per_second': 15.53, 'epoch': 0.44}\n",
      "{'loss': 3.8132, 'grad_norm': 4.1400651931762695, 'learning_rate': 5.5918367346938776e-06, 'epoch': 0.44}\n"
     ]
    },
    {
     "data": {
      "application/vnd.jupyter.widget-view+json": {
       "model_id": "c2b6d830e72641da93f013847475ae01",
       "version_major": 2,
       "version_minor": 0
      },
      "text/plain": [
       "  0%|          | 0/1702 [00:00<?, ?it/s]"
      ]
     },
     "metadata": {},
     "output_type": "display_data"
    },
    {
     "name": "stdout",
     "output_type": "stream",
     "text": [
      "{'eval_loss': 3.8769991397857666, 'eval_runtime': 109.6769, 'eval_samples_per_second': 124.101, 'eval_steps_per_second': 15.518, 'epoch': 0.44}\n",
      "{'loss': 3.8946, 'grad_norm': 3.346680164337158, 'learning_rate': 5.428571428571429e-06, 'epoch': 0.45}\n"
     ]
    },
    {
     "data": {
      "application/vnd.jupyter.widget-view+json": {
       "model_id": "1299406446c0428c85d426f8b4ee1b45",
       "version_major": 2,
       "version_minor": 0
      },
      "text/plain": [
       "  0%|          | 0/1702 [00:00<?, ?it/s]"
      ]
     },
     "metadata": {},
     "output_type": "display_data"
    },
    {
     "name": "stdout",
     "output_type": "stream",
     "text": [
      "{'eval_loss': 3.877707004547119, 'eval_runtime': 109.6165, 'eval_samples_per_second': 124.169, 'eval_steps_per_second': 15.527, 'epoch': 0.45}\n",
      "{'loss': 3.9043, 'grad_norm': 2.0021703243255615, 'learning_rate': 5.26530612244898e-06, 'epoch': 0.45}\n"
     ]
    },
    {
     "data": {
      "application/vnd.jupyter.widget-view+json": {
       "model_id": "846c0d18099c4832abc2e592db359613",
       "version_major": 2,
       "version_minor": 0
      },
      "text/plain": [
       "  0%|          | 0/1702 [00:00<?, ?it/s]"
      ]
     },
     "metadata": {},
     "output_type": "display_data"
    },
    {
     "name": "stdout",
     "output_type": "stream",
     "text": [
      "{'eval_loss': 3.873960018157959, 'eval_runtime': 109.5858, 'eval_samples_per_second': 124.204, 'eval_steps_per_second': 15.531, 'epoch': 0.45}\n",
      "{'loss': 3.942, 'grad_norm': 6.896919250488281, 'learning_rate': 5.102040816326531e-06, 'epoch': 0.45}\n"
     ]
    },
    {
     "data": {
      "application/vnd.jupyter.widget-view+json": {
       "model_id": "8746f5a7aaed40d185a81ae13257c89e",
       "version_major": 2,
       "version_minor": 0
      },
      "text/plain": [
       "  0%|          | 0/1702 [00:00<?, ?it/s]"
      ]
     },
     "metadata": {},
     "output_type": "display_data"
    },
    {
     "name": "stdout",
     "output_type": "stream",
     "text": [
      "{'eval_loss': 3.8776142597198486, 'eval_runtime': 109.5868, 'eval_samples_per_second': 124.203, 'eval_steps_per_second': 15.531, 'epoch': 0.45}\n",
      "{'loss': 4.0011, 'grad_norm': 1.5463961362838745, 'learning_rate': 4.938775510204082e-06, 'epoch': 0.45}\n"
     ]
    },
    {
     "data": {
      "application/vnd.jupyter.widget-view+json": {
       "model_id": "32cb1fcf7b774ef68a028a19695561b5",
       "version_major": 2,
       "version_minor": 0
      },
      "text/plain": [
       "  0%|          | 0/1702 [00:00<?, ?it/s]"
      ]
     },
     "metadata": {},
     "output_type": "display_data"
    },
    {
     "name": "stdout",
     "output_type": "stream",
     "text": [
      "{'eval_loss': 3.877866506576538, 'eval_runtime': 109.6696, 'eval_samples_per_second': 124.109, 'eval_steps_per_second': 15.519, 'epoch': 0.45}\n",
      "{'loss': 4.182, 'grad_norm': 3.1203603744506836, 'learning_rate': 4.775510204081632e-06, 'epoch': 0.45}\n"
     ]
    },
    {
     "data": {
      "application/vnd.jupyter.widget-view+json": {
       "model_id": "193472de1b9b4ed08834e745f6e274ca",
       "version_major": 2,
       "version_minor": 0
      },
      "text/plain": [
       "  0%|          | 0/1702 [00:00<?, ?it/s]"
      ]
     },
     "metadata": {},
     "output_type": "display_data"
    },
    {
     "name": "stdout",
     "output_type": "stream",
     "text": [
      "{'eval_loss': 3.8752925395965576, 'eval_runtime': 109.6177, 'eval_samples_per_second': 124.168, 'eval_steps_per_second': 15.527, 'epoch': 0.45}\n",
      "{'loss': 3.8405, 'grad_norm': 4.707325458526611, 'learning_rate': 4.612244897959184e-06, 'epoch': 0.45}\n"
     ]
    },
    {
     "data": {
      "application/vnd.jupyter.widget-view+json": {
       "model_id": "ef7e237459f149f2ba7717f10f7814a2",
       "version_major": 2,
       "version_minor": 0
      },
      "text/plain": [
       "  0%|          | 0/1702 [00:00<?, ?it/s]"
      ]
     },
     "metadata": {},
     "output_type": "display_data"
    },
    {
     "name": "stdout",
     "output_type": "stream",
     "text": [
      "{'eval_loss': 3.8763229846954346, 'eval_runtime': 109.6107, 'eval_samples_per_second': 124.176, 'eval_steps_per_second': 15.528, 'epoch': 0.45}\n",
      "{'loss': 4.0081, 'grad_norm': 5.3422040939331055, 'learning_rate': 4.448979591836735e-06, 'epoch': 0.46}\n"
     ]
    },
    {
     "data": {
      "application/vnd.jupyter.widget-view+json": {
       "model_id": "0aacf47d290548b3badc2b53d16399a1",
       "version_major": 2,
       "version_minor": 0
      },
      "text/plain": [
       "  0%|          | 0/1702 [00:00<?, ?it/s]"
      ]
     },
     "metadata": {},
     "output_type": "display_data"
    },
    {
     "name": "stdout",
     "output_type": "stream",
     "text": [
      "{'eval_loss': 3.8762307167053223, 'eval_runtime': 109.5802, 'eval_samples_per_second': 124.21, 'eval_steps_per_second': 15.532, 'epoch': 0.46}\n",
      "{'loss': 4.041, 'grad_norm': 6.738285064697266, 'learning_rate': 4.285714285714286e-06, 'epoch': 0.46}\n"
     ]
    },
    {
     "data": {
      "application/vnd.jupyter.widget-view+json": {
       "model_id": "50f6f290a0da4722ade0b2ce916cffea",
       "version_major": 2,
       "version_minor": 0
      },
      "text/plain": [
       "  0%|          | 0/1702 [00:00<?, ?it/s]"
      ]
     },
     "metadata": {},
     "output_type": "display_data"
    },
    {
     "name": "stdout",
     "output_type": "stream",
     "text": [
      "{'eval_loss': 3.8785440921783447, 'eval_runtime': 109.5347, 'eval_samples_per_second': 124.262, 'eval_steps_per_second': 15.538, 'epoch': 0.46}\n",
      "{'loss': 3.6513, 'grad_norm': 6.024954795837402, 'learning_rate': 4.122448979591837e-06, 'epoch': 0.46}\n"
     ]
    },
    {
     "data": {
      "application/vnd.jupyter.widget-view+json": {
       "model_id": "a7a36d0d345a4cba9f0891f6cbe4f863",
       "version_major": 2,
       "version_minor": 0
      },
      "text/plain": [
       "  0%|          | 0/1702 [00:00<?, ?it/s]"
      ]
     },
     "metadata": {},
     "output_type": "display_data"
    },
    {
     "name": "stdout",
     "output_type": "stream",
     "text": [
      "{'eval_loss': 3.8737545013427734, 'eval_runtime': 109.5915, 'eval_samples_per_second': 124.198, 'eval_steps_per_second': 15.53, 'epoch': 0.46}\n",
      "{'loss': 3.9142, 'grad_norm': 3.2857542037963867, 'learning_rate': 3.959183673469388e-06, 'epoch': 0.46}\n"
     ]
    },
    {
     "data": {
      "application/vnd.jupyter.widget-view+json": {
       "model_id": "0e113e7f39ae479fb3565a8e9e6a632d",
       "version_major": 2,
       "version_minor": 0
      },
      "text/plain": [
       "  0%|          | 0/1702 [00:00<?, ?it/s]"
      ]
     },
     "metadata": {},
     "output_type": "display_data"
    },
    {
     "name": "stdout",
     "output_type": "stream",
     "text": [
      "{'eval_loss': 3.87365984916687, 'eval_runtime': 109.6092, 'eval_samples_per_second': 124.178, 'eval_steps_per_second': 15.528, 'epoch': 0.46}\n",
      "{'loss': 4.1376, 'grad_norm': 2.350471258163452, 'learning_rate': 3.7959183673469385e-06, 'epoch': 0.46}\n"
     ]
    },
    {
     "data": {
      "application/vnd.jupyter.widget-view+json": {
       "model_id": "8c879e5fe3314298a85d50565a51ebec",
       "version_major": 2,
       "version_minor": 0
      },
      "text/plain": [
       "  0%|          | 0/1702 [00:00<?, ?it/s]"
      ]
     },
     "metadata": {},
     "output_type": "display_data"
    },
    {
     "name": "stdout",
     "output_type": "stream",
     "text": [
      "{'eval_loss': 3.8731887340545654, 'eval_runtime': 109.5921, 'eval_samples_per_second': 124.197, 'eval_steps_per_second': 15.53, 'epoch': 0.46}\n",
      "{'loss': 3.955, 'grad_norm': 2.7196216583251953, 'learning_rate': 3.63265306122449e-06, 'epoch': 0.46}\n"
     ]
    },
    {
     "data": {
      "application/vnd.jupyter.widget-view+json": {
       "model_id": "116252cd4d2b4df2a3eea9e7b5099be8",
       "version_major": 2,
       "version_minor": 0
      },
      "text/plain": [
       "  0%|          | 0/1702 [00:00<?, ?it/s]"
      ]
     },
     "metadata": {},
     "output_type": "display_data"
    },
    {
     "name": "stdout",
     "output_type": "stream",
     "text": [
      "{'eval_loss': 3.8732964992523193, 'eval_runtime': 109.5677, 'eval_samples_per_second': 124.225, 'eval_steps_per_second': 15.534, 'epoch': 0.46}\n",
      "{'loss': 3.9054, 'grad_norm': 3.510089159011841, 'learning_rate': 3.469387755102041e-06, 'epoch': 0.47}\n"
     ]
    },
    {
     "data": {
      "application/vnd.jupyter.widget-view+json": {
       "model_id": "a244dda67af94868bf982ce80f4e5a3a",
       "version_major": 2,
       "version_minor": 0
      },
      "text/plain": [
       "  0%|          | 0/1702 [00:00<?, ?it/s]"
      ]
     },
     "metadata": {},
     "output_type": "display_data"
    },
    {
     "name": "stdout",
     "output_type": "stream",
     "text": [
      "{'eval_loss': 3.8719286918640137, 'eval_runtime': 109.5847, 'eval_samples_per_second': 124.205, 'eval_steps_per_second': 15.531, 'epoch': 0.47}\n",
      "{'loss': 3.8995, 'grad_norm': 5.223210334777832, 'learning_rate': 3.306122448979592e-06, 'epoch': 0.47}\n"
     ]
    },
    {
     "data": {
      "application/vnd.jupyter.widget-view+json": {
       "model_id": "3580678c18fe492692c1f1ab666217a1",
       "version_major": 2,
       "version_minor": 0
      },
      "text/plain": [
       "  0%|          | 0/1702 [00:00<?, ?it/s]"
      ]
     },
     "metadata": {},
     "output_type": "display_data"
    },
    {
     "name": "stdout",
     "output_type": "stream",
     "text": [
      "{'eval_loss': 3.8711624145507812, 'eval_runtime': 109.5678, 'eval_samples_per_second': 124.224, 'eval_steps_per_second': 15.534, 'epoch': 0.47}\n",
      "{'loss': 4.0325, 'grad_norm': 6.45933198928833, 'learning_rate': 3.1428571428571433e-06, 'epoch': 0.47}\n"
     ]
    },
    {
     "data": {
      "application/vnd.jupyter.widget-view+json": {
       "model_id": "6669c3d8fea14b80a65bf8b5536a3280",
       "version_major": 2,
       "version_minor": 0
      },
      "text/plain": [
       "  0%|          | 0/1702 [00:00<?, ?it/s]"
      ]
     },
     "metadata": {},
     "output_type": "display_data"
    },
    {
     "name": "stdout",
     "output_type": "stream",
     "text": [
      "{'eval_loss': 3.872182607650757, 'eval_runtime': 109.5988, 'eval_samples_per_second': 124.189, 'eval_steps_per_second': 15.529, 'epoch': 0.47}\n",
      "{'loss': 3.963, 'grad_norm': 3.353757858276367, 'learning_rate': 2.979591836734694e-06, 'epoch': 0.47}\n"
     ]
    },
    {
     "data": {
      "application/vnd.jupyter.widget-view+json": {
       "model_id": "4dc53fa1828741bba6cba0c64568b85a",
       "version_major": 2,
       "version_minor": 0
      },
      "text/plain": [
       "  0%|          | 0/1702 [00:00<?, ?it/s]"
      ]
     },
     "metadata": {},
     "output_type": "display_data"
    },
    {
     "name": "stdout",
     "output_type": "stream",
     "text": [
      "{'eval_loss': 3.8714895248413086, 'eval_runtime': 109.5324, 'eval_samples_per_second': 124.265, 'eval_steps_per_second': 15.539, 'epoch': 0.47}\n",
      "{'loss': 3.9485, 'grad_norm': 5.918542861938477, 'learning_rate': 2.816326530612245e-06, 'epoch': 0.47}\n"
     ]
    },
    {
     "data": {
      "application/vnd.jupyter.widget-view+json": {
       "model_id": "1370e4bfd0bc488dbf17a744736d38af",
       "version_major": 2,
       "version_minor": 0
      },
      "text/plain": [
       "  0%|          | 0/1702 [00:00<?, ?it/s]"
      ]
     },
     "metadata": {},
     "output_type": "display_data"
    },
    {
     "name": "stdout",
     "output_type": "stream",
     "text": [
      "{'eval_loss': 3.8699936866760254, 'eval_runtime': 109.5696, 'eval_samples_per_second': 124.222, 'eval_steps_per_second': 15.534, 'epoch': 0.47}\n",
      "{'loss': 3.7659, 'grad_norm': 2.658674478530884, 'learning_rate': 2.653061224489796e-06, 'epoch': 0.47}\n"
     ]
    },
    {
     "data": {
      "application/vnd.jupyter.widget-view+json": {
       "model_id": "5defbc27a9be47caabef1dea2063674c",
       "version_major": 2,
       "version_minor": 0
      },
      "text/plain": [
       "  0%|          | 0/1702 [00:00<?, ?it/s]"
      ]
     },
     "metadata": {},
     "output_type": "display_data"
    },
    {
     "name": "stdout",
     "output_type": "stream",
     "text": [
      "{'eval_loss': 3.8714182376861572, 'eval_runtime': 109.573, 'eval_samples_per_second': 124.219, 'eval_steps_per_second': 15.533, 'epoch': 0.47}\n",
      "{'loss': 3.8856, 'grad_norm': 3.697685956954956, 'learning_rate': 2.4897959183673473e-06, 'epoch': 0.48}\n"
     ]
    },
    {
     "data": {
      "application/vnd.jupyter.widget-view+json": {
       "model_id": "e51309c66ce347aab058d5138443d12a",
       "version_major": 2,
       "version_minor": 0
      },
      "text/plain": [
       "  0%|          | 0/1702 [00:00<?, ?it/s]"
      ]
     },
     "metadata": {},
     "output_type": "display_data"
    },
    {
     "name": "stdout",
     "output_type": "stream",
     "text": [
      "{'eval_loss': 3.8713080883026123, 'eval_runtime': 109.631, 'eval_samples_per_second': 124.153, 'eval_steps_per_second': 15.525, 'epoch': 0.48}\n",
      "{'loss': 3.9331, 'grad_norm': 2.6389386653900146, 'learning_rate': 2.326530612244898e-06, 'epoch': 0.48}\n"
     ]
    },
    {
     "data": {
      "application/vnd.jupyter.widget-view+json": {
       "model_id": "0ed3d331c3c043e9b98d3fbcd4c227c5",
       "version_major": 2,
       "version_minor": 0
      },
      "text/plain": [
       "  0%|          | 0/1702 [00:00<?, ?it/s]"
      ]
     },
     "metadata": {},
     "output_type": "display_data"
    },
    {
     "name": "stdout",
     "output_type": "stream",
     "text": [
      "{'eval_loss': 3.8702569007873535, 'eval_runtime': 109.6271, 'eval_samples_per_second': 124.157, 'eval_steps_per_second': 15.525, 'epoch': 0.48}\n",
      "{'loss': 4.0869, 'grad_norm': 4.746092796325684, 'learning_rate': 2.163265306122449e-06, 'epoch': 0.48}\n"
     ]
    },
    {
     "data": {
      "application/vnd.jupyter.widget-view+json": {
       "model_id": "77f62b254d704d338ac6dda626abb5e6",
       "version_major": 2,
       "version_minor": 0
      },
      "text/plain": [
       "  0%|          | 0/1702 [00:00<?, ?it/s]"
      ]
     },
     "metadata": {},
     "output_type": "display_data"
    },
    {
     "name": "stdout",
     "output_type": "stream",
     "text": [
      "{'eval_loss': 3.8704230785369873, 'eval_runtime': 109.554, 'eval_samples_per_second': 124.24, 'eval_steps_per_second': 15.536, 'epoch': 0.48}\n",
      "{'loss': 4.1115, 'grad_norm': 3.1562764644622803, 'learning_rate': 2.0000000000000003e-06, 'epoch': 0.48}\n"
     ]
    },
    {
     "data": {
      "application/vnd.jupyter.widget-view+json": {
       "model_id": "5ef5087058984652ad2a4a659f7f560f",
       "version_major": 2,
       "version_minor": 0
      },
      "text/plain": [
       "  0%|          | 0/1702 [00:00<?, ?it/s]"
      ]
     },
     "metadata": {},
     "output_type": "display_data"
    },
    {
     "name": "stdout",
     "output_type": "stream",
     "text": [
      "{'eval_loss': 3.8705997467041016, 'eval_runtime': 109.5521, 'eval_samples_per_second': 124.242, 'eval_steps_per_second': 15.536, 'epoch': 0.48}\n",
      "{'loss': 3.8888, 'grad_norm': 3.312621831893921, 'learning_rate': 1.8367346938775512e-06, 'epoch': 0.48}\n"
     ]
    },
    {
     "data": {
      "application/vnd.jupyter.widget-view+json": {
       "model_id": "76285c190a98457fb51eb2bc7e8ed8e7",
       "version_major": 2,
       "version_minor": 0
      },
      "text/plain": [
       "  0%|          | 0/1702 [00:00<?, ?it/s]"
      ]
     },
     "metadata": {},
     "output_type": "display_data"
    },
    {
     "name": "stdout",
     "output_type": "stream",
     "text": [
      "{'eval_loss': 3.8690850734710693, 'eval_runtime': 109.5909, 'eval_samples_per_second': 124.198, 'eval_steps_per_second': 15.53, 'epoch': 0.48}\n",
      "{'loss': 3.8775, 'grad_norm': 8.784948348999023, 'learning_rate': 1.673469387755102e-06, 'epoch': 0.48}\n"
     ]
    },
    {
     "data": {
      "application/vnd.jupyter.widget-view+json": {
       "model_id": "648524bc196b4edc8a9649ced91e4aeb",
       "version_major": 2,
       "version_minor": 0
      },
      "text/plain": [
       "  0%|          | 0/1702 [00:00<?, ?it/s]"
      ]
     },
     "metadata": {},
     "output_type": "display_data"
    },
    {
     "name": "stdout",
     "output_type": "stream",
     "text": [
      "{'eval_loss': 3.8713443279266357, 'eval_runtime': 109.5476, 'eval_samples_per_second': 124.247, 'eval_steps_per_second': 15.537, 'epoch': 0.48}\n",
      "{'loss': 3.9594, 'grad_norm': 3.757291793823242, 'learning_rate': 1.5102040816326532e-06, 'epoch': 0.48}\n"
     ]
    },
    {
     "data": {
      "application/vnd.jupyter.widget-view+json": {
       "model_id": "b317b5b41c8c474da064a788bf6acfa9",
       "version_major": 2,
       "version_minor": 0
      },
      "text/plain": [
       "  0%|          | 0/1702 [00:00<?, ?it/s]"
      ]
     },
     "metadata": {},
     "output_type": "display_data"
    },
    {
     "name": "stdout",
     "output_type": "stream",
     "text": [
      "{'eval_loss': 3.870436906814575, 'eval_runtime': 109.5955, 'eval_samples_per_second': 124.193, 'eval_steps_per_second': 15.53, 'epoch': 0.48}\n",
      "{'loss': 3.8169, 'grad_norm': 2.9188437461853027, 'learning_rate': 1.346938775510204e-06, 'epoch': 0.49}\n"
     ]
    },
    {
     "data": {
      "application/vnd.jupyter.widget-view+json": {
       "model_id": "427b34d100f34a46b0a51646a9572792",
       "version_major": 2,
       "version_minor": 0
      },
      "text/plain": [
       "  0%|          | 0/1702 [00:00<?, ?it/s]"
      ]
     },
     "metadata": {},
     "output_type": "display_data"
    },
    {
     "name": "stdout",
     "output_type": "stream",
     "text": [
      "{'eval_loss': 3.869765520095825, 'eval_runtime': 109.5857, 'eval_samples_per_second': 124.204, 'eval_steps_per_second': 15.531, 'epoch': 0.49}\n",
      "{'loss': 3.9523, 'grad_norm': 2.57680082321167, 'learning_rate': 1.1836734693877552e-06, 'epoch': 0.49}\n"
     ]
    },
    {
     "data": {
      "application/vnd.jupyter.widget-view+json": {
       "model_id": "8654b98aa58b48f3a6cfd5fa9aa861b5",
       "version_major": 2,
       "version_minor": 0
      },
      "text/plain": [
       "  0%|          | 0/1702 [00:00<?, ?it/s]"
      ]
     },
     "metadata": {},
     "output_type": "display_data"
    },
    {
     "name": "stdout",
     "output_type": "stream",
     "text": [
      "{'eval_loss': 3.869556427001953, 'eval_runtime': 109.609, 'eval_samples_per_second': 124.178, 'eval_steps_per_second': 15.528, 'epoch': 0.49}\n",
      "{'loss': 3.8597, 'grad_norm': 3.792369842529297, 'learning_rate': 1.020408163265306e-06, 'epoch': 0.49}\n"
     ]
    },
    {
     "data": {
      "application/vnd.jupyter.widget-view+json": {
       "model_id": "067504d1f75d4ca48f2741764aea0f51",
       "version_major": 2,
       "version_minor": 0
      },
      "text/plain": [
       "  0%|          | 0/1702 [00:00<?, ?it/s]"
      ]
     },
     "metadata": {},
     "output_type": "display_data"
    },
    {
     "name": "stdout",
     "output_type": "stream",
     "text": [
      "{'eval_loss': 3.8701488971710205, 'eval_runtime': 109.5265, 'eval_samples_per_second': 124.271, 'eval_steps_per_second': 15.54, 'epoch': 0.49}\n",
      "{'loss': 3.8432, 'grad_norm': 5.377573013305664, 'learning_rate': 8.571428571428572e-07, 'epoch': 0.49}\n"
     ]
    },
    {
     "data": {
      "application/vnd.jupyter.widget-view+json": {
       "model_id": "3a0dff83bd234c64b56e9e8316574eb0",
       "version_major": 2,
       "version_minor": 0
      },
      "text/plain": [
       "  0%|          | 0/1702 [00:00<?, ?it/s]"
      ]
     },
     "metadata": {},
     "output_type": "display_data"
    },
    {
     "name": "stdout",
     "output_type": "stream",
     "text": [
      "{'eval_loss': 3.87017560005188, 'eval_runtime': 109.5815, 'eval_samples_per_second': 124.209, 'eval_steps_per_second': 15.532, 'epoch': 0.49}\n",
      "{'loss': 3.7584, 'grad_norm': 4.878894329071045, 'learning_rate': 6.938775510204082e-07, 'epoch': 0.49}\n"
     ]
    },
    {
     "data": {
      "application/vnd.jupyter.widget-view+json": {
       "model_id": "b0a480202a1e4028828596a6ece1737e",
       "version_major": 2,
       "version_minor": 0
      },
      "text/plain": [
       "  0%|          | 0/1702 [00:00<?, ?it/s]"
      ]
     },
     "metadata": {},
     "output_type": "display_data"
    },
    {
     "name": "stdout",
     "output_type": "stream",
     "text": [
      "{'eval_loss': 3.869622230529785, 'eval_runtime': 109.5605, 'eval_samples_per_second': 124.233, 'eval_steps_per_second': 15.535, 'epoch': 0.49}\n",
      "{'loss': 3.8639, 'grad_norm': 2.654189109802246, 'learning_rate': 5.306122448979592e-07, 'epoch': 0.49}\n"
     ]
    },
    {
     "data": {
      "application/vnd.jupyter.widget-view+json": {
       "model_id": "1914a42a44ed48b79d88aa01de61d3d0",
       "version_major": 2,
       "version_minor": 0
      },
      "text/plain": [
       "  0%|          | 0/1702 [00:00<?, ?it/s]"
      ]
     },
     "metadata": {},
     "output_type": "display_data"
    },
    {
     "name": "stdout",
     "output_type": "stream",
     "text": [
      "{'eval_loss': 3.869727373123169, 'eval_runtime': 109.6202, 'eval_samples_per_second': 124.165, 'eval_steps_per_second': 15.526, 'epoch': 0.49}\n",
      "{'loss': 3.9326, 'grad_norm': 3.435314893722534, 'learning_rate': 3.673469387755102e-07, 'epoch': 0.5}\n"
     ]
    },
    {
     "data": {
      "application/vnd.jupyter.widget-view+json": {
       "model_id": "8aa629d0af0144d9a2fa7729352980d9",
       "version_major": 2,
       "version_minor": 0
      },
      "text/plain": [
       "  0%|          | 0/1702 [00:00<?, ?it/s]"
      ]
     },
     "metadata": {},
     "output_type": "display_data"
    },
    {
     "name": "stdout",
     "output_type": "stream",
     "text": [
      "{'eval_loss': 3.869140863418579, 'eval_runtime': 109.6924, 'eval_samples_per_second': 124.083, 'eval_steps_per_second': 15.516, 'epoch': 0.5}\n",
      "{'loss': 3.88, 'grad_norm': 2.538628339767456, 'learning_rate': 2.0408163265306124e-07, 'epoch': 0.5}\n"
     ]
    },
    {
     "data": {
      "application/vnd.jupyter.widget-view+json": {
       "model_id": "620f38e0c00e4e509ae1e06e68f627c4",
       "version_major": 2,
       "version_minor": 0
      },
      "text/plain": [
       "  0%|          | 0/1702 [00:00<?, ?it/s]"
      ]
     },
     "metadata": {},
     "output_type": "display_data"
    },
    {
     "name": "stdout",
     "output_type": "stream",
     "text": [
      "{'eval_loss': 3.8691937923431396, 'eval_runtime': 109.601, 'eval_samples_per_second': 124.187, 'eval_steps_per_second': 15.529, 'epoch': 0.5}\n",
      "{'loss': 4.0022, 'grad_norm': 3.833045721054077, 'learning_rate': 4.081632653061225e-08, 'epoch': 0.5}\n"
     ]
    },
    {
     "data": {
      "application/vnd.jupyter.widget-view+json": {
       "model_id": "66db519cd78d4ae3b1948340944d6e09",
       "version_major": 2,
       "version_minor": 0
      },
      "text/plain": [
       "  0%|          | 0/1702 [00:00<?, ?it/s]"
      ]
     },
     "metadata": {},
     "output_type": "display_data"
    },
    {
     "name": "stdout",
     "output_type": "stream",
     "text": [
      "{'eval_loss': 3.8690946102142334, 'eval_runtime': 109.6178, 'eval_samples_per_second': 124.168, 'eval_steps_per_second': 15.527, 'epoch': 0.5}\n",
      "{'train_runtime': 35623.3323, 'train_samples_per_second': 1.719, 'train_steps_per_second': 0.86, 'train_loss': 4.003233855578364, 'epoch': 0.5}\n"
     ]
    },
    {
     "data": {
      "text/plain": [
       "TrainOutput(global_step=30625, training_loss=4.003233855578364, metrics={'train_runtime': 35623.3323, 'train_samples_per_second': 1.719, 'train_steps_per_second': 0.86, 'total_flos': 1.600413696e+16, 'train_loss': 4.003233855578364, 'epoch': 0.5000081633985861})"
      ]
     },
     "execution_count": 41,
     "metadata": {},
     "output_type": "execute_result"
    }
   ],
   "source": [
    "# Define training arguments\n",
    "training_args = TrainingArguments(\n",
    "    output_dir='./gpt2_glaive',\n",
    "    overwrite_output_dir=True,\n",
    "    num_train_epochs=0.5,\n",
    "    per_device_train_batch_size=2,\n",
    "    evaluation_strategy=\"steps\",\n",
    "    eval_steps=100,\n",
    "    save_steps=500,\n",
    "    logging_steps=100,\n",
    "    logging_dir='./logs',\n",
    ")\n",
    "\n",
    "# Create a Trainer\n",
    "trainer = Trainer(\n",
    "    model=model,\n",
    "    args=training_args,\n",
    "    train_dataset=train_data,\n",
    "    eval_dataset=val_data,\n",
    ")\n",
    "\n",
    "# Fine-tune the model\n",
    "trainer.train()"
   ]
  },
  {
   "cell_type": "markdown",
   "metadata": {
    "id": "9RkdIyRfLNkW"
   },
   "source": [
    "# Save Model"
   ]
  },
  {
   "cell_type": "code",
   "execution_count": 6,
   "metadata": {
    "id": "Mp0hvvAILPlQ"
   },
   "outputs": [],
   "source": [
    "trainer.save_model()"
   ]
  },
  {
   "cell_type": "markdown",
   "metadata": {
    "id": "wcnJh1TrKzVg"
   },
   "source": [
    "# Running Inference"
   ]
  },
  {
   "cell_type": "code",
   "execution_count": 7,
   "metadata": {
    "colab": {
     "base_uri": "https://localhost:8080/"
    },
    "id": "gQkKHgrm_oMC",
    "outputId": "e203effc-6771-4d28-e8ea-4710c6e048cf"
   },
   "outputs": [
    {
     "name": "stderr",
     "output_type": "stream",
     "text": [
      "c:\\Users\\kpreube\\miniconda3\\envs\\llm\\Lib\\site-packages\\transformers\\generation\\configuration_utils.py:606: UserWarning: `do_sample` is set to `False`. However, `top_p` is set to `0.95` -- this flag is only used in sample-based generation modes. You should set `do_sample=True` or unset `top_p`.\n",
      "  warnings.warn(\n",
      "Setting `pad_token_id` to `eos_token_id`:None for open-end generation.\n"
     ]
    },
    {
     "name": "stdout",
     "output_type": "stream",
     "text": [
      "Original HTML code: <h1>Heading\n",
      "Corrected HTML code: <h1>Heading</h1>\n"
     ]
    }
   ],
   "source": [
    "# Inference Example\n",
    "example_input = \"<h1>Heading\"\n",
    "input_ids = tokenizer(example_input, return_tensors=\"pt\")[\"input_ids\"].to(device)\n",
    "attention_mask = torch.ones(input_ids.shape, device=device)\n",
    "output_ids = model.generate(input_ids, max_length=512, num_return_sequences=1, top_k=50, top_p=0.95, attention_mask=attention_mask)\n",
    "\n",
    "# Decode and print the corrected HTML code\n",
    "decoded_output = tokenizer.decode(output_ids[0], skip_special_tokens=True)\n",
    "print(\"Original HTML code:\", example_input)\n",
    "print(\"Corrected HTML code:\", decoded_output)"
   ]
  },
  {
   "cell_type": "code",
   "execution_count": 8,
   "metadata": {},
   "outputs": [
    {
     "name": "stderr",
     "output_type": "stream",
     "text": [
      "Setting `pad_token_id` to `eos_token_id`:None for open-end generation.\n"
     ]
    },
    {
     "name": "stdout",
     "output_type": "stream",
     "text": [
      "Corrected HTML code: <p>This is a paragraph.</p>\n"
     ]
    }
   ],
   "source": [
    "# Inference Example\n",
    "example_input = \"\"\"<p>This is a paragraph.\"\"\"\n",
    "input_ids = tokenizer(example_input, return_tensors=\"pt\")[\"input_ids\"].to(device)\n",
    "attention_mask = torch.ones(input_ids.shape, device=device)\n",
    "output_ids = model.generate(input_ids, max_length=512, num_return_sequences=1, top_k=50, top_p=0.95, attention_mask=attention_mask)\n",
    "\n",
    "# Decode and print the corrected HTML code\n",
    "decoded_output = tokenizer.decode(output_ids[0], skip_special_tokens=True)\n",
    "#print(\"Original HTML code:\", example_input)\n",
    "print(\"Corrected HTML code:\", decoded_output)"
   ]
  },
  {
   "cell_type": "code",
   "execution_count": 10,
   "metadata": {},
   "outputs": [
    {
     "name": "stderr",
     "output_type": "stream",
     "text": [
      "Setting `pad_token_id` to `eos_token_id`:None for open-end generation.\n"
     ]
    },
    {
     "name": "stdout",
     "output_type": "stream",
     "text": [
      "Corrected HTML code: <div><span>This is some text.</p></div>\n"
     ]
    }
   ],
   "source": [
    "# Inference Example\n",
    "example_input = \"\"\"<div><span>This is some text.</p></div>\"\"\"\n",
    "input_ids = tokenizer(example_input, return_tensors=\"pt\")[\"input_ids\"].to(device)\n",
    "attention_mask = torch.ones(input_ids.shape, device=device)\n",
    "output_ids = model.generate(input_ids, max_length=512, num_return_sequences=1, top_k=50, top_p=0.95, attention_mask=attention_mask)\n",
    "\n",
    "# Decode and print the corrected HTML code\n",
    "decoded_output = tokenizer.decode(output_ids[0], skip_special_tokens=True)\n",
    "#print(\"Original HTML code:\", example_input)\n",
    "print(\"Corrected HTML code:\", decoded_output)"
   ]
  },
  {
   "cell_type": "code",
   "execution_count": 47,
   "metadata": {},
   "outputs": [
    {
     "name": "stderr",
     "output_type": "stream",
     "text": [
      "c:\\Users\\kpreube\\miniconda3\\envs\\llm\\Lib\\site-packages\\transformers\\generation\\configuration_utils.py:606: UserWarning: `do_sample` is set to `False`. However, `top_p` is set to `0.97` -- this flag is only used in sample-based generation modes. You should set `do_sample=True` or unset `top_p`.\n",
      "  warnings.warn(\n",
      "c:\\Users\\kpreube\\miniconda3\\envs\\llm\\Lib\\site-packages\\transformers\\generation\\configuration_utils.py:623: UserWarning: `do_sample` is set to `False`. However, `top_k` is set to `10` -- this flag is only used in sample-based generation modes. You should set `do_sample=True` or unset `top_k`.\n",
      "  warnings.warn(\n",
      "Setting `pad_token_id` to `eos_token_id`:None for open-end generation.\n"
     ]
    },
    {
     "name": "stdout",
     "output_type": "stream",
     "text": [
      "Corrected HTML code: list = [1,2,3,4,5,6,,,,,,,,,,,,,,,,,,,,,,,,,,,,,,,,,,,,,,,,,,,,,,,,,,,,,,,,,,\n"
     ]
    }
   ],
   "source": [
    "# Inference Example\n",
    "example_input = \"\"\"list = [1,2,3,4,5,6\"\"\"\n",
    "input_ids = tokenizer(example_input, return_tensors=\"pt\")[\"input_ids\"].to(device)\n",
    "attention_mask = torch.ones(input_ids.shape, device=device)\n",
    "output_ids = model.generate(input_ids, max_length=512, num_return_sequences=1, top_k=10, top_p=0.97, attention_mask=attention_mask)\n",
    "\n",
    "# Decode and print the corrected HTML code\n",
    "decoded_output = tokenizer.decode(output_ids[0], skip_special_tokens=True)\n",
    "#print(\"Original HTML code:\", example_input)\n",
    "print(\"Corrected HTML code:\", decoded_output)"
   ]
  }
 ],
 "metadata": {
  "accelerator": "GPU",
  "colab": {
   "gpuType": "T4",
   "provenance": []
  },
  "kernelspec": {
   "display_name": "Python 3",
   "name": "python3"
  },
  "language_info": {
   "codemirror_mode": {
    "name": "ipython",
    "version": 3
   },
   "file_extension": ".py",
   "mimetype": "text/x-python",
   "name": "python",
   "nbconvert_exporter": "python",
   "pygments_lexer": "ipython3",
   "version": "3.12.7"
  },
  "widgets": {
   "application/vnd.jupyter.widget-state+json": {
    "00589899197f4ffb8742b166417f1305": {
     "model_module": "@jupyter-widgets/base",
     "model_module_version": "1.2.0",
     "model_name": "LayoutModel",
     "state": {
      "_model_module": "@jupyter-widgets/base",
      "_model_module_version": "1.2.0",
      "_model_name": "LayoutModel",
      "_view_count": null,
      "_view_module": "@jupyter-widgets/base",
      "_view_module_version": "1.2.0",
      "_view_name": "LayoutView",
      "align_content": null,
      "align_items": null,
      "align_self": null,
      "border": null,
      "bottom": null,
      "display": null,
      "flex": null,
      "flex_flow": null,
      "grid_area": null,
      "grid_auto_columns": null,
      "grid_auto_flow": null,
      "grid_auto_rows": null,
      "grid_column": null,
      "grid_gap": null,
      "grid_row": null,
      "grid_template_areas": null,
      "grid_template_columns": null,
      "grid_template_rows": null,
      "height": null,
      "justify_content": null,
      "justify_items": null,
      "left": null,
      "margin": null,
      "max_height": null,
      "max_width": null,
      "min_height": null,
      "min_width": null,
      "object_fit": null,
      "object_position": null,
      "order": null,
      "overflow": null,
      "overflow_x": null,
      "overflow_y": null,
      "padding": null,
      "right": null,
      "top": null,
      "visibility": null,
      "width": null
     }
    },
    "02ff1271babd49a4a19f9ce4af66f688": {
     "model_module": "@jupyter-widgets/controls",
     "model_module_version": "1.5.0",
     "model_name": "DescriptionStyleModel",
     "state": {
      "_model_module": "@jupyter-widgets/controls",
      "_model_module_version": "1.5.0",
      "_model_name": "DescriptionStyleModel",
      "_view_count": null,
      "_view_module": "@jupyter-widgets/base",
      "_view_module_version": "1.2.0",
      "_view_name": "StyleView",
      "description_width": ""
     }
    },
    "09837679baa74e8fbdd9f2f01c31751f": {
     "model_module": "@jupyter-widgets/base",
     "model_module_version": "1.2.0",
     "model_name": "LayoutModel",
     "state": {
      "_model_module": "@jupyter-widgets/base",
      "_model_module_version": "1.2.0",
      "_model_name": "LayoutModel",
      "_view_count": null,
      "_view_module": "@jupyter-widgets/base",
      "_view_module_version": "1.2.0",
      "_view_name": "LayoutView",
      "align_content": null,
      "align_items": null,
      "align_self": null,
      "border": null,
      "bottom": null,
      "display": null,
      "flex": null,
      "flex_flow": null,
      "grid_area": null,
      "grid_auto_columns": null,
      "grid_auto_flow": null,
      "grid_auto_rows": null,
      "grid_column": null,
      "grid_gap": null,
      "grid_row": null,
      "grid_template_areas": null,
      "grid_template_columns": null,
      "grid_template_rows": null,
      "height": null,
      "justify_content": null,
      "justify_items": null,
      "left": null,
      "margin": null,
      "max_height": null,
      "max_width": null,
      "min_height": null,
      "min_width": null,
      "object_fit": null,
      "object_position": null,
      "order": null,
      "overflow": null,
      "overflow_x": null,
      "overflow_y": null,
      "padding": null,
      "right": null,
      "top": null,
      "visibility": null,
      "width": null
     }
    },
    "0b255a3ef28b4d738c044c0aca523406": {
     "model_module": "@jupyter-widgets/base",
     "model_module_version": "1.2.0",
     "model_name": "LayoutModel",
     "state": {
      "_model_module": "@jupyter-widgets/base",
      "_model_module_version": "1.2.0",
      "_model_name": "LayoutModel",
      "_view_count": null,
      "_view_module": "@jupyter-widgets/base",
      "_view_module_version": "1.2.0",
      "_view_name": "LayoutView",
      "align_content": null,
      "align_items": null,
      "align_self": null,
      "border": null,
      "bottom": null,
      "display": null,
      "flex": null,
      "flex_flow": null,
      "grid_area": null,
      "grid_auto_columns": null,
      "grid_auto_flow": null,
      "grid_auto_rows": null,
      "grid_column": null,
      "grid_gap": null,
      "grid_row": null,
      "grid_template_areas": null,
      "grid_template_columns": null,
      "grid_template_rows": null,
      "height": null,
      "justify_content": null,
      "justify_items": null,
      "left": null,
      "margin": null,
      "max_height": null,
      "max_width": null,
      "min_height": null,
      "min_width": null,
      "object_fit": null,
      "object_position": null,
      "order": null,
      "overflow": null,
      "overflow_x": null,
      "overflow_y": null,
      "padding": null,
      "right": null,
      "top": null,
      "visibility": null,
      "width": null
     }
    },
    "0e8887fbf2594103abcfded90f0e56cb": {
     "model_module": "@jupyter-widgets/controls",
     "model_module_version": "1.5.0",
     "model_name": "HBoxModel",
     "state": {
      "_dom_classes": [],
      "_model_module": "@jupyter-widgets/controls",
      "_model_module_version": "1.5.0",
      "_model_name": "HBoxModel",
      "_view_count": null,
      "_view_module": "@jupyter-widgets/controls",
      "_view_module_version": "1.5.0",
      "_view_name": "HBoxView",
      "box_style": "",
      "children": [
       "IPY_MODEL_d91492cc0a3f4fbe8810b198fca4a2a9",
       "IPY_MODEL_be8a25627db1487794c3c21d2a00ee3a",
       "IPY_MODEL_94dd83a6f0834533bc4373023b5882be"
      ],
      "layout": "IPY_MODEL_4a93a0539de44e99b169e501380bba7c"
     }
    },
    "12afbb3a4e2e489081446a3243ca601c": {
     "model_module": "@jupyter-widgets/base",
     "model_module_version": "1.2.0",
     "model_name": "LayoutModel",
     "state": {
      "_model_module": "@jupyter-widgets/base",
      "_model_module_version": "1.2.0",
      "_model_name": "LayoutModel",
      "_view_count": null,
      "_view_module": "@jupyter-widgets/base",
      "_view_module_version": "1.2.0",
      "_view_name": "LayoutView",
      "align_content": null,
      "align_items": null,
      "align_self": null,
      "border": null,
      "bottom": null,
      "display": null,
      "flex": null,
      "flex_flow": null,
      "grid_area": null,
      "grid_auto_columns": null,
      "grid_auto_flow": null,
      "grid_auto_rows": null,
      "grid_column": null,
      "grid_gap": null,
      "grid_row": null,
      "grid_template_areas": null,
      "grid_template_columns": null,
      "grid_template_rows": null,
      "height": null,
      "justify_content": null,
      "justify_items": null,
      "left": null,
      "margin": null,
      "max_height": null,
      "max_width": null,
      "min_height": null,
      "min_width": null,
      "object_fit": null,
      "object_position": null,
      "order": null,
      "overflow": null,
      "overflow_x": null,
      "overflow_y": null,
      "padding": null,
      "right": null,
      "top": null,
      "visibility": null,
      "width": null
     }
    },
    "1505ed8ceaa94538940e4653c8f59623": {
     "model_module": "@jupyter-widgets/controls",
     "model_module_version": "1.5.0",
     "model_name": "HTMLModel",
     "state": {
      "_dom_classes": [],
      "_model_module": "@jupyter-widgets/controls",
      "_model_module_version": "1.5.0",
      "_model_name": "HTMLModel",
      "_view_count": null,
      "_view_module": "@jupyter-widgets/controls",
      "_view_module_version": "1.5.0",
      "_view_name": "HTMLView",
      "description": "",
      "description_tooltip": null,
      "layout": "IPY_MODEL_f8a067623d4c4dfaa4f7a13968c83cad",
      "placeholder": "​",
      "style": "IPY_MODEL_ab561e9c7c8f452e897b0d7585e7d8b4",
      "value": "Downloading (…)olve/main/merges.txt: 100%"
     }
    },
    "15380f7657814cd4b8eca00e8a16767a": {
     "model_module": "@jupyter-widgets/controls",
     "model_module_version": "1.5.0",
     "model_name": "DescriptionStyleModel",
     "state": {
      "_model_module": "@jupyter-widgets/controls",
      "_model_module_version": "1.5.0",
      "_model_name": "DescriptionStyleModel",
      "_view_count": null,
      "_view_module": "@jupyter-widgets/base",
      "_view_module_version": "1.2.0",
      "_view_name": "StyleView",
      "description_width": ""
     }
    },
    "16921c35c4024f5bbc334303cf28e18e": {
     "model_module": "@jupyter-widgets/base",
     "model_module_version": "1.2.0",
     "model_name": "LayoutModel",
     "state": {
      "_model_module": "@jupyter-widgets/base",
      "_model_module_version": "1.2.0",
      "_model_name": "LayoutModel",
      "_view_count": null,
      "_view_module": "@jupyter-widgets/base",
      "_view_module_version": "1.2.0",
      "_view_name": "LayoutView",
      "align_content": null,
      "align_items": null,
      "align_self": null,
      "border": null,
      "bottom": null,
      "display": null,
      "flex": null,
      "flex_flow": null,
      "grid_area": null,
      "grid_auto_columns": null,
      "grid_auto_flow": null,
      "grid_auto_rows": null,
      "grid_column": null,
      "grid_gap": null,
      "grid_row": null,
      "grid_template_areas": null,
      "grid_template_columns": null,
      "grid_template_rows": null,
      "height": null,
      "justify_content": null,
      "justify_items": null,
      "left": null,
      "margin": null,
      "max_height": null,
      "max_width": null,
      "min_height": null,
      "min_width": null,
      "object_fit": null,
      "object_position": null,
      "order": null,
      "overflow": null,
      "overflow_x": null,
      "overflow_y": null,
      "padding": null,
      "right": null,
      "top": null,
      "visibility": null,
      "width": null
     }
    },
    "19ca09fa63cc4a0c806f2b60dbfa0e02": {
     "model_module": "@jupyter-widgets/controls",
     "model_module_version": "1.5.0",
     "model_name": "ProgressStyleModel",
     "state": {
      "_model_module": "@jupyter-widgets/controls",
      "_model_module_version": "1.5.0",
      "_model_name": "ProgressStyleModel",
      "_view_count": null,
      "_view_module": "@jupyter-widgets/base",
      "_view_module_version": "1.2.0",
      "_view_name": "StyleView",
      "bar_color": null,
      "description_width": ""
     }
    },
    "1e15a0997ffd4d3389e3e173525f0b49": {
     "model_module": "@jupyter-widgets/base",
     "model_module_version": "1.2.0",
     "model_name": "LayoutModel",
     "state": {
      "_model_module": "@jupyter-widgets/base",
      "_model_module_version": "1.2.0",
      "_model_name": "LayoutModel",
      "_view_count": null,
      "_view_module": "@jupyter-widgets/base",
      "_view_module_version": "1.2.0",
      "_view_name": "LayoutView",
      "align_content": null,
      "align_items": null,
      "align_self": null,
      "border": null,
      "bottom": null,
      "display": null,
      "flex": null,
      "flex_flow": null,
      "grid_area": null,
      "grid_auto_columns": null,
      "grid_auto_flow": null,
      "grid_auto_rows": null,
      "grid_column": null,
      "grid_gap": null,
      "grid_row": null,
      "grid_template_areas": null,
      "grid_template_columns": null,
      "grid_template_rows": null,
      "height": null,
      "justify_content": null,
      "justify_items": null,
      "left": null,
      "margin": null,
      "max_height": null,
      "max_width": null,
      "min_height": null,
      "min_width": null,
      "object_fit": null,
      "object_position": null,
      "order": null,
      "overflow": null,
      "overflow_x": null,
      "overflow_y": null,
      "padding": null,
      "right": null,
      "top": null,
      "visibility": null,
      "width": null
     }
    },
    "1e2c632afcbf4b0f8a0f332bd99bc530": {
     "model_module": "@jupyter-widgets/controls",
     "model_module_version": "1.5.0",
     "model_name": "HTMLModel",
     "state": {
      "_dom_classes": [],
      "_model_module": "@jupyter-widgets/controls",
      "_model_module_version": "1.5.0",
      "_model_name": "HTMLModel",
      "_view_count": null,
      "_view_module": "@jupyter-widgets/controls",
      "_view_module_version": "1.5.0",
      "_view_name": "HTMLView",
      "description": "",
      "description_tooltip": null,
      "layout": "IPY_MODEL_00589899197f4ffb8742b166417f1305",
      "placeholder": "​",
      "style": "IPY_MODEL_15380f7657814cd4b8eca00e8a16767a",
      "value": "Downloading (…)/main/tokenizer.json: 100%"
     }
    },
    "207a3f01677c4ad8a08dcf10bae7d6a4": {
     "model_module": "@jupyter-widgets/controls",
     "model_module_version": "1.5.0",
     "model_name": "HBoxModel",
     "state": {
      "_dom_classes": [],
      "_model_module": "@jupyter-widgets/controls",
      "_model_module_version": "1.5.0",
      "_model_name": "HBoxModel",
      "_view_count": null,
      "_view_module": "@jupyter-widgets/controls",
      "_view_module_version": "1.5.0",
      "_view_name": "HBoxView",
      "box_style": "",
      "children": [
       "IPY_MODEL_441e3b6ed170405ebae8830a33e8a7e8",
       "IPY_MODEL_d3185d7199d4434dafb12513c28f8608",
       "IPY_MODEL_b7a0bea8ba5a4d929de57116ac283ee5"
      ],
      "layout": "IPY_MODEL_a990c9d2c2a44bde85735ba0388b8ffd"
     }
    },
    "234aec6b44b648a1b1c44324de76c686": {
     "model_module": "@jupyter-widgets/controls",
     "model_module_version": "1.5.0",
     "model_name": "HTMLModel",
     "state": {
      "_dom_classes": [],
      "_model_module": "@jupyter-widgets/controls",
      "_model_module_version": "1.5.0",
      "_model_name": "HTMLModel",
      "_view_count": null,
      "_view_module": "@jupyter-widgets/controls",
      "_view_module_version": "1.5.0",
      "_view_name": "HTMLView",
      "description": "",
      "description_tooltip": null,
      "layout": "IPY_MODEL_f7dc67928b3949d4a20b04c4321ee3ae",
      "placeholder": "​",
      "style": "IPY_MODEL_272f2512e3f64b3bbdbd7240816ef07a",
      "value": " 456k/456k [00:00&lt;00:00, 1.87MB/s]"
     }
    },
    "23f4cf04804e422f942ff302357701fe": {
     "model_module": "@jupyter-widgets/base",
     "model_module_version": "1.2.0",
     "model_name": "LayoutModel",
     "state": {
      "_model_module": "@jupyter-widgets/base",
      "_model_module_version": "1.2.0",
      "_model_name": "LayoutModel",
      "_view_count": null,
      "_view_module": "@jupyter-widgets/base",
      "_view_module_version": "1.2.0",
      "_view_name": "LayoutView",
      "align_content": null,
      "align_items": null,
      "align_self": null,
      "border": null,
      "bottom": null,
      "display": null,
      "flex": null,
      "flex_flow": null,
      "grid_area": null,
      "grid_auto_columns": null,
      "grid_auto_flow": null,
      "grid_auto_rows": null,
      "grid_column": null,
      "grid_gap": null,
      "grid_row": null,
      "grid_template_areas": null,
      "grid_template_columns": null,
      "grid_template_rows": null,
      "height": null,
      "justify_content": null,
      "justify_items": null,
      "left": null,
      "margin": null,
      "max_height": null,
      "max_width": null,
      "min_height": null,
      "min_width": null,
      "object_fit": null,
      "object_position": null,
      "order": null,
      "overflow": null,
      "overflow_x": null,
      "overflow_y": null,
      "padding": null,
      "right": null,
      "top": null,
      "visibility": null,
      "width": null
     }
    },
    "242ced3e264d440f984b1834c6bd7d1b": {
     "model_module": "@jupyter-widgets/controls",
     "model_module_version": "1.5.0",
     "model_name": "DescriptionStyleModel",
     "state": {
      "_model_module": "@jupyter-widgets/controls",
      "_model_module_version": "1.5.0",
      "_model_name": "DescriptionStyleModel",
      "_view_count": null,
      "_view_module": "@jupyter-widgets/base",
      "_view_module_version": "1.2.0",
      "_view_name": "StyleView",
      "description_width": ""
     }
    },
    "272f2512e3f64b3bbdbd7240816ef07a": {
     "model_module": "@jupyter-widgets/controls",
     "model_module_version": "1.5.0",
     "model_name": "DescriptionStyleModel",
     "state": {
      "_model_module": "@jupyter-widgets/controls",
      "_model_module_version": "1.5.0",
      "_model_name": "DescriptionStyleModel",
      "_view_count": null,
      "_view_module": "@jupyter-widgets/base",
      "_view_module_version": "1.2.0",
      "_view_name": "StyleView",
      "description_width": ""
     }
    },
    "2f28a5144ce44414ac40e2d9abb898e7": {
     "model_module": "@jupyter-widgets/controls",
     "model_module_version": "1.5.0",
     "model_name": "HBoxModel",
     "state": {
      "_dom_classes": [],
      "_model_module": "@jupyter-widgets/controls",
      "_model_module_version": "1.5.0",
      "_model_name": "HBoxModel",
      "_view_count": null,
      "_view_module": "@jupyter-widgets/controls",
      "_view_module_version": "1.5.0",
      "_view_name": "HBoxView",
      "box_style": "",
      "children": [
       "IPY_MODEL_b5de755045bb47b59f05da0e7f26ad99",
       "IPY_MODEL_84c02347d9a240659a8a4b47eec3a7ca",
       "IPY_MODEL_7ae3534756304287abd8f250b55674d9"
      ],
      "layout": "IPY_MODEL_ed13c5fa0edb467d9bb5203f5ca2999c"
     }
    },
    "351caf4ef5124d89adae38aeb78193a8": {
     "model_module": "@jupyter-widgets/base",
     "model_module_version": "1.2.0",
     "model_name": "LayoutModel",
     "state": {
      "_model_module": "@jupyter-widgets/base",
      "_model_module_version": "1.2.0",
      "_model_name": "LayoutModel",
      "_view_count": null,
      "_view_module": "@jupyter-widgets/base",
      "_view_module_version": "1.2.0",
      "_view_name": "LayoutView",
      "align_content": null,
      "align_items": null,
      "align_self": null,
      "border": null,
      "bottom": null,
      "display": null,
      "flex": null,
      "flex_flow": null,
      "grid_area": null,
      "grid_auto_columns": null,
      "grid_auto_flow": null,
      "grid_auto_rows": null,
      "grid_column": null,
      "grid_gap": null,
      "grid_row": null,
      "grid_template_areas": null,
      "grid_template_columns": null,
      "grid_template_rows": null,
      "height": null,
      "justify_content": null,
      "justify_items": null,
      "left": null,
      "margin": null,
      "max_height": null,
      "max_width": null,
      "min_height": null,
      "min_width": null,
      "object_fit": null,
      "object_position": null,
      "order": null,
      "overflow": null,
      "overflow_x": null,
      "overflow_y": null,
      "padding": null,
      "right": null,
      "top": null,
      "visibility": null,
      "width": null
     }
    },
    "35d6d18ff850443eac132f6484d5197c": {
     "model_module": "@jupyter-widgets/controls",
     "model_module_version": "1.5.0",
     "model_name": "HTMLModel",
     "state": {
      "_dom_classes": [],
      "_model_module": "@jupyter-widgets/controls",
      "_model_module_version": "1.5.0",
      "_model_name": "HTMLModel",
      "_view_count": null,
      "_view_module": "@jupyter-widgets/controls",
      "_view_module_version": "1.5.0",
      "_view_name": "HTMLView",
      "description": "",
      "description_tooltip": null,
      "layout": "IPY_MODEL_d584ad612b3441a0839068eef39cda46",
      "placeholder": "​",
      "style": "IPY_MODEL_fca606ff33534b9b8998aa704e5cdfe8",
      "value": " 124/124 [00:00&lt;00:00, 2.36kB/s]"
     }
    },
    "371cff3330f542668e400f86ee306787": {
     "model_module": "@jupyter-widgets/base",
     "model_module_version": "1.2.0",
     "model_name": "LayoutModel",
     "state": {
      "_model_module": "@jupyter-widgets/base",
      "_model_module_version": "1.2.0",
      "_model_name": "LayoutModel",
      "_view_count": null,
      "_view_module": "@jupyter-widgets/base",
      "_view_module_version": "1.2.0",
      "_view_name": "LayoutView",
      "align_content": null,
      "align_items": null,
      "align_self": null,
      "border": null,
      "bottom": null,
      "display": null,
      "flex": null,
      "flex_flow": null,
      "grid_area": null,
      "grid_auto_columns": null,
      "grid_auto_flow": null,
      "grid_auto_rows": null,
      "grid_column": null,
      "grid_gap": null,
      "grid_row": null,
      "grid_template_areas": null,
      "grid_template_columns": null,
      "grid_template_rows": null,
      "height": null,
      "justify_content": null,
      "justify_items": null,
      "left": null,
      "margin": null,
      "max_height": null,
      "max_width": null,
      "min_height": null,
      "min_width": null,
      "object_fit": null,
      "object_position": null,
      "order": null,
      "overflow": null,
      "overflow_x": null,
      "overflow_y": null,
      "padding": null,
      "right": null,
      "top": null,
      "visibility": null,
      "width": null
     }
    },
    "3827975aeffa4cf2a8c4367523f94146": {
     "model_module": "@jupyter-widgets/controls",
     "model_module_version": "1.5.0",
     "model_name": "HTMLModel",
     "state": {
      "_dom_classes": [],
      "_model_module": "@jupyter-widgets/controls",
      "_model_module_version": "1.5.0",
      "_model_name": "HTMLModel",
      "_view_count": null,
      "_view_module": "@jupyter-widgets/controls",
      "_view_module_version": "1.5.0",
      "_view_name": "HTMLView",
      "description": "",
      "description_tooltip": null,
      "layout": "IPY_MODEL_12afbb3a4e2e489081446a3243ca601c",
      "placeholder": "​",
      "style": "IPY_MODEL_bf4c89491dd34c71bfb48370f84c3c87",
      "value": "Map: 100%"
     }
    },
    "3fa104f16a404ad394cc543feac5cd3c": {
     "model_module": "@jupyter-widgets/controls",
     "model_module_version": "1.5.0",
     "model_name": "HTMLModel",
     "state": {
      "_dom_classes": [],
      "_model_module": "@jupyter-widgets/controls",
      "_model_module_version": "1.5.0",
      "_model_name": "HTMLModel",
      "_view_count": null,
      "_view_module": "@jupyter-widgets/controls",
      "_view_module_version": "1.5.0",
      "_view_name": "HTMLView",
      "description": "",
      "description_tooltip": null,
      "layout": "IPY_MODEL_dcf5e111d9504f31bdfe60acebfaec03",
      "placeholder": "​",
      "style": "IPY_MODEL_e3caea9560854ded97a3ccb90e7a4292",
      "value": " 548M/548M [00:06&lt;00:00, 104MB/s]"
     }
    },
    "4140a72094164628bdaabb36d24657d4": {
     "model_module": "@jupyter-widgets/base",
     "model_module_version": "1.2.0",
     "model_name": "LayoutModel",
     "state": {
      "_model_module": "@jupyter-widgets/base",
      "_model_module_version": "1.2.0",
      "_model_name": "LayoutModel",
      "_view_count": null,
      "_view_module": "@jupyter-widgets/base",
      "_view_module_version": "1.2.0",
      "_view_name": "LayoutView",
      "align_content": null,
      "align_items": null,
      "align_self": null,
      "border": null,
      "bottom": null,
      "display": null,
      "flex": null,
      "flex_flow": null,
      "grid_area": null,
      "grid_auto_columns": null,
      "grid_auto_flow": null,
      "grid_auto_rows": null,
      "grid_column": null,
      "grid_gap": null,
      "grid_row": null,
      "grid_template_areas": null,
      "grid_template_columns": null,
      "grid_template_rows": null,
      "height": null,
      "justify_content": null,
      "justify_items": null,
      "left": null,
      "margin": null,
      "max_height": null,
      "max_width": null,
      "min_height": null,
      "min_width": null,
      "object_fit": null,
      "object_position": null,
      "order": null,
      "overflow": null,
      "overflow_x": null,
      "overflow_y": null,
      "padding": null,
      "right": null,
      "top": null,
      "visibility": null,
      "width": null
     }
    },
    "441e3b6ed170405ebae8830a33e8a7e8": {
     "model_module": "@jupyter-widgets/controls",
     "model_module_version": "1.5.0",
     "model_name": "HTMLModel",
     "state": {
      "_dom_classes": [],
      "_model_module": "@jupyter-widgets/controls",
      "_model_module_version": "1.5.0",
      "_model_name": "HTMLModel",
      "_view_count": null,
      "_view_module": "@jupyter-widgets/controls",
      "_view_module_version": "1.5.0",
      "_view_name": "HTMLView",
      "description": "",
      "description_tooltip": null,
      "layout": "IPY_MODEL_371cff3330f542668e400f86ee306787",
      "placeholder": "​",
      "style": "IPY_MODEL_f5bac7bb8ab143d88ec73402b7d7c379",
      "value": "Extracting data files: 100%"
     }
    },
    "44f4b5f2f76e41b1bc193e2d61bceb6f": {
     "model_module": "@jupyter-widgets/controls",
     "model_module_version": "1.5.0",
     "model_name": "DescriptionStyleModel",
     "state": {
      "_model_module": "@jupyter-widgets/controls",
      "_model_module_version": "1.5.0",
      "_model_name": "DescriptionStyleModel",
      "_view_count": null,
      "_view_module": "@jupyter-widgets/base",
      "_view_module_version": "1.2.0",
      "_view_name": "StyleView",
      "description_width": ""
     }
    },
    "47ff8d89a38c4e93877d18c6724b4943": {
     "model_module": "@jupyter-widgets/base",
     "model_module_version": "1.2.0",
     "model_name": "LayoutModel",
     "state": {
      "_model_module": "@jupyter-widgets/base",
      "_model_module_version": "1.2.0",
      "_model_name": "LayoutModel",
      "_view_count": null,
      "_view_module": "@jupyter-widgets/base",
      "_view_module_version": "1.2.0",
      "_view_name": "LayoutView",
      "align_content": null,
      "align_items": null,
      "align_self": null,
      "border": null,
      "bottom": null,
      "display": null,
      "flex": null,
      "flex_flow": null,
      "grid_area": null,
      "grid_auto_columns": null,
      "grid_auto_flow": null,
      "grid_auto_rows": null,
      "grid_column": null,
      "grid_gap": null,
      "grid_row": null,
      "grid_template_areas": null,
      "grid_template_columns": null,
      "grid_template_rows": null,
      "height": null,
      "justify_content": null,
      "justify_items": null,
      "left": null,
      "margin": null,
      "max_height": null,
      "max_width": null,
      "min_height": null,
      "min_width": null,
      "object_fit": null,
      "object_position": null,
      "order": null,
      "overflow": null,
      "overflow_x": null,
      "overflow_y": null,
      "padding": null,
      "right": null,
      "top": null,
      "visibility": null,
      "width": null
     }
    },
    "4a93a0539de44e99b169e501380bba7c": {
     "model_module": "@jupyter-widgets/base",
     "model_module_version": "1.2.0",
     "model_name": "LayoutModel",
     "state": {
      "_model_module": "@jupyter-widgets/base",
      "_model_module_version": "1.2.0",
      "_model_name": "LayoutModel",
      "_view_count": null,
      "_view_module": "@jupyter-widgets/base",
      "_view_module_version": "1.2.0",
      "_view_name": "LayoutView",
      "align_content": null,
      "align_items": null,
      "align_self": null,
      "border": null,
      "bottom": null,
      "display": null,
      "flex": null,
      "flex_flow": null,
      "grid_area": null,
      "grid_auto_columns": null,
      "grid_auto_flow": null,
      "grid_auto_rows": null,
      "grid_column": null,
      "grid_gap": null,
      "grid_row": null,
      "grid_template_areas": null,
      "grid_template_columns": null,
      "grid_template_rows": null,
      "height": null,
      "justify_content": null,
      "justify_items": null,
      "left": null,
      "margin": null,
      "max_height": null,
      "max_width": null,
      "min_height": null,
      "min_width": null,
      "object_fit": null,
      "object_position": null,
      "order": null,
      "overflow": null,
      "overflow_x": null,
      "overflow_y": null,
      "padding": null,
      "right": null,
      "top": null,
      "visibility": null,
      "width": null
     }
    },
    "4d6213f927b0418fa6eba1d096e64542": {
     "model_module": "@jupyter-widgets/controls",
     "model_module_version": "1.5.0",
     "model_name": "DescriptionStyleModel",
     "state": {
      "_model_module": "@jupyter-widgets/controls",
      "_model_module_version": "1.5.0",
      "_model_name": "DescriptionStyleModel",
      "_view_count": null,
      "_view_module": "@jupyter-widgets/base",
      "_view_module_version": "1.2.0",
      "_view_name": "StyleView",
      "description_width": ""
     }
    },
    "4f9ef50bc07641339c77ad43517cdc54": {
     "model_module": "@jupyter-widgets/base",
     "model_module_version": "1.2.0",
     "model_name": "LayoutModel",
     "state": {
      "_model_module": "@jupyter-widgets/base",
      "_model_module_version": "1.2.0",
      "_model_name": "LayoutModel",
      "_view_count": null,
      "_view_module": "@jupyter-widgets/base",
      "_view_module_version": "1.2.0",
      "_view_name": "LayoutView",
      "align_content": null,
      "align_items": null,
      "align_self": null,
      "border": null,
      "bottom": null,
      "display": null,
      "flex": null,
      "flex_flow": null,
      "grid_area": null,
      "grid_auto_columns": null,
      "grid_auto_flow": null,
      "grid_auto_rows": null,
      "grid_column": null,
      "grid_gap": null,
      "grid_row": null,
      "grid_template_areas": null,
      "grid_template_columns": null,
      "grid_template_rows": null,
      "height": null,
      "justify_content": null,
      "justify_items": null,
      "left": null,
      "margin": null,
      "max_height": null,
      "max_width": null,
      "min_height": null,
      "min_width": null,
      "object_fit": null,
      "object_position": null,
      "order": null,
      "overflow": null,
      "overflow_x": null,
      "overflow_y": null,
      "padding": null,
      "right": null,
      "top": null,
      "visibility": null,
      "width": null
     }
    },
    "511a69d126dc406a953e762290e0be64": {
     "model_module": "@jupyter-widgets/controls",
     "model_module_version": "1.5.0",
     "model_name": "ProgressStyleModel",
     "state": {
      "_model_module": "@jupyter-widgets/controls",
      "_model_module_version": "1.5.0",
      "_model_name": "ProgressStyleModel",
      "_view_count": null,
      "_view_module": "@jupyter-widgets/base",
      "_view_module_version": "1.2.0",
      "_view_name": "StyleView",
      "bar_color": null,
      "description_width": ""
     }
    },
    "56c8672948d34c55b19454da3942919c": {
     "model_module": "@jupyter-widgets/controls",
     "model_module_version": "1.5.0",
     "model_name": "DescriptionStyleModel",
     "state": {
      "_model_module": "@jupyter-widgets/controls",
      "_model_module_version": "1.5.0",
      "_model_name": "DescriptionStyleModel",
      "_view_count": null,
      "_view_module": "@jupyter-widgets/base",
      "_view_module_version": "1.2.0",
      "_view_name": "StyleView",
      "description_width": ""
     }
    },
    "56f77d3c35f946518065b4aadfe4e0fe": {
     "model_module": "@jupyter-widgets/controls",
     "model_module_version": "1.5.0",
     "model_name": "DescriptionStyleModel",
     "state": {
      "_model_module": "@jupyter-widgets/controls",
      "_model_module_version": "1.5.0",
      "_model_name": "DescriptionStyleModel",
      "_view_count": null,
      "_view_module": "@jupyter-widgets/base",
      "_view_module_version": "1.2.0",
      "_view_name": "StyleView",
      "description_width": ""
     }
    },
    "5d8a97d1a8534595b0264e1eac9d4095": {
     "model_module": "@jupyter-widgets/controls",
     "model_module_version": "1.5.0",
     "model_name": "HBoxModel",
     "state": {
      "_dom_classes": [],
      "_model_module": "@jupyter-widgets/controls",
      "_model_module_version": "1.5.0",
      "_model_name": "HBoxModel",
      "_view_count": null,
      "_view_module": "@jupyter-widgets/controls",
      "_view_module_version": "1.5.0",
      "_view_name": "HBoxView",
      "box_style": "",
      "children": [
       "IPY_MODEL_8de2ed3a613444d589d0a05b680bda7f",
       "IPY_MODEL_ee9e387ffae0412d805d7095f9c2550b",
       "IPY_MODEL_7fd2dd64167d4afa890be1dd7198b3b8"
      ],
      "layout": "IPY_MODEL_47ff8d89a38c4e93877d18c6724b4943"
     }
    },
    "61b6935cccbc4bf08dc46d01ac0e9f25": {
     "model_module": "@jupyter-widgets/controls",
     "model_module_version": "1.5.0",
     "model_name": "HBoxModel",
     "state": {
      "_dom_classes": [],
      "_model_module": "@jupyter-widgets/controls",
      "_model_module_version": "1.5.0",
      "_model_name": "HBoxModel",
      "_view_count": null,
      "_view_module": "@jupyter-widgets/controls",
      "_view_module_version": "1.5.0",
      "_view_name": "HBoxView",
      "box_style": "",
      "children": [
       "IPY_MODEL_e969ddb70fcc4364840bc92978c4f52c",
       "IPY_MODEL_8ebf3fc84b7f4c86892cf7bb3063c004",
       "IPY_MODEL_b3aa95d0a9b545ca8490a011db3bc918"
      ],
      "layout": "IPY_MODEL_641d5610b2214895bef6da87441ec7f1"
     }
    },
    "61fb78c48c45431797616a3bbf5d85e6": {
     "model_module": "@jupyter-widgets/base",
     "model_module_version": "1.2.0",
     "model_name": "LayoutModel",
     "state": {
      "_model_module": "@jupyter-widgets/base",
      "_model_module_version": "1.2.0",
      "_model_name": "LayoutModel",
      "_view_count": null,
      "_view_module": "@jupyter-widgets/base",
      "_view_module_version": "1.2.0",
      "_view_name": "LayoutView",
      "align_content": null,
      "align_items": null,
      "align_self": null,
      "border": null,
      "bottom": null,
      "display": null,
      "flex": null,
      "flex_flow": null,
      "grid_area": null,
      "grid_auto_columns": null,
      "grid_auto_flow": null,
      "grid_auto_rows": null,
      "grid_column": null,
      "grid_gap": null,
      "grid_row": null,
      "grid_template_areas": null,
      "grid_template_columns": null,
      "grid_template_rows": null,
      "height": null,
      "justify_content": null,
      "justify_items": null,
      "left": null,
      "margin": null,
      "max_height": null,
      "max_width": null,
      "min_height": null,
      "min_width": null,
      "object_fit": null,
      "object_position": null,
      "order": null,
      "overflow": null,
      "overflow_x": null,
      "overflow_y": null,
      "padding": null,
      "right": null,
      "top": null,
      "visibility": null,
      "width": null
     }
    },
    "63c94995f3e345c7bf64cba4865d86f7": {
     "model_module": "@jupyter-widgets/base",
     "model_module_version": "1.2.0",
     "model_name": "LayoutModel",
     "state": {
      "_model_module": "@jupyter-widgets/base",
      "_model_module_version": "1.2.0",
      "_model_name": "LayoutModel",
      "_view_count": null,
      "_view_module": "@jupyter-widgets/base",
      "_view_module_version": "1.2.0",
      "_view_name": "LayoutView",
      "align_content": null,
      "align_items": null,
      "align_self": null,
      "border": null,
      "bottom": null,
      "display": null,
      "flex": null,
      "flex_flow": null,
      "grid_area": null,
      "grid_auto_columns": null,
      "grid_auto_flow": null,
      "grid_auto_rows": null,
      "grid_column": null,
      "grid_gap": null,
      "grid_row": null,
      "grid_template_areas": null,
      "grid_template_columns": null,
      "grid_template_rows": null,
      "height": null,
      "justify_content": null,
      "justify_items": null,
      "left": null,
      "margin": null,
      "max_height": null,
      "max_width": null,
      "min_height": null,
      "min_width": null,
      "object_fit": null,
      "object_position": null,
      "order": null,
      "overflow": null,
      "overflow_x": null,
      "overflow_y": null,
      "padding": null,
      "right": null,
      "top": null,
      "visibility": null,
      "width": null
     }
    },
    "641d5610b2214895bef6da87441ec7f1": {
     "model_module": "@jupyter-widgets/base",
     "model_module_version": "1.2.0",
     "model_name": "LayoutModel",
     "state": {
      "_model_module": "@jupyter-widgets/base",
      "_model_module_version": "1.2.0",
      "_model_name": "LayoutModel",
      "_view_count": null,
      "_view_module": "@jupyter-widgets/base",
      "_view_module_version": "1.2.0",
      "_view_name": "LayoutView",
      "align_content": null,
      "align_items": null,
      "align_self": null,
      "border": null,
      "bottom": null,
      "display": null,
      "flex": null,
      "flex_flow": null,
      "grid_area": null,
      "grid_auto_columns": null,
      "grid_auto_flow": null,
      "grid_auto_rows": null,
      "grid_column": null,
      "grid_gap": null,
      "grid_row": null,
      "grid_template_areas": null,
      "grid_template_columns": null,
      "grid_template_rows": null,
      "height": null,
      "justify_content": null,
      "justify_items": null,
      "left": null,
      "margin": null,
      "max_height": null,
      "max_width": null,
      "min_height": null,
      "min_width": null,
      "object_fit": null,
      "object_position": null,
      "order": null,
      "overflow": null,
      "overflow_x": null,
      "overflow_y": null,
      "padding": null,
      "right": null,
      "top": null,
      "visibility": null,
      "width": null
     }
    },
    "6636afde8126468c9ca90a47ae5ddda4": {
     "model_module": "@jupyter-widgets/controls",
     "model_module_version": "1.5.0",
     "model_name": "ProgressStyleModel",
     "state": {
      "_model_module": "@jupyter-widgets/controls",
      "_model_module_version": "1.5.0",
      "_model_name": "ProgressStyleModel",
      "_view_count": null,
      "_view_module": "@jupyter-widgets/base",
      "_view_module_version": "1.2.0",
      "_view_name": "StyleView",
      "bar_color": null,
      "description_width": ""
     }
    },
    "68965c3b723348d1ba16b02d2995c7b1": {
     "model_module": "@jupyter-widgets/controls",
     "model_module_version": "1.5.0",
     "model_name": "HBoxModel",
     "state": {
      "_dom_classes": [],
      "_model_module": "@jupyter-widgets/controls",
      "_model_module_version": "1.5.0",
      "_model_name": "HBoxModel",
      "_view_count": null,
      "_view_module": "@jupyter-widgets/controls",
      "_view_module_version": "1.5.0",
      "_view_name": "HBoxView",
      "box_style": "",
      "children": [
       "IPY_MODEL_1e2c632afcbf4b0f8a0f332bd99bc530",
       "IPY_MODEL_b247c5ea1ee44cc982744c41bda3ff07",
       "IPY_MODEL_74e2833a78f54fa0a0aab9e2fde31d05"
      ],
      "layout": "IPY_MODEL_23f4cf04804e422f942ff302357701fe"
     }
    },
    "68eaec29e86045e5aec3dd032b56cd09": {
     "model_module": "@jupyter-widgets/controls",
     "model_module_version": "1.5.0",
     "model_name": "ProgressStyleModel",
     "state": {
      "_model_module": "@jupyter-widgets/controls",
      "_model_module_version": "1.5.0",
      "_model_name": "ProgressStyleModel",
      "_view_count": null,
      "_view_module": "@jupyter-widgets/base",
      "_view_module_version": "1.2.0",
      "_view_name": "StyleView",
      "bar_color": null,
      "description_width": ""
     }
    },
    "69a3373ba1ef4599ad1f0f7d14d3e3b0": {
     "model_module": "@jupyter-widgets/controls",
     "model_module_version": "1.5.0",
     "model_name": "DescriptionStyleModel",
     "state": {
      "_model_module": "@jupyter-widgets/controls",
      "_model_module_version": "1.5.0",
      "_model_name": "DescriptionStyleModel",
      "_view_count": null,
      "_view_module": "@jupyter-widgets/base",
      "_view_module_version": "1.2.0",
      "_view_name": "StyleView",
      "description_width": ""
     }
    },
    "6a601a1fbf69411cb2813a7b67ba8b34": {
     "model_module": "@jupyter-widgets/controls",
     "model_module_version": "1.5.0",
     "model_name": "HBoxModel",
     "state": {
      "_dom_classes": [],
      "_model_module": "@jupyter-widgets/controls",
      "_model_module_version": "1.5.0",
      "_model_name": "HBoxModel",
      "_view_count": null,
      "_view_module": "@jupyter-widgets/controls",
      "_view_module_version": "1.5.0",
      "_view_name": "HBoxView",
      "box_style": "",
      "children": [
       "IPY_MODEL_1505ed8ceaa94538940e4653c8f59623",
       "IPY_MODEL_b5d338d34a4a4ee5b3c19c996550ec59",
       "IPY_MODEL_234aec6b44b648a1b1c44324de76c686"
      ],
      "layout": "IPY_MODEL_61fb78c48c45431797616a3bbf5d85e6"
     }
    },
    "6ca12abab518464798db3e9b7dffe789": {
     "model_module": "@jupyter-widgets/controls",
     "model_module_version": "1.5.0",
     "model_name": "DescriptionStyleModel",
     "state": {
      "_model_module": "@jupyter-widgets/controls",
      "_model_module_version": "1.5.0",
      "_model_name": "DescriptionStyleModel",
      "_view_count": null,
      "_view_module": "@jupyter-widgets/base",
      "_view_module_version": "1.2.0",
      "_view_name": "StyleView",
      "description_width": ""
     }
    },
    "700aff0fb22b4dac8789f7a44f3b7e77": {
     "model_module": "@jupyter-widgets/controls",
     "model_module_version": "1.5.0",
     "model_name": "DescriptionStyleModel",
     "state": {
      "_model_module": "@jupyter-widgets/controls",
      "_model_module_version": "1.5.0",
      "_model_name": "DescriptionStyleModel",
      "_view_count": null,
      "_view_module": "@jupyter-widgets/base",
      "_view_module_version": "1.2.0",
      "_view_name": "StyleView",
      "description_width": ""
     }
    },
    "721d0897700d47c68a014d5fd825c47b": {
     "model_module": "@jupyter-widgets/base",
     "model_module_version": "1.2.0",
     "model_name": "LayoutModel",
     "state": {
      "_model_module": "@jupyter-widgets/base",
      "_model_module_version": "1.2.0",
      "_model_name": "LayoutModel",
      "_view_count": null,
      "_view_module": "@jupyter-widgets/base",
      "_view_module_version": "1.2.0",
      "_view_name": "LayoutView",
      "align_content": null,
      "align_items": null,
      "align_self": null,
      "border": null,
      "bottom": null,
      "display": null,
      "flex": null,
      "flex_flow": null,
      "grid_area": null,
      "grid_auto_columns": null,
      "grid_auto_flow": null,
      "grid_auto_rows": null,
      "grid_column": null,
      "grid_gap": null,
      "grid_row": null,
      "grid_template_areas": null,
      "grid_template_columns": null,
      "grid_template_rows": null,
      "height": null,
      "justify_content": null,
      "justify_items": null,
      "left": null,
      "margin": null,
      "max_height": null,
      "max_width": null,
      "min_height": null,
      "min_width": null,
      "object_fit": null,
      "object_position": null,
      "order": null,
      "overflow": null,
      "overflow_x": null,
      "overflow_y": null,
      "padding": null,
      "right": null,
      "top": null,
      "visibility": null,
      "width": null
     }
    },
    "74e2833a78f54fa0a0aab9e2fde31d05": {
     "model_module": "@jupyter-widgets/controls",
     "model_module_version": "1.5.0",
     "model_name": "HTMLModel",
     "state": {
      "_dom_classes": [],
      "_model_module": "@jupyter-widgets/controls",
      "_model_module_version": "1.5.0",
      "_model_name": "HTMLModel",
      "_view_count": null,
      "_view_module": "@jupyter-widgets/controls",
      "_view_module_version": "1.5.0",
      "_view_name": "HTMLView",
      "description": "",
      "description_tooltip": null,
      "layout": "IPY_MODEL_8ae4c9d2226b4398b171c69057645abd",
      "placeholder": "​",
      "style": "IPY_MODEL_fb6f538af8d44ad0a4a2ae42be470eb6",
      "value": " 1.36M/1.36M [00:00&lt;00:00, 24.2MB/s]"
     }
    },
    "75421153f63c4c5ca60e060913c612fe": {
     "model_module": "@jupyter-widgets/controls",
     "model_module_version": "1.5.0",
     "model_name": "FloatProgressModel",
     "state": {
      "_dom_classes": [],
      "_model_module": "@jupyter-widgets/controls",
      "_model_module_version": "1.5.0",
      "_model_name": "FloatProgressModel",
      "_view_count": null,
      "_view_module": "@jupyter-widgets/controls",
      "_view_module_version": "1.5.0",
      "_view_name": "ProgressView",
      "bar_style": "success",
      "description": "",
      "description_tooltip": null,
      "layout": "IPY_MODEL_db37b287c7354cad9080447b66511988",
      "max": 124,
      "min": 0,
      "orientation": "horizontal",
      "style": "IPY_MODEL_19ca09fa63cc4a0c806f2b60dbfa0e02",
      "value": 124
     }
    },
    "794acefe761040f28f3f5f34c78b6f60": {
     "model_module": "@jupyter-widgets/base",
     "model_module_version": "1.2.0",
     "model_name": "LayoutModel",
     "state": {
      "_model_module": "@jupyter-widgets/base",
      "_model_module_version": "1.2.0",
      "_model_name": "LayoutModel",
      "_view_count": null,
      "_view_module": "@jupyter-widgets/base",
      "_view_module_version": "1.2.0",
      "_view_name": "LayoutView",
      "align_content": null,
      "align_items": null,
      "align_self": null,
      "border": null,
      "bottom": null,
      "display": null,
      "flex": null,
      "flex_flow": null,
      "grid_area": null,
      "grid_auto_columns": null,
      "grid_auto_flow": null,
      "grid_auto_rows": null,
      "grid_column": null,
      "grid_gap": null,
      "grid_row": null,
      "grid_template_areas": null,
      "grid_template_columns": null,
      "grid_template_rows": null,
      "height": null,
      "justify_content": null,
      "justify_items": null,
      "left": null,
      "margin": null,
      "max_height": null,
      "max_width": null,
      "min_height": null,
      "min_width": null,
      "object_fit": null,
      "object_position": null,
      "order": null,
      "overflow": null,
      "overflow_x": null,
      "overflow_y": null,
      "padding": null,
      "right": null,
      "top": null,
      "visibility": null,
      "width": null
     }
    },
    "7ae3534756304287abd8f250b55674d9": {
     "model_module": "@jupyter-widgets/controls",
     "model_module_version": "1.5.0",
     "model_name": "HTMLModel",
     "state": {
      "_dom_classes": [],
      "_model_module": "@jupyter-widgets/controls",
      "_model_module_version": "1.5.0",
      "_model_name": "HTMLModel",
      "_view_count": null,
      "_view_module": "@jupyter-widgets/controls",
      "_view_module_version": "1.5.0",
      "_view_name": "HTMLView",
      "description": "",
      "description_tooltip": null,
      "layout": "IPY_MODEL_4f9ef50bc07641339c77ad43517cdc54",
      "placeholder": "​",
      "style": "IPY_MODEL_242ced3e264d440f984b1834c6bd7d1b",
      "value": " 1/1 [00:00&lt;00:00, 17.40it/s]"
     }
    },
    "7fd2dd64167d4afa890be1dd7198b3b8": {
     "model_module": "@jupyter-widgets/controls",
     "model_module_version": "1.5.0",
     "model_name": "HTMLModel",
     "state": {
      "_dom_classes": [],
      "_model_module": "@jupyter-widgets/controls",
      "_model_module_version": "1.5.0",
      "_model_name": "HTMLModel",
      "_view_count": null,
      "_view_module": "@jupyter-widgets/controls",
      "_view_module_version": "1.5.0",
      "_view_name": "HTMLView",
      "description": "",
      "description_tooltip": null,
      "layout": "IPY_MODEL_c6f215897c5d4b98a021e71063faeb91",
      "placeholder": "​",
      "style": "IPY_MODEL_4d6213f927b0418fa6eba1d096e64542",
      "value": " 665/665 [00:00&lt;00:00, 16.6kB/s]"
     }
    },
    "81b55d6654914ced9847337c7ceaebe9": {
     "model_module": "@jupyter-widgets/controls",
     "model_module_version": "1.5.0",
     "model_name": "HTMLModel",
     "state": {
      "_dom_classes": [],
      "_model_module": "@jupyter-widgets/controls",
      "_model_module_version": "1.5.0",
      "_model_name": "HTMLModel",
      "_view_count": null,
      "_view_module": "@jupyter-widgets/controls",
      "_view_module_version": "1.5.0",
      "_view_name": "HTMLView",
      "description": "",
      "description_tooltip": null,
      "layout": "IPY_MODEL_e889a15fff0243e8a0e5c20021ae1715",
      "placeholder": "​",
      "style": "IPY_MODEL_56f77d3c35f946518065b4aadfe4e0fe",
      "value": "Generating train split: "
     }
    },
    "83865482ac624f3d8154c0a48ec659b1": {
     "model_module": "@jupyter-widgets/controls",
     "model_module_version": "1.5.0",
     "model_name": "DescriptionStyleModel",
     "state": {
      "_model_module": "@jupyter-widgets/controls",
      "_model_module_version": "1.5.0",
      "_model_name": "DescriptionStyleModel",
      "_view_count": null,
      "_view_module": "@jupyter-widgets/base",
      "_view_module_version": "1.2.0",
      "_view_name": "StyleView",
      "description_width": ""
     }
    },
    "841d59acdcd447e68fc43a627094022e": {
     "model_module": "@jupyter-widgets/base",
     "model_module_version": "1.2.0",
     "model_name": "LayoutModel",
     "state": {
      "_model_module": "@jupyter-widgets/base",
      "_model_module_version": "1.2.0",
      "_model_name": "LayoutModel",
      "_view_count": null,
      "_view_module": "@jupyter-widgets/base",
      "_view_module_version": "1.2.0",
      "_view_name": "LayoutView",
      "align_content": null,
      "align_items": null,
      "align_self": null,
      "border": null,
      "bottom": null,
      "display": null,
      "flex": null,
      "flex_flow": null,
      "grid_area": null,
      "grid_auto_columns": null,
      "grid_auto_flow": null,
      "grid_auto_rows": null,
      "grid_column": null,
      "grid_gap": null,
      "grid_row": null,
      "grid_template_areas": null,
      "grid_template_columns": null,
      "grid_template_rows": null,
      "height": null,
      "justify_content": null,
      "justify_items": null,
      "left": null,
      "margin": null,
      "max_height": null,
      "max_width": null,
      "min_height": null,
      "min_width": null,
      "object_fit": null,
      "object_position": null,
      "order": null,
      "overflow": null,
      "overflow_x": null,
      "overflow_y": null,
      "padding": null,
      "right": null,
      "top": null,
      "visibility": null,
      "width": null
     }
    },
    "84c02347d9a240659a8a4b47eec3a7ca": {
     "model_module": "@jupyter-widgets/controls",
     "model_module_version": "1.5.0",
     "model_name": "FloatProgressModel",
     "state": {
      "_dom_classes": [],
      "_model_module": "@jupyter-widgets/controls",
      "_model_module_version": "1.5.0",
      "_model_name": "FloatProgressModel",
      "_view_count": null,
      "_view_module": "@jupyter-widgets/controls",
      "_view_module_version": "1.5.0",
      "_view_name": "ProgressView",
      "bar_style": "success",
      "description": "",
      "description_tooltip": null,
      "layout": "IPY_MODEL_e45abea5b8394b36acf31300b65be003",
      "max": 1,
      "min": 0,
      "orientation": "horizontal",
      "style": "IPY_MODEL_b1486aadc73d4e84baf6feab2e142ac2",
      "value": 1
     }
    },
    "8ae4c9d2226b4398b171c69057645abd": {
     "model_module": "@jupyter-widgets/base",
     "model_module_version": "1.2.0",
     "model_name": "LayoutModel",
     "state": {
      "_model_module": "@jupyter-widgets/base",
      "_model_module_version": "1.2.0",
      "_model_name": "LayoutModel",
      "_view_count": null,
      "_view_module": "@jupyter-widgets/base",
      "_view_module_version": "1.2.0",
      "_view_name": "LayoutView",
      "align_content": null,
      "align_items": null,
      "align_self": null,
      "border": null,
      "bottom": null,
      "display": null,
      "flex": null,
      "flex_flow": null,
      "grid_area": null,
      "grid_auto_columns": null,
      "grid_auto_flow": null,
      "grid_auto_rows": null,
      "grid_column": null,
      "grid_gap": null,
      "grid_row": null,
      "grid_template_areas": null,
      "grid_template_columns": null,
      "grid_template_rows": null,
      "height": null,
      "justify_content": null,
      "justify_items": null,
      "left": null,
      "margin": null,
      "max_height": null,
      "max_width": null,
      "min_height": null,
      "min_width": null,
      "object_fit": null,
      "object_position": null,
      "order": null,
      "overflow": null,
      "overflow_x": null,
      "overflow_y": null,
      "padding": null,
      "right": null,
      "top": null,
      "visibility": null,
      "width": null
     }
    },
    "8de2ed3a613444d589d0a05b680bda7f": {
     "model_module": "@jupyter-widgets/controls",
     "model_module_version": "1.5.0",
     "model_name": "HTMLModel",
     "state": {
      "_dom_classes": [],
      "_model_module": "@jupyter-widgets/controls",
      "_model_module_version": "1.5.0",
      "_model_name": "HTMLModel",
      "_view_count": null,
      "_view_module": "@jupyter-widgets/controls",
      "_view_module_version": "1.5.0",
      "_view_name": "HTMLView",
      "description": "",
      "description_tooltip": null,
      "layout": "IPY_MODEL_c0893852fd974f37a79afbad27e9106b",
      "placeholder": "​",
      "style": "IPY_MODEL_6ca12abab518464798db3e9b7dffe789",
      "value": "Downloading (…)lve/main/config.json: 100%"
     }
    },
    "8ebf3fc84b7f4c86892cf7bb3063c004": {
     "model_module": "@jupyter-widgets/controls",
     "model_module_version": "1.5.0",
     "model_name": "FloatProgressModel",
     "state": {
      "_dom_classes": [],
      "_model_module": "@jupyter-widgets/controls",
      "_model_module_version": "1.5.0",
      "_model_name": "FloatProgressModel",
      "_view_count": null,
      "_view_module": "@jupyter-widgets/controls",
      "_view_module_version": "1.5.0",
      "_view_name": "ProgressView",
      "bar_style": "success",
      "description": "",
      "description_tooltip": null,
      "layout": "IPY_MODEL_dec4cddbb64b47aebcd293b0d5656593",
      "max": 1042301,
      "min": 0,
      "orientation": "horizontal",
      "style": "IPY_MODEL_ce226a3b8a334df0bb0f5a6029dd1188",
      "value": 1042301
     }
    },
    "94dd83a6f0834533bc4373023b5882be": {
     "model_module": "@jupyter-widgets/controls",
     "model_module_version": "1.5.0",
     "model_name": "HTMLModel",
     "state": {
      "_dom_classes": [],
      "_model_module": "@jupyter-widgets/controls",
      "_model_module_version": "1.5.0",
      "_model_name": "HTMLModel",
      "_view_count": null,
      "_view_module": "@jupyter-widgets/controls",
      "_view_module_version": "1.5.0",
      "_view_name": "HTMLView",
      "description": "",
      "description_tooltip": null,
      "layout": "IPY_MODEL_c7285f22bb9d40439b1a216aa1c9c57e",
      "placeholder": "​",
      "style": "IPY_MODEL_cd2f179183814533bc9a8efa3d88c0bc",
      "value": " 6040/6040 [00:10&lt;00:00, 587.57 examples/s]"
     }
    },
    "9bc67cb44760464895c39d6b98f0d129": {
     "model_module": "@jupyter-widgets/base",
     "model_module_version": "1.2.0",
     "model_name": "LayoutModel",
     "state": {
      "_model_module": "@jupyter-widgets/base",
      "_model_module_version": "1.2.0",
      "_model_name": "LayoutModel",
      "_view_count": null,
      "_view_module": "@jupyter-widgets/base",
      "_view_module_version": "1.2.0",
      "_view_name": "LayoutView",
      "align_content": null,
      "align_items": null,
      "align_self": null,
      "border": null,
      "bottom": null,
      "display": null,
      "flex": null,
      "flex_flow": null,
      "grid_area": null,
      "grid_auto_columns": null,
      "grid_auto_flow": null,
      "grid_auto_rows": null,
      "grid_column": null,
      "grid_gap": null,
      "grid_row": null,
      "grid_template_areas": null,
      "grid_template_columns": null,
      "grid_template_rows": null,
      "height": null,
      "justify_content": null,
      "justify_items": null,
      "left": null,
      "margin": null,
      "max_height": null,
      "max_width": null,
      "min_height": null,
      "min_width": null,
      "object_fit": null,
      "object_position": null,
      "order": null,
      "overflow": null,
      "overflow_x": null,
      "overflow_y": null,
      "padding": null,
      "right": null,
      "top": null,
      "visibility": null,
      "width": null
     }
    },
    "9df70bc9bafc4171ab0a6d0b899132a9": {
     "model_module": "@jupyter-widgets/controls",
     "model_module_version": "1.5.0",
     "model_name": "HTMLModel",
     "state": {
      "_dom_classes": [],
      "_model_module": "@jupyter-widgets/controls",
      "_model_module_version": "1.5.0",
      "_model_name": "HTMLModel",
      "_view_count": null,
      "_view_module": "@jupyter-widgets/controls",
      "_view_module_version": "1.5.0",
      "_view_name": "HTMLView",
      "description": "",
      "description_tooltip": null,
      "layout": "IPY_MODEL_0b255a3ef28b4d738c044c0aca523406",
      "placeholder": "​",
      "style": "IPY_MODEL_700aff0fb22b4dac8789f7a44f3b7e77",
      "value": "Downloading model.safetensors: 100%"
     }
    },
    "9e25c3e4e9084c48be13c3626d964482": {
     "model_module": "@jupyter-widgets/controls",
     "model_module_version": "1.5.0",
     "model_name": "FloatProgressModel",
     "state": {
      "_dom_classes": [],
      "_model_module": "@jupyter-widgets/controls",
      "_model_module_version": "1.5.0",
      "_model_name": "FloatProgressModel",
      "_view_count": null,
      "_view_module": "@jupyter-widgets/controls",
      "_view_module_version": "1.5.0",
      "_view_name": "ProgressView",
      "bar_style": "success",
      "description": "",
      "description_tooltip": null,
      "layout": "IPY_MODEL_ea2a1cd799ac458584a02a8c7cbe746a",
      "max": 1,
      "min": 0,
      "orientation": "horizontal",
      "style": "IPY_MODEL_6636afde8126468c9ca90a47ae5ddda4",
      "value": 1
     }
    },
    "9e6ad96020a34e5c9062a0482e28c7c5": {
     "model_module": "@jupyter-widgets/base",
     "model_module_version": "1.2.0",
     "model_name": "LayoutModel",
     "state": {
      "_model_module": "@jupyter-widgets/base",
      "_model_module_version": "1.2.0",
      "_model_name": "LayoutModel",
      "_view_count": null,
      "_view_module": "@jupyter-widgets/base",
      "_view_module_version": "1.2.0",
      "_view_name": "LayoutView",
      "align_content": null,
      "align_items": null,
      "align_self": null,
      "border": null,
      "bottom": null,
      "display": null,
      "flex": null,
      "flex_flow": null,
      "grid_area": null,
      "grid_auto_columns": null,
      "grid_auto_flow": null,
      "grid_auto_rows": null,
      "grid_column": null,
      "grid_gap": null,
      "grid_row": null,
      "grid_template_areas": null,
      "grid_template_columns": null,
      "grid_template_rows": null,
      "height": null,
      "justify_content": null,
      "justify_items": null,
      "left": null,
      "margin": null,
      "max_height": null,
      "max_width": null,
      "min_height": null,
      "min_width": null,
      "object_fit": null,
      "object_position": null,
      "order": null,
      "overflow": null,
      "overflow_x": null,
      "overflow_y": null,
      "padding": null,
      "right": null,
      "top": null,
      "visibility": null,
      "width": null
     }
    },
    "a59fcf317d934e45afdca034178747bd": {
     "model_module": "@jupyter-widgets/controls",
     "model_module_version": "1.5.0",
     "model_name": "ProgressStyleModel",
     "state": {
      "_model_module": "@jupyter-widgets/controls",
      "_model_module_version": "1.5.0",
      "_model_name": "ProgressStyleModel",
      "_view_count": null,
      "_view_module": "@jupyter-widgets/base",
      "_view_module_version": "1.2.0",
      "_view_name": "StyleView",
      "bar_color": null,
      "description_width": ""
     }
    },
    "a8c1ca02b8774d709397cda022d14490": {
     "model_module": "@jupyter-widgets/controls",
     "model_module_version": "1.5.0",
     "model_name": "ProgressStyleModel",
     "state": {
      "_model_module": "@jupyter-widgets/controls",
      "_model_module_version": "1.5.0",
      "_model_name": "ProgressStyleModel",
      "_view_count": null,
      "_view_module": "@jupyter-widgets/base",
      "_view_module_version": "1.2.0",
      "_view_name": "StyleView",
      "bar_color": null,
      "description_width": ""
     }
    },
    "a990c9d2c2a44bde85735ba0388b8ffd": {
     "model_module": "@jupyter-widgets/base",
     "model_module_version": "1.2.0",
     "model_name": "LayoutModel",
     "state": {
      "_model_module": "@jupyter-widgets/base",
      "_model_module_version": "1.2.0",
      "_model_name": "LayoutModel",
      "_view_count": null,
      "_view_module": "@jupyter-widgets/base",
      "_view_module_version": "1.2.0",
      "_view_name": "LayoutView",
      "align_content": null,
      "align_items": null,
      "align_self": null,
      "border": null,
      "bottom": null,
      "display": null,
      "flex": null,
      "flex_flow": null,
      "grid_area": null,
      "grid_auto_columns": null,
      "grid_auto_flow": null,
      "grid_auto_rows": null,
      "grid_column": null,
      "grid_gap": null,
      "grid_row": null,
      "grid_template_areas": null,
      "grid_template_columns": null,
      "grid_template_rows": null,
      "height": null,
      "justify_content": null,
      "justify_items": null,
      "left": null,
      "margin": null,
      "max_height": null,
      "max_width": null,
      "min_height": null,
      "min_width": null,
      "object_fit": null,
      "object_position": null,
      "order": null,
      "overflow": null,
      "overflow_x": null,
      "overflow_y": null,
      "padding": null,
      "right": null,
      "top": null,
      "visibility": null,
      "width": null
     }
    },
    "a9e61a4941c34e49b08c3e1f5ce0ef4e": {
     "model_module": "@jupyter-widgets/controls",
     "model_module_version": "1.5.0",
     "model_name": "HBoxModel",
     "state": {
      "_dom_classes": [],
      "_model_module": "@jupyter-widgets/controls",
      "_model_module_version": "1.5.0",
      "_model_name": "HBoxModel",
      "_view_count": null,
      "_view_module": "@jupyter-widgets/controls",
      "_view_module_version": "1.5.0",
      "_view_name": "HBoxView",
      "box_style": "",
      "children": [
       "IPY_MODEL_9df70bc9bafc4171ab0a6d0b899132a9",
       "IPY_MODEL_f08b8ff471544f189738c0c68d973cd6",
       "IPY_MODEL_3fa104f16a404ad394cc543feac5cd3c"
      ],
      "layout": "IPY_MODEL_16921c35c4024f5bbc334303cf28e18e"
     }
    },
    "ab371524fe44453e855e3104ec44fa3b": {
     "model_module": "@jupyter-widgets/controls",
     "model_module_version": "1.5.0",
     "model_name": "DescriptionStyleModel",
     "state": {
      "_model_module": "@jupyter-widgets/controls",
      "_model_module_version": "1.5.0",
      "_model_name": "DescriptionStyleModel",
      "_view_count": null,
      "_view_module": "@jupyter-widgets/base",
      "_view_module_version": "1.2.0",
      "_view_name": "StyleView",
      "description_width": ""
     }
    },
    "ab561e9c7c8f452e897b0d7585e7d8b4": {
     "model_module": "@jupyter-widgets/controls",
     "model_module_version": "1.5.0",
     "model_name": "DescriptionStyleModel",
     "state": {
      "_model_module": "@jupyter-widgets/controls",
      "_model_module_version": "1.5.0",
      "_model_name": "DescriptionStyleModel",
      "_view_count": null,
      "_view_module": "@jupyter-widgets/base",
      "_view_module_version": "1.2.0",
      "_view_name": "StyleView",
      "description_width": ""
     }
    },
    "ac648a72258b4b1a997aa2b331a31224": {
     "model_module": "@jupyter-widgets/controls",
     "model_module_version": "1.5.0",
     "model_name": "FloatProgressModel",
     "state": {
      "_dom_classes": [],
      "_model_module": "@jupyter-widgets/controls",
      "_model_module_version": "1.5.0",
      "_model_name": "FloatProgressModel",
      "_view_count": null,
      "_view_module": "@jupyter-widgets/controls",
      "_view_module_version": "1.5.0",
      "_view_name": "ProgressView",
      "bar_style": "success",
      "description": "",
      "description_tooltip": null,
      "layout": "IPY_MODEL_63c94995f3e345c7bf64cba4865d86f7",
      "max": 672,
      "min": 0,
      "orientation": "horizontal",
      "style": "IPY_MODEL_a8c1ca02b8774d709397cda022d14490",
      "value": 672
     }
    },
    "ad8c6b1a716644d5a989a6e26a38a7c3": {
     "model_module": "@jupyter-widgets/controls",
     "model_module_version": "1.5.0",
     "model_name": "DescriptionStyleModel",
     "state": {
      "_model_module": "@jupyter-widgets/controls",
      "_model_module_version": "1.5.0",
      "_model_name": "DescriptionStyleModel",
      "_view_count": null,
      "_view_module": "@jupyter-widgets/base",
      "_view_module_version": "1.2.0",
      "_view_name": "StyleView",
      "description_width": ""
     }
    },
    "b1486aadc73d4e84baf6feab2e142ac2": {
     "model_module": "@jupyter-widgets/controls",
     "model_module_version": "1.5.0",
     "model_name": "ProgressStyleModel",
     "state": {
      "_model_module": "@jupyter-widgets/controls",
      "_model_module_version": "1.5.0",
      "_model_name": "ProgressStyleModel",
      "_view_count": null,
      "_view_module": "@jupyter-widgets/base",
      "_view_module_version": "1.2.0",
      "_view_name": "StyleView",
      "bar_color": null,
      "description_width": ""
     }
    },
    "b247c5ea1ee44cc982744c41bda3ff07": {
     "model_module": "@jupyter-widgets/controls",
     "model_module_version": "1.5.0",
     "model_name": "FloatProgressModel",
     "state": {
      "_dom_classes": [],
      "_model_module": "@jupyter-widgets/controls",
      "_model_module_version": "1.5.0",
      "_model_name": "FloatProgressModel",
      "_view_count": null,
      "_view_module": "@jupyter-widgets/controls",
      "_view_module_version": "1.5.0",
      "_view_name": "ProgressView",
      "bar_style": "success",
      "description": "",
      "description_tooltip": null,
      "layout": "IPY_MODEL_351caf4ef5124d89adae38aeb78193a8",
      "max": 1355256,
      "min": 0,
      "orientation": "horizontal",
      "style": "IPY_MODEL_bbbccdad52374b268de38d7e0ebafc4c",
      "value": 1355256
     }
    },
    "b3aa95d0a9b545ca8490a011db3bc918": {
     "model_module": "@jupyter-widgets/controls",
     "model_module_version": "1.5.0",
     "model_name": "HTMLModel",
     "state": {
      "_dom_classes": [],
      "_model_module": "@jupyter-widgets/controls",
      "_model_module_version": "1.5.0",
      "_model_name": "HTMLModel",
      "_view_count": null,
      "_view_module": "@jupyter-widgets/controls",
      "_view_module_version": "1.5.0",
      "_view_name": "HTMLView",
      "description": "",
      "description_tooltip": null,
      "layout": "IPY_MODEL_9bc67cb44760464895c39d6b98f0d129",
      "placeholder": "​",
      "style": "IPY_MODEL_44f4b5f2f76e41b1bc193e2d61bceb6f",
      "value": " 1.04M/1.04M [00:00&lt;00:00, 23.3MB/s]"
     }
    },
    "b5d338d34a4a4ee5b3c19c996550ec59": {
     "model_module": "@jupyter-widgets/controls",
     "model_module_version": "1.5.0",
     "model_name": "FloatProgressModel",
     "state": {
      "_dom_classes": [],
      "_model_module": "@jupyter-widgets/controls",
      "_model_module_version": "1.5.0",
      "_model_name": "FloatProgressModel",
      "_view_count": null,
      "_view_module": "@jupyter-widgets/controls",
      "_view_module_version": "1.5.0",
      "_view_name": "ProgressView",
      "bar_style": "success",
      "description": "",
      "description_tooltip": null,
      "layout": "IPY_MODEL_db019329ddea43d6bfb1f64fffe78944",
      "max": 456318,
      "min": 0,
      "orientation": "horizontal",
      "style": "IPY_MODEL_511a69d126dc406a953e762290e0be64",
      "value": 456318
     }
    },
    "b5de755045bb47b59f05da0e7f26ad99": {
     "model_module": "@jupyter-widgets/controls",
     "model_module_version": "1.5.0",
     "model_name": "HTMLModel",
     "state": {
      "_dom_classes": [],
      "_model_module": "@jupyter-widgets/controls",
      "_model_module_version": "1.5.0",
      "_model_name": "HTMLModel",
      "_view_count": null,
      "_view_module": "@jupyter-widgets/controls",
      "_view_module_version": "1.5.0",
      "_view_name": "HTMLView",
      "description": "",
      "description_tooltip": null,
      "layout": "IPY_MODEL_da78d92dc5e547f984cd80e9a190a2c7",
      "placeholder": "​",
      "style": "IPY_MODEL_ab371524fe44453e855e3104ec44fa3b",
      "value": "Downloading data files: 100%"
     }
    },
    "b6850f30a0da42bc8ff081e15b67d6fc": {
     "model_module": "@jupyter-widgets/controls",
     "model_module_version": "1.5.0",
     "model_name": "DescriptionStyleModel",
     "state": {
      "_model_module": "@jupyter-widgets/controls",
      "_model_module_version": "1.5.0",
      "_model_name": "DescriptionStyleModel",
      "_view_count": null,
      "_view_module": "@jupyter-widgets/base",
      "_view_module_version": "1.2.0",
      "_view_name": "StyleView",
      "description_width": ""
     }
    },
    "b70b2d60aa4f4e74bba1cc06fa0ecf04": {
     "model_module": "@jupyter-widgets/base",
     "model_module_version": "1.2.0",
     "model_name": "LayoutModel",
     "state": {
      "_model_module": "@jupyter-widgets/base",
      "_model_module_version": "1.2.0",
      "_model_name": "LayoutModel",
      "_view_count": null,
      "_view_module": "@jupyter-widgets/base",
      "_view_module_version": "1.2.0",
      "_view_name": "LayoutView",
      "align_content": null,
      "align_items": null,
      "align_self": null,
      "border": null,
      "bottom": null,
      "display": null,
      "flex": null,
      "flex_flow": null,
      "grid_area": null,
      "grid_auto_columns": null,
      "grid_auto_flow": null,
      "grid_auto_rows": null,
      "grid_column": null,
      "grid_gap": null,
      "grid_row": null,
      "grid_template_areas": null,
      "grid_template_columns": null,
      "grid_template_rows": null,
      "height": null,
      "justify_content": null,
      "justify_items": null,
      "left": null,
      "margin": null,
      "max_height": null,
      "max_width": null,
      "min_height": null,
      "min_width": null,
      "object_fit": null,
      "object_position": null,
      "order": null,
      "overflow": null,
      "overflow_x": null,
      "overflow_y": null,
      "padding": null,
      "right": null,
      "top": null,
      "visibility": null,
      "width": null
     }
    },
    "b7a0bea8ba5a4d929de57116ac283ee5": {
     "model_module": "@jupyter-widgets/controls",
     "model_module_version": "1.5.0",
     "model_name": "HTMLModel",
     "state": {
      "_dom_classes": [],
      "_model_module": "@jupyter-widgets/controls",
      "_model_module_version": "1.5.0",
      "_model_name": "HTMLModel",
      "_view_count": null,
      "_view_module": "@jupyter-widgets/controls",
      "_view_module_version": "1.5.0",
      "_view_name": "HTMLView",
      "description": "",
      "description_tooltip": null,
      "layout": "IPY_MODEL_ee676ef24bbc4116ad666bfdb2e9d68b",
      "placeholder": "​",
      "style": "IPY_MODEL_ad8c6b1a716644d5a989a6e26a38a7c3",
      "value": " 1/1 [00:00&lt;00:00, 29.40it/s]"
     }
    },
    "bb4f7677363044a5ae3c62eab511817f": {
     "model_module": "@jupyter-widgets/base",
     "model_module_version": "1.2.0",
     "model_name": "LayoutModel",
     "state": {
      "_model_module": "@jupyter-widgets/base",
      "_model_module_version": "1.2.0",
      "_model_name": "LayoutModel",
      "_view_count": null,
      "_view_module": "@jupyter-widgets/base",
      "_view_module_version": "1.2.0",
      "_view_name": "LayoutView",
      "align_content": null,
      "align_items": null,
      "align_self": null,
      "border": null,
      "bottom": null,
      "display": null,
      "flex": null,
      "flex_flow": null,
      "grid_area": null,
      "grid_auto_columns": null,
      "grid_auto_flow": null,
      "grid_auto_rows": null,
      "grid_column": null,
      "grid_gap": null,
      "grid_row": null,
      "grid_template_areas": null,
      "grid_template_columns": null,
      "grid_template_rows": null,
      "height": null,
      "justify_content": null,
      "justify_items": null,
      "left": null,
      "margin": null,
      "max_height": null,
      "max_width": null,
      "min_height": null,
      "min_width": null,
      "object_fit": null,
      "object_position": null,
      "order": null,
      "overflow": null,
      "overflow_x": null,
      "overflow_y": null,
      "padding": null,
      "right": null,
      "top": null,
      "visibility": null,
      "width": null
     }
    },
    "bbbccdad52374b268de38d7e0ebafc4c": {
     "model_module": "@jupyter-widgets/controls",
     "model_module_version": "1.5.0",
     "model_name": "ProgressStyleModel",
     "state": {
      "_model_module": "@jupyter-widgets/controls",
      "_model_module_version": "1.5.0",
      "_model_name": "ProgressStyleModel",
      "_view_count": null,
      "_view_module": "@jupyter-widgets/base",
      "_view_module_version": "1.2.0",
      "_view_name": "StyleView",
      "bar_color": null,
      "description_width": ""
     }
    },
    "be8a25627db1487794c3c21d2a00ee3a": {
     "model_module": "@jupyter-widgets/controls",
     "model_module_version": "1.5.0",
     "model_name": "FloatProgressModel",
     "state": {
      "_dom_classes": [],
      "_model_module": "@jupyter-widgets/controls",
      "_model_module_version": "1.5.0",
      "_model_name": "FloatProgressModel",
      "_view_count": null,
      "_view_module": "@jupyter-widgets/controls",
      "_view_module_version": "1.5.0",
      "_view_name": "ProgressView",
      "bar_style": "success",
      "description": "",
      "description_tooltip": null,
      "layout": "IPY_MODEL_bb4f7677363044a5ae3c62eab511817f",
      "max": 6040,
      "min": 0,
      "orientation": "horizontal",
      "style": "IPY_MODEL_f264dfdca34047568adf37361d30327c",
      "value": 6040
     }
    },
    "bf4c89491dd34c71bfb48370f84c3c87": {
     "model_module": "@jupyter-widgets/controls",
     "model_module_version": "1.5.0",
     "model_name": "DescriptionStyleModel",
     "state": {
      "_model_module": "@jupyter-widgets/controls",
      "_model_module_version": "1.5.0",
      "_model_name": "DescriptionStyleModel",
      "_view_count": null,
      "_view_module": "@jupyter-widgets/base",
      "_view_module_version": "1.2.0",
      "_view_name": "StyleView",
      "description_width": ""
     }
    },
    "c0893852fd974f37a79afbad27e9106b": {
     "model_module": "@jupyter-widgets/base",
     "model_module_version": "1.2.0",
     "model_name": "LayoutModel",
     "state": {
      "_model_module": "@jupyter-widgets/base",
      "_model_module_version": "1.2.0",
      "_model_name": "LayoutModel",
      "_view_count": null,
      "_view_module": "@jupyter-widgets/base",
      "_view_module_version": "1.2.0",
      "_view_name": "LayoutView",
      "align_content": null,
      "align_items": null,
      "align_self": null,
      "border": null,
      "bottom": null,
      "display": null,
      "flex": null,
      "flex_flow": null,
      "grid_area": null,
      "grid_auto_columns": null,
      "grid_auto_flow": null,
      "grid_auto_rows": null,
      "grid_column": null,
      "grid_gap": null,
      "grid_row": null,
      "grid_template_areas": null,
      "grid_template_columns": null,
      "grid_template_rows": null,
      "height": null,
      "justify_content": null,
      "justify_items": null,
      "left": null,
      "margin": null,
      "max_height": null,
      "max_width": null,
      "min_height": null,
      "min_width": null,
      "object_fit": null,
      "object_position": null,
      "order": null,
      "overflow": null,
      "overflow_x": null,
      "overflow_y": null,
      "padding": null,
      "right": null,
      "top": null,
      "visibility": null,
      "width": null
     }
    },
    "c6f215897c5d4b98a021e71063faeb91": {
     "model_module": "@jupyter-widgets/base",
     "model_module_version": "1.2.0",
     "model_name": "LayoutModel",
     "state": {
      "_model_module": "@jupyter-widgets/base",
      "_model_module_version": "1.2.0",
      "_model_name": "LayoutModel",
      "_view_count": null,
      "_view_module": "@jupyter-widgets/base",
      "_view_module_version": "1.2.0",
      "_view_name": "LayoutView",
      "align_content": null,
      "align_items": null,
      "align_self": null,
      "border": null,
      "bottom": null,
      "display": null,
      "flex": null,
      "flex_flow": null,
      "grid_area": null,
      "grid_auto_columns": null,
      "grid_auto_flow": null,
      "grid_auto_rows": null,
      "grid_column": null,
      "grid_gap": null,
      "grid_row": null,
      "grid_template_areas": null,
      "grid_template_columns": null,
      "grid_template_rows": null,
      "height": null,
      "justify_content": null,
      "justify_items": null,
      "left": null,
      "margin": null,
      "max_height": null,
      "max_width": null,
      "min_height": null,
      "min_width": null,
      "object_fit": null,
      "object_position": null,
      "order": null,
      "overflow": null,
      "overflow_x": null,
      "overflow_y": null,
      "padding": null,
      "right": null,
      "top": null,
      "visibility": null,
      "width": null
     }
    },
    "c7285f22bb9d40439b1a216aa1c9c57e": {
     "model_module": "@jupyter-widgets/base",
     "model_module_version": "1.2.0",
     "model_name": "LayoutModel",
     "state": {
      "_model_module": "@jupyter-widgets/base",
      "_model_module_version": "1.2.0",
      "_model_name": "LayoutModel",
      "_view_count": null,
      "_view_module": "@jupyter-widgets/base",
      "_view_module_version": "1.2.0",
      "_view_name": "LayoutView",
      "align_content": null,
      "align_items": null,
      "align_self": null,
      "border": null,
      "bottom": null,
      "display": null,
      "flex": null,
      "flex_flow": null,
      "grid_area": null,
      "grid_auto_columns": null,
      "grid_auto_flow": null,
      "grid_auto_rows": null,
      "grid_column": null,
      "grid_gap": null,
      "grid_row": null,
      "grid_template_areas": null,
      "grid_template_columns": null,
      "grid_template_rows": null,
      "height": null,
      "justify_content": null,
      "justify_items": null,
      "left": null,
      "margin": null,
      "max_height": null,
      "max_width": null,
      "min_height": null,
      "min_width": null,
      "object_fit": null,
      "object_position": null,
      "order": null,
      "overflow": null,
      "overflow_x": null,
      "overflow_y": null,
      "padding": null,
      "right": null,
      "top": null,
      "visibility": null,
      "width": null
     }
    },
    "cb44f76b65e0440eabdba34f97b85e10": {
     "model_module": "@jupyter-widgets/controls",
     "model_module_version": "1.5.0",
     "model_name": "HBoxModel",
     "state": {
      "_dom_classes": [],
      "_model_module": "@jupyter-widgets/controls",
      "_model_module_version": "1.5.0",
      "_model_name": "HBoxModel",
      "_view_count": null,
      "_view_module": "@jupyter-widgets/controls",
      "_view_module_version": "1.5.0",
      "_view_name": "HBoxView",
      "box_style": "",
      "children": [
       "IPY_MODEL_3827975aeffa4cf2a8c4367523f94146",
       "IPY_MODEL_ac648a72258b4b1a997aa2b331a31224",
       "IPY_MODEL_dd6bc3bbb71544a1922839985d795f08"
      ],
      "layout": "IPY_MODEL_eb2e7ff6060a439598b16b1c54da90e4"
     }
    },
    "cd2f179183814533bc9a8efa3d88c0bc": {
     "model_module": "@jupyter-widgets/controls",
     "model_module_version": "1.5.0",
     "model_name": "DescriptionStyleModel",
     "state": {
      "_model_module": "@jupyter-widgets/controls",
      "_model_module_version": "1.5.0",
      "_model_name": "DescriptionStyleModel",
      "_view_count": null,
      "_view_module": "@jupyter-widgets/base",
      "_view_module_version": "1.2.0",
      "_view_name": "StyleView",
      "description_width": ""
     }
    },
    "ce226a3b8a334df0bb0f5a6029dd1188": {
     "model_module": "@jupyter-widgets/controls",
     "model_module_version": "1.5.0",
     "model_name": "ProgressStyleModel",
     "state": {
      "_model_module": "@jupyter-widgets/controls",
      "_model_module_version": "1.5.0",
      "_model_name": "ProgressStyleModel",
      "_view_count": null,
      "_view_module": "@jupyter-widgets/base",
      "_view_module_version": "1.2.0",
      "_view_name": "StyleView",
      "bar_color": null,
      "description_width": ""
     }
    },
    "d057dcf1fdc94718af90d69248ccb4d6": {
     "model_module": "@jupyter-widgets/controls",
     "model_module_version": "1.5.0",
     "model_name": "HBoxModel",
     "state": {
      "_dom_classes": [],
      "_model_module": "@jupyter-widgets/controls",
      "_model_module_version": "1.5.0",
      "_model_name": "HBoxModel",
      "_view_count": null,
      "_view_module": "@jupyter-widgets/controls",
      "_view_module_version": "1.5.0",
      "_view_name": "HBoxView",
      "box_style": "",
      "children": [
       "IPY_MODEL_81b55d6654914ced9847337c7ceaebe9",
       "IPY_MODEL_9e25c3e4e9084c48be13c3626d964482",
       "IPY_MODEL_f5654baa65ad4a73b931a48f6efecbbb"
      ],
      "layout": "IPY_MODEL_9e6ad96020a34e5c9062a0482e28c7c5"
     }
    },
    "d3185d7199d4434dafb12513c28f8608": {
     "model_module": "@jupyter-widgets/controls",
     "model_module_version": "1.5.0",
     "model_name": "FloatProgressModel",
     "state": {
      "_dom_classes": [],
      "_model_module": "@jupyter-widgets/controls",
      "_model_module_version": "1.5.0",
      "_model_name": "FloatProgressModel",
      "_view_count": null,
      "_view_module": "@jupyter-widgets/controls",
      "_view_module_version": "1.5.0",
      "_view_name": "ProgressView",
      "bar_style": "success",
      "description": "",
      "description_tooltip": null,
      "layout": "IPY_MODEL_e4253f09d7684900a2974d9c1dbb7faf",
      "max": 1,
      "min": 0,
      "orientation": "horizontal",
      "style": "IPY_MODEL_df7b8377d7c84714acbe4923680b1955",
      "value": 1
     }
    },
    "d584ad612b3441a0839068eef39cda46": {
     "model_module": "@jupyter-widgets/base",
     "model_module_version": "1.2.0",
     "model_name": "LayoutModel",
     "state": {
      "_model_module": "@jupyter-widgets/base",
      "_model_module_version": "1.2.0",
      "_model_name": "LayoutModel",
      "_view_count": null,
      "_view_module": "@jupyter-widgets/base",
      "_view_module_version": "1.2.0",
      "_view_name": "LayoutView",
      "align_content": null,
      "align_items": null,
      "align_self": null,
      "border": null,
      "bottom": null,
      "display": null,
      "flex": null,
      "flex_flow": null,
      "grid_area": null,
      "grid_auto_columns": null,
      "grid_auto_flow": null,
      "grid_auto_rows": null,
      "grid_column": null,
      "grid_gap": null,
      "grid_row": null,
      "grid_template_areas": null,
      "grid_template_columns": null,
      "grid_template_rows": null,
      "height": null,
      "justify_content": null,
      "justify_items": null,
      "left": null,
      "margin": null,
      "max_height": null,
      "max_width": null,
      "min_height": null,
      "min_width": null,
      "object_fit": null,
      "object_position": null,
      "order": null,
      "overflow": null,
      "overflow_x": null,
      "overflow_y": null,
      "padding": null,
      "right": null,
      "top": null,
      "visibility": null,
      "width": null
     }
    },
    "d91492cc0a3f4fbe8810b198fca4a2a9": {
     "model_module": "@jupyter-widgets/controls",
     "model_module_version": "1.5.0",
     "model_name": "HTMLModel",
     "state": {
      "_dom_classes": [],
      "_model_module": "@jupyter-widgets/controls",
      "_model_module_version": "1.5.0",
      "_model_name": "HTMLModel",
      "_view_count": null,
      "_view_module": "@jupyter-widgets/controls",
      "_view_module_version": "1.5.0",
      "_view_name": "HTMLView",
      "description": "",
      "description_tooltip": null,
      "layout": "IPY_MODEL_841d59acdcd447e68fc43a627094022e",
      "placeholder": "​",
      "style": "IPY_MODEL_56c8672948d34c55b19454da3942919c",
      "value": "Map: 100%"
     }
    },
    "da78d92dc5e547f984cd80e9a190a2c7": {
     "model_module": "@jupyter-widgets/base",
     "model_module_version": "1.2.0",
     "model_name": "LayoutModel",
     "state": {
      "_model_module": "@jupyter-widgets/base",
      "_model_module_version": "1.2.0",
      "_model_name": "LayoutModel",
      "_view_count": null,
      "_view_module": "@jupyter-widgets/base",
      "_view_module_version": "1.2.0",
      "_view_name": "LayoutView",
      "align_content": null,
      "align_items": null,
      "align_self": null,
      "border": null,
      "bottom": null,
      "display": null,
      "flex": null,
      "flex_flow": null,
      "grid_area": null,
      "grid_auto_columns": null,
      "grid_auto_flow": null,
      "grid_auto_rows": null,
      "grid_column": null,
      "grid_gap": null,
      "grid_row": null,
      "grid_template_areas": null,
      "grid_template_columns": null,
      "grid_template_rows": null,
      "height": null,
      "justify_content": null,
      "justify_items": null,
      "left": null,
      "margin": null,
      "max_height": null,
      "max_width": null,
      "min_height": null,
      "min_width": null,
      "object_fit": null,
      "object_position": null,
      "order": null,
      "overflow": null,
      "overflow_x": null,
      "overflow_y": null,
      "padding": null,
      "right": null,
      "top": null,
      "visibility": null,
      "width": null
     }
    },
    "db019329ddea43d6bfb1f64fffe78944": {
     "model_module": "@jupyter-widgets/base",
     "model_module_version": "1.2.0",
     "model_name": "LayoutModel",
     "state": {
      "_model_module": "@jupyter-widgets/base",
      "_model_module_version": "1.2.0",
      "_model_name": "LayoutModel",
      "_view_count": null,
      "_view_module": "@jupyter-widgets/base",
      "_view_module_version": "1.2.0",
      "_view_name": "LayoutView",
      "align_content": null,
      "align_items": null,
      "align_self": null,
      "border": null,
      "bottom": null,
      "display": null,
      "flex": null,
      "flex_flow": null,
      "grid_area": null,
      "grid_auto_columns": null,
      "grid_auto_flow": null,
      "grid_auto_rows": null,
      "grid_column": null,
      "grid_gap": null,
      "grid_row": null,
      "grid_template_areas": null,
      "grid_template_columns": null,
      "grid_template_rows": null,
      "height": null,
      "justify_content": null,
      "justify_items": null,
      "left": null,
      "margin": null,
      "max_height": null,
      "max_width": null,
      "min_height": null,
      "min_width": null,
      "object_fit": null,
      "object_position": null,
      "order": null,
      "overflow": null,
      "overflow_x": null,
      "overflow_y": null,
      "padding": null,
      "right": null,
      "top": null,
      "visibility": null,
      "width": null
     }
    },
    "db37b287c7354cad9080447b66511988": {
     "model_module": "@jupyter-widgets/base",
     "model_module_version": "1.2.0",
     "model_name": "LayoutModel",
     "state": {
      "_model_module": "@jupyter-widgets/base",
      "_model_module_version": "1.2.0",
      "_model_name": "LayoutModel",
      "_view_count": null,
      "_view_module": "@jupyter-widgets/base",
      "_view_module_version": "1.2.0",
      "_view_name": "LayoutView",
      "align_content": null,
      "align_items": null,
      "align_self": null,
      "border": null,
      "bottom": null,
      "display": null,
      "flex": null,
      "flex_flow": null,
      "grid_area": null,
      "grid_auto_columns": null,
      "grid_auto_flow": null,
      "grid_auto_rows": null,
      "grid_column": null,
      "grid_gap": null,
      "grid_row": null,
      "grid_template_areas": null,
      "grid_template_columns": null,
      "grid_template_rows": null,
      "height": null,
      "justify_content": null,
      "justify_items": null,
      "left": null,
      "margin": null,
      "max_height": null,
      "max_width": null,
      "min_height": null,
      "min_width": null,
      "object_fit": null,
      "object_position": null,
      "order": null,
      "overflow": null,
      "overflow_x": null,
      "overflow_y": null,
      "padding": null,
      "right": null,
      "top": null,
      "visibility": null,
      "width": null
     }
    },
    "dcf5e111d9504f31bdfe60acebfaec03": {
     "model_module": "@jupyter-widgets/base",
     "model_module_version": "1.2.0",
     "model_name": "LayoutModel",
     "state": {
      "_model_module": "@jupyter-widgets/base",
      "_model_module_version": "1.2.0",
      "_model_name": "LayoutModel",
      "_view_count": null,
      "_view_module": "@jupyter-widgets/base",
      "_view_module_version": "1.2.0",
      "_view_name": "LayoutView",
      "align_content": null,
      "align_items": null,
      "align_self": null,
      "border": null,
      "bottom": null,
      "display": null,
      "flex": null,
      "flex_flow": null,
      "grid_area": null,
      "grid_auto_columns": null,
      "grid_auto_flow": null,
      "grid_auto_rows": null,
      "grid_column": null,
      "grid_gap": null,
      "grid_row": null,
      "grid_template_areas": null,
      "grid_template_columns": null,
      "grid_template_rows": null,
      "height": null,
      "justify_content": null,
      "justify_items": null,
      "left": null,
      "margin": null,
      "max_height": null,
      "max_width": null,
      "min_height": null,
      "min_width": null,
      "object_fit": null,
      "object_position": null,
      "order": null,
      "overflow": null,
      "overflow_x": null,
      "overflow_y": null,
      "padding": null,
      "right": null,
      "top": null,
      "visibility": null,
      "width": null
     }
    },
    "dd6bc3bbb71544a1922839985d795f08": {
     "model_module": "@jupyter-widgets/controls",
     "model_module_version": "1.5.0",
     "model_name": "HTMLModel",
     "state": {
      "_dom_classes": [],
      "_model_module": "@jupyter-widgets/controls",
      "_model_module_version": "1.5.0",
      "_model_name": "HTMLModel",
      "_view_count": null,
      "_view_module": "@jupyter-widgets/controls",
      "_view_module_version": "1.5.0",
      "_view_name": "HTMLView",
      "description": "",
      "description_tooltip": null,
      "layout": "IPY_MODEL_794acefe761040f28f3f5f34c78b6f60",
      "placeholder": "​",
      "style": "IPY_MODEL_69a3373ba1ef4599ad1f0f7d14d3e3b0",
      "value": " 672/672 [00:00&lt;00:00, 1540.30 examples/s]"
     }
    },
    "dec4cddbb64b47aebcd293b0d5656593": {
     "model_module": "@jupyter-widgets/base",
     "model_module_version": "1.2.0",
     "model_name": "LayoutModel",
     "state": {
      "_model_module": "@jupyter-widgets/base",
      "_model_module_version": "1.2.0",
      "_model_name": "LayoutModel",
      "_view_count": null,
      "_view_module": "@jupyter-widgets/base",
      "_view_module_version": "1.2.0",
      "_view_name": "LayoutView",
      "align_content": null,
      "align_items": null,
      "align_self": null,
      "border": null,
      "bottom": null,
      "display": null,
      "flex": null,
      "flex_flow": null,
      "grid_area": null,
      "grid_auto_columns": null,
      "grid_auto_flow": null,
      "grid_auto_rows": null,
      "grid_column": null,
      "grid_gap": null,
      "grid_row": null,
      "grid_template_areas": null,
      "grid_template_columns": null,
      "grid_template_rows": null,
      "height": null,
      "justify_content": null,
      "justify_items": null,
      "left": null,
      "margin": null,
      "max_height": null,
      "max_width": null,
      "min_height": null,
      "min_width": null,
      "object_fit": null,
      "object_position": null,
      "order": null,
      "overflow": null,
      "overflow_x": null,
      "overflow_y": null,
      "padding": null,
      "right": null,
      "top": null,
      "visibility": null,
      "width": null
     }
    },
    "df7b8377d7c84714acbe4923680b1955": {
     "model_module": "@jupyter-widgets/controls",
     "model_module_version": "1.5.0",
     "model_name": "ProgressStyleModel",
     "state": {
      "_model_module": "@jupyter-widgets/controls",
      "_model_module_version": "1.5.0",
      "_model_name": "ProgressStyleModel",
      "_view_count": null,
      "_view_module": "@jupyter-widgets/base",
      "_view_module_version": "1.2.0",
      "_view_name": "StyleView",
      "bar_color": null,
      "description_width": ""
     }
    },
    "e3caea9560854ded97a3ccb90e7a4292": {
     "model_module": "@jupyter-widgets/controls",
     "model_module_version": "1.5.0",
     "model_name": "DescriptionStyleModel",
     "state": {
      "_model_module": "@jupyter-widgets/controls",
      "_model_module_version": "1.5.0",
      "_model_name": "DescriptionStyleModel",
      "_view_count": null,
      "_view_module": "@jupyter-widgets/base",
      "_view_module_version": "1.2.0",
      "_view_name": "StyleView",
      "description_width": ""
     }
    },
    "e4253f09d7684900a2974d9c1dbb7faf": {
     "model_module": "@jupyter-widgets/base",
     "model_module_version": "1.2.0",
     "model_name": "LayoutModel",
     "state": {
      "_model_module": "@jupyter-widgets/base",
      "_model_module_version": "1.2.0",
      "_model_name": "LayoutModel",
      "_view_count": null,
      "_view_module": "@jupyter-widgets/base",
      "_view_module_version": "1.2.0",
      "_view_name": "LayoutView",
      "align_content": null,
      "align_items": null,
      "align_self": null,
      "border": null,
      "bottom": null,
      "display": null,
      "flex": null,
      "flex_flow": null,
      "grid_area": null,
      "grid_auto_columns": null,
      "grid_auto_flow": null,
      "grid_auto_rows": null,
      "grid_column": null,
      "grid_gap": null,
      "grid_row": null,
      "grid_template_areas": null,
      "grid_template_columns": null,
      "grid_template_rows": null,
      "height": null,
      "justify_content": null,
      "justify_items": null,
      "left": null,
      "margin": null,
      "max_height": null,
      "max_width": null,
      "min_height": null,
      "min_width": null,
      "object_fit": null,
      "object_position": null,
      "order": null,
      "overflow": null,
      "overflow_x": null,
      "overflow_y": null,
      "padding": null,
      "right": null,
      "top": null,
      "visibility": null,
      "width": null
     }
    },
    "e45abea5b8394b36acf31300b65be003": {
     "model_module": "@jupyter-widgets/base",
     "model_module_version": "1.2.0",
     "model_name": "LayoutModel",
     "state": {
      "_model_module": "@jupyter-widgets/base",
      "_model_module_version": "1.2.0",
      "_model_name": "LayoutModel",
      "_view_count": null,
      "_view_module": "@jupyter-widgets/base",
      "_view_module_version": "1.2.0",
      "_view_name": "LayoutView",
      "align_content": null,
      "align_items": null,
      "align_self": null,
      "border": null,
      "bottom": null,
      "display": null,
      "flex": null,
      "flex_flow": null,
      "grid_area": null,
      "grid_auto_columns": null,
      "grid_auto_flow": null,
      "grid_auto_rows": null,
      "grid_column": null,
      "grid_gap": null,
      "grid_row": null,
      "grid_template_areas": null,
      "grid_template_columns": null,
      "grid_template_rows": null,
      "height": null,
      "justify_content": null,
      "justify_items": null,
      "left": null,
      "margin": null,
      "max_height": null,
      "max_width": null,
      "min_height": null,
      "min_width": null,
      "object_fit": null,
      "object_position": null,
      "order": null,
      "overflow": null,
      "overflow_x": null,
      "overflow_y": null,
      "padding": null,
      "right": null,
      "top": null,
      "visibility": null,
      "width": null
     }
    },
    "e889a15fff0243e8a0e5c20021ae1715": {
     "model_module": "@jupyter-widgets/base",
     "model_module_version": "1.2.0",
     "model_name": "LayoutModel",
     "state": {
      "_model_module": "@jupyter-widgets/base",
      "_model_module_version": "1.2.0",
      "_model_name": "LayoutModel",
      "_view_count": null,
      "_view_module": "@jupyter-widgets/base",
      "_view_module_version": "1.2.0",
      "_view_name": "LayoutView",
      "align_content": null,
      "align_items": null,
      "align_self": null,
      "border": null,
      "bottom": null,
      "display": null,
      "flex": null,
      "flex_flow": null,
      "grid_area": null,
      "grid_auto_columns": null,
      "grid_auto_flow": null,
      "grid_auto_rows": null,
      "grid_column": null,
      "grid_gap": null,
      "grid_row": null,
      "grid_template_areas": null,
      "grid_template_columns": null,
      "grid_template_rows": null,
      "height": null,
      "justify_content": null,
      "justify_items": null,
      "left": null,
      "margin": null,
      "max_height": null,
      "max_width": null,
      "min_height": null,
      "min_width": null,
      "object_fit": null,
      "object_position": null,
      "order": null,
      "overflow": null,
      "overflow_x": null,
      "overflow_y": null,
      "padding": null,
      "right": null,
      "top": null,
      "visibility": null,
      "width": null
     }
    },
    "e969ddb70fcc4364840bc92978c4f52c": {
     "model_module": "@jupyter-widgets/controls",
     "model_module_version": "1.5.0",
     "model_name": "HTMLModel",
     "state": {
      "_dom_classes": [],
      "_model_module": "@jupyter-widgets/controls",
      "_model_module_version": "1.5.0",
      "_model_name": "HTMLModel",
      "_view_count": null,
      "_view_module": "@jupyter-widgets/controls",
      "_view_module_version": "1.5.0",
      "_view_name": "HTMLView",
      "description": "",
      "description_tooltip": null,
      "layout": "IPY_MODEL_1e15a0997ffd4d3389e3e173525f0b49",
      "placeholder": "​",
      "style": "IPY_MODEL_83865482ac624f3d8154c0a48ec659b1",
      "value": "Downloading (…)olve/main/vocab.json: 100%"
     }
    },
    "ea2a1cd799ac458584a02a8c7cbe746a": {
     "model_module": "@jupyter-widgets/base",
     "model_module_version": "1.2.0",
     "model_name": "LayoutModel",
     "state": {
      "_model_module": "@jupyter-widgets/base",
      "_model_module_version": "1.2.0",
      "_model_name": "LayoutModel",
      "_view_count": null,
      "_view_module": "@jupyter-widgets/base",
      "_view_module_version": "1.2.0",
      "_view_name": "LayoutView",
      "align_content": null,
      "align_items": null,
      "align_self": null,
      "border": null,
      "bottom": null,
      "display": null,
      "flex": null,
      "flex_flow": null,
      "grid_area": null,
      "grid_auto_columns": null,
      "grid_auto_flow": null,
      "grid_auto_rows": null,
      "grid_column": null,
      "grid_gap": null,
      "grid_row": null,
      "grid_template_areas": null,
      "grid_template_columns": null,
      "grid_template_rows": null,
      "height": null,
      "justify_content": null,
      "justify_items": null,
      "left": null,
      "margin": null,
      "max_height": null,
      "max_width": null,
      "min_height": null,
      "min_width": null,
      "object_fit": null,
      "object_position": null,
      "order": null,
      "overflow": null,
      "overflow_x": null,
      "overflow_y": null,
      "padding": null,
      "right": null,
      "top": null,
      "visibility": null,
      "width": "20px"
     }
    },
    "eb2e7ff6060a439598b16b1c54da90e4": {
     "model_module": "@jupyter-widgets/base",
     "model_module_version": "1.2.0",
     "model_name": "LayoutModel",
     "state": {
      "_model_module": "@jupyter-widgets/base",
      "_model_module_version": "1.2.0",
      "_model_name": "LayoutModel",
      "_view_count": null,
      "_view_module": "@jupyter-widgets/base",
      "_view_module_version": "1.2.0",
      "_view_name": "LayoutView",
      "align_content": null,
      "align_items": null,
      "align_self": null,
      "border": null,
      "bottom": null,
      "display": null,
      "flex": null,
      "flex_flow": null,
      "grid_area": null,
      "grid_auto_columns": null,
      "grid_auto_flow": null,
      "grid_auto_rows": null,
      "grid_column": null,
      "grid_gap": null,
      "grid_row": null,
      "grid_template_areas": null,
      "grid_template_columns": null,
      "grid_template_rows": null,
      "height": null,
      "justify_content": null,
      "justify_items": null,
      "left": null,
      "margin": null,
      "max_height": null,
      "max_width": null,
      "min_height": null,
      "min_width": null,
      "object_fit": null,
      "object_position": null,
      "order": null,
      "overflow": null,
      "overflow_x": null,
      "overflow_y": null,
      "padding": null,
      "right": null,
      "top": null,
      "visibility": null,
      "width": null
     }
    },
    "ec9cc68a0b7d4c32845db2c9a5192122": {
     "model_module": "@jupyter-widgets/controls",
     "model_module_version": "1.5.0",
     "model_name": "HTMLModel",
     "state": {
      "_dom_classes": [],
      "_model_module": "@jupyter-widgets/controls",
      "_model_module_version": "1.5.0",
      "_model_name": "HTMLModel",
      "_view_count": null,
      "_view_module": "@jupyter-widgets/controls",
      "_view_module_version": "1.5.0",
      "_view_name": "HTMLView",
      "description": "",
      "description_tooltip": null,
      "layout": "IPY_MODEL_4140a72094164628bdaabb36d24657d4",
      "placeholder": "​",
      "style": "IPY_MODEL_b6850f30a0da42bc8ff081e15b67d6fc",
      "value": "Downloading (…)neration_config.json: 100%"
     }
    },
    "ed13c5fa0edb467d9bb5203f5ca2999c": {
     "model_module": "@jupyter-widgets/base",
     "model_module_version": "1.2.0",
     "model_name": "LayoutModel",
     "state": {
      "_model_module": "@jupyter-widgets/base",
      "_model_module_version": "1.2.0",
      "_model_name": "LayoutModel",
      "_view_count": null,
      "_view_module": "@jupyter-widgets/base",
      "_view_module_version": "1.2.0",
      "_view_name": "LayoutView",
      "align_content": null,
      "align_items": null,
      "align_self": null,
      "border": null,
      "bottom": null,
      "display": null,
      "flex": null,
      "flex_flow": null,
      "grid_area": null,
      "grid_auto_columns": null,
      "grid_auto_flow": null,
      "grid_auto_rows": null,
      "grid_column": null,
      "grid_gap": null,
      "grid_row": null,
      "grid_template_areas": null,
      "grid_template_columns": null,
      "grid_template_rows": null,
      "height": null,
      "justify_content": null,
      "justify_items": null,
      "left": null,
      "margin": null,
      "max_height": null,
      "max_width": null,
      "min_height": null,
      "min_width": null,
      "object_fit": null,
      "object_position": null,
      "order": null,
      "overflow": null,
      "overflow_x": null,
      "overflow_y": null,
      "padding": null,
      "right": null,
      "top": null,
      "visibility": null,
      "width": null
     }
    },
    "ee676ef24bbc4116ad666bfdb2e9d68b": {
     "model_module": "@jupyter-widgets/base",
     "model_module_version": "1.2.0",
     "model_name": "LayoutModel",
     "state": {
      "_model_module": "@jupyter-widgets/base",
      "_model_module_version": "1.2.0",
      "_model_name": "LayoutModel",
      "_view_count": null,
      "_view_module": "@jupyter-widgets/base",
      "_view_module_version": "1.2.0",
      "_view_name": "LayoutView",
      "align_content": null,
      "align_items": null,
      "align_self": null,
      "border": null,
      "bottom": null,
      "display": null,
      "flex": null,
      "flex_flow": null,
      "grid_area": null,
      "grid_auto_columns": null,
      "grid_auto_flow": null,
      "grid_auto_rows": null,
      "grid_column": null,
      "grid_gap": null,
      "grid_row": null,
      "grid_template_areas": null,
      "grid_template_columns": null,
      "grid_template_rows": null,
      "height": null,
      "justify_content": null,
      "justify_items": null,
      "left": null,
      "margin": null,
      "max_height": null,
      "max_width": null,
      "min_height": null,
      "min_width": null,
      "object_fit": null,
      "object_position": null,
      "order": null,
      "overflow": null,
      "overflow_x": null,
      "overflow_y": null,
      "padding": null,
      "right": null,
      "top": null,
      "visibility": null,
      "width": null
     }
    },
    "ee9e387ffae0412d805d7095f9c2550b": {
     "model_module": "@jupyter-widgets/controls",
     "model_module_version": "1.5.0",
     "model_name": "FloatProgressModel",
     "state": {
      "_dom_classes": [],
      "_model_module": "@jupyter-widgets/controls",
      "_model_module_version": "1.5.0",
      "_model_name": "FloatProgressModel",
      "_view_count": null,
      "_view_module": "@jupyter-widgets/controls",
      "_view_module_version": "1.5.0",
      "_view_name": "ProgressView",
      "bar_style": "success",
      "description": "",
      "description_tooltip": null,
      "layout": "IPY_MODEL_b70b2d60aa4f4e74bba1cc06fa0ecf04",
      "max": 665,
      "min": 0,
      "orientation": "horizontal",
      "style": "IPY_MODEL_a59fcf317d934e45afdca034178747bd",
      "value": 665
     }
    },
    "f08b8ff471544f189738c0c68d973cd6": {
     "model_module": "@jupyter-widgets/controls",
     "model_module_version": "1.5.0",
     "model_name": "FloatProgressModel",
     "state": {
      "_dom_classes": [],
      "_model_module": "@jupyter-widgets/controls",
      "_model_module_version": "1.5.0",
      "_model_name": "FloatProgressModel",
      "_view_count": null,
      "_view_module": "@jupyter-widgets/controls",
      "_view_module_version": "1.5.0",
      "_view_name": "ProgressView",
      "bar_style": "success",
      "description": "",
      "description_tooltip": null,
      "layout": "IPY_MODEL_fa6542d73e684e7ab04b293d291e11ff",
      "max": 548105171,
      "min": 0,
      "orientation": "horizontal",
      "style": "IPY_MODEL_68eaec29e86045e5aec3dd032b56cd09",
      "value": 548105171
     }
    },
    "f264dfdca34047568adf37361d30327c": {
     "model_module": "@jupyter-widgets/controls",
     "model_module_version": "1.5.0",
     "model_name": "ProgressStyleModel",
     "state": {
      "_model_module": "@jupyter-widgets/controls",
      "_model_module_version": "1.5.0",
      "_model_name": "ProgressStyleModel",
      "_view_count": null,
      "_view_module": "@jupyter-widgets/base",
      "_view_module_version": "1.2.0",
      "_view_name": "StyleView",
      "bar_color": null,
      "description_width": ""
     }
    },
    "f5654baa65ad4a73b931a48f6efecbbb": {
     "model_module": "@jupyter-widgets/controls",
     "model_module_version": "1.5.0",
     "model_name": "HTMLModel",
     "state": {
      "_dom_classes": [],
      "_model_module": "@jupyter-widgets/controls",
      "_model_module_version": "1.5.0",
      "_model_name": "HTMLModel",
      "_view_count": null,
      "_view_module": "@jupyter-widgets/controls",
      "_view_module_version": "1.5.0",
      "_view_name": "HTMLView",
      "description": "",
      "description_tooltip": null,
      "layout": "IPY_MODEL_09837679baa74e8fbdd9f2f01c31751f",
      "placeholder": "​",
      "style": "IPY_MODEL_02ff1271babd49a4a19f9ce4af66f688",
      "value": " 6712/0 [00:00&lt;00:00, 31233.82 examples/s]"
     }
    },
    "f5bac7bb8ab143d88ec73402b7d7c379": {
     "model_module": "@jupyter-widgets/controls",
     "model_module_version": "1.5.0",
     "model_name": "DescriptionStyleModel",
     "state": {
      "_model_module": "@jupyter-widgets/controls",
      "_model_module_version": "1.5.0",
      "_model_name": "DescriptionStyleModel",
      "_view_count": null,
      "_view_module": "@jupyter-widgets/base",
      "_view_module_version": "1.2.0",
      "_view_name": "StyleView",
      "description_width": ""
     }
    },
    "f7dc67928b3949d4a20b04c4321ee3ae": {
     "model_module": "@jupyter-widgets/base",
     "model_module_version": "1.2.0",
     "model_name": "LayoutModel",
     "state": {
      "_model_module": "@jupyter-widgets/base",
      "_model_module_version": "1.2.0",
      "_model_name": "LayoutModel",
      "_view_count": null,
      "_view_module": "@jupyter-widgets/base",
      "_view_module_version": "1.2.0",
      "_view_name": "LayoutView",
      "align_content": null,
      "align_items": null,
      "align_self": null,
      "border": null,
      "bottom": null,
      "display": null,
      "flex": null,
      "flex_flow": null,
      "grid_area": null,
      "grid_auto_columns": null,
      "grid_auto_flow": null,
      "grid_auto_rows": null,
      "grid_column": null,
      "grid_gap": null,
      "grid_row": null,
      "grid_template_areas": null,
      "grid_template_columns": null,
      "grid_template_rows": null,
      "height": null,
      "justify_content": null,
      "justify_items": null,
      "left": null,
      "margin": null,
      "max_height": null,
      "max_width": null,
      "min_height": null,
      "min_width": null,
      "object_fit": null,
      "object_position": null,
      "order": null,
      "overflow": null,
      "overflow_x": null,
      "overflow_y": null,
      "padding": null,
      "right": null,
      "top": null,
      "visibility": null,
      "width": null
     }
    },
    "f8a067623d4c4dfaa4f7a13968c83cad": {
     "model_module": "@jupyter-widgets/base",
     "model_module_version": "1.2.0",
     "model_name": "LayoutModel",
     "state": {
      "_model_module": "@jupyter-widgets/base",
      "_model_module_version": "1.2.0",
      "_model_name": "LayoutModel",
      "_view_count": null,
      "_view_module": "@jupyter-widgets/base",
      "_view_module_version": "1.2.0",
      "_view_name": "LayoutView",
      "align_content": null,
      "align_items": null,
      "align_self": null,
      "border": null,
      "bottom": null,
      "display": null,
      "flex": null,
      "flex_flow": null,
      "grid_area": null,
      "grid_auto_columns": null,
      "grid_auto_flow": null,
      "grid_auto_rows": null,
      "grid_column": null,
      "grid_gap": null,
      "grid_row": null,
      "grid_template_areas": null,
      "grid_template_columns": null,
      "grid_template_rows": null,
      "height": null,
      "justify_content": null,
      "justify_items": null,
      "left": null,
      "margin": null,
      "max_height": null,
      "max_width": null,
      "min_height": null,
      "min_width": null,
      "object_fit": null,
      "object_position": null,
      "order": null,
      "overflow": null,
      "overflow_x": null,
      "overflow_y": null,
      "padding": null,
      "right": null,
      "top": null,
      "visibility": null,
      "width": null
     }
    },
    "f9511cafde87440985157d30e2c859cd": {
     "model_module": "@jupyter-widgets/controls",
     "model_module_version": "1.5.0",
     "model_name": "HBoxModel",
     "state": {
      "_dom_classes": [],
      "_model_module": "@jupyter-widgets/controls",
      "_model_module_version": "1.5.0",
      "_model_name": "HBoxModel",
      "_view_count": null,
      "_view_module": "@jupyter-widgets/controls",
      "_view_module_version": "1.5.0",
      "_view_name": "HBoxView",
      "box_style": "",
      "children": [
       "IPY_MODEL_ec9cc68a0b7d4c32845db2c9a5192122",
       "IPY_MODEL_75421153f63c4c5ca60e060913c612fe",
       "IPY_MODEL_35d6d18ff850443eac132f6484d5197c"
      ],
      "layout": "IPY_MODEL_721d0897700d47c68a014d5fd825c47b"
     }
    },
    "fa6542d73e684e7ab04b293d291e11ff": {
     "model_module": "@jupyter-widgets/base",
     "model_module_version": "1.2.0",
     "model_name": "LayoutModel",
     "state": {
      "_model_module": "@jupyter-widgets/base",
      "_model_module_version": "1.2.0",
      "_model_name": "LayoutModel",
      "_view_count": null,
      "_view_module": "@jupyter-widgets/base",
      "_view_module_version": "1.2.0",
      "_view_name": "LayoutView",
      "align_content": null,
      "align_items": null,
      "align_self": null,
      "border": null,
      "bottom": null,
      "display": null,
      "flex": null,
      "flex_flow": null,
      "grid_area": null,
      "grid_auto_columns": null,
      "grid_auto_flow": null,
      "grid_auto_rows": null,
      "grid_column": null,
      "grid_gap": null,
      "grid_row": null,
      "grid_template_areas": null,
      "grid_template_columns": null,
      "grid_template_rows": null,
      "height": null,
      "justify_content": null,
      "justify_items": null,
      "left": null,
      "margin": null,
      "max_height": null,
      "max_width": null,
      "min_height": null,
      "min_width": null,
      "object_fit": null,
      "object_position": null,
      "order": null,
      "overflow": null,
      "overflow_x": null,
      "overflow_y": null,
      "padding": null,
      "right": null,
      "top": null,
      "visibility": null,
      "width": null
     }
    },
    "fb6f538af8d44ad0a4a2ae42be470eb6": {
     "model_module": "@jupyter-widgets/controls",
     "model_module_version": "1.5.0",
     "model_name": "DescriptionStyleModel",
     "state": {
      "_model_module": "@jupyter-widgets/controls",
      "_model_module_version": "1.5.0",
      "_model_name": "DescriptionStyleModel",
      "_view_count": null,
      "_view_module": "@jupyter-widgets/base",
      "_view_module_version": "1.2.0",
      "_view_name": "StyleView",
      "description_width": ""
     }
    },
    "fca606ff33534b9b8998aa704e5cdfe8": {
     "model_module": "@jupyter-widgets/controls",
     "model_module_version": "1.5.0",
     "model_name": "DescriptionStyleModel",
     "state": {
      "_model_module": "@jupyter-widgets/controls",
      "_model_module_version": "1.5.0",
      "_model_name": "DescriptionStyleModel",
      "_view_count": null,
      "_view_module": "@jupyter-widgets/base",
      "_view_module_version": "1.2.0",
      "_view_name": "StyleView",
      "description_width": ""
     }
    }
   }
  }
 },
 "nbformat": 4,
 "nbformat_minor": 0
}
