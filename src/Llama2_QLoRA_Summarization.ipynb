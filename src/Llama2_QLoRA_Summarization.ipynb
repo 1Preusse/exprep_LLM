{
 "cells": [
  {
   "cell_type": "markdown",
   "id": "ab7ebece",
   "metadata": {},
   "source": [
    "# Fine-Tuning Llama 2 for Summarization with QLoRA"
   ]
  },
  {
   "cell_type": "code",
   "execution_count": null,
   "id": "ce9e90b8",
   "metadata": {},
   "outputs": [],
   "source": [
    "\n",
    "# Install necessary libraries\n",
    "!pip install transformers accelerate datasets bitsandbytes loralib\n"
   ]
  },
  {
   "cell_type": "markdown",
   "id": "b7aafbf1",
   "metadata": {},
   "source": [
    "## Load MLSUM Dataset"
   ]
  },
  {
   "cell_type": "code",
   "execution_count": null,
   "id": "981290a5",
   "metadata": {},
   "outputs": [],
   "source": [
    "\n",
    "from datasets import load_dataset\n",
    "\n",
    "# Load the MLSUM dataset for all languages\n",
    "dataset = load_dataset(\"mlsum\", split=\"train\")\n",
    "print(dataset[0])  # Inspect the dataset structure\n",
    "\n",
    "# Add language prefix to input text\n",
    "def add_language_prefix(examples):\n",
    "    lang = examples[\"lang\"]  # Assuming the dataset has a \"lang\" column\n",
    "    prefix = f\"{lang}: \"\n",
    "    examples[\"text\"] = prefix + examples[\"text\"]\n",
    "    return examples\n",
    "\n",
    "dataset = dataset.map(add_language_prefix)\n"
   ]
  },
  {
   "cell_type": "markdown",
   "id": "9c57524f",
   "metadata": {},
   "source": [
    "## Preprocess Data for Llama 2"
   ]
  },
  {
   "cell_type": "code",
   "execution_count": null,
   "id": "b75047c6",
   "metadata": {},
   "outputs": [],
   "source": [
    "\n",
    "from transformers import AutoTokenizer\n",
    "\n",
    "# Use the Llama 2 tokenizer\n",
    "model_name = \"meta-llama/Llama-2-7b-hf\"  # Choose a smaller model for Colab's free tier\n",
    "tokenizer = AutoTokenizer.from_pretrained(model_name)\n",
    "\n",
    "# Preprocess data\n",
    "def preprocess_data(examples):\n",
    "    inputs = examples[\"text\"]\n",
    "    summaries = examples[\"summary\"]\n",
    "    model_inputs = tokenizer(inputs, max_length=512, truncation=True, padding=\"max_length\")\n",
    "    with tokenizer.as_target_tokenizer():\n",
    "        labels = tokenizer(summaries, max_length=128, truncation=True, padding=\"max_length\")\n",
    "    model_inputs[\"labels\"] = labels[\"input_ids\"]\n",
    "    return model_inputs\n",
    "\n",
    "tokenized_dataset = dataset.map(preprocess_data, batched=True, remove_columns=dataset.column_names)\n"
   ]
  },
  {
   "cell_type": "markdown",
   "id": "9f1c634d",
   "metadata": {},
   "source": [
    "## Setup QLoRA Fine-Tuning"
   ]
  },
  {
   "cell_type": "code",
   "execution_count": null,
   "id": "86e51284",
   "metadata": {},
   "outputs": [],
   "source": [
    "\n",
    "from transformers import AutoModelForCausalLM, BitsAndBytesConfig\n",
    "\n",
    "# Configure 4-bit quantization for QLoRA\n",
    "bnb_config = BitsAndBytesConfig(\n",
    "    load_in_4bit=True,\n",
    "    bnb_4bit_use_double_quant=True,\n",
    "    bnb_4bit_quant_type=\"nf4\",\n",
    "    bnb_4bit_compute_dtype=\"float16\",\n",
    ")\n",
    "\n",
    "# Load the model in 4-bit mode\n",
    "model = AutoModelForCausalLM.from_pretrained(\n",
    "    model_name, \n",
    "    quantization_config=bnb_config,\n",
    "    device_map=\"auto\"\n",
    ")\n",
    "\n",
    "# Add LoRA layers\n",
    "from peft import LoraConfig, get_peft_model\n",
    "\n",
    "lora_config = LoraConfig(\n",
    "    r=16, lora_alpha=32, target_modules=[\"q_proj\", \"v_proj\"], lora_dropout=0.1, bias=\"none\", task_type=\"SEQ_2_SEQ_LM\"\n",
    ")\n",
    "\n",
    "model = get_peft_model(model, lora_config)\n",
    "model.print_trainable_parameters()  # Verify LoRA layers are trainable\n"
   ]
  },
  {
   "cell_type": "markdown",
   "id": "bae65af8",
   "metadata": {},
   "source": [
    "## Define Training Arguments"
   ]
  },
  {
   "cell_type": "code",
   "execution_count": null,
   "id": "e90c49da",
   "metadata": {},
   "outputs": [],
   "source": [
    "\n",
    "from transformers import Seq2SeqTrainer, Seq2SeqTrainingArguments\n",
    "\n",
    "training_args = Seq2SeqTrainingArguments(\n",
    "    output_dir=\"./results\",\n",
    "    evaluation_strategy=\"epoch\",\n",
    "    learning_rate=2e-5,\n",
    "    per_device_train_batch_size=4,  # Adjust batch size for Colab limits\n",
    "    per_device_eval_batch_size=4,\n",
    "    weight_decay=0.01,\n",
    "    save_total_limit=3,\n",
    "    num_train_epochs=3,\n",
    "    predict_with_generate=True,\n",
    "    fp16=True,  # Enable mixed precision\n",
    "    logging_dir='./logs',\n",
    "    logging_steps=10,\n",
    ")\n",
    "\n",
    "# Split dataset into training and validation\n",
    "split = tokenized_dataset.train_test_split(test_size=0.1, seed=42)\n",
    "train_dataset = split[\"train\"]\n",
    "eval_dataset = split[\"test\"]\n"
   ]
  },
  {
   "cell_type": "markdown",
   "id": "9c3a199b",
   "metadata": {},
   "source": [
    "## Train the Model"
   ]
  },
  {
   "cell_type": "code",
   "execution_count": null,
   "id": "a88ce66c",
   "metadata": {},
   "outputs": [],
   "source": [
    "\n",
    "trainer = Seq2SeqTrainer(\n",
    "    model=model,\n",
    "    args=training_args,\n",
    "    train_dataset=train_dataset,\n",
    "    eval_dataset=eval_dataset,\n",
    "    tokenizer=tokenizer,\n",
    ")\n",
    "\n",
    "trainer.train()\n"
   ]
  },
  {
   "cell_type": "markdown",
   "id": "5f1d3f25",
   "metadata": {},
   "source": [
    "## Evaluate the Model on German Data"
   ]
  },
  {
   "cell_type": "code",
   "execution_count": null,
   "id": "f2ba5a0e",
   "metadata": {},
   "outputs": [],
   "source": [
    "\n",
    "# Filter evaluation dataset for German examples\n",
    "german_eval_dataset = eval_dataset.filter(lambda x: x[\"text\"].startswith(\"de:\"))\n",
    "\n",
    "# Evaluate on German data\n",
    "results = trainer.evaluate(german_eval_dataset)\n",
    "print(\"German evaluation results:\", results)\n",
    "\n",
    "# Test a few examples\n",
    "from transformers import pipeline\n",
    "\n",
    "summarizer = pipeline(\"summarization\", model=model, tokenizer=tokenizer, device=0)\n",
    "test_text = \"de: Hier ist ein langer deutscher Text, der zusammengefasst werden soll.\"\n",
    "print(summarizer(test_text, max_length=50, min_length=10))\n"
   ]
  }
 ],
 "metadata": {},
 "nbformat": 4,
 "nbformat_minor": 5
}
